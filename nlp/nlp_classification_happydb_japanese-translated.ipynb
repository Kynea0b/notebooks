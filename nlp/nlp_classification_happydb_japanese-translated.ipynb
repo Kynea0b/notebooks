{
  "nbformat": 4,
  "nbformat_minor": 0,
  "metadata": {
    "colab": {
      "name": "HappyDBで文書分類してみる（日本語篇）.ipynb",
      "provenance": [],
      "collapsed_sections": [],
      "toc_visible": true
    },
    "kernelspec": {
      "name": "python3",
      "display_name": "Python 3"
    },
    "language_info": {
      "name": "python"
    }
  },
  "cells": [
    {
      "cell_type": "markdown",
      "source": [
        "# HappyDBで文書分類してみる（日本語篇）\n",
        "〜英文データセットを日本語翻訳して文書分類してみる〜"
      ],
      "metadata": {
        "id": "qW8jPtSymRED"
      }
    },
    {
      "cell_type": "markdown",
      "source": [
        "## 概要\n",
        "\n",
        "### HappyDBとは\n",
        "- HappyDBは、リクルートのAI研究所 Megagon Labsが2017年に作成した、「幸せな瞬間」（\"Happy Moment\"）の記述文を集めたデータセット\n",
        "- 言語は英語\n",
        "- GitHub --> [megagonlabs/HappyDB](https://github.com/megagonlabs/HappyDB)\n",
        "- Paper --> [\"HappyDB: A Corpus of 100,000 Crowdsourced Happy Moments\" (Asai, et al., 2018)](https://arxiv.org/pdf/1801.07746.pdf)\n",
        "\n",
        "### やりたいこと\n",
        "- 英語での文書分類を試した\n",
        "    - [HappyDBで『幸せな瞬間』を文書分類してみる](https://qiita.com/izaki_shin/items/d817f544451bb4ba88dd)\n",
        "- やはり日本語で文書分類を試してみたい\n",
        "- 英文データセットを日本語翻訳してどの程度使えるものなのかを試してみる\n",
        "\n",
        "### 注意点\n",
        "- このnotebookでは、翻訳済みのデータを使用（翻訳にはDeepLを使用）"
      ],
      "metadata": {
        "id": "raN87tjqlH_U"
      }
    },
    {
      "cell_type": "markdown",
      "source": [
        "## 1. 環境構築"
      ],
      "metadata": {
        "id": "RU9co0CDmz0C"
      }
    },
    {
      "cell_type": "code",
      "execution_count": 1,
      "metadata": {
        "id": "OdJQ7Wrqk9Ze"
      },
      "outputs": [],
      "source": [
        "import numpy as np\n",
        "import pandas as pd\n",
        "\n",
        "import matplotlib.pyplot as plt\n",
        "import seaborn as sns\n",
        "sns.set()\n",
        "\n",
        "from sklearn.model_selection import train_test_split, StratifiedKFold\n",
        "from sklearn.metrics import confusion_matrix, accuracy_score, precision_score, recall_score, f1_score\n",
        "\n",
        "from sklearn.linear_model import LogisticRegression\n",
        "from sklearn.feature_extraction.text import CountVectorizer"
      ]
    },
    {
      "cell_type": "code",
      "source": [
        "# GiNZAのインストール\n",
        "# cf. https://megagonlabs.github.io/ginza/\n",
        "\n",
        "# 今回は、従来型モデル、を使用\n",
        "! pip install -U ginza ja_ginza"
      ],
      "metadata": {
        "colab": {
          "base_uri": "https://localhost:8080/"
        },
        "id": "0EmQzhUon5sa",
        "outputId": "806c40bc-94d0-42fa-8a0d-5d5cdd21df22"
      },
      "execution_count": 2,
      "outputs": [
        {
          "output_type": "stream",
          "name": "stdout",
          "text": [
            "Looking in indexes: https://pypi.org/simple, https://us-python.pkg.dev/colab-wheels/public/simple/\n",
            "Requirement already satisfied: ginza in /usr/local/lib/python3.7/dist-packages (5.1.1)\n",
            "Requirement already satisfied: ja_ginza in /usr/local/lib/python3.7/dist-packages (5.1.0)\n",
            "Requirement already satisfied: SudachiDict-core>=20210802 in /usr/local/lib/python3.7/dist-packages (from ginza) (20220519)\n",
            "Requirement already satisfied: spacy<3.3.0,>=3.2.0 in /usr/local/lib/python3.7/dist-packages (from ginza) (3.2.4)\n",
            "Requirement already satisfied: plac>=1.3.3 in /usr/local/lib/python3.7/dist-packages (from ginza) (1.3.5)\n",
            "Requirement already satisfied: SudachiPy<0.7.0,>=0.6.2 in /usr/local/lib/python3.7/dist-packages (from ginza) (0.6.3)\n",
            "Requirement already satisfied: blis<0.8.0,>=0.4.0 in /usr/local/lib/python3.7/dist-packages (from spacy<3.3.0,>=3.2.0->ginza) (0.4.1)\n",
            "Requirement already satisfied: typer<0.5.0,>=0.3.0 in /usr/local/lib/python3.7/dist-packages (from spacy<3.3.0,>=3.2.0->ginza) (0.4.1)\n",
            "Requirement already satisfied: click<8.1.0 in /usr/local/lib/python3.7/dist-packages (from spacy<3.3.0,>=3.2.0->ginza) (7.1.2)\n",
            "Requirement already satisfied: setuptools in /usr/local/lib/python3.7/dist-packages (from spacy<3.3.0,>=3.2.0->ginza) (57.4.0)\n",
            "Requirement already satisfied: murmurhash<1.1.0,>=0.28.0 in /usr/local/lib/python3.7/dist-packages (from spacy<3.3.0,>=3.2.0->ginza) (1.0.7)\n",
            "Requirement already satisfied: srsly<3.0.0,>=2.4.1 in /usr/local/lib/python3.7/dist-packages (from spacy<3.3.0,>=3.2.0->ginza) (2.4.3)\n",
            "Requirement already satisfied: catalogue<2.1.0,>=2.0.6 in /usr/local/lib/python3.7/dist-packages (from spacy<3.3.0,>=3.2.0->ginza) (2.0.7)\n",
            "Requirement already satisfied: wasabi<1.1.0,>=0.8.1 in /usr/local/lib/python3.7/dist-packages (from spacy<3.3.0,>=3.2.0->ginza) (0.9.1)\n",
            "Requirement already satisfied: packaging>=20.0 in /usr/local/lib/python3.7/dist-packages (from spacy<3.3.0,>=3.2.0->ginza) (21.3)\n",
            "Requirement already satisfied: numpy>=1.15.0 in /usr/local/lib/python3.7/dist-packages (from spacy<3.3.0,>=3.2.0->ginza) (1.21.6)\n",
            "Requirement already satisfied: typing-extensions<4.0.0.0,>=3.7.4 in /usr/local/lib/python3.7/dist-packages (from spacy<3.3.0,>=3.2.0->ginza) (3.10.0.2)\n",
            "Requirement already satisfied: preshed<3.1.0,>=3.0.2 in /usr/local/lib/python3.7/dist-packages (from spacy<3.3.0,>=3.2.0->ginza) (3.0.6)\n",
            "Requirement already satisfied: thinc<8.1.0,>=8.0.12 in /usr/local/lib/python3.7/dist-packages (from spacy<3.3.0,>=3.2.0->ginza) (8.0.17)\n",
            "Requirement already satisfied: spacy-loggers<2.0.0,>=1.0.0 in /usr/local/lib/python3.7/dist-packages (from spacy<3.3.0,>=3.2.0->ginza) (1.0.2)\n",
            "Requirement already satisfied: pydantic!=1.8,!=1.8.1,<1.9.0,>=1.7.4 in /usr/local/lib/python3.7/dist-packages (from spacy<3.3.0,>=3.2.0->ginza) (1.8.2)\n",
            "Requirement already satisfied: requests<3.0.0,>=2.13.0 in /usr/local/lib/python3.7/dist-packages (from spacy<3.3.0,>=3.2.0->ginza) (2.23.0)\n",
            "Requirement already satisfied: cymem<2.1.0,>=2.0.2 in /usr/local/lib/python3.7/dist-packages (from spacy<3.3.0,>=3.2.0->ginza) (2.0.6)\n",
            "Requirement already satisfied: tqdm<5.0.0,>=4.38.0 in /usr/local/lib/python3.7/dist-packages (from spacy<3.3.0,>=3.2.0->ginza) (4.64.0)\n",
            "Requirement already satisfied: jinja2 in /usr/local/lib/python3.7/dist-packages (from spacy<3.3.0,>=3.2.0->ginza) (2.11.3)\n",
            "Requirement already satisfied: pathy>=0.3.5 in /usr/local/lib/python3.7/dist-packages (from spacy<3.3.0,>=3.2.0->ginza) (0.6.1)\n",
            "Requirement already satisfied: spacy-legacy<3.1.0,>=3.0.8 in /usr/local/lib/python3.7/dist-packages (from spacy<3.3.0,>=3.2.0->ginza) (3.0.9)\n",
            "Requirement already satisfied: langcodes<4.0.0,>=3.2.0 in /usr/local/lib/python3.7/dist-packages (from spacy<3.3.0,>=3.2.0->ginza) (3.3.0)\n",
            "Requirement already satisfied: zipp>=0.5 in /usr/local/lib/python3.7/dist-packages (from catalogue<2.1.0,>=2.0.6->spacy<3.3.0,>=3.2.0->ginza) (3.8.0)\n",
            "Requirement already satisfied: pyparsing!=3.0.5,>=2.0.2 in /usr/local/lib/python3.7/dist-packages (from packaging>=20.0->spacy<3.3.0,>=3.2.0->ginza) (3.0.9)\n",
            "Requirement already satisfied: smart-open<6.0.0,>=5.0.0 in /usr/local/lib/python3.7/dist-packages (from pathy>=0.3.5->spacy<3.3.0,>=3.2.0->ginza) (5.2.1)\n",
            "Requirement already satisfied: certifi>=2017.4.17 in /usr/local/lib/python3.7/dist-packages (from requests<3.0.0,>=2.13.0->spacy<3.3.0,>=3.2.0->ginza) (2022.5.18.1)\n",
            "Requirement already satisfied: chardet<4,>=3.0.2 in /usr/local/lib/python3.7/dist-packages (from requests<3.0.0,>=2.13.0->spacy<3.3.0,>=3.2.0->ginza) (3.0.4)\n",
            "Requirement already satisfied: idna<3,>=2.5 in /usr/local/lib/python3.7/dist-packages (from requests<3.0.0,>=2.13.0->spacy<3.3.0,>=3.2.0->ginza) (2.10)\n",
            "Requirement already satisfied: urllib3!=1.25.0,!=1.25.1,<1.26,>=1.21.1 in /usr/local/lib/python3.7/dist-packages (from requests<3.0.0,>=2.13.0->spacy<3.3.0,>=3.2.0->ginza) (1.24.3)\n",
            "Requirement already satisfied: MarkupSafe>=0.23 in /usr/local/lib/python3.7/dist-packages (from jinja2->spacy<3.3.0,>=3.2.0->ginza) (2.0.1)\n"
          ]
        }
      ]
    },
    {
      "cell_type": "markdown",
      "source": [
        "## 2. データの準備\n",
        "GoogleDrive上の、HappyDB 日本語翻訳済みデータ を読み込む"
      ],
      "metadata": {
        "id": "S6CA2JTqpSsi"
      }
    },
    {
      "cell_type": "code",
      "source": [
        "# cf. https://blog.kikagaku.co.jp/google-colab-drive-mount\n",
        "from google.colab import drive\n",
        "drive.mount('/content/drive')"
      ],
      "metadata": {
        "colab": {
          "base_uri": "https://localhost:8080/"
        },
        "id": "4yz8yxPFo_HY",
        "outputId": "309576e0-825f-41bb-b845-6aed46630ff8"
      },
      "execution_count": 3,
      "outputs": [
        {
          "output_type": "stream",
          "name": "stdout",
          "text": [
            "Drive already mounted at /content/drive; to attempt to forcibly remount, call drive.mount(\"/content/drive\", force_remount=True).\n"
          ]
        }
      ]
    },
    {
      "cell_type": "code",
      "source": [
        "happydb_jp_file = 'drive/MyDrive/Colab Notebooks/Data/HappyDB/jp/happydb_jp.csv'\n",
        "\n",
        "df_hm = pd.read_csv(happydb_jp_file)\n",
        "df_hm.head(3)"
      ],
      "metadata": {
        "colab": {
          "base_uri": "https://localhost:8080/",
          "height": 450
        },
        "id": "hBT718fZpwSN",
        "outputId": "f4eea33f-fe4d-4aeb-f9a9-dabc7c8f66cf"
      },
      "execution_count": 4,
      "outputs": [
        {
          "output_type": "execute_result",
          "data": {
            "text/plain": [
              "    hmid   wid reflection_period  \\\n",
              "0  27673  2053               24h   \n",
              "1  27674     2               24h   \n",
              "2  27675  1936               24h   \n",
              "\n",
              "                                         original_hm  \\\n",
              "0  I went on a successful date with someone I fel...   \n",
              "1  I was happy when my son got 90% marks in his e...   \n",
              "2       I went to the gym this morning and did yoga.   \n",
              "\n",
              "                                          cleaned_hm  modified  num_sentence  \\\n",
              "0  I went on a successful date with someone I fel...      True             1   \n",
              "1  I was happy when my son got 90% marks in his e...      True             1   \n",
              "2       I went to the gym this morning and did yoga.      True             1   \n",
              "\n",
              "  ground_truth_category predicted_category jp_text  \n",
              "0                   NaN          affection     NaN  \n",
              "1                   NaN          affection     NaN  \n",
              "2                   NaN           exercise     NaN  "
            ],
            "text/html": [
              "\n",
              "  <div id=\"df-8d73ab4d-1ae5-49f2-b99b-fe7efa5756c9\">\n",
              "    <div class=\"colab-df-container\">\n",
              "      <div>\n",
              "<style scoped>\n",
              "    .dataframe tbody tr th:only-of-type {\n",
              "        vertical-align: middle;\n",
              "    }\n",
              "\n",
              "    .dataframe tbody tr th {\n",
              "        vertical-align: top;\n",
              "    }\n",
              "\n",
              "    .dataframe thead th {\n",
              "        text-align: right;\n",
              "    }\n",
              "</style>\n",
              "<table border=\"1\" class=\"dataframe\">\n",
              "  <thead>\n",
              "    <tr style=\"text-align: right;\">\n",
              "      <th></th>\n",
              "      <th>hmid</th>\n",
              "      <th>wid</th>\n",
              "      <th>reflection_period</th>\n",
              "      <th>original_hm</th>\n",
              "      <th>cleaned_hm</th>\n",
              "      <th>modified</th>\n",
              "      <th>num_sentence</th>\n",
              "      <th>ground_truth_category</th>\n",
              "      <th>predicted_category</th>\n",
              "      <th>jp_text</th>\n",
              "    </tr>\n",
              "  </thead>\n",
              "  <tbody>\n",
              "    <tr>\n",
              "      <th>0</th>\n",
              "      <td>27673</td>\n",
              "      <td>2053</td>\n",
              "      <td>24h</td>\n",
              "      <td>I went on a successful date with someone I fel...</td>\n",
              "      <td>I went on a successful date with someone I fel...</td>\n",
              "      <td>True</td>\n",
              "      <td>1</td>\n",
              "      <td>NaN</td>\n",
              "      <td>affection</td>\n",
              "      <td>NaN</td>\n",
              "    </tr>\n",
              "    <tr>\n",
              "      <th>1</th>\n",
              "      <td>27674</td>\n",
              "      <td>2</td>\n",
              "      <td>24h</td>\n",
              "      <td>I was happy when my son got 90% marks in his e...</td>\n",
              "      <td>I was happy when my son got 90% marks in his e...</td>\n",
              "      <td>True</td>\n",
              "      <td>1</td>\n",
              "      <td>NaN</td>\n",
              "      <td>affection</td>\n",
              "      <td>NaN</td>\n",
              "    </tr>\n",
              "    <tr>\n",
              "      <th>2</th>\n",
              "      <td>27675</td>\n",
              "      <td>1936</td>\n",
              "      <td>24h</td>\n",
              "      <td>I went to the gym this morning and did yoga.</td>\n",
              "      <td>I went to the gym this morning and did yoga.</td>\n",
              "      <td>True</td>\n",
              "      <td>1</td>\n",
              "      <td>NaN</td>\n",
              "      <td>exercise</td>\n",
              "      <td>NaN</td>\n",
              "    </tr>\n",
              "  </tbody>\n",
              "</table>\n",
              "</div>\n",
              "      <button class=\"colab-df-convert\" onclick=\"convertToInteractive('df-8d73ab4d-1ae5-49f2-b99b-fe7efa5756c9')\"\n",
              "              title=\"Convert this dataframe to an interactive table.\"\n",
              "              style=\"display:none;\">\n",
              "        \n",
              "  <svg xmlns=\"http://www.w3.org/2000/svg\" height=\"24px\"viewBox=\"0 0 24 24\"\n",
              "       width=\"24px\">\n",
              "    <path d=\"M0 0h24v24H0V0z\" fill=\"none\"/>\n",
              "    <path d=\"M18.56 5.44l.94 2.06.94-2.06 2.06-.94-2.06-.94-.94-2.06-.94 2.06-2.06.94zm-11 1L8.5 8.5l.94-2.06 2.06-.94-2.06-.94L8.5 2.5l-.94 2.06-2.06.94zm10 10l.94 2.06.94-2.06 2.06-.94-2.06-.94-.94-2.06-.94 2.06-2.06.94z\"/><path d=\"M17.41 7.96l-1.37-1.37c-.4-.4-.92-.59-1.43-.59-.52 0-1.04.2-1.43.59L10.3 9.45l-7.72 7.72c-.78.78-.78 2.05 0 2.83L4 21.41c.39.39.9.59 1.41.59.51 0 1.02-.2 1.41-.59l7.78-7.78 2.81-2.81c.8-.78.8-2.07 0-2.86zM5.41 20L4 18.59l7.72-7.72 1.47 1.35L5.41 20z\"/>\n",
              "  </svg>\n",
              "      </button>\n",
              "      \n",
              "  <style>\n",
              "    .colab-df-container {\n",
              "      display:flex;\n",
              "      flex-wrap:wrap;\n",
              "      gap: 12px;\n",
              "    }\n",
              "\n",
              "    .colab-df-convert {\n",
              "      background-color: #E8F0FE;\n",
              "      border: none;\n",
              "      border-radius: 50%;\n",
              "      cursor: pointer;\n",
              "      display: none;\n",
              "      fill: #1967D2;\n",
              "      height: 32px;\n",
              "      padding: 0 0 0 0;\n",
              "      width: 32px;\n",
              "    }\n",
              "\n",
              "    .colab-df-convert:hover {\n",
              "      background-color: #E2EBFA;\n",
              "      box-shadow: 0px 1px 2px rgba(60, 64, 67, 0.3), 0px 1px 3px 1px rgba(60, 64, 67, 0.15);\n",
              "      fill: #174EA6;\n",
              "    }\n",
              "\n",
              "    [theme=dark] .colab-df-convert {\n",
              "      background-color: #3B4455;\n",
              "      fill: #D2E3FC;\n",
              "    }\n",
              "\n",
              "    [theme=dark] .colab-df-convert:hover {\n",
              "      background-color: #434B5C;\n",
              "      box-shadow: 0px 1px 3px 1px rgba(0, 0, 0, 0.15);\n",
              "      filter: drop-shadow(0px 1px 2px rgba(0, 0, 0, 0.3));\n",
              "      fill: #FFFFFF;\n",
              "    }\n",
              "  </style>\n",
              "\n",
              "      <script>\n",
              "        const buttonEl =\n",
              "          document.querySelector('#df-8d73ab4d-1ae5-49f2-b99b-fe7efa5756c9 button.colab-df-convert');\n",
              "        buttonEl.style.display =\n",
              "          google.colab.kernel.accessAllowed ? 'block' : 'none';\n",
              "\n",
              "        async function convertToInteractive(key) {\n",
              "          const element = document.querySelector('#df-8d73ab4d-1ae5-49f2-b99b-fe7efa5756c9');\n",
              "          const dataTable =\n",
              "            await google.colab.kernel.invokeFunction('convertToInteractive',\n",
              "                                                     [key], {});\n",
              "          if (!dataTable) return;\n",
              "\n",
              "          const docLinkHtml = 'Like what you see? Visit the ' +\n",
              "            '<a target=\"_blank\" href=https://colab.research.google.com/notebooks/data_table.ipynb>data table notebook</a>'\n",
              "            + ' to learn more about interactive tables.';\n",
              "          element.innerHTML = '';\n",
              "          dataTable['output_type'] = 'display_data';\n",
              "          await google.colab.output.renderOutput(dataTable, element);\n",
              "          const docLink = document.createElement('div');\n",
              "          docLink.innerHTML = docLinkHtml;\n",
              "          element.appendChild(docLink);\n",
              "        }\n",
              "      </script>\n",
              "    </div>\n",
              "  </div>\n",
              "  "
            ]
          },
          "metadata": {},
          "execution_count": 4
        }
      ]
    },
    {
      "cell_type": "code",
      "source": [
        "# 前処理\n",
        "# 1. 日本語訳が存在しないものは削除\n",
        "# 2. 全く同じ文章は削除 (cf. https://note.nkmk.me/python-pandas-duplicated-drop-duplicates/)\n",
        "df_hm_target = df_hm.dropna(subset=['jp_text'])\n",
        "df_hm_target = df_hm_target.drop_duplicates(subset=['cleaned_hm'])\n",
        "\n",
        "df_hm_target.info()"
      ],
      "metadata": {
        "colab": {
          "base_uri": "https://localhost:8080/"
        },
        "id": "fJTvvQuirpQa",
        "outputId": "20b9477f-46a3-47fa-91ad-87fe218e46ee"
      },
      "execution_count": 5,
      "outputs": [
        {
          "output_type": "stream",
          "name": "stdout",
          "text": [
            "<class 'pandas.core.frame.DataFrame'>\n",
            "Int64Index: 6258 entries, 3 to 100532\n",
            "Data columns (total 10 columns):\n",
            " #   Column                 Non-Null Count  Dtype \n",
            "---  ------                 --------------  ----- \n",
            " 0   hmid                   6258 non-null   int64 \n",
            " 1   wid                    6258 non-null   int64 \n",
            " 2   reflection_period      6258 non-null   object\n",
            " 3   original_hm            6258 non-null   object\n",
            " 4   cleaned_hm             6258 non-null   object\n",
            " 5   modified               6258 non-null   bool  \n",
            " 6   num_sentence           6258 non-null   int64 \n",
            " 7   ground_truth_category  6258 non-null   object\n",
            " 8   predicted_category     6258 non-null   object\n",
            " 9   jp_text                6258 non-null   object\n",
            "dtypes: bool(1), int64(3), object(6)\n",
            "memory usage: 495.0+ KB\n"
          ]
        }
      ]
    },
    {
      "cell_type": "code",
      "source": [
        "# 英文, 日本語訳, ラベル の3セットをランダムに表示する\n",
        "df_hm_target[['cleaned_hm', 'jp_text', 'ground_truth_category']].sample(n=10)"
      ],
      "metadata": {
        "colab": {
          "base_uri": "https://localhost:8080/",
          "height": 546
        },
        "id": "4clzIAFkrS4t",
        "outputId": "d70348b1-d6cd-4ca9-8c62-2c5a273cd90d"
      },
      "execution_count": 6,
      "outputs": [
        {
          "output_type": "execute_result",
          "data": {
            "text/plain": [
              "                                              cleaned_hm  \\\n",
              "14945  I finished studying for one of my major exams ...   \n",
              "95931  I was able to return a textbook for free on Am...   \n",
              "20282  I finished reading a book that had me extremel...   \n",
              "6265                              I went to hindi class.   \n",
              "6353   My nieces were very happy to see me today when...   \n",
              "23616                                     I bought beer.   \n",
              "19178  I was happy when my partner joked around with ...   \n",
              "84470  When I arrived home from a hard day of work my...   \n",
              "90745  I had some time to play Battlefield 1 with my ...   \n",
              "29387  Various people that I encountered while walkin...   \n",
              "\n",
              "                                                 jp_text ground_truth_category  \n",
              "14945               もうすぐ始まる大きな試験のための勉強を終えて、今はとても気分がいいです。           achievement  \n",
              "95931                             アマゾンで教科書を無料で返品することができた           achievement  \n",
              "20282        ある本を読み終えたとき、そのプロットの謎を解き明かしたいという好奇心が非常に強かった。           achievement  \n",
              "6265                                     ヒンディー語教室に通いました。      enjoy_the_moment  \n",
              "6353                    今日、姪っ子たちを学校に迎えに行ったら、とても喜んでいましたよ。             affection  \n",
              "23616                                         ビールを買いました。               leisure  \n",
              "19178         仕事で疲れた私を励まそうと、パートナーが冗談を言ってくれた時は嬉しかったですね。                 bonding  \n",
              "84470                    私が仕事から帰宅すると、愛犬が私の腕の中に飛び込んできました。             affection  \n",
              "90745  少し時間があったので、友人といとこと一緒にバトルフィールド1をプレイしました。みんなと話すの...               bonding  \n",
              "29387  今日、街を歩いていて出会った様々な人たち、そして動物たち（鳥、猫、犬）が、この24時間の間に...      enjoy_the_moment  "
            ],
            "text/html": [
              "\n",
              "  <div id=\"df-fc0eb297-f8e1-41c1-81ad-6f683416993d\">\n",
              "    <div class=\"colab-df-container\">\n",
              "      <div>\n",
              "<style scoped>\n",
              "    .dataframe tbody tr th:only-of-type {\n",
              "        vertical-align: middle;\n",
              "    }\n",
              "\n",
              "    .dataframe tbody tr th {\n",
              "        vertical-align: top;\n",
              "    }\n",
              "\n",
              "    .dataframe thead th {\n",
              "        text-align: right;\n",
              "    }\n",
              "</style>\n",
              "<table border=\"1\" class=\"dataframe\">\n",
              "  <thead>\n",
              "    <tr style=\"text-align: right;\">\n",
              "      <th></th>\n",
              "      <th>cleaned_hm</th>\n",
              "      <th>jp_text</th>\n",
              "      <th>ground_truth_category</th>\n",
              "    </tr>\n",
              "  </thead>\n",
              "  <tbody>\n",
              "    <tr>\n",
              "      <th>14945</th>\n",
              "      <td>I finished studying for one of my major exams ...</td>\n",
              "      <td>もうすぐ始まる大きな試験のための勉強を終えて、今はとても気分がいいです。</td>\n",
              "      <td>achievement</td>\n",
              "    </tr>\n",
              "    <tr>\n",
              "      <th>95931</th>\n",
              "      <td>I was able to return a textbook for free on Am...</td>\n",
              "      <td>アマゾンで教科書を無料で返品することができた</td>\n",
              "      <td>achievement</td>\n",
              "    </tr>\n",
              "    <tr>\n",
              "      <th>20282</th>\n",
              "      <td>I finished reading a book that had me extremel...</td>\n",
              "      <td>ある本を読み終えたとき、そのプロットの謎を解き明かしたいという好奇心が非常に強かった。</td>\n",
              "      <td>achievement</td>\n",
              "    </tr>\n",
              "    <tr>\n",
              "      <th>6265</th>\n",
              "      <td>I went to hindi class.</td>\n",
              "      <td>ヒンディー語教室に通いました。</td>\n",
              "      <td>enjoy_the_moment</td>\n",
              "    </tr>\n",
              "    <tr>\n",
              "      <th>6353</th>\n",
              "      <td>My nieces were very happy to see me today when...</td>\n",
              "      <td>今日、姪っ子たちを学校に迎えに行ったら、とても喜んでいましたよ。</td>\n",
              "      <td>affection</td>\n",
              "    </tr>\n",
              "    <tr>\n",
              "      <th>23616</th>\n",
              "      <td>I bought beer.</td>\n",
              "      <td>ビールを買いました。</td>\n",
              "      <td>leisure</td>\n",
              "    </tr>\n",
              "    <tr>\n",
              "      <th>19178</th>\n",
              "      <td>I was happy when my partner joked around with ...</td>\n",
              "      <td>仕事で疲れた私を励まそうと、パートナーが冗談を言ってくれた時は嬉しかったですね。</td>\n",
              "      <td>bonding</td>\n",
              "    </tr>\n",
              "    <tr>\n",
              "      <th>84470</th>\n",
              "      <td>When I arrived home from a hard day of work my...</td>\n",
              "      <td>私が仕事から帰宅すると、愛犬が私の腕の中に飛び込んできました。</td>\n",
              "      <td>affection</td>\n",
              "    </tr>\n",
              "    <tr>\n",
              "      <th>90745</th>\n",
              "      <td>I had some time to play Battlefield 1 with my ...</td>\n",
              "      <td>少し時間があったので、友人といとこと一緒にバトルフィールド1をプレイしました。みんなと話すの...</td>\n",
              "      <td>bonding</td>\n",
              "    </tr>\n",
              "    <tr>\n",
              "      <th>29387</th>\n",
              "      <td>Various people that I encountered while walkin...</td>\n",
              "      <td>今日、街を歩いていて出会った様々な人たち、そして動物たち（鳥、猫、犬）が、この24時間の間に...</td>\n",
              "      <td>enjoy_the_moment</td>\n",
              "    </tr>\n",
              "  </tbody>\n",
              "</table>\n",
              "</div>\n",
              "      <button class=\"colab-df-convert\" onclick=\"convertToInteractive('df-fc0eb297-f8e1-41c1-81ad-6f683416993d')\"\n",
              "              title=\"Convert this dataframe to an interactive table.\"\n",
              "              style=\"display:none;\">\n",
              "        \n",
              "  <svg xmlns=\"http://www.w3.org/2000/svg\" height=\"24px\"viewBox=\"0 0 24 24\"\n",
              "       width=\"24px\">\n",
              "    <path d=\"M0 0h24v24H0V0z\" fill=\"none\"/>\n",
              "    <path d=\"M18.56 5.44l.94 2.06.94-2.06 2.06-.94-2.06-.94-.94-2.06-.94 2.06-2.06.94zm-11 1L8.5 8.5l.94-2.06 2.06-.94-2.06-.94L8.5 2.5l-.94 2.06-2.06.94zm10 10l.94 2.06.94-2.06 2.06-.94-2.06-.94-.94-2.06-.94 2.06-2.06.94z\"/><path d=\"M17.41 7.96l-1.37-1.37c-.4-.4-.92-.59-1.43-.59-.52 0-1.04.2-1.43.59L10.3 9.45l-7.72 7.72c-.78.78-.78 2.05 0 2.83L4 21.41c.39.39.9.59 1.41.59.51 0 1.02-.2 1.41-.59l7.78-7.78 2.81-2.81c.8-.78.8-2.07 0-2.86zM5.41 20L4 18.59l7.72-7.72 1.47 1.35L5.41 20z\"/>\n",
              "  </svg>\n",
              "      </button>\n",
              "      \n",
              "  <style>\n",
              "    .colab-df-container {\n",
              "      display:flex;\n",
              "      flex-wrap:wrap;\n",
              "      gap: 12px;\n",
              "    }\n",
              "\n",
              "    .colab-df-convert {\n",
              "      background-color: #E8F0FE;\n",
              "      border: none;\n",
              "      border-radius: 50%;\n",
              "      cursor: pointer;\n",
              "      display: none;\n",
              "      fill: #1967D2;\n",
              "      height: 32px;\n",
              "      padding: 0 0 0 0;\n",
              "      width: 32px;\n",
              "    }\n",
              "\n",
              "    .colab-df-convert:hover {\n",
              "      background-color: #E2EBFA;\n",
              "      box-shadow: 0px 1px 2px rgba(60, 64, 67, 0.3), 0px 1px 3px 1px rgba(60, 64, 67, 0.15);\n",
              "      fill: #174EA6;\n",
              "    }\n",
              "\n",
              "    [theme=dark] .colab-df-convert {\n",
              "      background-color: #3B4455;\n",
              "      fill: #D2E3FC;\n",
              "    }\n",
              "\n",
              "    [theme=dark] .colab-df-convert:hover {\n",
              "      background-color: #434B5C;\n",
              "      box-shadow: 0px 1px 3px 1px rgba(0, 0, 0, 0.15);\n",
              "      filter: drop-shadow(0px 1px 2px rgba(0, 0, 0, 0.3));\n",
              "      fill: #FFFFFF;\n",
              "    }\n",
              "  </style>\n",
              "\n",
              "      <script>\n",
              "        const buttonEl =\n",
              "          document.querySelector('#df-fc0eb297-f8e1-41c1-81ad-6f683416993d button.colab-df-convert');\n",
              "        buttonEl.style.display =\n",
              "          google.colab.kernel.accessAllowed ? 'block' : 'none';\n",
              "\n",
              "        async function convertToInteractive(key) {\n",
              "          const element = document.querySelector('#df-fc0eb297-f8e1-41c1-81ad-6f683416993d');\n",
              "          const dataTable =\n",
              "            await google.colab.kernel.invokeFunction('convertToInteractive',\n",
              "                                                     [key], {});\n",
              "          if (!dataTable) return;\n",
              "\n",
              "          const docLinkHtml = 'Like what you see? Visit the ' +\n",
              "            '<a target=\"_blank\" href=https://colab.research.google.com/notebooks/data_table.ipynb>data table notebook</a>'\n",
              "            + ' to learn more about interactive tables.';\n",
              "          element.innerHTML = '';\n",
              "          dataTable['output_type'] = 'display_data';\n",
              "          await google.colab.output.renderOutput(dataTable, element);\n",
              "          const docLink = document.createElement('div');\n",
              "          docLink.innerHTML = docLinkHtml;\n",
              "          element.appendChild(docLink);\n",
              "        }\n",
              "      </script>\n",
              "    </div>\n",
              "  </div>\n",
              "  "
            ]
          },
          "metadata": {},
          "execution_count": 6
        }
      ]
    },
    {
      "cell_type": "code",
      "source": [
        "# ラベルの分布を描画\n",
        "LABELS_ALL = sorted(df_hm_target.ground_truth_category.unique())\n",
        "sns.countplot(y='ground_truth_category', data=df_hm_target, order=LABELS_ALL)"
      ],
      "metadata": {
        "colab": {
          "base_uri": "https://localhost:8080/",
          "height": 302
        },
        "id": "AIn3goDGt-wp",
        "outputId": "ec4a57b0-a853-452d-bbe6-622317f6e07a"
      },
      "execution_count": 7,
      "outputs": [
        {
          "output_type": "execute_result",
          "data": {
            "text/plain": [
              "<matplotlib.axes._subplots.AxesSubplot at 0x7f9c6ad96d90>"
            ]
          },
          "metadata": {},
          "execution_count": 7
        },
        {
          "output_type": "display_data",
          "data": {
            "text/plain": [
              "<Figure size 432x288 with 1 Axes>"
            ],
            "image/png": "[encoded data removed]"
          },
          "metadata": {
            "needs_background": "light"
          }
        }
      ]
    },
    {
      "cell_type": "markdown",
      "source": [
        "## 3. 原文（英語）で文書分類"
      ],
      "metadata": {
        "id": "ga5EhljxtrcP"
      }
    },
    {
      "cell_type": "code",
      "source": [
        "# 入力データとラベルの準備\n",
        "docs = df_hm_target['cleaned_hm'].tolist()\n",
        "labels = df_hm_target['ground_truth_category'].tolist()\n",
        "label_ids = np.array([LABELS_ALL.index(label) for label in labels])\n",
        "\n",
        "#BoW (CountVectorizer)\n",
        "bow_vectorizer = CountVectorizer(min_df=0.0001, stop_words='english')\n",
        "bow_vectorizer.fit(docs)\n",
        "x_data = bow_vectorizer.transform(docs).toarray()\n",
        "\n",
        "# ロジスティック回帰\n",
        "logreg = LogisticRegression(max_iter=1000)\n",
        "\n",
        "# 層化k分割交差検証\n",
        "skf = StratifiedKFold(n_splits=5, shuffle=True, random_state=0)\n",
        "\n",
        "scores_all = []\n",
        "for train_index, test_index in skf.split(x_data, label_ids):\n",
        "    x_train, x_test = x_data[train_index], x_data[test_index]\n",
        "    y_train, y_true = label_ids[train_index], label_ids[test_index]\n",
        "\n",
        "    # 学習\n",
        "    logreg.fit(x_train, y_train)\n",
        "    y_pred = logreg.predict(x_test)\n",
        "\n",
        "    # クラス別のPrecision, Recall, F1-scoreを計算\n",
        "    scores = []\n",
        "    scores.append(precision_score(y_true=y_true, y_pred=y_pred, average=None))\n",
        "    scores.append(recall_score(y_true=y_true, y_pred=y_pred, average=None))\n",
        "    scores.append(f1_score(y_true=y_true, y_pred=y_pred, average=None))\n",
        "    scores_all.append(scores)\n",
        "\n",
        "# 各スコアの平均値を算出\n",
        "scores_mean = np.stack(scores_all).mean(axis=0)\n",
        "df_scores_mean = pd.DataFrame(scores_mean.T, index=LABELS_ALL, columns=['precision', 'recall', 'f1'])\n",
        "df_scores_mean"
      ],
      "metadata": {
        "colab": {
          "base_uri": "https://localhost:8080/",
          "height": 269
        },
        "id": "h8yqjCLZtdBB",
        "outputId": "68760634-8273-43b2-a4d9-791ef5def034"
      },
      "execution_count": 8,
      "outputs": [
        {
          "output_type": "execute_result",
          "data": {
            "text/plain": [
              "                  precision    recall        f1\n",
              "achievement        0.731194  0.848278  0.785185\n",
              "affection          0.908121  0.918068  0.913014\n",
              "bonding            0.920873  0.829552  0.872543\n",
              "enjoy_the_moment   0.559865  0.539615  0.549538\n",
              "exercise           0.842637  0.464000  0.586830\n",
              "leisure            0.656992  0.573939  0.610162\n",
              "nature             0.809810  0.457407  0.574006"
            ],
            "text/html": [
              "\n",
              "  <div id=\"df-898cb93f-cd55-4cb7-8706-cedb1df2b896\">\n",
              "    <div class=\"colab-df-container\">\n",
              "      <div>\n",
              "<style scoped>\n",
              "    .dataframe tbody tr th:only-of-type {\n",
              "        vertical-align: middle;\n",
              "    }\n",
              "\n",
              "    .dataframe tbody tr th {\n",
              "        vertical-align: top;\n",
              "    }\n",
              "\n",
              "    .dataframe thead th {\n",
              "        text-align: right;\n",
              "    }\n",
              "</style>\n",
              "<table border=\"1\" class=\"dataframe\">\n",
              "  <thead>\n",
              "    <tr style=\"text-align: right;\">\n",
              "      <th></th>\n",
              "      <th>precision</th>\n",
              "      <th>recall</th>\n",
              "      <th>f1</th>\n",
              "    </tr>\n",
              "  </thead>\n",
              "  <tbody>\n",
              "    <tr>\n",
              "      <th>achievement</th>\n",
              "      <td>0.731194</td>\n",
              "      <td>0.848278</td>\n",
              "      <td>0.785185</td>\n",
              "    </tr>\n",
              "    <tr>\n",
              "      <th>affection</th>\n",
              "      <td>0.908121</td>\n",
              "      <td>0.918068</td>\n",
              "      <td>0.913014</td>\n",
              "    </tr>\n",
              "    <tr>\n",
              "      <th>bonding</th>\n",
              "      <td>0.920873</td>\n",
              "      <td>0.829552</td>\n",
              "      <td>0.872543</td>\n",
              "    </tr>\n",
              "    <tr>\n",
              "      <th>enjoy_the_moment</th>\n",
              "      <td>0.559865</td>\n",
              "      <td>0.539615</td>\n",
              "      <td>0.549538</td>\n",
              "    </tr>\n",
              "    <tr>\n",
              "      <th>exercise</th>\n",
              "      <td>0.842637</td>\n",
              "      <td>0.464000</td>\n",
              "      <td>0.586830</td>\n",
              "    </tr>\n",
              "    <tr>\n",
              "      <th>leisure</th>\n",
              "      <td>0.656992</td>\n",
              "      <td>0.573939</td>\n",
              "      <td>0.610162</td>\n",
              "    </tr>\n",
              "    <tr>\n",
              "      <th>nature</th>\n",
              "      <td>0.809810</td>\n",
              "      <td>0.457407</td>\n",
              "      <td>0.574006</td>\n",
              "    </tr>\n",
              "  </tbody>\n",
              "</table>\n",
              "</div>\n",
              "      <button class=\"colab-df-convert\" onclick=\"convertToInteractive('df-898cb93f-cd55-4cb7-8706-cedb1df2b896')\"\n",
              "              title=\"Convert this dataframe to an interactive table.\"\n",
              "              style=\"display:none;\">\n",
              "        \n",
              "  <svg xmlns=\"http://www.w3.org/2000/svg\" height=\"24px\"viewBox=\"0 0 24 24\"\n",
              "       width=\"24px\">\n",
              "    <path d=\"M0 0h24v24H0V0z\" fill=\"none\"/>\n",
              "    <path d=\"M18.56 5.44l.94 2.06.94-2.06 2.06-.94-2.06-.94-.94-2.06-.94 2.06-2.06.94zm-11 1L8.5 8.5l.94-2.06 2.06-.94-2.06-.94L8.5 2.5l-.94 2.06-2.06.94zm10 10l.94 2.06.94-2.06 2.06-.94-2.06-.94-.94-2.06-.94 2.06-2.06.94z\"/><path d=\"M17.41 7.96l-1.37-1.37c-.4-.4-.92-.59-1.43-.59-.52 0-1.04.2-1.43.59L10.3 9.45l-7.72 7.72c-.78.78-.78 2.05 0 2.83L4 21.41c.39.39.9.59 1.41.59.51 0 1.02-.2 1.41-.59l7.78-7.78 2.81-2.81c.8-.78.8-2.07 0-2.86zM5.41 20L4 18.59l7.72-7.72 1.47 1.35L5.41 20z\"/>\n",
              "  </svg>\n",
              "      </button>\n",
              "      \n",
              "  <style>\n",
              "    .colab-df-container {\n",
              "      display:flex;\n",
              "      flex-wrap:wrap;\n",
              "      gap: 12px;\n",
              "    }\n",
              "\n",
              "    .colab-df-convert {\n",
              "      background-color: #E8F0FE;\n",
              "      border: none;\n",
              "      border-radius: 50%;\n",
              "      cursor: pointer;\n",
              "      display: none;\n",
              "      fill: #1967D2;\n",
              "      height: 32px;\n",
              "      padding: 0 0 0 0;\n",
              "      width: 32px;\n",
              "    }\n",
              "\n",
              "    .colab-df-convert:hover {\n",
              "      background-color: #E2EBFA;\n",
              "      box-shadow: 0px 1px 2px rgba(60, 64, 67, 0.3), 0px 1px 3px 1px rgba(60, 64, 67, 0.15);\n",
              "      fill: #174EA6;\n",
              "    }\n",
              "\n",
              "    [theme=dark] .colab-df-convert {\n",
              "      background-color: #3B4455;\n",
              "      fill: #D2E3FC;\n",
              "    }\n",
              "\n",
              "    [theme=dark] .colab-df-convert:hover {\n",
              "      background-color: #434B5C;\n",
              "      box-shadow: 0px 1px 3px 1px rgba(0, 0, 0, 0.15);\n",
              "      filter: drop-shadow(0px 1px 2px rgba(0, 0, 0, 0.3));\n",
              "      fill: #FFFFFF;\n",
              "    }\n",
              "  </style>\n",
              "\n",
              "      <script>\n",
              "        const buttonEl =\n",
              "          document.querySelector('#df-898cb93f-cd55-4cb7-8706-cedb1df2b896 button.colab-df-convert');\n",
              "        buttonEl.style.display =\n",
              "          google.colab.kernel.accessAllowed ? 'block' : 'none';\n",
              "\n",
              "        async function convertToInteractive(key) {\n",
              "          const element = document.querySelector('#df-898cb93f-cd55-4cb7-8706-cedb1df2b896');\n",
              "          const dataTable =\n",
              "            await google.colab.kernel.invokeFunction('convertToInteractive',\n",
              "                                                     [key], {});\n",
              "          if (!dataTable) return;\n",
              "\n",
              "          const docLinkHtml = 'Like what you see? Visit the ' +\n",
              "            '<a target=\"_blank\" href=https://colab.research.google.com/notebooks/data_table.ipynb>data table notebook</a>'\n",
              "            + ' to learn more about interactive tables.';\n",
              "          element.innerHTML = '';\n",
              "          dataTable['output_type'] = 'display_data';\n",
              "          await google.colab.output.renderOutput(dataTable, element);\n",
              "          const docLink = document.createElement('div');\n",
              "          docLink.innerHTML = docLinkHtml;\n",
              "          element.appendChild(docLink);\n",
              "        }\n",
              "      </script>\n",
              "    </div>\n",
              "  </div>\n",
              "  "
            ]
          },
          "metadata": {},
          "execution_count": 8
        }
      ]
    },
    {
      "cell_type": "markdown",
      "source": [
        "## 4. 日本語翻訳で文書分類"
      ],
      "metadata": {
        "id": "TEkBIm2wu4Ld"
      }
    },
    {
      "cell_type": "code",
      "source": [
        "# GiNZAで分かち書きする\n",
        "import spacy\n",
        "nlp = spacy.load('ja_ginza')\n",
        "\n",
        "def wakati_preprocess(text):\n",
        "    \"\"\"分かち書き. 各単語はlemma（原形）に変換しておく.\"\"\"\n",
        "    doc = nlp(text)\n",
        "    lemmas = []\n",
        "    for sent in doc.sents:\n",
        "        for token in sent:\n",
        "            lemmas.append(token.lemma_)\n",
        "    return ' '.join(lemmas)\n",
        "\n",
        "print(wakati_preprocess('すもももももももものうち。'))"
      ],
      "metadata": {
        "colab": {
          "base_uri": "https://localhost:8080/"
        },
        "id": "RtKgR1Y7uQ6d",
        "outputId": "762d83e3-15be-457a-d7a1-57651dd11b92"
      },
      "execution_count": 9,
      "outputs": [
        {
          "output_type": "stream",
          "name": "stdout",
          "text": [
            "すもも も もも も もも の うち 。\n"
          ]
        }
      ]
    },
    {
      "cell_type": "code",
      "source": [
        "# 分かち書きを適用\n",
        "docs_jp = [wakati_preprocess(text) for text in df_hm_target['jp_text'].tolist()]"
      ],
      "metadata": {
        "id": "9jD8daDrwGj5"
      },
      "execution_count": 10,
      "outputs": []
    },
    {
      "cell_type": "code",
      "source": [
        "# BoW (CountVectorizer)\n",
        "bow_vectorizer = CountVectorizer(max_df=0.5, min_df=0.001, stop_words=[])\n",
        "bow_vectorizer.fit(docs_jp)\n",
        "\n",
        "vocab = bow_vectorizer.get_feature_names_out().tolist()\n",
        "print(len(vocab))\n",
        "print(vocab)"
      ],
      "metadata": {
        "colab": {
          "base_uri": "https://localhost:8080/"
        },
        "id": "7jVVOYz6wvQN",
        "outputId": "d3485ee6-3d44-4d39-c460-bfd838a47096"
      },
      "execution_count": 11,
      "outputs": [
        {
          "output_type": "stream",
          "name": "stdout",
          "text": [
            "1043\n",
            "['10', '100', '12', '15', '18', '1日', '20', '200', '2017', '24', '25', '2人', '30', '40', '45', '50', '70', 'amazon', 'ebay', 'facebook', 'hit', 'mturk', 'netflix', 'youtube', 'あげる', 'あと', 'あなた', 'あまり', 'ありがとう', 'ある', 'いい', 'いう', 'いく', 'いくつ', 'いただく', 'いっぱい', 'いつも', 'いとこ', 'いる', 'いろいろ', 'うち', 'うまい', 'うれしい', 'おいしい', 'おかげ', 'おく', 'おしゃべり', 'おもちゃ', 'おやつ', 'おる', 'お客様', 'お店', 'お母さん', 'お気に入り', 'お礼', 'お祝い', 'お腹', 'お菓子', 'お金', 'かかる', 'かかわる', 'かける', 'かなり', 'から', 'かわいい', 'がる', 'きれい', 'くださる', 'くつろぐ', 'くらい', 'くる', 'くれる', 'ぐっすり', 'けど', 'ここ', 'こと', 'こなす', 'この', 'これ', 'こんな', 'ござる', 'ご飯', 'させる', 'さらに', 'さん', 'しか', 'しかし', 'しっかり', 'しばらく', 'しまう', 'しれる', 'じい', 'すぎる', 'すぐ', 'すごい', 'すでに', 'すべて', 'する', 'ずっと', 'せる', 'そう', 'そこ', 'そして', 'その', 'そば', 'それ', 'そんな', 'たい', 'たくさん', 'ただ', 'たち', 'ため', 'たり', 'だけ', 'だり', 'ちゃん', 'ちゃんと', 'ちょうど', 'ちょっと', 'ついに', 'つく', 'つける', 'つながる', 'つもり', 'てらっしゃる', 'てる', 'できる', 'です', 'とき', 'ところ', 'とても', 'とも', 'とる', 'どう', 'どこ', 'どの', 'どれ', 'どんな', 'ない', 'なかなか', 'ながら', 'なくなる', 'なし', 'なぜ', 'など', 'なり', 'なる', 'なれる', 'なん', 'のんびり', 'ばあ', 'ばかり', 'ひと', 'ひととき', 'ひどい', 'びっくり', 'ぶり', 'べし', 'ほしい', 'ほとんど', 'ほど', 'ほぼ', 'まさに', 'また', 'まだ', 'まで', 'みる', 'みんな', 'めった', 'もう', 'もし', 'もっと', 'もの', 'もらう', 'もらえる', 'やっと', 'やる', 'ゆっくり', 'よい', 'よう', 'ようやく', 'よく', 'より', 'よる', 'られる', 'れる', 'わかる', 'わけ', 'アイス', 'アイスクリーム', 'アイデア', 'アウト', 'アニメ', 'アパート', 'アプリ', 'アマゾン', 'イベント', 'インターネット', 'インド', 'エキサイティング', 'エピソード', 'オフ', 'オファー', 'オフィス', 'オブ', 'オンライン', 'カジノ', 'カード', 'ガールフレンド', 'キス', 'キッチン', 'キロ', 'ギフトカード', 'クッキー', 'クライアント', 'クラス', 'クリア', 'クリケット', 'クレジットカード', 'クーポン', 'グループ', 'ケーキ', 'ゲーム', 'コンサート', 'コンテスト', 'コーヒー', 'ゴルフ', 'サッカー', 'サプライズ', 'サンドイッチ', 'サービス', 'シャツ', 'シャワー', 'ショッピング', 'ショッピングモール', 'ショー', 'シリーズ', 'シーズン', 'ジム', 'ジョーク', 'スクラッチ', 'スタート', 'スターバックス', 'ステーキ', 'ストレス', 'スポーツ', 'スマートフォン', 'スーパー', 'セックス', 'セント', 'セール', 'ゼルダ', 'ソファ', 'タイプ', 'タコス', 'ダイエット', 'ダンス', 'チェック', 'チキン', 'チケット', 'チップ', 'チャット', 'チョコ', 'チョコレート', 'チーズ', 'チーム', 'ツアー', 'テスト', 'テニス', 'テレビ', 'ディナー', 'デザイン', 'デザート', 'デート', 'トイレ', 'トレーニング', 'ドライブ', 'ドル', 'ドレス', 'ドーナツ', 'ナイト', 'ネット', 'ノートパソコン', 'ハイキング', 'ハグ', 'ハッピー', 'ハンバーガー', 'ハード', 'バイク', 'バイバイ', 'バスケットボール', 'バンガロール', 'バンド', 'バー', 'バースデー', 'パソコン', 'パパ', 'パーク', 'パーティー', 'パートナー', 'ヒット', 'ビジネス', 'ビデオ', 'ビーチ', 'ビール', 'ピカピカ', 'ピザ', 'ファイナル', 'フィアンセ', 'ブランド', 'プレイ', 'プレゼント', 'プログラム', 'プロジェクト', 'プロポーズ', 'プール', 'ベスト', 'ベッド', 'ペット', 'ホテル', 'ボーイフレンド', 'ボード', 'ボーナス', 'ボール', 'ポケット', 'ポジティブ', 'ポンド', 'ポーカー', 'マイル', 'ママ', 'マンゴー', 'ミーティング', 'メッセージ', 'メール', 'ヨガ', 'ライブ', 'ランチ', 'リスト', 'リラックス', 'ルームメイト', 'レシピ', 'レストラン', 'レベル', 'ローン', 'ワイン', 'ワーク', 'ヶ月', '一人', '一度', '一日', '一番', '一緒', '一部', '上がる', '上司', '上手', '不具合', '与える', '世界', '世話', '両親', '中華', '主人', '久々', '久しぶり', '乗せる', '乗る', '予定', '予想', '予算', '予約', '事務所', '二人', '互い', '人々', '人生', '今まで', '今回', '今夜', '今年', '今度', '今日', '今月', '今朝', '今週', '今週末', '仕上がる', '仕事', '仕事帰り', '代わり', '以上', '以内', '以前', '以来', '仲良く', '仲間', '休み', '休む', '休日', '休暇', '会う', '会える', '会社', '会話', '会議', '伝える', '住む', '体調', '体重', '体重計', '何度', '何日', '何時間', '余分', '作り', '作る', '作品', '作業', '使う', '使える', '依頼', '価格', '信ずる', '修理', '倒す', '借りる', '値段', '健康', '健康的', '偶然', '働く', '優しい', '優勝', '元気', '充実', '先延ばし', '先月', '先生', '先週', '入る', '入れる', '全く', '全て', '全体', '全員', '全部', '公園', '公開', '共有', '内定', '再び', '再会', '冗談', '写真', '冷蔵庫', '出かける', '出す', '出る', '出会う', '出勤', '出席', '出来事', '出来栄え', '出産', '分かる', '切り上げる', '切る', '初めて', '到着', '助かる', '助ける', '努力', '勉強', '動き', '動く', '動画', '勝つ', '勝利', '医者', '十分', '午前中', '午後', '卒業', '参加', '友人', '友達', '叔母', '叔父', '取り組む', '取る', '取れる', '取得', '受ける', '受け入れる', '受け取る', '古い', '可愛い', '合格', '同じ', '同僚', '名前', '向かう', '向ける', '周り', '味わう', '呼ぶ', '咲く', '商品', '問題', '喜び', '喜ぶ', '喧嘩', '困る', '図書館', '土曜日', '地元', '地域', '報う', '報告', '報酬', '場合', '場所', '塗る', '増える', '壊れる', '売る', '売れる', '変える', '変化', '変更', '夏休み', '夕方', '夕食', '外食', '多い', '多く', '多少', '大きい', '大きな', '大丈夫', '大事', '大会', '大切', '大喜び', '大好き', '大好物', '大学', '大量', '天気', '天職', '太陽', '夫婦', '失う', '失くす', '奥さん', '女の子', '女性', '好き', '妊娠', '始まる', '始める', '姪っ子', '婚約者', '嬉しい', '子供', '子供たち', '子犬', '子猫', '学ぶ', '学校', '学生', '学生時代', '孫娘', '安い', '安心', '完了', '完全', '完成', '完済', '完璧', '宝くじ', '実感', '実際', '家事', '家族', '宿題', '寄り添う', '寝る', '寝坊', '寝室', '審査', '対戦', '小さな', '小切手', '小遣い', '少し', '少ない', '就職', '届く', '崩す', '希望', '帰り', '帰る', '帰宅', '年間', '幸せ', '幸福', '幼い', '幼なじみ', '座る', '引っ越し', '強い', '弾む', '当たる', '当選', '彼女', '彼氏', '待ち望む', '待つ', '従兄弟', '得る', '微笑む', '心配', '必要', '忘れる', '忙しい', '応募', '怖い', '思いがける', '思い出', '思い出す', '思う', '怪我', '恋人', '息子', '恵まれる', '悪い', '悲しい', '情報', '意味', '意外', '愛する', '愛犬', '愛猫', '感じ', '感じる', '感ずる', '感謝', '成功', '成績', '我が家', '戻る', '手伝う', '手術', '打つ', '払う', '承認', '投資', '抱える', '抱きしめる', '抱く', '抱っこ', '招待', '持つ', '挑戦', '挨拶', '振り返る', '振る', '掃除', '授業', '探す', '描く', '提出', '携帯', '携帯電話', '撫でる', '撮る', '支払い', '支払う', '故郷', '教える', '教会', '教室', '散歩', '数ヶ月', '数時間', '数週間', '料理', '新しい', '新作', '新居', '新車', '新鮮', '方法', '旅行', '日曜日', '日間', '旧友', '早い', '早め', '早朝', '早起き', '昇給', '昇進', '明るい', '明日', '映画', '映画館', '昨夜', '昨日', '昨晩', '昼寝', '昼食', '時代', '時間', '普段', '普通', '晴れる', '暑い', '暖かい', '更新', '書く', '最も', '最初', '最後', '最新', '最終日', '最終的', '最近', '最高', '月曜日', '望む', '朝食', '期待', '未来', '本当', '来る', '来週', '椅子', '植える', '植物', '検査', '楽しい', '楽しみ', '楽しむ', '楽しめる', '様子', '機会', '機能', '欲しい', '歌う', '止まる', '正しい', '歩く', '歩ける', '歯医者', '残す', '残り', '残る', '残業', '母親', '毎日', '毎月', '気づく', '気候', '気分', '気持ち', '決まる', '決める', '注文', '洗う', '洗濯', '洗濯物', '流す', '流れる', '浴びる', '海外', '涼しい', '深い', '淹れる', '済む', '渋滞', '減る', '測る', '満足', '準備', '滞在', '無事', '無料', '焼く', '熱い', '片付ける', '特に', '特別', '状態', '獲得', '玄関', '現在', '理由', '理解', '甘い', '生きる', '生まれる', '生徒', '生活', '甥っ子', '用事', '用意', '男の子', '番組', '疲れる', '病気', '痛い', '痛み', '痩せる', '癒す', '発売', '発表', '発見', '目標', '目覚める', '直す', '相手', '相棒', '相談', '眠る', '眠れる', '着く', '着る', '瞑想', '瞬間', '知らせ', '知る', '短い', '破る', '確認', '祖母', '祖父母', '祝う', '祝福', '私たち', '税金', '稼ぐ', '空く', '空気', '突然', '突破', '立ち寄る', '立つ', '立てる', '笑い', '笑う', '笑顔', '節約', '簡単', '約束', '素敵', '素晴らしい', '紹介', '終える', '終わる', '終了', '経験', '結婚', '結婚式', '結局', '結果', '結構', '給料', '続く', '続ける', '緊張', '練習', '置く', '美しい', '美味しい', '義理', '習う', '考える', '聞く', '聴く', '職場', '自信', '自分', '自分自身', '自宅', '自家製', '自然', '自由', '自転車', '興味', '興奮', '良い', '苦労', '荷物', '落ちる', '行う', '行く', '行ける', '行事', '裏庭', '褒める', '褒美', '見える', '見せる', '見つかる', '見つける', '見る', '見学', '視聴', '覚える', '覚ます', '覚める', '親しい', '親切', '親友', '親戚', '観る', '観戦', '解決', '言う', '言葉', '計画', '記事', '記念日', '訪ねる', '訪れる', '訪問', '評価', '試す', '試合', '試験', '話し合う', '話す', '誇り', '認める', '誕生', '誕生日', '誘う', '語り合う', '読む', '読書', '課題', '請求', '請求書', '貯める', '貴重', '買い物', '買う', '買える', '資格', '購入', '贈る', '赤ちゃん', '走り', '走り回る', '走る', '起きる', '起こす', '起こる', '踊る', '迎える', '近い', '近く', '近づく', '近所', '追いかける', '追いつく', '追加', '送り出す', '送る', '途中', '通う', '通り', '通勤途中', '通常', '連れる', '連れ出す', '連絡', '週末', '週間', '進出', '遅い', '遅く', '遊び', '遊ぶ', '遊べる', '運動', '運転', '過ごす', '過ごせる', '過去', '達成', '達成感', '違う', '選ぶ', '部分', '部屋', '郵送', '配偶者', '重要', '野球', '野菜', '金曜日', '銀行口座', '長い', '長年', '長男', '開く', '開ける', '開催', '間に合う', '間違い', '関する', '関係', '降る', '集まる', '集中', '雇用主', '離れる', '難しい', '電話', '静か', '非常', '面接', '面白い', '音楽', '頑張る', '頼む', '風呂', '飛行機', '食べる', '食べ物', '食事', '食料品', '食材', '飲む', '飾る', '香り', '驚く', '高い', '高校', '魅力的']\n"
          ]
        }
      ]
    },
    {
      "cell_type": "code",
      "source": [
        "# ベクトル化\n",
        "x_data = bow_vectorizer.transform(docs_jp).toarray()"
      ],
      "metadata": {
        "id": "N1MIBuQFzGBW"
      },
      "execution_count": 12,
      "outputs": []
    },
    {
      "cell_type": "code",
      "source": [
        "# 後は英語版と同様\n",
        "\n",
        "# ロジスティック回帰\n",
        "logreg = LogisticRegression(max_iter=1000)\n",
        "\n",
        "# 層化k分割交差検証\n",
        "skf = StratifiedKFold(n_splits=5, shuffle=True, random_state=0)\n",
        "\n",
        "scores_all = []\n",
        "for train_index, test_index in skf.split(x_data, label_ids):\n",
        "    x_train, x_test = x_data[train_index], x_data[test_index]\n",
        "    y_train, y_true = label_ids[train_index], label_ids[test_index]\n",
        "\n",
        "    # 学習\n",
        "    logreg.fit(x_train, y_train)\n",
        "    y_pred = logreg.predict(x_test)\n",
        "\n",
        "    # クラス別のPrecision, Recall, F1-scoreを計算\n",
        "    scores = []\n",
        "    scores.append(precision_score(y_true=y_true, y_pred=y_pred, average=None))\n",
        "    scores.append(recall_score(y_true=y_true, y_pred=y_pred, average=None))\n",
        "    scores.append(f1_score(y_true=y_true, y_pred=y_pred, average=None))\n",
        "    scores_all.append(scores)\n",
        "\n",
        "# 各スコアの平均値を算出\n",
        "scores_mean = np.stack(scores_all).mean(axis=0)\n",
        "df_scores_mean = pd.DataFrame(scores_mean.T, index=LABELS_ALL, columns=['precision', 'recall', 'f1'])\n",
        "df_scores_mean"
      ],
      "metadata": {
        "colab": {
          "base_uri": "https://localhost:8080/",
          "height": 269
        },
        "id": "-JeBakzewYk_",
        "outputId": "7e526b97-9dff-4100-93fa-70a2ae41102c"
      },
      "execution_count": 13,
      "outputs": [
        {
          "output_type": "execute_result",
          "data": {
            "text/plain": [
              "                  precision    recall        f1\n",
              "achievement        0.682503  0.812861  0.741966\n",
              "affection          0.792301  0.802104  0.797129\n",
              "bonding            0.910081  0.826996  0.866432\n",
              "enjoy_the_moment   0.541356  0.485905  0.511552\n",
              "exercise           0.844899  0.488000  0.602425\n",
              "leisure            0.632730  0.550675  0.587945\n",
              "nature             0.768485  0.378307  0.494318"
            ],
            "text/html": [
              "\n",
              "  <div id=\"df-d4e9f2b8-d3f5-4a71-a924-fc8b6282f060\">\n",
              "    <div class=\"colab-df-container\">\n",
              "      <div>\n",
              "<style scoped>\n",
              "    .dataframe tbody tr th:only-of-type {\n",
              "        vertical-align: middle;\n",
              "    }\n",
              "\n",
              "    .dataframe tbody tr th {\n",
              "        vertical-align: top;\n",
              "    }\n",
              "\n",
              "    .dataframe thead th {\n",
              "        text-align: right;\n",
              "    }\n",
              "</style>\n",
              "<table border=\"1\" class=\"dataframe\">\n",
              "  <thead>\n",
              "    <tr style=\"text-align: right;\">\n",
              "      <th></th>\n",
              "      <th>precision</th>\n",
              "      <th>recall</th>\n",
              "      <th>f1</th>\n",
              "    </tr>\n",
              "  </thead>\n",
              "  <tbody>\n",
              "    <tr>\n",
              "      <th>achievement</th>\n",
              "      <td>0.682503</td>\n",
              "      <td>0.812861</td>\n",
              "      <td>0.741966</td>\n",
              "    </tr>\n",
              "    <tr>\n",
              "      <th>affection</th>\n",
              "      <td>0.792301</td>\n",
              "      <td>0.802104</td>\n",
              "      <td>0.797129</td>\n",
              "    </tr>\n",
              "    <tr>\n",
              "      <th>bonding</th>\n",
              "      <td>0.910081</td>\n",
              "      <td>0.826996</td>\n",
              "      <td>0.866432</td>\n",
              "    </tr>\n",
              "    <tr>\n",
              "      <th>enjoy_the_moment</th>\n",
              "      <td>0.541356</td>\n",
              "      <td>0.485905</td>\n",
              "      <td>0.511552</td>\n",
              "    </tr>\n",
              "    <tr>\n",
              "      <th>exercise</th>\n",
              "      <td>0.844899</td>\n",
              "      <td>0.488000</td>\n",
              "      <td>0.602425</td>\n",
              "    </tr>\n",
              "    <tr>\n",
              "      <th>leisure</th>\n",
              "      <td>0.632730</td>\n",
              "      <td>0.550675</td>\n",
              "      <td>0.587945</td>\n",
              "    </tr>\n",
              "    <tr>\n",
              "      <th>nature</th>\n",
              "      <td>0.768485</td>\n",
              "      <td>0.378307</td>\n",
              "      <td>0.494318</td>\n",
              "    </tr>\n",
              "  </tbody>\n",
              "</table>\n",
              "</div>\n",
              "      <button class=\"colab-df-convert\" onclick=\"convertToInteractive('df-d4e9f2b8-d3f5-4a71-a924-fc8b6282f060')\"\n",
              "              title=\"Convert this dataframe to an interactive table.\"\n",
              "              style=\"display:none;\">\n",
              "        \n",
              "  <svg xmlns=\"http://www.w3.org/2000/svg\" height=\"24px\"viewBox=\"0 0 24 24\"\n",
              "       width=\"24px\">\n",
              "    <path d=\"M0 0h24v24H0V0z\" fill=\"none\"/>\n",
              "    <path d=\"M18.56 5.44l.94 2.06.94-2.06 2.06-.94-2.06-.94-.94-2.06-.94 2.06-2.06.94zm-11 1L8.5 8.5l.94-2.06 2.06-.94-2.06-.94L8.5 2.5l-.94 2.06-2.06.94zm10 10l.94 2.06.94-2.06 2.06-.94-2.06-.94-.94-2.06-.94 2.06-2.06.94z\"/><path d=\"M17.41 7.96l-1.37-1.37c-.4-.4-.92-.59-1.43-.59-.52 0-1.04.2-1.43.59L10.3 9.45l-7.72 7.72c-.78.78-.78 2.05 0 2.83L4 21.41c.39.39.9.59 1.41.59.51 0 1.02-.2 1.41-.59l7.78-7.78 2.81-2.81c.8-.78.8-2.07 0-2.86zM5.41 20L4 18.59l7.72-7.72 1.47 1.35L5.41 20z\"/>\n",
              "  </svg>\n",
              "      </button>\n",
              "      \n",
              "  <style>\n",
              "    .colab-df-container {\n",
              "      display:flex;\n",
              "      flex-wrap:wrap;\n",
              "      gap: 12px;\n",
              "    }\n",
              "\n",
              "    .colab-df-convert {\n",
              "      background-color: #E8F0FE;\n",
              "      border: none;\n",
              "      border-radius: 50%;\n",
              "      cursor: pointer;\n",
              "      display: none;\n",
              "      fill: #1967D2;\n",
              "      height: 32px;\n",
              "      padding: 0 0 0 0;\n",
              "      width: 32px;\n",
              "    }\n",
              "\n",
              "    .colab-df-convert:hover {\n",
              "      background-color: #E2EBFA;\n",
              "      box-shadow: 0px 1px 2px rgba(60, 64, 67, 0.3), 0px 1px 3px 1px rgba(60, 64, 67, 0.15);\n",
              "      fill: #174EA6;\n",
              "    }\n",
              "\n",
              "    [theme=dark] .colab-df-convert {\n",
              "      background-color: #3B4455;\n",
              "      fill: #D2E3FC;\n",
              "    }\n",
              "\n",
              "    [theme=dark] .colab-df-convert:hover {\n",
              "      background-color: #434B5C;\n",
              "      box-shadow: 0px 1px 3px 1px rgba(0, 0, 0, 0.15);\n",
              "      filter: drop-shadow(0px 1px 2px rgba(0, 0, 0, 0.3));\n",
              "      fill: #FFFFFF;\n",
              "    }\n",
              "  </style>\n",
              "\n",
              "      <script>\n",
              "        const buttonEl =\n",
              "          document.querySelector('#df-d4e9f2b8-d3f5-4a71-a924-fc8b6282f060 button.colab-df-convert');\n",
              "        buttonEl.style.display =\n",
              "          google.colab.kernel.accessAllowed ? 'block' : 'none';\n",
              "\n",
              "        async function convertToInteractive(key) {\n",
              "          const element = document.querySelector('#df-d4e9f2b8-d3f5-4a71-a924-fc8b6282f060');\n",
              "          const dataTable =\n",
              "            await google.colab.kernel.invokeFunction('convertToInteractive',\n",
              "                                                     [key], {});\n",
              "          if (!dataTable) return;\n",
              "\n",
              "          const docLinkHtml = 'Like what you see? Visit the ' +\n",
              "            '<a target=\"_blank\" href=https://colab.research.google.com/notebooks/data_table.ipynb>data table notebook</a>'\n",
              "            + ' to learn more about interactive tables.';\n",
              "          element.innerHTML = '';\n",
              "          dataTable['output_type'] = 'display_data';\n",
              "          await google.colab.output.renderOutput(dataTable, element);\n",
              "          const docLink = document.createElement('div');\n",
              "          docLink.innerHTML = docLinkHtml;\n",
              "          element.appendChild(docLink);\n",
              "        }\n",
              "      </script>\n",
              "    </div>\n",
              "  </div>\n",
              "  "
            ]
          },
          "metadata": {},
          "execution_count": 13
        }
      ]
    },
    {
      "cell_type": "markdown",
      "source": [
        "## 5. 訓練済みモデルでカテゴリ推定してみる"
      ],
      "metadata": {
        "id": "iBqSqyfuzf_t"
      }
    },
    {
      "cell_type": "code",
      "source": [
        "# 全サンプルで訓練し直す\n",
        "logreg = LogisticRegression(max_iter=1000)\n",
        "logreg.fit(x_data, label_ids)"
      ],
      "metadata": {
        "colab": {
          "base_uri": "https://localhost:8080/"
        },
        "id": "yinqtpLyyFh0",
        "outputId": "5a5bfd23-6afc-4dc6-fcb0-32fc9138c5d4"
      },
      "execution_count": 14,
      "outputs": [
        {
          "output_type": "execute_result",
          "data": {
            "text/plain": [
              "LogisticRegression(max_iter=1000)"
            ]
          },
          "metadata": {},
          "execution_count": 14
        }
      ]
    },
    {
      "cell_type": "code",
      "source": [
        "def classify_hm_category(text):\n",
        "    text_wakati = wakati_preprocess(text)\n",
        "    x = bow_vectorizer.transform([text_wakati]).toarray()\n",
        "    pred_id = logreg.predict(x)[0]\n",
        "    return LABELS_ALL[pred_id]\n",
        "\n",
        "def try_hm_category_prediction(text):\n",
        "    pred_cat = classify_hm_category(text)\n",
        "    print('text :', text)\n",
        "    print('category :', pred_cat)"
      ],
      "metadata": {
        "id": "BlpCPHTH0D3T"
      },
      "execution_count": 15,
      "outputs": []
    },
    {
      "cell_type": "code",
      "source": [
        "try_hm_category_prediction('昼ごはんに食べたカニクリームコロッケが美味しすぎて感動した')"
      ],
      "metadata": {
        "colab": {
          "base_uri": "https://localhost:8080/"
        },
        "id": "Esnznfhs0ckH",
        "outputId": "b4bb6671-2164-4d2e-f9be-2c5c95fa2f3c"
      },
      "execution_count": 16,
      "outputs": [
        {
          "output_type": "stream",
          "name": "stdout",
          "text": [
            "text : 昼ごはんに食べたカニクリームコロッケが美味しすぎて感動した\n",
            "category : enjoy_the_moment\n"
          ]
        }
      ]
    },
    {
      "cell_type": "code",
      "source": [
        "try_hm_category_prediction('読書の時間を持つことができたこと')"
      ],
      "metadata": {
        "colab": {
          "base_uri": "https://localhost:8080/"
        },
        "id": "h9cSllk_0gQW",
        "outputId": "fa412f93-4610-47f2-cfed-6cd607836614"
      },
      "execution_count": 17,
      "outputs": [
        {
          "output_type": "stream",
          "name": "stdout",
          "text": [
            "text : 読書の時間を持つことができたこと\n",
            "category : leisure\n"
          ]
        }
      ]
    },
    {
      "cell_type": "code",
      "source": [
        "try_hm_category_prediction('読書の時間を持てたこと')"
      ],
      "metadata": {
        "colab": {
          "base_uri": "https://localhost:8080/"
        },
        "id": "fJs01Vuw0nqd",
        "outputId": "df3abf8e-73ba-4871-f7f4-db94364f1d81"
      },
      "execution_count": 18,
      "outputs": [
        {
          "output_type": "stream",
          "name": "stdout",
          "text": [
            "text : 読書の時間を持てたこと\n",
            "category : leisure\n"
          ]
        }
      ]
    },
    {
      "cell_type": "code",
      "source": [
        "try_hm_category_prediction('今日は姪と遊んで楽しく過ごせた')"
      ],
      "metadata": {
        "colab": {
          "base_uri": "https://localhost:8080/"
        },
        "id": "4zsV2tDc0r0V",
        "outputId": "bc8f1bd5-ec43-4b76-b95f-e67bb3ab48f1"
      },
      "execution_count": 19,
      "outputs": [
        {
          "output_type": "stream",
          "name": "stdout",
          "text": [
            "text : 今日は姪と遊んで楽しく過ごせた\n",
            "category : affection\n"
          ]
        }
      ]
    },
    {
      "cell_type": "code",
      "source": [
        "try_hm_category_prediction('昨日は友人と久々に電話をして話をした')"
      ],
      "metadata": {
        "colab": {
          "base_uri": "https://localhost:8080/"
        },
        "id": "zHyi9ftl0wXN",
        "outputId": "2325da69-bda8-4f1b-9ccf-48a1594bcdec"
      },
      "execution_count": 20,
      "outputs": [
        {
          "output_type": "stream",
          "name": "stdout",
          "text": [
            "text : 昨日は友人と久々に電話をして話をした\n",
            "category : bonding\n"
          ]
        }
      ]
    },
    {
      "cell_type": "code",
      "source": [
        "try_hm_category_prediction('今朝はちゃんと起きてランニングをした')"
      ],
      "metadata": {
        "colab": {
          "base_uri": "https://localhost:8080/"
        },
        "id": "iJSfoJ3s0157",
        "outputId": "fe995732-fce9-4a6d-aeb4-8dd38a4b4df5"
      },
      "execution_count": 21,
      "outputs": [
        {
          "output_type": "stream",
          "name": "stdout",
          "text": [
            "text : 今朝はちゃんと起きてランニングをした\n",
            "category : achievement\n"
          ]
        }
      ]
    },
    {
      "cell_type": "code",
      "source": [
        "try_hm_category_prediction('今朝はちゃんと起きてヨガをした')"
      ],
      "metadata": {
        "colab": {
          "base_uri": "https://localhost:8080/"
        },
        "id": "6Eri7Rpd070o",
        "outputId": "598da7a7-0bbf-4c71-c180-b473645ce023"
      },
      "execution_count": 22,
      "outputs": [
        {
          "output_type": "stream",
          "name": "stdout",
          "text": [
            "text : 今朝はちゃんと起きてヨガをした\n",
            "category : exercise\n"
          ]
        }
      ]
    },
    {
      "cell_type": "code",
      "source": [
        "try_hm_category_prediction('今日は久々に実家に帰ってきて両親とゆっくり夕ご飯を食べた')"
      ],
      "metadata": {
        "colab": {
          "base_uri": "https://localhost:8080/"
        },
        "id": "XqATz_y41KNS",
        "outputId": "7ebde256-e383-4ab8-d171-a3378d7ffd89"
      },
      "execution_count": 23,
      "outputs": [
        {
          "output_type": "stream",
          "name": "stdout",
          "text": [
            "text : 今日は久々に実家に帰ってきて両親とゆっくり夕ご飯を食べた\n",
            "category : affection\n"
          ]
        }
      ]
    },
    {
      "cell_type": "markdown",
      "source": [
        "## 6. 各カテゴリを代表する単語をみてみる\n",
        "ロジスティック回帰の係数の大きいものをみてみる  \n",
        "（その単語が含まれていると、そのカテゴリと判定される確率が高くなる単語）"
      ],
      "metadata": {
        "id": "JDX_9_k8MPVo"
      }
    },
    {
      "cell_type": "code",
      "source": [
        "for label, coef in zip(LABELS_ALL, logreg.coef_):\n",
        "    print(f'{label:<15s} : ', end='')\n",
        "    top_idxs = np.argsort(coef)[::-1][:10]\n",
        "    for i in top_idxs:\n",
        "        word = vocab[i]\n",
        "        odds_ratio = np.exp(coef[i])\n",
        "        print(f'{word} ( {odds_ratio:0.1f} ), ', end='')\n",
        "    print('')"
      ],
      "metadata": {
        "colab": {
          "base_uri": "https://localhost:8080/"
        },
        "id": "49F8Eh10MeUZ",
        "outputId": "910c627f-c1ab-4475-cd9f-ded45b508693"
      },
      "execution_count": 24,
      "outputs": [
        {
          "output_type": "stream",
          "name": "stdout",
          "text": [
            "achievement     : ビジネス ( 5.6 ), 掃除 ( 5.2 ), 探す ( 5.0 ), ボーナス ( 5.0 ), お客様 ( 4.7 ), 上司 ( 4.6 ), 倒す ( 4.4 ), mturk ( 4.4 ), ドル ( 4.3 ), 稼ぐ ( 4.1 ), \n",
            "affection       : 息子 ( 23.1 ), 家族 ( 18.2 ), 彼氏 ( 17.0 ), 恋人 ( 15.2 ), 赤ちゃん ( 9.7 ), 一緒 ( 9.4 ), 主人 ( 8.2 ), 両親 ( 8.1 ), フィアンセ ( 8.0 ), 寄り添う ( 7.1 ), \n",
            "bonding         : 友人 ( 173.3 ), 親友 ( 70.2 ), 友達 ( 57.6 ), 旧友 ( 41.2 ), 同僚 ( 38.6 ), ルームメイト ( 33.6 ), 仲間 ( 12.7 ), 近所 ( 8.0 ), 幼なじみ ( 6.3 ), 会う ( 6.2 ), \n",
            "enjoy_the_moment : 眠れる ( 7.1 ), 教会 ( 4.1 ), 食べる ( 3.8 ), 失くす ( 3.7 ), 注文 ( 3.7 ), いただく ( 3.4 ), 楽しむ ( 3.4 ), 十分 ( 3.2 ), お気に入り ( 3.2 ), 荷物 ( 3.1 ), \n",
            "exercise        : ジム ( 51.6 ), 運動 ( 27.6 ), トレーニング ( 16.4 ), ヨガ ( 12.6 ), マイル ( 8.5 ), 走り ( 8.4 ), 走る ( 6.2 ), 出かける ( 4.2 ), 20 ( 3.7 ), ダイエット ( 3.4 ), \n",
            "leisure         : ゲーム ( 12.8 ), 読む ( 9.2 ), 聴く ( 7.6 ), エピソード ( 6.6 ), 寝坊 ( 6.4 ), 昼寝 ( 6.3 ), 観戦 ( 6.0 ), のんびり ( 4.8 ), 観る ( 4.5 ), チケット ( 4.1 ), \n",
            "nature          : 天気 ( 17.8 ), 降る ( 15.4 ), 気候 ( 8.9 ), ハイキング ( 8.4 ), 太陽 ( 8.1 ), 咲く ( 5.3 ), 植物 ( 5.3 ), 植える ( 4.9 ), 帰り ( 4.3 ), 散歩 ( 4.2 ), \n"
          ]
        }
      ]
    }
  ]
}