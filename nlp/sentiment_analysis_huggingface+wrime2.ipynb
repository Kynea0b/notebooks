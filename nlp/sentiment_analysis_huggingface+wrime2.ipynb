{
 "cells": [
  {
   "cell_type": "code",
   "execution_count": null,
   "metadata": {
    "id": "MCWkFr6WCXOg"
   },
   "outputs": [],
   "source": [
    "# huggingface + WRIMEデータセット で感情推定"
   ]
  },
  {
   "cell_type": "markdown",
   "metadata": {
    "id": "QMFt91C2hSxY"
   },
   "source": [
    "## 環境構築"
   ]
  },
  {
   "cell_type": "code",
   "execution_count": 1,
   "metadata": {
    "colab": {
     "base_uri": "https://localhost:8080/"
    },
    "id": "nw--A4s2hGh6",
    "outputId": "8e5497b3-9ddd-4fe8-9457-b89900ad5a16"
   },
   "outputs": [
    {
     "name": "stdout",
     "output_type": "stream",
     "text": [
      "Requirement already satisfied: transformers in /Users/mariko/anaconda3/lib/python3.11/site-packages (4.48.2)\n",
      "Requirement already satisfied: datasets in /Users/mariko/anaconda3/lib/python3.11/site-packages (2.12.0)\n",
      "Requirement already satisfied: filelock in /Users/mariko/anaconda3/lib/python3.11/site-packages (from transformers) (3.9.0)\n",
      "Requirement already satisfied: huggingface-hub<1.0,>=0.24.0 in /Users/mariko/anaconda3/lib/python3.11/site-packages (from transformers) (0.27.1)\n",
      "Requirement already satisfied: numpy>=1.17 in /Users/mariko/anaconda3/lib/python3.11/site-packages (from transformers) (1.24.3)\n",
      "Requirement already satisfied: packaging>=20.0 in /Users/mariko/anaconda3/lib/python3.11/site-packages (from transformers) (23.0)\n",
      "Requirement already satisfied: pyyaml>=5.1 in /Users/mariko/anaconda3/lib/python3.11/site-packages (from transformers) (6.0)\n",
      "Requirement already satisfied: regex!=2019.12.17 in /Users/mariko/anaconda3/lib/python3.11/site-packages (from transformers) (2022.7.9)\n",
      "Requirement already satisfied: requests in /Users/mariko/anaconda3/lib/python3.11/site-packages (from transformers) (2.29.0)\n",
      "Requirement already satisfied: tokenizers<0.22,>=0.21 in /Users/mariko/anaconda3/lib/python3.11/site-packages (from transformers) (0.21.0)\n",
      "Requirement already satisfied: safetensors>=0.4.1 in /Users/mariko/anaconda3/lib/python3.11/site-packages (from transformers) (0.5.2)\n",
      "Requirement already satisfied: tqdm>=4.27 in /Users/mariko/anaconda3/lib/python3.11/site-packages (from transformers) (4.65.0)\n",
      "Requirement already satisfied: pyarrow>=8.0.0 in /Users/mariko/anaconda3/lib/python3.11/site-packages (from datasets) (11.0.0)\n",
      "Requirement already satisfied: dill<0.3.7,>=0.3.0 in /Users/mariko/anaconda3/lib/python3.11/site-packages (from datasets) (0.3.6)\n",
      "Requirement already satisfied: pandas in /Users/mariko/anaconda3/lib/python3.11/site-packages (from datasets) (1.5.3)\n",
      "Requirement already satisfied: xxhash in /Users/mariko/anaconda3/lib/python3.11/site-packages (from datasets) (2.0.2)\n",
      "Requirement already satisfied: multiprocess in /Users/mariko/anaconda3/lib/python3.11/site-packages (from datasets) (0.70.14)\n",
      "Requirement already satisfied: fsspec[http]>=2021.11.1 in /Users/mariko/anaconda3/lib/python3.11/site-packages (from datasets) (2024.12.0)\n",
      "Requirement already satisfied: aiohttp in /Users/mariko/anaconda3/lib/python3.11/site-packages (from datasets) (3.8.3)\n",
      "Requirement already satisfied: responses<0.19 in /Users/mariko/anaconda3/lib/python3.11/site-packages (from datasets) (0.13.3)\n",
      "Requirement already satisfied: attrs>=17.3.0 in /Users/mariko/anaconda3/lib/python3.11/site-packages (from aiohttp->datasets) (22.1.0)\n",
      "Requirement already satisfied: charset-normalizer<3.0,>=2.0 in /Users/mariko/anaconda3/lib/python3.11/site-packages (from aiohttp->datasets) (2.0.4)\n",
      "Requirement already satisfied: multidict<7.0,>=4.5 in /Users/mariko/anaconda3/lib/python3.11/site-packages (from aiohttp->datasets) (6.0.2)\n",
      "Requirement already satisfied: async-timeout<5.0,>=4.0.0a3 in /Users/mariko/anaconda3/lib/python3.11/site-packages (from aiohttp->datasets) (4.0.2)\n",
      "Requirement already satisfied: yarl<2.0,>=1.0 in /Users/mariko/anaconda3/lib/python3.11/site-packages (from aiohttp->datasets) (1.8.1)\n",
      "Requirement already satisfied: frozenlist>=1.1.1 in /Users/mariko/anaconda3/lib/python3.11/site-packages (from aiohttp->datasets) (1.3.3)\n",
      "Requirement already satisfied: aiosignal>=1.1.2 in /Users/mariko/anaconda3/lib/python3.11/site-packages (from aiohttp->datasets) (1.2.0)\n",
      "Requirement already satisfied: typing-extensions>=3.7.4.3 in /Users/mariko/anaconda3/lib/python3.11/site-packages (from huggingface-hub<1.0,>=0.24.0->transformers) (4.12.2)\n",
      "Requirement already satisfied: idna<4,>=2.5 in /Users/mariko/anaconda3/lib/python3.11/site-packages (from requests->transformers) (3.4)\n",
      "Requirement already satisfied: urllib3<1.27,>=1.21.1 in /Users/mariko/anaconda3/lib/python3.11/site-packages (from requests->transformers) (1.26.16)\n",
      "Requirement already satisfied: certifi>=2017.4.17 in /Users/mariko/anaconda3/lib/python3.11/site-packages (from requests->transformers) (2023.5.7)\n",
      "Requirement already satisfied: six in /Users/mariko/anaconda3/lib/python3.11/site-packages (from responses<0.19->datasets) (1.16.0)\n",
      "Requirement already satisfied: python-dateutil>=2.8.1 in /Users/mariko/anaconda3/lib/python3.11/site-packages (from pandas->datasets) (2.8.2)\n",
      "Requirement already satisfied: pytz>=2020.1 in /Users/mariko/anaconda3/lib/python3.11/site-packages (from pandas->datasets) (2022.7)\n",
      "Requirement already satisfied: fugashi in /Users/mariko/anaconda3/lib/python3.11/site-packages (1.4.0)\n",
      "Requirement already satisfied: ipadic in /Users/mariko/anaconda3/lib/python3.11/site-packages (1.0.0)\n"
     ]
    }
   ],
   "source": [
    "# huggingface transformer のインストール\n",
    "# - transformers : 主たるモジュール（モデルやトークナイザのダウンロード)\n",
    "# - datasets : HuggingFaceで、データセットを扱うためのモジュール\n",
    "# https://huggingface.co/docs/transformers/installation\n",
    "! pip install transformers datasets\n",
    "\n",
    "# 東北大学の日本語用BERT使用に必要なパッケージをインストール\n",
    "! pip install fugashi ipadic"
   ]
  },
  {
   "cell_type": "code",
   "execution_count": 2,
   "metadata": {
    "id": "VPbUMvlMjR0_"
   },
   "outputs": [],
   "source": [
    "import numpy as np\n",
    "import pandas as pd"
   ]
  },
  {
   "cell_type": "code",
   "execution_count": 3,
   "metadata": {
    "colab": {
     "base_uri": "https://localhost:8080/"
    },
    "id": "bZUB334oS63E",
    "outputId": "49e3cb52-eb62-42b1-ca21-9b99c9ed63c9"
   },
   "outputs": [
    {
     "name": "stdout",
     "output_type": "stream",
     "text": [
      "Collecting datasets==v2.11.0\n",
      "  Downloading datasets-2.11.0-py3-none-any.whl (468 kB)\n",
      "\u001b[2K     \u001b[38;2;114;156;31m━━━━━━━━━━━━━━━━━━━━━━━━━━━━━━━━━━━━━\u001b[0m \u001b[32m468.7/468.7 kB\u001b[0m \u001b[31m499.9 kB/s\u001b[0m eta \u001b[36m0:00:00\u001b[0m1m478.6 kB/s\u001b[0m eta \u001b[36m0:00:01\u001b[0m\n",
      "\u001b[?25hRequirement already satisfied: numpy>=1.17 in /Users/mariko/anaconda3/lib/python3.11/site-packages (from datasets==v2.11.0) (1.24.3)\n",
      "Requirement already satisfied: pyarrow>=8.0.0 in /Users/mariko/anaconda3/lib/python3.11/site-packages (from datasets==v2.11.0) (11.0.0)\n",
      "Requirement already satisfied: dill<0.3.7,>=0.3.0 in /Users/mariko/anaconda3/lib/python3.11/site-packages (from datasets==v2.11.0) (0.3.6)\n",
      "Requirement already satisfied: pandas in /Users/mariko/anaconda3/lib/python3.11/site-packages (from datasets==v2.11.0) (1.5.3)\n",
      "Requirement already satisfied: requests>=2.19.0 in /Users/mariko/anaconda3/lib/python3.11/site-packages (from datasets==v2.11.0) (2.29.0)\n",
      "Requirement already satisfied: tqdm>=4.62.1 in /Users/mariko/anaconda3/lib/python3.11/site-packages (from datasets==v2.11.0) (4.65.0)\n",
      "Requirement already satisfied: xxhash in /Users/mariko/anaconda3/lib/python3.11/site-packages (from datasets==v2.11.0) (2.0.2)\n",
      "Requirement already satisfied: multiprocess in /Users/mariko/anaconda3/lib/python3.11/site-packages (from datasets==v2.11.0) (0.70.14)\n",
      "Requirement already satisfied: fsspec[http]>=2021.11.1 in /Users/mariko/anaconda3/lib/python3.11/site-packages (from datasets==v2.11.0) (2024.12.0)\n",
      "Requirement already satisfied: aiohttp in /Users/mariko/anaconda3/lib/python3.11/site-packages (from datasets==v2.11.0) (3.8.3)\n",
      "Requirement already satisfied: huggingface-hub<1.0.0,>=0.11.0 in /Users/mariko/anaconda3/lib/python3.11/site-packages (from datasets==v2.11.0) (0.27.1)\n",
      "Requirement already satisfied: packaging in /Users/mariko/anaconda3/lib/python3.11/site-packages (from datasets==v2.11.0) (23.0)\n",
      "Requirement already satisfied: responses<0.19 in /Users/mariko/anaconda3/lib/python3.11/site-packages (from datasets==v2.11.0) (0.13.3)\n",
      "Requirement already satisfied: pyyaml>=5.1 in /Users/mariko/anaconda3/lib/python3.11/site-packages (from datasets==v2.11.0) (6.0)\n",
      "Requirement already satisfied: attrs>=17.3.0 in /Users/mariko/anaconda3/lib/python3.11/site-packages (from aiohttp->datasets==v2.11.0) (22.1.0)\n",
      "Requirement already satisfied: charset-normalizer<3.0,>=2.0 in /Users/mariko/anaconda3/lib/python3.11/site-packages (from aiohttp->datasets==v2.11.0) (2.0.4)\n",
      "Requirement already satisfied: multidict<7.0,>=4.5 in /Users/mariko/anaconda3/lib/python3.11/site-packages (from aiohttp->datasets==v2.11.0) (6.0.2)\n",
      "Requirement already satisfied: async-timeout<5.0,>=4.0.0a3 in /Users/mariko/anaconda3/lib/python3.11/site-packages (from aiohttp->datasets==v2.11.0) (4.0.2)\n",
      "Requirement already satisfied: yarl<2.0,>=1.0 in /Users/mariko/anaconda3/lib/python3.11/site-packages (from aiohttp->datasets==v2.11.0) (1.8.1)\n",
      "Requirement already satisfied: frozenlist>=1.1.1 in /Users/mariko/anaconda3/lib/python3.11/site-packages (from aiohttp->datasets==v2.11.0) (1.3.3)\n",
      "Requirement already satisfied: aiosignal>=1.1.2 in /Users/mariko/anaconda3/lib/python3.11/site-packages (from aiohttp->datasets==v2.11.0) (1.2.0)\n",
      "Requirement already satisfied: filelock in /Users/mariko/anaconda3/lib/python3.11/site-packages (from huggingface-hub<1.0.0,>=0.11.0->datasets==v2.11.0) (3.9.0)\n",
      "Requirement already satisfied: typing-extensions>=3.7.4.3 in /Users/mariko/anaconda3/lib/python3.11/site-packages (from huggingface-hub<1.0.0,>=0.11.0->datasets==v2.11.0) (4.12.2)\n",
      "Requirement already satisfied: idna<4,>=2.5 in /Users/mariko/anaconda3/lib/python3.11/site-packages (from requests>=2.19.0->datasets==v2.11.0) (3.4)\n",
      "Requirement already satisfied: urllib3<1.27,>=1.21.1 in /Users/mariko/anaconda3/lib/python3.11/site-packages (from requests>=2.19.0->datasets==v2.11.0) (1.26.16)\n",
      "Requirement already satisfied: certifi>=2017.4.17 in /Users/mariko/anaconda3/lib/python3.11/site-packages (from requests>=2.19.0->datasets==v2.11.0) (2023.5.7)\n",
      "Requirement already satisfied: six in /Users/mariko/anaconda3/lib/python3.11/site-packages (from responses<0.19->datasets==v2.11.0) (1.16.0)\n",
      "Requirement already satisfied: python-dateutil>=2.8.1 in /Users/mariko/anaconda3/lib/python3.11/site-packages (from pandas->datasets==v2.11.0) (2.8.2)\n",
      "Requirement already satisfied: pytz>=2020.1 in /Users/mariko/anaconda3/lib/python3.11/site-packages (from pandas->datasets==v2.11.0) (2022.7)\n",
      "Installing collected packages: datasets\n",
      "  Attempting uninstall: datasets\n",
      "    Found existing installation: datasets 2.12.0\n",
      "    Uninstalling datasets-2.12.0:\n",
      "      Successfully uninstalled datasets-2.12.0\n",
      "Successfully installed datasets-2.11.0\n"
     ]
    }
   ],
   "source": [
    "! pip install datasets==v2.11.0"
   ]
  },
  {
   "cell_type": "code",
   "execution_count": 4,
   "metadata": {
    "id": "8-t2MF0PC4ZX"
   },
   "outputs": [],
   "source": [
    "# Hugging Face (Transformers) 関連のモジュール\n",
    "from transformers import AutoTokenizer, AutoModelForSequenceClassification\n",
    "from transformers import TrainingArguments, Trainer\n",
    "from datasets import Dataset, load_metric"
   ]
  },
  {
   "cell_type": "markdown",
   "metadata": {
    "id": "9g5Irgf0VgHn"
   },
   "source": [
    "### Matplotlibで日本語を使用できるようにする"
   ]
  },
  {
   "cell_type": "code",
   "execution_count": 5,
   "metadata": {
    "colab": {
     "base_uri": "https://localhost:8080/"
    },
    "id": "wZr0sIJqVkHj",
    "outputId": "44413efb-c8af-4569-a8af-e4ced024052f"
   },
   "outputs": [
    {
     "name": "stdout",
     "output_type": "stream",
     "text": [
      "zsh:1: command not found: apt-get\n",
      "rm: /root/.cache/matplotlib/fontlist-v310.json: No such file or directory\n"
     ]
    }
   ],
   "source": [
    "# [前準備] Matplotlib で日本語フォントを使用できるようにする\n",
    "# cf. https://blog.3qe.us/entry/2018/08/16/121457\n",
    "!apt-get -y install fonts-ipafont-gothic\n",
    "!rm /root/.cache/matplotlib/fontlist-v310.json\n",
    "\n",
    "# NOTE ここで、ランタイムを再起動"
   ]
  },
  {
   "cell_type": "code",
   "execution_count": 6,
   "metadata": {
    "colab": {
     "base_uri": "https://localhost:8080/",
     "height": 1000
    },
    "id": "yyTglWfVVq72",
    "outputId": "9f1c7cb2-f050-4b22-da99-cc483a07b0d2"
   },
   "outputs": [
    {
     "data": {
      "text/plain": [
       "Text(0.5, 1.0, '日本語を表示できるかテスト')"
      ]
     },
     "execution_count": 6,
     "metadata": {},
     "output_type": "execute_result"
    },
    {
     "name": "stderr",
     "output_type": "stream",
     "text": [
      "findfont: Font family 'IPAGothic' not found.\n",
      "findfont: Font family 'IPAGothic' not found.\n",
      "findfont: Font family 'IPAGothic' not found.\n",
      "findfont: Font family 'IPAGothic' not found.\n",
      "findfont: Font family 'IPAGothic' not found.\n",
      "findfont: Font family 'IPAGothic' not found.\n",
      "findfont: Font family 'IPAGothic' not found.\n",
      "findfont: Font family 'IPAGothic' not found.\n",
      "findfont: Font family 'IPAGothic' not found.\n",
      "findfont: Font family 'IPAGothic' not found.\n",
      "findfont: Font family 'IPAGothic' not found.\n",
      "findfont: Font family 'IPAGothic' not found.\n",
      "findfont: Font family 'IPAGothic' not found.\n",
      "findfont: Font family 'IPAGothic' not found.\n",
      "findfont: Font family 'IPAGothic' not found.\n",
      "findfont: Font family 'IPAGothic' not found.\n",
      "findfont: Font family 'IPAGothic' not found.\n",
      "findfont: Font family 'IPAGothic' not found.\n",
      "findfont: Font family 'IPAGothic' not found.\n",
      "/Users/mariko/anaconda3/lib/python3.11/site-packages/IPython/core/events.py:89: UserWarning: Glyph 26085 (\\N{CJK UNIFIED IDEOGRAPH-65E5}) missing from current font.\n",
      "  func(*args, **kwargs)\n",
      "/Users/mariko/anaconda3/lib/python3.11/site-packages/IPython/core/events.py:89: UserWarning: Glyph 26412 (\\N{CJK UNIFIED IDEOGRAPH-672C}) missing from current font.\n",
      "  func(*args, **kwargs)\n",
      "/Users/mariko/anaconda3/lib/python3.11/site-packages/IPython/core/events.py:89: UserWarning: Glyph 35486 (\\N{CJK UNIFIED IDEOGRAPH-8A9E}) missing from current font.\n",
      "  func(*args, **kwargs)\n",
      "/Users/mariko/anaconda3/lib/python3.11/site-packages/IPython/core/events.py:89: UserWarning: Glyph 12434 (\\N{HIRAGANA LETTER WO}) missing from current font.\n",
      "  func(*args, **kwargs)\n",
      "/Users/mariko/anaconda3/lib/python3.11/site-packages/IPython/core/events.py:89: UserWarning: Glyph 34920 (\\N{CJK UNIFIED IDEOGRAPH-8868}) missing from current font.\n",
      "  func(*args, **kwargs)\n",
      "/Users/mariko/anaconda3/lib/python3.11/site-packages/IPython/core/events.py:89: UserWarning: Glyph 31034 (\\N{CJK UNIFIED IDEOGRAPH-793A}) missing from current font.\n",
      "  func(*args, **kwargs)\n",
      "/Users/mariko/anaconda3/lib/python3.11/site-packages/IPython/core/events.py:89: UserWarning: Glyph 12391 (\\N{HIRAGANA LETTER DE}) missing from current font.\n",
      "  func(*args, **kwargs)\n",
      "/Users/mariko/anaconda3/lib/python3.11/site-packages/IPython/core/events.py:89: UserWarning: Glyph 12365 (\\N{HIRAGANA LETTER KI}) missing from current font.\n",
      "  func(*args, **kwargs)\n",
      "/Users/mariko/anaconda3/lib/python3.11/site-packages/IPython/core/events.py:89: UserWarning: Glyph 12427 (\\N{HIRAGANA LETTER RU}) missing from current font.\n",
      "  func(*args, **kwargs)\n",
      "/Users/mariko/anaconda3/lib/python3.11/site-packages/IPython/core/events.py:89: UserWarning: Glyph 12363 (\\N{HIRAGANA LETTER KA}) missing from current font.\n",
      "  func(*args, **kwargs)\n",
      "/Users/mariko/anaconda3/lib/python3.11/site-packages/IPython/core/events.py:89: UserWarning: Glyph 12486 (\\N{KATAKANA LETTER TE}) missing from current font.\n",
      "  func(*args, **kwargs)\n",
      "/Users/mariko/anaconda3/lib/python3.11/site-packages/IPython/core/events.py:89: UserWarning: Glyph 12473 (\\N{KATAKANA LETTER SU}) missing from current font.\n",
      "  func(*args, **kwargs)\n",
      "/Users/mariko/anaconda3/lib/python3.11/site-packages/IPython/core/events.py:89: UserWarning: Glyph 12488 (\\N{KATAKANA LETTER TO}) missing from current font.\n",
      "  func(*args, **kwargs)\n",
      "findfont: Font family 'IPAGothic' not found.\n",
      "findfont: Font family 'IPAGothic' not found.\n",
      "findfont: Font family 'IPAGothic' not found.\n",
      "findfont: Font family 'IPAGothic' not found.\n",
      "findfont: Font family 'IPAGothic' not found.\n",
      "findfont: Font family 'IPAGothic' not found.\n",
      "findfont: Font family 'IPAGothic' not found.\n",
      "findfont: Font family 'IPAGothic' not found.\n",
      "findfont: Font family 'IPAGothic' not found.\n",
      "findfont: Font family 'IPAGothic' not found.\n",
      "findfont: Font family 'IPAGothic' not found.\n",
      "/Users/mariko/anaconda3/lib/python3.11/site-packages/IPython/core/pylabtools.py:152: UserWarning: Glyph 26085 (\\N{CJK UNIFIED IDEOGRAPH-65E5}) missing from current font.\n",
      "  fig.canvas.print_figure(bytes_io, **kw)\n",
      "/Users/mariko/anaconda3/lib/python3.11/site-packages/IPython/core/pylabtools.py:152: UserWarning: Glyph 26412 (\\N{CJK UNIFIED IDEOGRAPH-672C}) missing from current font.\n",
      "  fig.canvas.print_figure(bytes_io, **kw)\n",
      "/Users/mariko/anaconda3/lib/python3.11/site-packages/IPython/core/pylabtools.py:152: UserWarning: Glyph 35486 (\\N{CJK UNIFIED IDEOGRAPH-8A9E}) missing from current font.\n",
      "  fig.canvas.print_figure(bytes_io, **kw)\n",
      "/Users/mariko/anaconda3/lib/python3.11/site-packages/IPython/core/pylabtools.py:152: UserWarning: Glyph 12434 (\\N{HIRAGANA LETTER WO}) missing from current font.\n",
      "  fig.canvas.print_figure(bytes_io, **kw)\n",
      "/Users/mariko/anaconda3/lib/python3.11/site-packages/IPython/core/pylabtools.py:152: UserWarning: Glyph 34920 (\\N{CJK UNIFIED IDEOGRAPH-8868}) missing from current font.\n",
      "  fig.canvas.print_figure(bytes_io, **kw)\n",
      "/Users/mariko/anaconda3/lib/python3.11/site-packages/IPython/core/pylabtools.py:152: UserWarning: Glyph 31034 (\\N{CJK UNIFIED IDEOGRAPH-793A}) missing from current font.\n",
      "  fig.canvas.print_figure(bytes_io, **kw)\n",
      "/Users/mariko/anaconda3/lib/python3.11/site-packages/IPython/core/pylabtools.py:152: UserWarning: Glyph 12391 (\\N{HIRAGANA LETTER DE}) missing from current font.\n",
      "  fig.canvas.print_figure(bytes_io, **kw)\n",
      "/Users/mariko/anaconda3/lib/python3.11/site-packages/IPython/core/pylabtools.py:152: UserWarning: Glyph 12365 (\\N{HIRAGANA LETTER KI}) missing from current font.\n",
      "  fig.canvas.print_figure(bytes_io, **kw)\n",
      "/Users/mariko/anaconda3/lib/python3.11/site-packages/IPython/core/pylabtools.py:152: UserWarning: Glyph 12427 (\\N{HIRAGANA LETTER RU}) missing from current font.\n",
      "  fig.canvas.print_figure(bytes_io, **kw)\n",
      "/Users/mariko/anaconda3/lib/python3.11/site-packages/IPython/core/pylabtools.py:152: UserWarning: Glyph 12363 (\\N{HIRAGANA LETTER KA}) missing from current font.\n",
      "  fig.canvas.print_figure(bytes_io, **kw)\n",
      "/Users/mariko/anaconda3/lib/python3.11/site-packages/IPython/core/pylabtools.py:152: UserWarning: Glyph 12486 (\\N{KATAKANA LETTER TE}) missing from current font.\n",
      "  fig.canvas.print_figure(bytes_io, **kw)\n",
      "/Users/mariko/anaconda3/lib/python3.11/site-packages/IPython/core/pylabtools.py:152: UserWarning: Glyph 12473 (\\N{KATAKANA LETTER SU}) missing from current font.\n",
      "  fig.canvas.print_figure(bytes_io, **kw)\n",
      "/Users/mariko/anaconda3/lib/python3.11/site-packages/IPython/core/pylabtools.py:152: UserWarning: Glyph 12488 (\\N{KATAKANA LETTER TO}) missing from current font.\n",
      "  fig.canvas.print_figure(bytes_io, **kw)\n",
      "findfont: Font family 'IPAGothic' not found.\n",
      "findfont: Font family 'IPAGothic' not found.\n",
      "findfont: Font family 'IPAGothic' not found.\n",
      "findfont: Font family 'IPAGothic' not found.\n",
      "findfont: Font family 'IPAGothic' not found.\n",
      "findfont: Font family 'IPAGothic' not found.\n",
      "findfont: Font family 'IPAGothic' not found.\n",
      "findfont: Font family 'IPAGothic' not found.\n",
      "findfont: Font family 'IPAGothic' not found.\n",
      "findfont: Font family 'IPAGothic' not found.\n"
     ]
    },
    {
     "data": {
      "image/png": "[encoded data removed]",
      "text/plain": [
       "<Figure size 500x100 with 1 Axes>"
      ]
     },
     "metadata": {},
     "output_type": "display_data"
    }
   ],
   "source": [
    "import matplotlib.pyplot as plt\n",
    "import seaborn as sns\n",
    "sns.set(font='IPAGothic')\n",
    "\n",
    "# 動作確認\n",
    "plt.figure(figsize=(5,1))\n",
    "plt.title('日本語を表示できるかテスト')"
   ]
  },
  {
   "cell_type": "markdown",
   "metadata": {
    "id": "fL1vTBc2hxDr"
   },
   "source": [
    "## データセットの準備"
   ]
  },
  {
   "cell_type": "markdown",
   "metadata": {
    "id": "t1-mna7wwHAn"
   },
   "source": [
    "### WRIMEデータセットのダウンロード"
   ]
  },
  {
   "cell_type": "code",
   "execution_count": 7,
   "metadata": {
    "colab": {
     "base_uri": "https://localhost:8080/"
    },
    "id": "O9vmzOBthkTR",
    "outputId": "08ae642e-9500-432b-dcbd-86c739afbe4e"
   },
   "outputs": [
    {
     "name": "stdout",
     "output_type": "stream",
     "text": [
      "--2025-02-09 10:54:05--  https://github.com/ids-cv/wrime/raw/master/wrime-ver1.tsv\n",
      "github.com (github.com) をDNSに問いあわせています... 20.27.177.113\n",
      "github.com (github.com)|20.27.177.113|:443 に接続しています... 接続しました。\n",
      "HTTP による接続要求を送信しました、応答を待っています... 302 Found\n",
      "場所: https://raw.githubusercontent.com/ids-cv/wrime/master/wrime-ver1.tsv [続く]\n",
      "--2025-02-09 10:54:07--  https://raw.githubusercontent.com/ids-cv/wrime/master/wrime-ver1.tsv\n",
      "raw.githubusercontent.com (raw.githubusercontent.com) をDNSに問いあわせています... 185.199.108.133, 185.199.109.133, 185.199.110.133, ...\n",
      "raw.githubusercontent.com (raw.githubusercontent.com)|185.199.108.133|:443 に接続しています... 接続しました。\n",
      "HTTP による接続要求を送信しました、応答を待っています... 200 OK\n",
      "長さ: 9487235 (9.0M) [text/plain]\n",
      "`wrime-ver1.tsv.1' に保存中\n",
      "\n",
      "wrime-ver1.tsv.1    100%[===================>]   9.05M  3.53MB/s 時間 2.6s       \n",
      "\n",
      "2025-02-09 10:54:10 (3.53 MB/s) - `wrime-ver1.tsv.1' へ保存完了 [9487235/9487235]\n",
      "\n"
     ]
    }
   ],
   "source": [
    "# GitHubよりWRIMEデータをダウンロードする\n",
    "#\n",
    "# WRIME dataset : https://github.com/ids-cv/wrime\n",
    "# 今回使用するのは ver1 （感情極性が付与されていない版）\n",
    "! wget https://github.com/ids-cv/wrime/raw/master/wrime-ver1.tsv"
   ]
  },
  {
   "cell_type": "code",
   "execution_count": 8,
   "metadata": {
    "id": "8Gs2gRifUNXU"
   },
   "outputs": [],
   "source": [
    "# 一般的にpandasはpdと名前を付けてimportされる\n",
    "import pandas as pd\n",
    "import numpy as np"
   ]
  },
  {
   "cell_type": "code",
   "execution_count": 9,
   "metadata": {
    "colab": {
     "base_uri": "https://localhost:8080/",
     "height": 422
    },
    "id": "p5xtl0bLh3sE",
    "outputId": "f19e2af4-f2ce-4583-8c78-3ce269162895"
   },
   "outputs": [
    {
     "data": {
      "text/html": [
       "<div>\n",
       "<style scoped>\n",
       "    .dataframe tbody tr th:only-of-type {\n",
       "        vertical-align: middle;\n",
       "    }\n",
       "\n",
       "    .dataframe tbody tr th {\n",
       "        vertical-align: top;\n",
       "    }\n",
       "\n",
       "    .dataframe thead th {\n",
       "        text-align: right;\n",
       "    }\n",
       "</style>\n",
       "<table border=\"1\" class=\"dataframe\">\n",
       "  <thead>\n",
       "    <tr style=\"text-align: right;\">\n",
       "      <th></th>\n",
       "      <th>Sentence</th>\n",
       "      <th>UserID</th>\n",
       "      <th>Datetime</th>\n",
       "      <th>Train/Dev/Test</th>\n",
       "      <th>Writer_Joy</th>\n",
       "      <th>Writer_Sadness</th>\n",
       "      <th>Writer_Anticipation</th>\n",
       "      <th>Writer_Surprise</th>\n",
       "      <th>Writer_Anger</th>\n",
       "      <th>Writer_Fear</th>\n",
       "      <th>...</th>\n",
       "      <th>Reader3_Disgust</th>\n",
       "      <th>Reader3_Trust</th>\n",
       "      <th>Avg. Readers_Joy</th>\n",
       "      <th>Avg. Readers_Sadness</th>\n",
       "      <th>Avg. Readers_Anticipation</th>\n",
       "      <th>Avg. Readers_Surprise</th>\n",
       "      <th>Avg. Readers_Anger</th>\n",
       "      <th>Avg. Readers_Fear</th>\n",
       "      <th>Avg. Readers_Disgust</th>\n",
       "      <th>Avg. Readers_Trust</th>\n",
       "    </tr>\n",
       "  </thead>\n",
       "  <tbody>\n",
       "    <tr>\n",
       "      <th>0</th>\n",
       "      <td>ぼけっとしてたらこんな時間｡チャリあるから食べにでたいのに…</td>\n",
       "      <td>1</td>\n",
       "      <td>2012/07/31 23:48</td>\n",
       "      <td>train</td>\n",
       "      <td>0</td>\n",
       "      <td>1</td>\n",
       "      <td>2</td>\n",
       "      <td>1</td>\n",
       "      <td>1</td>\n",
       "      <td>0</td>\n",
       "      <td>...</td>\n",
       "      <td>1</td>\n",
       "      <td>0</td>\n",
       "      <td>0</td>\n",
       "      <td>2</td>\n",
       "      <td>0</td>\n",
       "      <td>0</td>\n",
       "      <td>0</td>\n",
       "      <td>0</td>\n",
       "      <td>0</td>\n",
       "      <td>0</td>\n",
       "    </tr>\n",
       "    <tr>\n",
       "      <th>1</th>\n",
       "      <td>今日の月も白くて明るい。昨日より雲が少なくてキレイな? と立ち止まる帰り道｡チャリなし生活も...</td>\n",
       "      <td>1</td>\n",
       "      <td>2012/08/02 23:09</td>\n",
       "      <td>train</td>\n",
       "      <td>3</td>\n",
       "      <td>0</td>\n",
       "      <td>3</td>\n",
       "      <td>0</td>\n",
       "      <td>0</td>\n",
       "      <td>0</td>\n",
       "      <td>...</td>\n",
       "      <td>0</td>\n",
       "      <td>1</td>\n",
       "      <td>1</td>\n",
       "      <td>0</td>\n",
       "      <td>0</td>\n",
       "      <td>2</td>\n",
       "      <td>0</td>\n",
       "      <td>0</td>\n",
       "      <td>0</td>\n",
       "      <td>0</td>\n",
       "    </tr>\n",
       "  </tbody>\n",
       "</table>\n",
       "<p>2 rows × 44 columns</p>\n",
       "</div>"
      ],
      "text/plain": [
       "                                            Sentence  UserID  \\\n",
       "0                     ぼけっとしてたらこんな時間｡チャリあるから食べにでたいのに…       1   \n",
       "1  今日の月も白くて明るい。昨日より雲が少なくてキレイな? と立ち止まる帰り道｡チャリなし生活も...       1   \n",
       "\n",
       "           Datetime Train/Dev/Test  Writer_Joy  Writer_Sadness  \\\n",
       "0  2012/07/31 23:48          train           0               1   \n",
       "1  2012/08/02 23:09          train           3               0   \n",
       "\n",
       "   Writer_Anticipation  Writer_Surprise  Writer_Anger  Writer_Fear  ...  \\\n",
       "0                    2                1             1            0  ...   \n",
       "1                    3                0             0            0  ...   \n",
       "\n",
       "   Reader3_Disgust  Reader3_Trust  Avg. Readers_Joy  Avg. Readers_Sadness  \\\n",
       "0                1              0                 0                     2   \n",
       "1                0              1                 1                     0   \n",
       "\n",
       "   Avg. Readers_Anticipation  Avg. Readers_Surprise  Avg. Readers_Anger  \\\n",
       "0                          0                      0                   0   \n",
       "1                          0                      2                   0   \n",
       "\n",
       "   Avg. Readers_Fear  Avg. Readers_Disgust  Avg. Readers_Trust  \n",
       "0                  0                     0                   0  \n",
       "1                  0                     0                   0  \n",
       "\n",
       "[2 rows x 44 columns]"
      ]
     },
     "execution_count": 9,
     "metadata": {},
     "output_type": "execute_result"
    }
   ],
   "source": [
    "# pandas.DataFrameとして読み込む\n",
    "df_wrime = pd.read_table('wrime-ver1.tsv')\n",
    "df_wrime.head(2)"
   ]
  },
  {
   "cell_type": "markdown",
   "metadata": {
    "id": "IHyn6u4UEelB"
   },
   "source": [
    "### 前処理"
   ]
  },
  {
   "cell_type": "markdown",
   "metadata": {
    "id": "EahRxhWvDd82"
   },
   "source": [
    "__前提①：WRIMEデータセットのラベルは、各感情の強度__\n",
    "- 各感情（例えば、Joy=喜）の強度を、0〜3の４段階でラベル付けしている\n",
    "- ８つの感情全てにおいて、最頻ラベルは「0」\n",
    "\n",
    "\n",
    "__前提②：WRIMEデータセットには、複数種類のラベルが付与されている__\n",
    "1. Writer_*\n",
    "    - 文章の __書き手__ が自身で付与したラベル。「主観感情」。\n",
    "2. Reader{1,2,3}_* :\n",
    "    - 文章の __読み手__ が付与したラベル。「客観感情」。３名分。\n",
    "3. Avg.Readers_*\n",
    "    - ３名分の客観感情の平均値。"
   ]
  },
  {
   "cell_type": "markdown",
   "metadata": {
    "id": "RqlORat4Emxs"
   },
   "source": [
    "問題設定\n",
    "1. ８つの感情の、分類タスクとして扱う\n",
    "    - 相対的にどの感情が強いかを推定する\n",
    "    - データセットの本来の用途としては感情強度を推定するタスク。しかしながら、感情強度=0のサンプルが多く、やや扱いが難しいため、今回は簡素化して扱う。\n",
    "2. 客観感情の平均値を使用する\n",
    "    - 論文において、主観感情と客観感情は異なることが指摘されている\n",
    "    - 主観感情は、書き手の性格や表現方法に依存する部分がある。そのため、客観感情、かつ、その平均値を用いることで、推定結果の納得感が高くなることが期待される"
   ]
  },
  {
   "cell_type": "code",
   "execution_count": 10,
   "metadata": {
    "id": "DeWD5aJGwWYr"
   },
   "outputs": [],
   "source": [
    "# Plutchikの8つの基本感情\n",
    "emotion_names = ['Joy', 'Sadness', 'Anticipation', 'Surprise', 'Anger', 'Fear', 'Disgust', 'Trust']\n",
    "emotion_names_jp = ['喜び', '悲しみ', '期待', '驚き', '怒り', '恐れ', '嫌悪', '信頼']  # 日本語版\n",
    "num_labels = len(emotion_names)\n",
    "\n",
    "# readers_emotion_intensities 列を生成する\n",
    "# \"Avg. Readers_*\" の値をlist化したもの\n",
    "df_wrime['readers_emotion_intensities'] = df_wrime.apply(lambda x: [x['Avg. Readers_' + name] for name in emotion_names], axis=1)\n",
    "\n",
    "# 感情強度が低いサンプルは除外する\n",
    "# (readers_emotion_intensities の max が２以上のサンプルのみを対象とする)\n",
    "is_target = df_wrime['readers_emotion_intensities'].map(lambda x: max(x) >= 2)\n",
    "df_wrime_target = df_wrime[is_target]"
   ]
  },
  {
   "cell_type": "code",
   "execution_count": 11,
   "metadata": {
    "colab": {
     "base_uri": "https://localhost:8080/"
    },
    "id": "aUzRUtnhxW83",
    "outputId": "f0d25338-88d6-4816-b551-5e19c49d142e"
   },
   "outputs": [
    {
     "name": "stdout",
     "output_type": "stream",
     "text": [
      "train : 17104\n",
      "test : 1133\n"
     ]
    }
   ],
   "source": [
    "# train / test に分割する\n",
    "df_groups = df_wrime_target.groupby('Train/Dev/Test')\n",
    "df_train = df_groups.get_group('train')\n",
    "df_test = pd.concat([df_groups.get_group('dev'), df_groups.get_group('test')])\n",
    "print('train :', len(df_train))\n",
    "print('test :', len(df_test))"
   ]
  },
  {
   "cell_type": "markdown",
   "metadata": {
    "id": "4Nic3TqEx_Lz"
   },
   "source": [
    "## モデル(BERT)を訓練する"
   ]
  },
  {
   "cell_type": "markdown",
   "metadata": {
    "id": "lfue7lSvJeKt"
   },
   "source": [
    "### Tokenizerで入力データに変換"
   ]
  },
  {
   "cell_type": "code",
   "execution_count": 12,
   "metadata": {
    "colab": {
     "base_uri": "https://localhost:8080/"
    },
    "id": "LfM0oBXGVBlA",
    "outputId": "fa1e31e0-8451-4527-f708-b82cb1001d19"
   },
   "outputs": [
    {
     "name": "stdout",
     "output_type": "stream",
     "text": [
      "Collecting unidic_lite\n",
      "  Downloading unidic-lite-1.0.8.tar.gz (47.4 MB)\n",
      "\u001b[2K     \u001b[38;2;114;156;31m━━━━━━━━━━━━━━━━━━━━━━━━━━━━━━━━━━━━━━━━\u001b[0m \u001b[32m47.4/47.4 MB\u001b[0m \u001b[31m6.1 MB/s\u001b[0m eta \u001b[36m0:00:00\u001b[0mm eta \u001b[36m0:00:01\u001b[0m[36m0:00:01\u001b[0m\n",
      "\u001b[?25h  Preparing metadata (setup.py) ... \u001b[?25ldone\n",
      "\u001b[?25hBuilding wheels for collected packages: unidic_lite\n",
      "  Building wheel for unidic_lite (setup.py) ... \u001b[?25ldone\n",
      "\u001b[?25h  Created wheel for unidic_lite: filename=unidic_lite-1.0.8-py3-none-any.whl size=47658818 sha256=3e88916076d7655b2ce8c70c6739dcf022c24a539fe4e1f844b7a66903f34ddb\n",
      "  Stored in directory: /Users/mariko/Library/Caches/pip/wheels/b7/fd/e9/ea4459b868e6d2902e8d80e82dbacb6203e05b3b3a58c64966\n",
      "Successfully built unidic_lite\n",
      "Installing collected packages: unidic_lite\n",
      "Successfully installed unidic_lite-1.0.8\n"
     ]
    }
   ],
   "source": [
    "! pip install unidic_lite"
   ]
  },
  {
   "cell_type": "code",
   "execution_count": 13,
   "metadata": {
    "id": "wHHNGwi9ymSt"
   },
   "outputs": [],
   "source": [
    "# 使用するモデルを指定して、Tokenizerを読み込む\n",
    "checkpoint = 'cl-tohoku/bert-base-japanese-whole-word-masking'\n",
    "tokenizer = AutoTokenizer.from_pretrained(checkpoint)"
   ]
  },
  {
   "cell_type": "code",
   "execution_count": 14,
   "metadata": {
    "colab": {
     "base_uri": "https://localhost:8080/",
     "height": 17,
     "referenced_widgets": [
      "286cbe3187fc4302a90ecc65a9f4ecde",
      "172ac98a92484a65a373969f84f818d4",
      "3e77239abc0f46b9ab0b6c7042edd33d",
      "cd2dda0b34fe44e49863558fbf661f33",
      "536dff7225a44802baa9f46f0d716128",
      "7243815d8ce943a4983504f3e78a663b",
      "7eab792e93e4437da7a93fcab616b631",
      "cff035c1f6ff4786ac50d2988db69925",
      "82fe24206b26409eb46139054c5c37cf",
      "4a253998a7c04a259c5fae63f82b84d5",
      "7a2add52353141a095890cf796810f01",
      "9fbd97ac5224483bb406089fa0b936bb",
      "9a8fe048265a4eb4a64563625444a917",
      "c58db438524940d5b9cb86e3d3e727e8",
      "c7223e5d05b6428aab0a2e71de33cf03",
      "cee4833b160d42a39da0c8645897ef9e",
      "4d440970099740b5a403203b1076e7e3",
      "867cfc1b2d8d4a1186ad996a7d012d31",
      "af9b997e834847b699269ef962e396da",
      "fb23b8e42d9c4440ab85dcb75f251395",
      "c15f5b92ead540348d94c3a08ac4aac4",
      "b11a1974452b4d4986080469a5b7ad07"
     ]
    },
    "id": "uQnEu-ZZNFcE",
    "outputId": "14843c46-d2cf-43f1-acc6-62d96e069016"
   },
   "outputs": [
    {
     "data": {
      "application/vnd.jupyter.widget-view+json": {
       "model_id": "",
       "version_major": 2,
       "version_minor": 0
      },
      "text/plain": [
       "Map:   0%|          | 0/17104 [00:00<?, ? examples/s]"
      ]
     },
     "metadata": {},
     "output_type": "display_data"
    },
    {
     "data": {
      "application/vnd.jupyter.widget-view+json": {
       "model_id": "",
       "version_major": 2,
       "version_minor": 0
      },
      "text/plain": [
       "Map:   0%|          | 0/1133 [00:00<?, ? examples/s]"
      ]
     },
     "metadata": {},
     "output_type": "display_data"
    }
   ],
   "source": [
    "# 前処理関数: tokenize_function\n",
    "# 感情強度の正規化（総和=1）も同時に実施する\n",
    "def tokenize_function(batch):\n",
    "    tokenized_batch = tokenizer(batch['Sentence'], truncation=True, padding='max_length')\n",
    "    tokenized_batch['labels'] = [x / np.sum(x) for x in batch['readers_emotion_intensities']]  # 総和=1に正規化\n",
    "    return tokenized_batch\n",
    "\n",
    "# Transformers用のデータセット形式に変換\n",
    "# pandas.DataFrame -> datasets.Dataset\n",
    "target_columns = ['Sentence', 'readers_emotion_intensities']\n",
    "train_dataset = Dataset.from_pandas(df_train[target_columns])\n",
    "test_dataset = Dataset.from_pandas(df_test[target_columns])\n",
    "\n",
    "# 前処理（tokenize_function） を適用\n",
    "train_tokenized_dataset = train_dataset.map(tokenize_function, batched=True)\n",
    "test_tokenized_dataset = test_dataset.map(tokenize_function, batched=True)"
   ]
  },
  {
   "cell_type": "markdown",
   "metadata": {
    "id": "Sl6xWI-wQ_kn"
   },
   "source": [
    "### 訓練済みモデルの読み込み"
   ]
  },
  {
   "cell_type": "code",
   "execution_count": 15,
   "metadata": {
    "colab": {
     "base_uri": "https://localhost:8080/",
     "height": 104,
     "referenced_widgets": [
      "82714c75958e41db99fe10b5b4ed3950",
      "b0ab48aa4a494dd88c71d5024659de26",
      "a85661058a654fda91d3b2414acc411c",
      "e769a3c8013547edabbd083c60dda0aa",
      "367b57115e324821a4e364a2838e69ca",
      "75aa6b2b5f30443ca0ec34e6c08eb42f",
      "80e445eb36b146fb99ae784fb38d9fd2",
      "de8bbfc87fc34cffb35050fd55fc302b",
      "e726f836618941b9b5b34ca2a09fe9b6",
      "b693a61b4b9c4baeb283c65b04cd8c4b",
      "bef1e8566752440cb93f84cf20de7c61"
     ]
    },
    "id": "QQyrGO2XzPYi",
    "outputId": "7317e712-1bfd-41ca-a13c-0d83aed5183c"
   },
   "outputs": [
    {
     "data": {
      "application/vnd.jupyter.widget-view+json": {
       "model_id": "1ce2c527a9e7410dbcf95fd3d4fb2889",
       "version_major": 2,
       "version_minor": 0
      },
      "text/plain": [
       "pytorch_model.bin:   0%|          | 0.00/445M [00:00<?, ?B/s]"
      ]
     },
     "metadata": {},
     "output_type": "display_data"
    },
    {
     "name": "stderr",
     "output_type": "stream",
     "text": [
      "/Users/mariko/anaconda3/lib/python3.11/site-packages/torch/_utils.py:776: UserWarning: TypedStorage is deprecated. It will be removed in the future and UntypedStorage will be the only storage class. This should only matter to you if you are using storages directly.  To access UntypedStorage directly, use tensor.untyped_storage() instead of tensor.storage()\n",
      "  return self.fget.__get__(instance, owner)()\n",
      "Some weights of BertForSequenceClassification were not initialized from the model checkpoint at cl-tohoku/bert-base-japanese-whole-word-masking and are newly initialized: ['classifier.bias', 'classifier.weight']\n",
      "You should probably TRAIN this model on a down-stream task to be able to use it for predictions and inference.\n"
     ]
    }
   ],
   "source": [
    "# 分類モデルのため AutoModelForSequenceClassification を使用する\n",
    "# checkpoint と num_labels（クラス数） を指定する. 今回は、いずれも上で定義済み\n",
    "# - checkpoint = 'cl-tohoku/bert-base-japanese-whole-word-masking'\n",
    "# - num_labels = 8\n",
    "model = AutoModelForSequenceClassification.from_pretrained(checkpoint, num_labels=num_labels)"
   ]
  },
  {
   "cell_type": "markdown",
   "metadata": {
    "id": "BwIj00p0myL5"
   },
   "source": [
    "### 訓練を実行"
   ]
  },
  {
   "cell_type": "code",
   "execution_count": 16,
   "metadata": {
    "colab": {
     "base_uri": "https://localhost:8080/",
     "height": 104,
     "referenced_widgets": [
      "fa9929b0a97d41ee9f2c46e7ed82e706",
      "93fcbae427c84014996942b0796915e3",
      "b97f8b70d20a454e9427a4692ad36bc8",
      "5e9c7c5e74854b56a498fd0536b3429c",
      "faf05c4847dd4371abb48956a9481050",
      "12dcfbaccad74fb595fb5c15882d1b58",
      "861b08c3f73a4fc8bc7e95120f62e846",
      "71ead1fad29243879713cea06e8d2e5c",
      "7689916cd9e14d4291e3b330347be7d8",
      "826547ad1e404ca999e23e4a04fd482a",
      "f7d058724b8b4216979cb30db43e3492"
     ]
    },
    "id": "8lrhTIfwzos6",
    "outputId": "aeb48dd0-4c21-4424-c38e-8130e0f39c10"
   },
   "outputs": [
    {
     "name": "stderr",
     "output_type": "stream",
     "text": [
      "/var/folders/xm/_n_dpsbj29z87lkckg713qd00000gn/T/ipykernel_10674/3063707975.py:3: FutureWarning: load_metric is deprecated and will be removed in the next major version of datasets. Use 'evaluate.load' instead, from the new library 🤗 Evaluate: https://huggingface.co/docs/evaluate\n",
      "  metric = load_metric(\"accuracy\")\n"
     ]
    },
    {
     "data": {
      "application/vnd.jupyter.widget-view+json": {
       "model_id": "0d7eef61a14a4b2ea4ec4eabc1dac769",
       "version_major": 2,
       "version_minor": 0
      },
      "text/plain": [
       "Downloading builder script:   0%|          | 0.00/1.65k [00:00<?, ?B/s]"
      ]
     },
     "metadata": {},
     "output_type": "display_data"
    }
   ],
   "source": [
    "# 評価指標を定義\n",
    "# https://huggingface.co/docs/transformers/training\n",
    "metric = load_metric(\"accuracy\")\n",
    "\n",
    "def compute_metrics(eval_pred):\n",
    "    logits, labels = eval_pred\n",
    "    predictions = np.argmax(logits, axis=-1)\n",
    "    label_ids = np.argmax(labels, axis=-1)\n",
    "    return metric.compute(predictions=predictions, references=label_ids)"
   ]
  },
  {
   "cell_type": "code",
   "execution_count": 17,
   "metadata": {
    "colab": {
     "base_uri": "https://localhost:8080/",
     "height": 496
    },
    "id": "2noasiZazsSP",
    "outputId": "033dfadd-225a-481c-e638-d8079d5e2f65"
   },
   "outputs": [
    {
     "name": "stderr",
     "output_type": "stream",
     "text": [
      "/Users/mariko/anaconda3/lib/python3.11/site-packages/transformers/training_args.py:1575: FutureWarning: `evaluation_strategy` is deprecated and will be removed in version 4.46 of 🤗 Transformers. Use `eval_strategy` instead\n",
      "  warnings.warn(\n"
     ]
    },
    {
     "ename": "ImportError",
     "evalue": "Using the `Trainer` with `PyTorch` requires `accelerate>=0.26.0`: Please run `pip install transformers[torch]` or `pip install 'accelerate>=0.26.0'`",
     "output_type": "error",
     "traceback": [
      "\u001b[0;31m---------------------------------------------------------------------------\u001b[0m",
      "\u001b[0;31mImportError\u001b[0m                               Traceback (most recent call last)",
      "Cell \u001b[0;32mIn[17], line 5\u001b[0m\n\u001b[1;32m      1\u001b[0m \u001b[38;5;66;03m# Transformers の Trainer を用いる\u001b[39;00m\n\u001b[1;32m      2\u001b[0m \u001b[38;5;66;03m# https://huggingface.co/docs/transformers/v4.21.1/en/main_classes/trainer#transformers.TrainingArguments\u001b[39;00m\n\u001b[1;32m      3\u001b[0m \n\u001b[1;32m      4\u001b[0m \u001b[38;5;66;03m# 訓練時の設定\u001b[39;00m\n\u001b[0;32m----> 5\u001b[0m training_args \u001b[38;5;241m=\u001b[39m TrainingArguments(\n\u001b[1;32m      6\u001b[0m     output_dir\u001b[38;5;241m=\u001b[39m\u001b[38;5;124m\"\u001b[39m\u001b[38;5;124mtest_trainer\u001b[39m\u001b[38;5;124m\"\u001b[39m,\n\u001b[1;32m      7\u001b[0m     per_device_train_batch_size\u001b[38;5;241m=\u001b[39m\u001b[38;5;241m8\u001b[39m,\n\u001b[1;32m      8\u001b[0m     num_train_epochs\u001b[38;5;241m=\u001b[39m\u001b[38;5;241m1.0\u001b[39m,\n\u001b[1;32m      9\u001b[0m     evaluation_strategy\u001b[38;5;241m=\u001b[39m\u001b[38;5;124m\"\u001b[39m\u001b[38;5;124msteps\u001b[39m\u001b[38;5;124m\"\u001b[39m, eval_steps\u001b[38;5;241m=\u001b[39m\u001b[38;5;241m200\u001b[39m)  \u001b[38;5;66;03m# 200ステップ毎にテストデータで評価する\u001b[39;00m\n\u001b[1;32m     11\u001b[0m \u001b[38;5;66;03m# Trainerを生成\u001b[39;00m\n\u001b[1;32m     12\u001b[0m trainer \u001b[38;5;241m=\u001b[39m Trainer(\n\u001b[1;32m     13\u001b[0m     model\u001b[38;5;241m=\u001b[39mmodel,\n\u001b[1;32m     14\u001b[0m     args\u001b[38;5;241m=\u001b[39mtraining_args,\n\u001b[0;32m   (...)\u001b[0m\n\u001b[1;32m     17\u001b[0m     compute_metrics\u001b[38;5;241m=\u001b[39mcompute_metrics,\n\u001b[1;32m     18\u001b[0m )\n",
      "File \u001b[0;32m<string>:134\u001b[0m, in \u001b[0;36m__init__\u001b[0;34m(self, output_dir, overwrite_output_dir, do_train, do_eval, do_predict, eval_strategy, prediction_loss_only, per_device_train_batch_size, per_device_eval_batch_size, per_gpu_train_batch_size, per_gpu_eval_batch_size, gradient_accumulation_steps, eval_accumulation_steps, eval_delay, torch_empty_cache_steps, learning_rate, weight_decay, adam_beta1, adam_beta2, adam_epsilon, max_grad_norm, num_train_epochs, max_steps, lr_scheduler_type, lr_scheduler_kwargs, warmup_ratio, warmup_steps, log_level, log_level_replica, log_on_each_node, logging_dir, logging_strategy, logging_first_step, logging_steps, logging_nan_inf_filter, save_strategy, save_steps, save_total_limit, save_safetensors, save_on_each_node, save_only_model, restore_callback_states_from_checkpoint, no_cuda, use_cpu, use_mps_device, seed, data_seed, jit_mode_eval, use_ipex, bf16, fp16, fp16_opt_level, half_precision_backend, bf16_full_eval, fp16_full_eval, tf32, local_rank, ddp_backend, tpu_num_cores, tpu_metrics_debug, debug, dataloader_drop_last, eval_steps, dataloader_num_workers, dataloader_prefetch_factor, past_index, run_name, disable_tqdm, remove_unused_columns, label_names, load_best_model_at_end, metric_for_best_model, greater_is_better, ignore_data_skip, fsdp, fsdp_min_num_params, fsdp_config, fsdp_transformer_layer_cls_to_wrap, accelerator_config, deepspeed, label_smoothing_factor, optim, optim_args, adafactor, group_by_length, length_column_name, report_to, ddp_find_unused_parameters, ddp_bucket_cap_mb, ddp_broadcast_buffers, dataloader_pin_memory, dataloader_persistent_workers, skip_memory_metrics, use_legacy_prediction_loop, push_to_hub, resume_from_checkpoint, hub_model_id, hub_strategy, hub_token, hub_private_repo, hub_always_push, gradient_checkpointing, gradient_checkpointing_kwargs, include_inputs_for_metrics, include_for_metrics, eval_do_concat_batches, fp16_backend, evaluation_strategy, push_to_hub_model_id, push_to_hub_organization, push_to_hub_token, mp_parameters, auto_find_batch_size, full_determinism, torchdynamo, ray_scope, ddp_timeout, torch_compile, torch_compile_backend, torch_compile_mode, dispatch_batches, split_batches, include_tokens_per_second, include_num_input_tokens_seen, neftune_noise_alpha, optim_target_modules, batch_eval_metrics, eval_on_start, use_liger_kernel, eval_use_gather_object, average_tokens_across_devices)\u001b[0m\n",
      "File \u001b[0;32m~/anaconda3/lib/python3.11/site-packages/transformers/training_args.py:1772\u001b[0m, in \u001b[0;36mTrainingArguments.__post_init__\u001b[0;34m(self)\u001b[0m\n\u001b[1;32m   1770\u001b[0m \u001b[38;5;66;03m# Initialize device before we proceed\u001b[39;00m\n\u001b[1;32m   1771\u001b[0m \u001b[38;5;28;01mif\u001b[39;00m \u001b[38;5;28mself\u001b[39m\u001b[38;5;241m.\u001b[39mframework \u001b[38;5;241m==\u001b[39m \u001b[38;5;124m\"\u001b[39m\u001b[38;5;124mpt\u001b[39m\u001b[38;5;124m\"\u001b[39m \u001b[38;5;129;01mand\u001b[39;00m is_torch_available():\n\u001b[0;32m-> 1772\u001b[0m     \u001b[38;5;28mself\u001b[39m\u001b[38;5;241m.\u001b[39mdevice\n\u001b[1;32m   1774\u001b[0m \u001b[38;5;66;03m# Disable average tokens when using single device\u001b[39;00m\n\u001b[1;32m   1775\u001b[0m \u001b[38;5;28;01mif\u001b[39;00m \u001b[38;5;28mself\u001b[39m\u001b[38;5;241m.\u001b[39maverage_tokens_across_devices:\n",
      "File \u001b[0;32m~/anaconda3/lib/python3.11/site-packages/transformers/training_args.py:2294\u001b[0m, in \u001b[0;36mTrainingArguments.device\u001b[0;34m(self)\u001b[0m\n\u001b[1;32m   2290\u001b[0m \u001b[38;5;250m\u001b[39m\u001b[38;5;124;03m\"\"\"\u001b[39;00m\n\u001b[1;32m   2291\u001b[0m \u001b[38;5;124;03mThe device used by this process.\u001b[39;00m\n\u001b[1;32m   2292\u001b[0m \u001b[38;5;124;03m\"\"\"\u001b[39;00m\n\u001b[1;32m   2293\u001b[0m requires_backends(\u001b[38;5;28mself\u001b[39m, [\u001b[38;5;124m\"\u001b[39m\u001b[38;5;124mtorch\u001b[39m\u001b[38;5;124m\"\u001b[39m])\n\u001b[0;32m-> 2294\u001b[0m \u001b[38;5;28;01mreturn\u001b[39;00m \u001b[38;5;28mself\u001b[39m\u001b[38;5;241m.\u001b[39m_setup_devices\n",
      "File \u001b[0;32m~/anaconda3/lib/python3.11/site-packages/transformers/utils/generic.py:62\u001b[0m, in \u001b[0;36mcached_property.__get__\u001b[0;34m(self, obj, objtype)\u001b[0m\n\u001b[1;32m     60\u001b[0m cached \u001b[38;5;241m=\u001b[39m \u001b[38;5;28mgetattr\u001b[39m(obj, attr, \u001b[38;5;28;01mNone\u001b[39;00m)\n\u001b[1;32m     61\u001b[0m \u001b[38;5;28;01mif\u001b[39;00m cached \u001b[38;5;129;01mis\u001b[39;00m \u001b[38;5;28;01mNone\u001b[39;00m:\n\u001b[0;32m---> 62\u001b[0m     cached \u001b[38;5;241m=\u001b[39m \u001b[38;5;28mself\u001b[39m\u001b[38;5;241m.\u001b[39mfget(obj)\n\u001b[1;32m     63\u001b[0m     \u001b[38;5;28msetattr\u001b[39m(obj, attr, cached)\n\u001b[1;32m     64\u001b[0m \u001b[38;5;28;01mreturn\u001b[39;00m cached\n",
      "File \u001b[0;32m~/anaconda3/lib/python3.11/site-packages/transformers/training_args.py:2167\u001b[0m, in \u001b[0;36mTrainingArguments._setup_devices\u001b[0;34m(self)\u001b[0m\n\u001b[1;32m   2165\u001b[0m \u001b[38;5;28;01mif\u001b[39;00m \u001b[38;5;129;01mnot\u001b[39;00m is_sagemaker_mp_enabled():\n\u001b[1;32m   2166\u001b[0m     \u001b[38;5;28;01mif\u001b[39;00m \u001b[38;5;129;01mnot\u001b[39;00m is_accelerate_available():\n\u001b[0;32m-> 2167\u001b[0m         \u001b[38;5;28;01mraise\u001b[39;00m \u001b[38;5;167;01mImportError\u001b[39;00m(\n\u001b[1;32m   2168\u001b[0m             \u001b[38;5;124mf\u001b[39m\u001b[38;5;124m\"\u001b[39m\u001b[38;5;124mUsing the `Trainer` with `PyTorch` requires `accelerate>=\u001b[39m\u001b[38;5;132;01m{\u001b[39;00mACCELERATE_MIN_VERSION\u001b[38;5;132;01m}\u001b[39;00m\u001b[38;5;124m`: \u001b[39m\u001b[38;5;124m\"\u001b[39m\n\u001b[1;32m   2169\u001b[0m             \u001b[38;5;124mf\u001b[39m\u001b[38;5;124m\"\u001b[39m\u001b[38;5;124mPlease run `pip install transformers[torch]` or `pip install \u001b[39m\u001b[38;5;124m'\u001b[39m\u001b[38;5;124maccelerate>=\u001b[39m\u001b[38;5;132;01m{\u001b[39;00mACCELERATE_MIN_VERSION\u001b[38;5;132;01m}\u001b[39;00m\u001b[38;5;124m'\u001b[39m\u001b[38;5;124m`\u001b[39m\u001b[38;5;124m\"\u001b[39m\n\u001b[1;32m   2170\u001b[0m         )\n\u001b[1;32m   2171\u001b[0m \u001b[38;5;66;03m# We delay the init of `PartialState` to the end for clarity\u001b[39;00m\n\u001b[1;32m   2172\u001b[0m accelerator_state_kwargs \u001b[38;5;241m=\u001b[39m {\u001b[38;5;124m\"\u001b[39m\u001b[38;5;124menabled\u001b[39m\u001b[38;5;124m\"\u001b[39m: \u001b[38;5;28;01mTrue\u001b[39;00m, \u001b[38;5;124m\"\u001b[39m\u001b[38;5;124muse_configured_state\u001b[39m\u001b[38;5;124m\"\u001b[39m: \u001b[38;5;28;01mFalse\u001b[39;00m}\n",
      "\u001b[0;31mImportError\u001b[0m: Using the `Trainer` with `PyTorch` requires `accelerate>=0.26.0`: Please run `pip install transformers[torch]` or `pip install 'accelerate>=0.26.0'`"
     ]
    }
   ],
   "source": [
    "# Transformers の Trainer を用いる\n",
    "# https://huggingface.co/docs/transformers/v4.21.1/en/main_classes/trainer#transformers.TrainingArguments\n",
    "\n",
    "# 訓練時の設定\n",
    "training_args = TrainingArguments(\n",
    "    output_dir=\"test_trainer\",\n",
    "    per_device_train_batch_size=8,\n",
    "    num_train_epochs=1.0,\n",
    "    evaluation_strategy=\"steps\", eval_steps=200)  # 200ステップ毎にテストデータで評価する\n",
    "\n",
    "# Trainerを生成\n",
    "trainer = Trainer(\n",
    "    model=model,\n",
    "    args=training_args,\n",
    "    train_dataset=train_tokenized_dataset,\n",
    "    eval_dataset=test_tokenized_dataset,\n",
    "    compute_metrics=compute_metrics,\n",
    ")\n",
    "\n",
    "# 訓練を実行\n",
    "trainer.train()"
   ]
  },
  {
   "cell_type": "markdown",
   "metadata": {
    "id": "IfvBTX991SW7"
   },
   "source": [
    "## 訓練したモデルで推論する"
   ]
  },
  {
   "cell_type": "code",
   "execution_count": 27,
   "metadata": {
    "colab": {
     "base_uri": "https://localhost:8080/",
     "height": 1000
    },
    "id": "fSFeecw21fjT",
    "outputId": "ad6141f7-fc8e-4400-8719-3931778e5ab6"
   },
   "outputs": [
    {
     "name": "stderr",
     "output_type": "stream",
     "text": [
      "WARNING:matplotlib.font_manager:findfont: Font family 'IPAGothic' not found.\n",
      "WARNING:matplotlib.font_manager:findfont: Font family 'IPAGothic' not found.\n",
      "WARNING:matplotlib.font_manager:findfont: Font family 'IPAGothic' not found.\n",
      "WARNING:matplotlib.font_manager:findfont: Font family 'IPAGothic' not found.\n",
      "WARNING:matplotlib.font_manager:findfont: Font family 'IPAGothic' not found.\n",
      "WARNING:matplotlib.font_manager:findfont: Font family 'IPAGothic' not found.\n",
      "WARNING:matplotlib.font_manager:findfont: Font family 'IPAGothic' not found.\n",
      "WARNING:matplotlib.font_manager:findfont: Font family 'IPAGothic' not found.\n",
      "WARNING:matplotlib.font_manager:findfont: Font family 'IPAGothic' not found.\n",
      "/usr/local/lib/python3.11/dist-packages/IPython/core/events.py:89: UserWarning: Glyph 20837 (\\N{CJK UNIFIED IDEOGRAPH-5165}) missing from font(s) DejaVu Sans.\n",
      "  func(*args, **kwargs)\n",
      "/usr/local/lib/python3.11/dist-packages/IPython/core/events.py:89: UserWarning: Glyph 21147 (\\N{CJK UNIFIED IDEOGRAPH-529B}) missing from font(s) DejaVu Sans.\n",
      "  func(*args, **kwargs)\n",
      "/usr/local/lib/python3.11/dist-packages/IPython/core/events.py:89: UserWarning: Glyph 25991 (\\N{CJK UNIFIED IDEOGRAPH-6587}) missing from font(s) DejaVu Sans.\n",
      "  func(*args, **kwargs)\n",
      "/usr/local/lib/python3.11/dist-packages/IPython/core/events.py:89: UserWarning: Glyph 20170 (\\N{CJK UNIFIED IDEOGRAPH-4ECA}) missing from font(s) DejaVu Sans.\n",
      "  func(*args, **kwargs)\n",
      "/usr/local/lib/python3.11/dist-packages/IPython/core/events.py:89: UserWarning: Glyph 26085 (\\N{CJK UNIFIED IDEOGRAPH-65E5}) missing from font(s) DejaVu Sans.\n",
      "  func(*args, **kwargs)\n",
      "/usr/local/lib/python3.11/dist-packages/IPython/core/events.py:89: UserWarning: Glyph 12363 (\\N{HIRAGANA LETTER KA}) missing from font(s) DejaVu Sans.\n",
      "  func(*args, **kwargs)\n",
      "/usr/local/lib/python3.11/dist-packages/IPython/core/events.py:89: UserWarning: Glyph 12425 (\\N{HIRAGANA LETTER RA}) missing from font(s) DejaVu Sans.\n",
      "  func(*args, **kwargs)\n",
      "/usr/local/lib/python3.11/dist-packages/IPython/core/events.py:89: UserWarning: Glyph 38263 (\\N{CJK UNIFIED IDEOGRAPH-9577}) missing from font(s) DejaVu Sans.\n",
      "  func(*args, **kwargs)\n",
      "/usr/local/lib/python3.11/dist-packages/IPython/core/events.py:89: UserWarning: Glyph 26399 (\\N{CJK UNIFIED IDEOGRAPH-671F}) missing from font(s) DejaVu Sans.\n",
      "  func(*args, **kwargs)\n",
      "/usr/local/lib/python3.11/dist-packages/IPython/core/events.py:89: UserWarning: Glyph 20241 (\\N{CJK UNIFIED IDEOGRAPH-4F11}) missing from font(s) DejaVu Sans.\n",
      "  func(*args, **kwargs)\n",
      "/usr/local/lib/python3.11/dist-packages/IPython/core/events.py:89: UserWarning: Glyph 26247 (\\N{CJK UNIFIED IDEOGRAPH-6687}) missing from font(s) DejaVu Sans.\n",
      "  func(*args, **kwargs)\n",
      "/usr/local/lib/python3.11/dist-packages/IPython/core/events.py:89: UserWarning: Glyph 12384 (\\N{HIRAGANA LETTER DA}) missing from font(s) DejaVu Sans.\n",
      "  func(*args, **kwargs)\n",
      "/usr/local/lib/python3.11/dist-packages/IPython/core/events.py:89: UserWarning: Glyph 12353 (\\N{HIRAGANA LETTER SMALL A}) missing from font(s) DejaVu Sans.\n",
      "  func(*args, **kwargs)\n",
      "/usr/local/lib/python3.11/dist-packages/IPython/core/events.py:89: UserWarning: Glyph 12540 (\\N{KATAKANA-HIRAGANA PROLONGED SOUND MARK}) missing from font(s) DejaVu Sans.\n",
      "  func(*args, **kwargs)\n",
      "/usr/local/lib/python3.11/dist-packages/IPython/core/events.py:89: UserWarning: Glyph 65281 (\\N{FULLWIDTH EXCLAMATION MARK}) missing from font(s) DejaVu Sans.\n",
      "  func(*args, **kwargs)\n",
      "WARNING:matplotlib.font_manager:findfont: Font family 'IPAGothic' not found.\n",
      "/usr/local/lib/python3.11/dist-packages/IPython/core/events.py:89: UserWarning: Glyph 21916 (\\N{CJK UNIFIED IDEOGRAPH-559C}) missing from font(s) DejaVu Sans.\n",
      "  func(*args, **kwargs)\n",
      "/usr/local/lib/python3.11/dist-packages/IPython/core/events.py:89: UserWarning: Glyph 12403 (\\N{HIRAGANA LETTER BI}) missing from font(s) DejaVu Sans.\n",
      "  func(*args, **kwargs)\n",
      "WARNING:matplotlib.font_manager:findfont: Font family 'IPAGothic' not found.\n",
      "/usr/local/lib/python3.11/dist-packages/IPython/core/events.py:89: UserWarning: Glyph 24754 (\\N{CJK UNIFIED IDEOGRAPH-60B2}) missing from font(s) DejaVu Sans.\n",
      "  func(*args, **kwargs)\n",
      "/usr/local/lib/python3.11/dist-packages/IPython/core/events.py:89: UserWarning: Glyph 12375 (\\N{HIRAGANA LETTER SI}) missing from font(s) DejaVu Sans.\n",
      "  func(*args, **kwargs)\n",
      "/usr/local/lib/python3.11/dist-packages/IPython/core/events.py:89: UserWarning: Glyph 12415 (\\N{HIRAGANA LETTER MI}) missing from font(s) DejaVu Sans.\n",
      "  func(*args, **kwargs)\n",
      "WARNING:matplotlib.font_manager:findfont: Font family 'IPAGothic' not found.\n",
      "/usr/local/lib/python3.11/dist-packages/IPython/core/events.py:89: UserWarning: Glyph 24453 (\\N{CJK UNIFIED IDEOGRAPH-5F85}) missing from font(s) DejaVu Sans.\n",
      "  func(*args, **kwargs)\n",
      "WARNING:matplotlib.font_manager:findfont: Font family 'IPAGothic' not found.\n",
      "/usr/local/lib/python3.11/dist-packages/IPython/core/events.py:89: UserWarning: Glyph 39514 (\\N{CJK UNIFIED IDEOGRAPH-9A5A}) missing from font(s) DejaVu Sans.\n",
      "  func(*args, **kwargs)\n",
      "/usr/local/lib/python3.11/dist-packages/IPython/core/events.py:89: UserWarning: Glyph 12365 (\\N{HIRAGANA LETTER KI}) missing from font(s) DejaVu Sans.\n",
      "  func(*args, **kwargs)\n",
      "WARNING:matplotlib.font_manager:findfont: Font family 'IPAGothic' not found.\n",
      "/usr/local/lib/python3.11/dist-packages/IPython/core/events.py:89: UserWarning: Glyph 24594 (\\N{CJK UNIFIED IDEOGRAPH-6012}) missing from font(s) DejaVu Sans.\n",
      "  func(*args, **kwargs)\n",
      "/usr/local/lib/python3.11/dist-packages/IPython/core/events.py:89: UserWarning: Glyph 12426 (\\N{HIRAGANA LETTER RI}) missing from font(s) DejaVu Sans.\n",
      "  func(*args, **kwargs)\n",
      "WARNING:matplotlib.font_manager:findfont: Font family 'IPAGothic' not found.\n",
      "/usr/local/lib/python3.11/dist-packages/IPython/core/events.py:89: UserWarning: Glyph 24656 (\\N{CJK UNIFIED IDEOGRAPH-6050}) missing from font(s) DejaVu Sans.\n",
      "  func(*args, **kwargs)\n",
      "/usr/local/lib/python3.11/dist-packages/IPython/core/events.py:89: UserWarning: Glyph 12428 (\\N{HIRAGANA LETTER RE}) missing from font(s) DejaVu Sans.\n",
      "  func(*args, **kwargs)\n",
      "WARNING:matplotlib.font_manager:findfont: Font family 'IPAGothic' not found.\n",
      "/usr/local/lib/python3.11/dist-packages/IPython/core/events.py:89: UserWarning: Glyph 23244 (\\N{CJK UNIFIED IDEOGRAPH-5ACC}) missing from font(s) DejaVu Sans.\n",
      "  func(*args, **kwargs)\n",
      "/usr/local/lib/python3.11/dist-packages/IPython/core/events.py:89: UserWarning: Glyph 24746 (\\N{CJK UNIFIED IDEOGRAPH-60AA}) missing from font(s) DejaVu Sans.\n",
      "  func(*args, **kwargs)\n",
      "WARNING:matplotlib.font_manager:findfont: Font family 'IPAGothic' not found.\n",
      "/usr/local/lib/python3.11/dist-packages/IPython/core/events.py:89: UserWarning: Glyph 20449 (\\N{CJK UNIFIED IDEOGRAPH-4FE1}) missing from font(s) DejaVu Sans.\n",
      "  func(*args, **kwargs)\n",
      "/usr/local/lib/python3.11/dist-packages/IPython/core/events.py:89: UserWarning: Glyph 38972 (\\N{CJK UNIFIED IDEOGRAPH-983C}) missing from font(s) DejaVu Sans.\n",
      "  func(*args, **kwargs)\n",
      "WARNING:matplotlib.font_manager:findfont: Font family 'IPAGothic' not found.\n",
      "WARNING:matplotlib.font_manager:findfont: Font family 'IPAGothic' not found.\n",
      "WARNING:matplotlib.font_manager:findfont: Font family 'IPAGothic' not found.\n",
      "WARNING:matplotlib.font_manager:findfont: Font family 'IPAGothic' not found.\n",
      "WARNING:matplotlib.font_manager:findfont: Font family 'IPAGothic' not found.\n",
      "WARNING:matplotlib.font_manager:findfont: Font family 'IPAGothic' not found.\n",
      "WARNING:matplotlib.font_manager:findfont: Font family 'IPAGothic' not found.\n",
      "WARNING:matplotlib.font_manager:findfont: Font family 'IPAGothic' not found.\n",
      "WARNING:matplotlib.font_manager:findfont: Font family 'IPAGothic' not found.\n",
      "WARNING:matplotlib.font_manager:findfont: Font family 'IPAGothic' not found.\n",
      "WARNING:matplotlib.font_manager:findfont: Font family 'IPAGothic' not found.\n",
      "WARNING:matplotlib.font_manager:findfont: Font family 'IPAGothic' not found.\n",
      "WARNING:matplotlib.font_manager:findfont: Font family 'IPAGothic' not found.\n",
      "WARNING:matplotlib.font_manager:findfont: Font family 'IPAGothic' not found.\n",
      "WARNING:matplotlib.font_manager:findfont: Font family 'IPAGothic' not found.\n",
      "WARNING:matplotlib.font_manager:findfont: Font family 'IPAGothic' not found.\n",
      "WARNING:matplotlib.font_manager:findfont: Font family 'IPAGothic' not found.\n",
      "WARNING:matplotlib.font_manager:findfont: Font family 'IPAGothic' not found.\n",
      "WARNING:matplotlib.font_manager:findfont: Font family 'IPAGothic' not found.\n",
      "WARNING:matplotlib.font_manager:findfont: Font family 'IPAGothic' not found.\n",
      "WARNING:matplotlib.font_manager:findfont: Font family 'IPAGothic' not found.\n",
      "WARNING:matplotlib.font_manager:findfont: Font family 'IPAGothic' not found.\n",
      "WARNING:matplotlib.font_manager:findfont: Font family 'IPAGothic' not found.\n",
      "WARNING:matplotlib.font_manager:findfont: Font family 'IPAGothic' not found.\n",
      "WARNING:matplotlib.font_manager:findfont: Font family 'IPAGothic' not found.\n",
      "/usr/local/lib/python3.11/dist-packages/IPython/core/pylabtools.py:151: UserWarning: Glyph 20837 (\\N{CJK UNIFIED IDEOGRAPH-5165}) missing from font(s) DejaVu Sans.\n",
      "  fig.canvas.print_figure(bytes_io, **kw)\n",
      "/usr/local/lib/python3.11/dist-packages/IPython/core/pylabtools.py:151: UserWarning: Glyph 21147 (\\N{CJK UNIFIED IDEOGRAPH-529B}) missing from font(s) DejaVu Sans.\n",
      "  fig.canvas.print_figure(bytes_io, **kw)\n",
      "/usr/local/lib/python3.11/dist-packages/IPython/core/pylabtools.py:151: UserWarning: Glyph 25991 (\\N{CJK UNIFIED IDEOGRAPH-6587}) missing from font(s) DejaVu Sans.\n",
      "  fig.canvas.print_figure(bytes_io, **kw)\n",
      "/usr/local/lib/python3.11/dist-packages/IPython/core/pylabtools.py:151: UserWarning: Glyph 20170 (\\N{CJK UNIFIED IDEOGRAPH-4ECA}) missing from font(s) DejaVu Sans.\n",
      "  fig.canvas.print_figure(bytes_io, **kw)\n",
      "/usr/local/lib/python3.11/dist-packages/IPython/core/pylabtools.py:151: UserWarning: Glyph 26085 (\\N{CJK UNIFIED IDEOGRAPH-65E5}) missing from font(s) DejaVu Sans.\n",
      "  fig.canvas.print_figure(bytes_io, **kw)\n",
      "/usr/local/lib/python3.11/dist-packages/IPython/core/pylabtools.py:151: UserWarning: Glyph 12363 (\\N{HIRAGANA LETTER KA}) missing from font(s) DejaVu Sans.\n",
      "  fig.canvas.print_figure(bytes_io, **kw)\n",
      "/usr/local/lib/python3.11/dist-packages/IPython/core/pylabtools.py:151: UserWarning: Glyph 12425 (\\N{HIRAGANA LETTER RA}) missing from font(s) DejaVu Sans.\n",
      "  fig.canvas.print_figure(bytes_io, **kw)\n",
      "/usr/local/lib/python3.11/dist-packages/IPython/core/pylabtools.py:151: UserWarning: Glyph 38263 (\\N{CJK UNIFIED IDEOGRAPH-9577}) missing from font(s) DejaVu Sans.\n",
      "  fig.canvas.print_figure(bytes_io, **kw)\n",
      "/usr/local/lib/python3.11/dist-packages/IPython/core/pylabtools.py:151: UserWarning: Glyph 26399 (\\N{CJK UNIFIED IDEOGRAPH-671F}) missing from font(s) DejaVu Sans.\n",
      "  fig.canvas.print_figure(bytes_io, **kw)\n",
      "/usr/local/lib/python3.11/dist-packages/IPython/core/pylabtools.py:151: UserWarning: Glyph 20241 (\\N{CJK UNIFIED IDEOGRAPH-4F11}) missing from font(s) DejaVu Sans.\n",
      "  fig.canvas.print_figure(bytes_io, **kw)\n",
      "/usr/local/lib/python3.11/dist-packages/IPython/core/pylabtools.py:151: UserWarning: Glyph 26247 (\\N{CJK UNIFIED IDEOGRAPH-6687}) missing from font(s) DejaVu Sans.\n",
      "  fig.canvas.print_figure(bytes_io, **kw)\n",
      "/usr/local/lib/python3.11/dist-packages/IPython/core/pylabtools.py:151: UserWarning: Glyph 12384 (\\N{HIRAGANA LETTER DA}) missing from font(s) DejaVu Sans.\n",
      "  fig.canvas.print_figure(bytes_io, **kw)\n",
      "/usr/local/lib/python3.11/dist-packages/IPython/core/pylabtools.py:151: UserWarning: Glyph 12353 (\\N{HIRAGANA LETTER SMALL A}) missing from font(s) DejaVu Sans.\n",
      "  fig.canvas.print_figure(bytes_io, **kw)\n",
      "/usr/local/lib/python3.11/dist-packages/IPython/core/pylabtools.py:151: UserWarning: Glyph 12540 (\\N{KATAKANA-HIRAGANA PROLONGED SOUND MARK}) missing from font(s) DejaVu Sans.\n",
      "  fig.canvas.print_figure(bytes_io, **kw)\n",
      "/usr/local/lib/python3.11/dist-packages/IPython/core/pylabtools.py:151: UserWarning: Glyph 65281 (\\N{FULLWIDTH EXCLAMATION MARK}) missing from font(s) DejaVu Sans.\n",
      "  fig.canvas.print_figure(bytes_io, **kw)\n",
      "WARNING:matplotlib.font_manager:findfont: Font family 'IPAGothic' not found.\n",
      "/usr/local/lib/python3.11/dist-packages/IPython/core/pylabtools.py:151: UserWarning: Glyph 21916 (\\N{CJK UNIFIED IDEOGRAPH-559C}) missing from font(s) DejaVu Sans.\n",
      "  fig.canvas.print_figure(bytes_io, **kw)\n",
      "/usr/local/lib/python3.11/dist-packages/IPython/core/pylabtools.py:151: UserWarning: Glyph 12403 (\\N{HIRAGANA LETTER BI}) missing from font(s) DejaVu Sans.\n",
      "  fig.canvas.print_figure(bytes_io, **kw)\n",
      "WARNING:matplotlib.font_manager:findfont: Font family 'IPAGothic' not found.\n",
      "/usr/local/lib/python3.11/dist-packages/IPython/core/pylabtools.py:151: UserWarning: Glyph 24754 (\\N{CJK UNIFIED IDEOGRAPH-60B2}) missing from font(s) DejaVu Sans.\n",
      "  fig.canvas.print_figure(bytes_io, **kw)\n",
      "/usr/local/lib/python3.11/dist-packages/IPython/core/pylabtools.py:151: UserWarning: Glyph 12375 (\\N{HIRAGANA LETTER SI}) missing from font(s) DejaVu Sans.\n",
      "  fig.canvas.print_figure(bytes_io, **kw)\n",
      "/usr/local/lib/python3.11/dist-packages/IPython/core/pylabtools.py:151: UserWarning: Glyph 12415 (\\N{HIRAGANA LETTER MI}) missing from font(s) DejaVu Sans.\n",
      "  fig.canvas.print_figure(bytes_io, **kw)\n",
      "WARNING:matplotlib.font_manager:findfont: Font family 'IPAGothic' not found.\n",
      "/usr/local/lib/python3.11/dist-packages/IPython/core/pylabtools.py:151: UserWarning: Glyph 24453 (\\N{CJK UNIFIED IDEOGRAPH-5F85}) missing from font(s) DejaVu Sans.\n",
      "  fig.canvas.print_figure(bytes_io, **kw)\n",
      "WARNING:matplotlib.font_manager:findfont: Font family 'IPAGothic' not found.\n",
      "/usr/local/lib/python3.11/dist-packages/IPython/core/pylabtools.py:151: UserWarning: Glyph 39514 (\\N{CJK UNIFIED IDEOGRAPH-9A5A}) missing from font(s) DejaVu Sans.\n",
      "  fig.canvas.print_figure(bytes_io, **kw)\n",
      "/usr/local/lib/python3.11/dist-packages/IPython/core/pylabtools.py:151: UserWarning: Glyph 12365 (\\N{HIRAGANA LETTER KI}) missing from font(s) DejaVu Sans.\n",
      "  fig.canvas.print_figure(bytes_io, **kw)\n",
      "WARNING:matplotlib.font_manager:findfont: Font family 'IPAGothic' not found.\n",
      "/usr/local/lib/python3.11/dist-packages/IPython/core/pylabtools.py:151: UserWarning: Glyph 24594 (\\N{CJK UNIFIED IDEOGRAPH-6012}) missing from font(s) DejaVu Sans.\n",
      "  fig.canvas.print_figure(bytes_io, **kw)\n",
      "/usr/local/lib/python3.11/dist-packages/IPython/core/pylabtools.py:151: UserWarning: Glyph 12426 (\\N{HIRAGANA LETTER RI}) missing from font(s) DejaVu Sans.\n",
      "  fig.canvas.print_figure(bytes_io, **kw)\n",
      "WARNING:matplotlib.font_manager:findfont: Font family 'IPAGothic' not found.\n",
      "/usr/local/lib/python3.11/dist-packages/IPython/core/pylabtools.py:151: UserWarning: Glyph 24656 (\\N{CJK UNIFIED IDEOGRAPH-6050}) missing from font(s) DejaVu Sans.\n",
      "  fig.canvas.print_figure(bytes_io, **kw)\n",
      "/usr/local/lib/python3.11/dist-packages/IPython/core/pylabtools.py:151: UserWarning: Glyph 12428 (\\N{HIRAGANA LETTER RE}) missing from font(s) DejaVu Sans.\n",
      "  fig.canvas.print_figure(bytes_io, **kw)\n",
      "WARNING:matplotlib.font_manager:findfont: Font family 'IPAGothic' not found.\n",
      "/usr/local/lib/python3.11/dist-packages/IPython/core/pylabtools.py:151: UserWarning: Glyph 23244 (\\N{CJK UNIFIED IDEOGRAPH-5ACC}) missing from font(s) DejaVu Sans.\n",
      "  fig.canvas.print_figure(bytes_io, **kw)\n",
      "/usr/local/lib/python3.11/dist-packages/IPython/core/pylabtools.py:151: UserWarning: Glyph 24746 (\\N{CJK UNIFIED IDEOGRAPH-60AA}) missing from font(s) DejaVu Sans.\n",
      "  fig.canvas.print_figure(bytes_io, **kw)\n",
      "WARNING:matplotlib.font_manager:findfont: Font family 'IPAGothic' not found.\n",
      "/usr/local/lib/python3.11/dist-packages/IPython/core/pylabtools.py:151: UserWarning: Glyph 20449 (\\N{CJK UNIFIED IDEOGRAPH-4FE1}) missing from font(s) DejaVu Sans.\n",
      "  fig.canvas.print_figure(bytes_io, **kw)\n",
      "/usr/local/lib/python3.11/dist-packages/IPython/core/pylabtools.py:151: UserWarning: Glyph 38972 (\\N{CJK UNIFIED IDEOGRAPH-983C}) missing from font(s) DejaVu Sans.\n",
      "  fig.canvas.print_figure(bytes_io, **kw)\n",
      "WARNING:matplotlib.font_manager:findfont: Font family 'IPAGothic' not found.\n",
      "WARNING:matplotlib.font_manager:findfont: Font family 'IPAGothic' not found.\n",
      "WARNING:matplotlib.font_manager:findfont: Font family 'IPAGothic' not found.\n",
      "WARNING:matplotlib.font_manager:findfont: Font family 'IPAGothic' not found.\n",
      "WARNING:matplotlib.font_manager:findfont: Font family 'IPAGothic' not found.\n",
      "WARNING:matplotlib.font_manager:findfont: Font family 'IPAGothic' not found.\n",
      "WARNING:matplotlib.font_manager:findfont: Font family 'IPAGothic' not found.\n",
      "WARNING:matplotlib.font_manager:findfont: Font family 'IPAGothic' not found.\n",
      "WARNING:matplotlib.font_manager:findfont: Font family 'IPAGothic' not found.\n",
      "WARNING:matplotlib.font_manager:findfont: Font family 'IPAGothic' not found.\n",
      "WARNING:matplotlib.font_manager:findfont: Font family 'IPAGothic' not found.\n",
      "WARNING:matplotlib.font_manager:findfont: Font family 'IPAGothic' not found.\n",
      "WARNING:matplotlib.font_manager:findfont: Font family 'IPAGothic' not found.\n",
      "WARNING:matplotlib.font_manager:findfont: Font family 'IPAGothic' not found.\n",
      "WARNING:matplotlib.font_manager:findfont: Font family 'IPAGothic' not found.\n",
      "WARNING:matplotlib.font_manager:findfont: Font family 'IPAGothic' not found.\n"
     ]
    },
    {
     "data": {
      "image/png": "[encoded data removed]",
      "text/plain": [
       "<Figure size 800x300 with 1 Axes>"
      ]
     },
     "metadata": {},
     "output_type": "display_data"
    }
   ],
   "source": [
    "# https://www.delftstack.com/ja/howto/numpy/numpy-softmax/\n",
    "def np_softmax(x):\n",
    "    f_x = np.exp(x) / np.sum(np.exp(x))\n",
    "    return f_x\n",
    "\n",
    "def analyze_emotion(text, show_fig=False, ret_prob=False):\n",
    "    # 推論モードを有効か\n",
    "    model.eval()\n",
    "\n",
    "    # 入力データ変換 + 推論\n",
    "    tokens = tokenizer(text, truncation=True, return_tensors=\"pt\")\n",
    "    tokens.to(model.device)\n",
    "    preds = model(**tokens)\n",
    "    prob = np_softmax(preds.logits.cpu().detach().numpy()[0])\n",
    "    out_dict = {n: p for n, p in zip(emotion_names_jp, prob)}\n",
    "\n",
    "    # 棒グラフを描画\n",
    "    if show_fig:\n",
    "        plt.figure(figsize=(8, 3))\n",
    "        df = pd.DataFrame(out_dict.items(), columns=['name', 'prob'])\n",
    "        sns.barplot(x='name', y='prob', data=df)\n",
    "        plt.title('入力文 : ' + text, fontsize=15)\n",
    "\n",
    "    if ret_prob:\n",
    "        return out_dict\n",
    "\n",
    "# 動作確認\n",
    "analyze_emotion('今日から長期休暇だぁーーー！！！', show_fig=True)"
   ]
  },
  {
   "cell_type": "code",
   "execution_count": null,
   "metadata": {
    "colab": {
     "base_uri": "https://localhost:8080/",
     "height": 247
    },
    "id": "_aolL3TAJImq",
    "outputId": "d9087d48-92fb-4256-f227-0fe035ed67eb"
   },
   "outputs": [
    {
     "data": {
      "image/png": "[encoded data removed]",
      "text/plain": [
       "<Figure size 576x216 with 1 Axes>"
      ]
     },
     "metadata": {},
     "output_type": "display_data"
    }
   ],
   "source": [
    "analyze_emotion('この書類にはコーヒーかかってなくて良かった…。不幸中の幸いだ。', show_fig=True)"
   ]
  },
  {
   "cell_type": "code",
   "execution_count": null,
   "metadata": {
    "colab": {
     "base_uri": "https://localhost:8080/",
     "height": 247
    },
    "id": "2Wg2978fMB6S",
    "outputId": "e131203b-b1c7-453a-9cba-c4fc7ac49102"
   },
   "outputs": [
    {
     "data": {
      "image/png": "[encoded data removed]",
      "text/plain": [
       "<Figure size 576x216 with 1 Axes>"
      ]
     },
     "metadata": {},
     "output_type": "display_data"
    }
   ],
   "source": [
    "analyze_emotion('なんで自分だけこんな目に遭うんだ……', show_fig=True)"
   ]
  },
  {
   "cell_type": "code",
   "execution_count": null,
   "metadata": {
    "colab": {
     "base_uri": "https://localhost:8080/",
     "height": 248
    },
    "id": "Bg0YRm0vMN26",
    "outputId": "a5ac92f0-8d6e-45c1-d266-eb70d683981e"
   },
   "outputs": [
    {
     "data": {
      "image/png": "[encoded data removed]",
      "text/plain": [
       "<Figure size 576x216 with 1 Axes>"
      ]
     },
     "metadata": {},
     "output_type": "display_data"
    }
   ],
   "source": [
    "analyze_emotion('君ならきっとやってくれると思っていたよ！', show_fig=True)"
   ]
  },
  {
   "cell_type": "code",
   "execution_count": null,
   "metadata": {
    "colab": {
     "base_uri": "https://localhost:8080/",
     "height": 247
    },
    "id": "hVNf1bmAMVYS",
    "outputId": "91667a4b-7b26-414d-da20-1cc33a8a087f"
   },
   "outputs": [
    {
     "data": {
      "image/png": "[encoded data removed]",
      "text/plain": [
       "<Figure size 576x216 with 1 Axes>"
      ]
     },
     "metadata": {},
     "output_type": "display_data"
    }
   ],
   "source": [
    "analyze_emotion('え、今日って休校だったの？', show_fig=True)"
   ]
  },
  {
   "cell_type": "code",
   "execution_count": null,
   "metadata": {
    "colab": {
     "base_uri": "https://localhost:8080/",
     "height": 248
    },
    "id": "9JADJ8eaMaHE",
    "outputId": "4b80c458-775f-4c11-86bb-238d81c0a0df"
   },
   "outputs": [
    {
     "data": {
      "image/png": "[encoded data removed]",
      "text/plain": [
       "<Figure size 576x216 with 1 Axes>"
      ]
     },
     "metadata": {},
     "output_type": "display_data"
    }
   ],
   "source": [
    "analyze_emotion('明日のプレゼンうまくできるかなぁ…', show_fig=True)"
   ]
  },
  {
   "cell_type": "code",
   "execution_count": null,
   "metadata": {
    "colab": {
     "base_uri": "https://localhost:8080/",
     "height": 247
    },
    "id": "hz0a58-62a6J",
    "outputId": "b079e56e-3b2a-49d6-d0ab-4f0911a0199d"
   },
   "outputs": [
    {
     "data": {
      "image/png": "[encoded data removed]",
      "text/plain": [
       "<Figure size 576x216 with 1 Axes>"
      ]
     },
     "metadata": {},
     "output_type": "display_data"
    }
   ],
   "source": [
    "analyze_emotion('あぁー、イライラするっ！！', show_fig=True)"
   ]
  }
 ],
 "metadata": {
  "accelerator": "GPU",
  "colab": {
   "name": "huggingface(pt) + WRIME で感情推定.ipynb",
   "provenance": [],
   "toc_visible": true
  },
  "gpuClass": "standard",
  "kernelspec": {
   "display_name": "Python 3 (ipykernel)",
   "language": "python",
   "name": "python3"
  },
  "language_info": {
   "codemirror_mode": {
    "name": "ipython",
    "version": 3
   },
   "file_extension": ".py",
   "mimetype": "text/x-python",
   "name": "python",
   "nbconvert_exporter": "python",
   "pygments_lexer": "ipython3",
   "version": "3.11.3"
  },
  "widgets": {
   "application/vnd.jupyter.widget-state+json": {
    "12dcfbaccad74fb595fb5c15882d1b58": {
     "model_module": "@jupyter-widgets/base",
     "model_module_version": "1.2.0",
     "model_name": "LayoutModel",
     "state": {
      "_model_module": "@jupyter-widgets/base",
      "_model_module_version": "1.2.0",
      "_model_name": "LayoutModel",
      "_view_count": null,
      "_view_module": "@jupyter-widgets/base",
      "_view_module_version": "1.2.0",
      "_view_name": "LayoutView",
      "align_content": null,
      "align_items": null,
      "align_self": null,
      "border": null,
      "bottom": null,
      "display": null,
      "flex": null,
      "flex_flow": null,
      "grid_area": null,
      "grid_auto_columns": null,
      "grid_auto_flow": null,
      "grid_auto_rows": null,
      "grid_column": null,
      "grid_gap": null,
      "grid_row": null,
      "grid_template_areas": null,
      "grid_template_columns": null,
      "grid_template_rows": null,
      "height": null,
      "justify_content": null,
      "justify_items": null,
      "left": null,
      "margin": null,
      "max_height": null,
      "max_width": null,
      "min_height": null,
      "min_width": null,
      "object_fit": null,
      "object_position": null,
      "order": null,
      "overflow": null,
      "overflow_x": null,
      "overflow_y": null,
      "padding": null,
      "right": null,
      "top": null,
      "visibility": null,
      "width": null
     }
    },
    "172ac98a92484a65a373969f84f818d4": {
     "model_module": "@jupyter-widgets/controls",
     "model_module_version": "1.5.0",
     "model_name": "HTMLModel",
     "state": {
      "_dom_classes": [],
      "_model_module": "@jupyter-widgets/controls",
      "_model_module_version": "1.5.0",
      "_model_name": "HTMLModel",
      "_view_count": null,
      "_view_module": "@jupyter-widgets/controls",
      "_view_module_version": "1.5.0",
      "_view_name": "HTMLView",
      "description": "",
      "description_tooltip": null,
      "layout": "IPY_MODEL_7243815d8ce943a4983504f3e78a663b",
      "placeholder": "​",
      "style": "IPY_MODEL_7eab792e93e4437da7a93fcab616b631",
      "value": "Map:  99%"
     }
    },
    "286cbe3187fc4302a90ecc65a9f4ecde": {
     "model_module": "@jupyter-widgets/controls",
     "model_module_version": "1.5.0",
     "model_name": "HBoxModel",
     "state": {
      "_dom_classes": [],
      "_model_module": "@jupyter-widgets/controls",
      "_model_module_version": "1.5.0",
      "_model_name": "HBoxModel",
      "_view_count": null,
      "_view_module": "@jupyter-widgets/controls",
      "_view_module_version": "1.5.0",
      "_view_name": "HBoxView",
      "box_style": "",
      "children": [
       "IPY_MODEL_172ac98a92484a65a373969f84f818d4",
       "IPY_MODEL_3e77239abc0f46b9ab0b6c7042edd33d",
       "IPY_MODEL_cd2dda0b34fe44e49863558fbf661f33"
      ],
      "layout": "IPY_MODEL_536dff7225a44802baa9f46f0d716128"
     }
    },
    "367b57115e324821a4e364a2838e69ca": {
     "model_module": "@jupyter-widgets/base",
     "model_module_version": "1.2.0",
     "model_name": "LayoutModel",
     "state": {
      "_model_module": "@jupyter-widgets/base",
      "_model_module_version": "1.2.0",
      "_model_name": "LayoutModel",
      "_view_count": null,
      "_view_module": "@jupyter-widgets/base",
      "_view_module_version": "1.2.0",
      "_view_name": "LayoutView",
      "align_content": null,
      "align_items": null,
      "align_self": null,
      "border": null,
      "bottom": null,
      "display": null,
      "flex": null,
      "flex_flow": null,
      "grid_area": null,
      "grid_auto_columns": null,
      "grid_auto_flow": null,
      "grid_auto_rows": null,
      "grid_column": null,
      "grid_gap": null,
      "grid_row": null,
      "grid_template_areas": null,
      "grid_template_columns": null,
      "grid_template_rows": null,
      "height": null,
      "justify_content": null,
      "justify_items": null,
      "left": null,
      "margin": null,
      "max_height": null,
      "max_width": null,
      "min_height": null,
      "min_width": null,
      "object_fit": null,
      "object_position": null,
      "order": null,
      "overflow": null,
      "overflow_x": null,
      "overflow_y": null,
      "padding": null,
      "right": null,
      "top": null,
      "visibility": null,
      "width": null
     }
    },
    "3e77239abc0f46b9ab0b6c7042edd33d": {
     "model_module": "@jupyter-widgets/controls",
     "model_module_version": "1.5.0",
     "model_name": "FloatProgressModel",
     "state": {
      "_dom_classes": [],
      "_model_module": "@jupyter-widgets/controls",
      "_model_module_version": "1.5.0",
      "_model_name": "FloatProgressModel",
      "_view_count": null,
      "_view_module": "@jupyter-widgets/controls",
      "_view_module_version": "1.5.0",
      "_view_name": "ProgressView",
      "bar_style": "",
      "description": "",
      "description_tooltip": null,
      "layout": "IPY_MODEL_cff035c1f6ff4786ac50d2988db69925",
      "max": 17104,
      "min": 0,
      "orientation": "horizontal",
      "style": "IPY_MODEL_82fe24206b26409eb46139054c5c37cf",
      "value": 17104
     }
    },
    "4a253998a7c04a259c5fae63f82b84d5": {
     "model_module": "@jupyter-widgets/base",
     "model_module_version": "1.2.0",
     "model_name": "LayoutModel",
     "state": {
      "_model_module": "@jupyter-widgets/base",
      "_model_module_version": "1.2.0",
      "_model_name": "LayoutModel",
      "_view_count": null,
      "_view_module": "@jupyter-widgets/base",
      "_view_module_version": "1.2.0",
      "_view_name": "LayoutView",
      "align_content": null,
      "align_items": null,
      "align_self": null,
      "border": null,
      "bottom": null,
      "display": null,
      "flex": null,
      "flex_flow": null,
      "grid_area": null,
      "grid_auto_columns": null,
      "grid_auto_flow": null,
      "grid_auto_rows": null,
      "grid_column": null,
      "grid_gap": null,
      "grid_row": null,
      "grid_template_areas": null,
      "grid_template_columns": null,
      "grid_template_rows": null,
      "height": null,
      "justify_content": null,
      "justify_items": null,
      "left": null,
      "margin": null,
      "max_height": null,
      "max_width": null,
      "min_height": null,
      "min_width": null,
      "object_fit": null,
      "object_position": null,
      "order": null,
      "overflow": null,
      "overflow_x": null,
      "overflow_y": null,
      "padding": null,
      "right": null,
      "top": null,
      "visibility": null,
      "width": null
     }
    },
    "4d440970099740b5a403203b1076e7e3": {
     "model_module": "@jupyter-widgets/base",
     "model_module_version": "1.2.0",
     "model_name": "LayoutModel",
     "state": {
      "_model_module": "@jupyter-widgets/base",
      "_model_module_version": "1.2.0",
      "_model_name": "LayoutModel",
      "_view_count": null,
      "_view_module": "@jupyter-widgets/base",
      "_view_module_version": "1.2.0",
      "_view_name": "LayoutView",
      "align_content": null,
      "align_items": null,
      "align_self": null,
      "border": null,
      "bottom": null,
      "display": null,
      "flex": null,
      "flex_flow": null,
      "grid_area": null,
      "grid_auto_columns": null,
      "grid_auto_flow": null,
      "grid_auto_rows": null,
      "grid_column": null,
      "grid_gap": null,
      "grid_row": null,
      "grid_template_areas": null,
      "grid_template_columns": null,
      "grid_template_rows": null,
      "height": null,
      "justify_content": null,
      "justify_items": null,
      "left": null,
      "margin": null,
      "max_height": null,
      "max_width": null,
      "min_height": null,
      "min_width": null,
      "object_fit": null,
      "object_position": null,
      "order": null,
      "overflow": null,
      "overflow_x": null,
      "overflow_y": null,
      "padding": null,
      "right": null,
      "top": null,
      "visibility": null,
      "width": null
     }
    },
    "536dff7225a44802baa9f46f0d716128": {
     "model_module": "@jupyter-widgets/base",
     "model_module_version": "1.2.0",
     "model_name": "LayoutModel",
     "state": {
      "_model_module": "@jupyter-widgets/base",
      "_model_module_version": "1.2.0",
      "_model_name": "LayoutModel",
      "_view_count": null,
      "_view_module": "@jupyter-widgets/base",
      "_view_module_version": "1.2.0",
      "_view_name": "LayoutView",
      "align_content": null,
      "align_items": null,
      "align_self": null,
      "border": null,
      "bottom": null,
      "display": null,
      "flex": null,
      "flex_flow": null,
      "grid_area": null,
      "grid_auto_columns": null,
      "grid_auto_flow": null,
      "grid_auto_rows": null,
      "grid_column": null,
      "grid_gap": null,
      "grid_row": null,
      "grid_template_areas": null,
      "grid_template_columns": null,
      "grid_template_rows": null,
      "height": null,
      "justify_content": null,
      "justify_items": null,
      "left": null,
      "margin": null,
      "max_height": null,
      "max_width": null,
      "min_height": null,
      "min_width": null,
      "object_fit": null,
      "object_position": null,
      "order": null,
      "overflow": null,
      "overflow_x": null,
      "overflow_y": null,
      "padding": null,
      "right": null,
      "top": null,
      "visibility": "hidden",
      "width": null
     }
    },
    "5e9c7c5e74854b56a498fd0536b3429c": {
     "model_module": "@jupyter-widgets/controls",
     "model_module_version": "1.5.0",
     "model_name": "HTMLModel",
     "state": {
      "_dom_classes": [],
      "_model_module": "@jupyter-widgets/controls",
      "_model_module_version": "1.5.0",
      "_model_name": "HTMLModel",
      "_view_count": null,
      "_view_module": "@jupyter-widgets/controls",
      "_view_module_version": "1.5.0",
      "_view_name": "HTMLView",
      "description": "",
      "description_tooltip": null,
      "layout": "IPY_MODEL_826547ad1e404ca999e23e4a04fd482a",
      "placeholder": "​",
      "style": "IPY_MODEL_f7d058724b8b4216979cb30db43e3492",
      "value": " 4.21k/? [00:00&lt;00:00, 66.5kB/s]"
     }
    },
    "71ead1fad29243879713cea06e8d2e5c": {
     "model_module": "@jupyter-widgets/base",
     "model_module_version": "1.2.0",
     "model_name": "LayoutModel",
     "state": {
      "_model_module": "@jupyter-widgets/base",
      "_model_module_version": "1.2.0",
      "_model_name": "LayoutModel",
      "_view_count": null,
      "_view_module": "@jupyter-widgets/base",
      "_view_module_version": "1.2.0",
      "_view_name": "LayoutView",
      "align_content": null,
      "align_items": null,
      "align_self": null,
      "border": null,
      "bottom": null,
      "display": null,
      "flex": null,
      "flex_flow": null,
      "grid_area": null,
      "grid_auto_columns": null,
      "grid_auto_flow": null,
      "grid_auto_rows": null,
      "grid_column": null,
      "grid_gap": null,
      "grid_row": null,
      "grid_template_areas": null,
      "grid_template_columns": null,
      "grid_template_rows": null,
      "height": null,
      "justify_content": null,
      "justify_items": null,
      "left": null,
      "margin": null,
      "max_height": null,
      "max_width": null,
      "min_height": null,
      "min_width": null,
      "object_fit": null,
      "object_position": null,
      "order": null,
      "overflow": null,
      "overflow_x": null,
      "overflow_y": null,
      "padding": null,
      "right": null,
      "top": null,
      "visibility": null,
      "width": null
     }
    },
    "7243815d8ce943a4983504f3e78a663b": {
     "model_module": "@jupyter-widgets/base",
     "model_module_version": "1.2.0",
     "model_name": "LayoutModel",
     "state": {
      "_model_module": "@jupyter-widgets/base",
      "_model_module_version": "1.2.0",
      "_model_name": "LayoutModel",
      "_view_count": null,
      "_view_module": "@jupyter-widgets/base",
      "_view_module_version": "1.2.0",
      "_view_name": "LayoutView",
      "align_content": null,
      "align_items": null,
      "align_self": null,
      "border": null,
      "bottom": null,
      "display": null,
      "flex": null,
      "flex_flow": null,
      "grid_area": null,
      "grid_auto_columns": null,
      "grid_auto_flow": null,
      "grid_auto_rows": null,
      "grid_column": null,
      "grid_gap": null,
      "grid_row": null,
      "grid_template_areas": null,
      "grid_template_columns": null,
      "grid_template_rows": null,
      "height": null,
      "justify_content": null,
      "justify_items": null,
      "left": null,
      "margin": null,
      "max_height": null,
      "max_width": null,
      "min_height": null,
      "min_width": null,
      "object_fit": null,
      "object_position": null,
      "order": null,
      "overflow": null,
      "overflow_x": null,
      "overflow_y": null,
      "padding": null,
      "right": null,
      "top": null,
      "visibility": null,
      "width": null
     }
    },
    "75aa6b2b5f30443ca0ec34e6c08eb42f": {
     "model_module": "@jupyter-widgets/base",
     "model_module_version": "1.2.0",
     "model_name": "LayoutModel",
     "state": {
      "_model_module": "@jupyter-widgets/base",
      "_model_module_version": "1.2.0",
      "_model_name": "LayoutModel",
      "_view_count": null,
      "_view_module": "@jupyter-widgets/base",
      "_view_module_version": "1.2.0",
      "_view_name": "LayoutView",
      "align_content": null,
      "align_items": null,
      "align_self": null,
      "border": null,
      "bottom": null,
      "display": null,
      "flex": null,
      "flex_flow": null,
      "grid_area": null,
      "grid_auto_columns": null,
      "grid_auto_flow": null,
      "grid_auto_rows": null,
      "grid_column": null,
      "grid_gap": null,
      "grid_row": null,
      "grid_template_areas": null,
      "grid_template_columns": null,
      "grid_template_rows": null,
      "height": null,
      "justify_content": null,
      "justify_items": null,
      "left": null,
      "margin": null,
      "max_height": null,
      "max_width": null,
      "min_height": null,
      "min_width": null,
      "object_fit": null,
      "object_position": null,
      "order": null,
      "overflow": null,
      "overflow_x": null,
      "overflow_y": null,
      "padding": null,
      "right": null,
      "top": null,
      "visibility": null,
      "width": null
     }
    },
    "7689916cd9e14d4291e3b330347be7d8": {
     "model_module": "@jupyter-widgets/controls",
     "model_module_version": "1.5.0",
     "model_name": "ProgressStyleModel",
     "state": {
      "_model_module": "@jupyter-widgets/controls",
      "_model_module_version": "1.5.0",
      "_model_name": "ProgressStyleModel",
      "_view_count": null,
      "_view_module": "@jupyter-widgets/base",
      "_view_module_version": "1.2.0",
      "_view_name": "StyleView",
      "bar_color": null,
      "description_width": ""
     }
    },
    "7a2add52353141a095890cf796810f01": {
     "model_module": "@jupyter-widgets/controls",
     "model_module_version": "1.5.0",
     "model_name": "DescriptionStyleModel",
     "state": {
      "_model_module": "@jupyter-widgets/controls",
      "_model_module_version": "1.5.0",
      "_model_name": "DescriptionStyleModel",
      "_view_count": null,
      "_view_module": "@jupyter-widgets/base",
      "_view_module_version": "1.2.0",
      "_view_name": "StyleView",
      "description_width": ""
     }
    },
    "7eab792e93e4437da7a93fcab616b631": {
     "model_module": "@jupyter-widgets/controls",
     "model_module_version": "1.5.0",
     "model_name": "DescriptionStyleModel",
     "state": {
      "_model_module": "@jupyter-widgets/controls",
      "_model_module_version": "1.5.0",
      "_model_name": "DescriptionStyleModel",
      "_view_count": null,
      "_view_module": "@jupyter-widgets/base",
      "_view_module_version": "1.2.0",
      "_view_name": "StyleView",
      "description_width": ""
     }
    },
    "80e445eb36b146fb99ae784fb38d9fd2": {
     "model_module": "@jupyter-widgets/controls",
     "model_module_version": "1.5.0",
     "model_name": "DescriptionStyleModel",
     "state": {
      "_model_module": "@jupyter-widgets/controls",
      "_model_module_version": "1.5.0",
      "_model_name": "DescriptionStyleModel",
      "_view_count": null,
      "_view_module": "@jupyter-widgets/base",
      "_view_module_version": "1.2.0",
      "_view_name": "StyleView",
      "description_width": ""
     }
    },
    "826547ad1e404ca999e23e4a04fd482a": {
     "model_module": "@jupyter-widgets/base",
     "model_module_version": "1.2.0",
     "model_name": "LayoutModel",
     "state": {
      "_model_module": "@jupyter-widgets/base",
      "_model_module_version": "1.2.0",
      "_model_name": "LayoutModel",
      "_view_count": null,
      "_view_module": "@jupyter-widgets/base",
      "_view_module_version": "1.2.0",
      "_view_name": "LayoutView",
      "align_content": null,
      "align_items": null,
      "align_self": null,
      "border": null,
      "bottom": null,
      "display": null,
      "flex": null,
      "flex_flow": null,
      "grid_area": null,
      "grid_auto_columns": null,
      "grid_auto_flow": null,
      "grid_auto_rows": null,
      "grid_column": null,
      "grid_gap": null,
      "grid_row": null,
      "grid_template_areas": null,
      "grid_template_columns": null,
      "grid_template_rows": null,
      "height": null,
      "justify_content": null,
      "justify_items": null,
      "left": null,
      "margin": null,
      "max_height": null,
      "max_width": null,
      "min_height": null,
      "min_width": null,
      "object_fit": null,
      "object_position": null,
      "order": null,
      "overflow": null,
      "overflow_x": null,
      "overflow_y": null,
      "padding": null,
      "right": null,
      "top": null,
      "visibility": null,
      "width": null
     }
    },
    "82714c75958e41db99fe10b5b4ed3950": {
     "model_module": "@jupyter-widgets/controls",
     "model_module_version": "1.5.0",
     "model_name": "HBoxModel",
     "state": {
      "_dom_classes": [],
      "_model_module": "@jupyter-widgets/controls",
      "_model_module_version": "1.5.0",
      "_model_name": "HBoxModel",
      "_view_count": null,
      "_view_module": "@jupyter-widgets/controls",
      "_view_module_version": "1.5.0",
      "_view_name": "HBoxView",
      "box_style": "",
      "children": [
       "IPY_MODEL_b0ab48aa4a494dd88c71d5024659de26",
       "IPY_MODEL_a85661058a654fda91d3b2414acc411c",
       "IPY_MODEL_e769a3c8013547edabbd083c60dda0aa"
      ],
      "layout": "IPY_MODEL_367b57115e324821a4e364a2838e69ca"
     }
    },
    "82fe24206b26409eb46139054c5c37cf": {
     "model_module": "@jupyter-widgets/controls",
     "model_module_version": "1.5.0",
     "model_name": "ProgressStyleModel",
     "state": {
      "_model_module": "@jupyter-widgets/controls",
      "_model_module_version": "1.5.0",
      "_model_name": "ProgressStyleModel",
      "_view_count": null,
      "_view_module": "@jupyter-widgets/base",
      "_view_module_version": "1.2.0",
      "_view_name": "StyleView",
      "bar_color": null,
      "description_width": ""
     }
    },
    "861b08c3f73a4fc8bc7e95120f62e846": {
     "model_module": "@jupyter-widgets/controls",
     "model_module_version": "1.5.0",
     "model_name": "DescriptionStyleModel",
     "state": {
      "_model_module": "@jupyter-widgets/controls",
      "_model_module_version": "1.5.0",
      "_model_name": "DescriptionStyleModel",
      "_view_count": null,
      "_view_module": "@jupyter-widgets/base",
      "_view_module_version": "1.2.0",
      "_view_name": "StyleView",
      "description_width": ""
     }
    },
    "867cfc1b2d8d4a1186ad996a7d012d31": {
     "model_module": "@jupyter-widgets/controls",
     "model_module_version": "1.5.0",
     "model_name": "DescriptionStyleModel",
     "state": {
      "_model_module": "@jupyter-widgets/controls",
      "_model_module_version": "1.5.0",
      "_model_name": "DescriptionStyleModel",
      "_view_count": null,
      "_view_module": "@jupyter-widgets/base",
      "_view_module_version": "1.2.0",
      "_view_name": "StyleView",
      "description_width": ""
     }
    },
    "93fcbae427c84014996942b0796915e3": {
     "model_module": "@jupyter-widgets/controls",
     "model_module_version": "1.5.0",
     "model_name": "HTMLModel",
     "state": {
      "_dom_classes": [],
      "_model_module": "@jupyter-widgets/controls",
      "_model_module_version": "1.5.0",
      "_model_name": "HTMLModel",
      "_view_count": null,
      "_view_module": "@jupyter-widgets/controls",
      "_view_module_version": "1.5.0",
      "_view_name": "HTMLView",
      "description": "",
      "description_tooltip": null,
      "layout": "IPY_MODEL_12dcfbaccad74fb595fb5c15882d1b58",
      "placeholder": "​",
      "style": "IPY_MODEL_861b08c3f73a4fc8bc7e95120f62e846",
      "value": "Downloading builder script: "
     }
    },
    "9a8fe048265a4eb4a64563625444a917": {
     "model_module": "@jupyter-widgets/controls",
     "model_module_version": "1.5.0",
     "model_name": "HTMLModel",
     "state": {
      "_dom_classes": [],
      "_model_module": "@jupyter-widgets/controls",
      "_model_module_version": "1.5.0",
      "_model_name": "HTMLModel",
      "_view_count": null,
      "_view_module": "@jupyter-widgets/controls",
      "_view_module_version": "1.5.0",
      "_view_name": "HTMLView",
      "description": "",
      "description_tooltip": null,
      "layout": "IPY_MODEL_4d440970099740b5a403203b1076e7e3",
      "placeholder": "​",
      "style": "IPY_MODEL_867cfc1b2d8d4a1186ad996a7d012d31",
      "value": "Map:  88%"
     }
    },
    "9fbd97ac5224483bb406089fa0b936bb": {
     "model_module": "@jupyter-widgets/controls",
     "model_module_version": "1.5.0",
     "model_name": "HBoxModel",
     "state": {
      "_dom_classes": [],
      "_model_module": "@jupyter-widgets/controls",
      "_model_module_version": "1.5.0",
      "_model_name": "HBoxModel",
      "_view_count": null,
      "_view_module": "@jupyter-widgets/controls",
      "_view_module_version": "1.5.0",
      "_view_name": "HBoxView",
      "box_style": "",
      "children": [
       "IPY_MODEL_9a8fe048265a4eb4a64563625444a917",
       "IPY_MODEL_c58db438524940d5b9cb86e3d3e727e8",
       "IPY_MODEL_c7223e5d05b6428aab0a2e71de33cf03"
      ],
      "layout": "IPY_MODEL_cee4833b160d42a39da0c8645897ef9e"
     }
    },
    "a85661058a654fda91d3b2414acc411c": {
     "model_module": "@jupyter-widgets/controls",
     "model_module_version": "1.5.0",
     "model_name": "FloatProgressModel",
     "state": {
      "_dom_classes": [],
      "_model_module": "@jupyter-widgets/controls",
      "_model_module_version": "1.5.0",
      "_model_name": "FloatProgressModel",
      "_view_count": null,
      "_view_module": "@jupyter-widgets/controls",
      "_view_module_version": "1.5.0",
      "_view_name": "ProgressView",
      "bar_style": "success",
      "description": "",
      "description_tooltip": null,
      "layout": "IPY_MODEL_de8bbfc87fc34cffb35050fd55fc302b",
      "max": 445021143,
      "min": 0,
      "orientation": "horizontal",
      "style": "IPY_MODEL_e726f836618941b9b5b34ca2a09fe9b6",
      "value": 445021143
     }
    },
    "af9b997e834847b699269ef962e396da": {
     "model_module": "@jupyter-widgets/base",
     "model_module_version": "1.2.0",
     "model_name": "LayoutModel",
     "state": {
      "_model_module": "@jupyter-widgets/base",
      "_model_module_version": "1.2.0",
      "_model_name": "LayoutModel",
      "_view_count": null,
      "_view_module": "@jupyter-widgets/base",
      "_view_module_version": "1.2.0",
      "_view_name": "LayoutView",
      "align_content": null,
      "align_items": null,
      "align_self": null,
      "border": null,
      "bottom": null,
      "display": null,
      "flex": null,
      "flex_flow": null,
      "grid_area": null,
      "grid_auto_columns": null,
      "grid_auto_flow": null,
      "grid_auto_rows": null,
      "grid_column": null,
      "grid_gap": null,
      "grid_row": null,
      "grid_template_areas": null,
      "grid_template_columns": null,
      "grid_template_rows": null,
      "height": null,
      "justify_content": null,
      "justify_items": null,
      "left": null,
      "margin": null,
      "max_height": null,
      "max_width": null,
      "min_height": null,
      "min_width": null,
      "object_fit": null,
      "object_position": null,
      "order": null,
      "overflow": null,
      "overflow_x": null,
      "overflow_y": null,
      "padding": null,
      "right": null,
      "top": null,
      "visibility": null,
      "width": null
     }
    },
    "b0ab48aa4a494dd88c71d5024659de26": {
     "model_module": "@jupyter-widgets/controls",
     "model_module_version": "1.5.0",
     "model_name": "HTMLModel",
     "state": {
      "_dom_classes": [],
      "_model_module": "@jupyter-widgets/controls",
      "_model_module_version": "1.5.0",
      "_model_name": "HTMLModel",
      "_view_count": null,
      "_view_module": "@jupyter-widgets/controls",
      "_view_module_version": "1.5.0",
      "_view_name": "HTMLView",
      "description": "",
      "description_tooltip": null,
      "layout": "IPY_MODEL_75aa6b2b5f30443ca0ec34e6c08eb42f",
      "placeholder": "​",
      "style": "IPY_MODEL_80e445eb36b146fb99ae784fb38d9fd2",
      "value": "pytorch_model.bin: 100%"
     }
    },
    "b11a1974452b4d4986080469a5b7ad07": {
     "model_module": "@jupyter-widgets/controls",
     "model_module_version": "1.5.0",
     "model_name": "DescriptionStyleModel",
     "state": {
      "_model_module": "@jupyter-widgets/controls",
      "_model_module_version": "1.5.0",
      "_model_name": "DescriptionStyleModel",
      "_view_count": null,
      "_view_module": "@jupyter-widgets/base",
      "_view_module_version": "1.2.0",
      "_view_name": "StyleView",
      "description_width": ""
     }
    },
    "b693a61b4b9c4baeb283c65b04cd8c4b": {
     "model_module": "@jupyter-widgets/base",
     "model_module_version": "1.2.0",
     "model_name": "LayoutModel",
     "state": {
      "_model_module": "@jupyter-widgets/base",
      "_model_module_version": "1.2.0",
      "_model_name": "LayoutModel",
      "_view_count": null,
      "_view_module": "@jupyter-widgets/base",
      "_view_module_version": "1.2.0",
      "_view_name": "LayoutView",
      "align_content": null,
      "align_items": null,
      "align_self": null,
      "border": null,
      "bottom": null,
      "display": null,
      "flex": null,
      "flex_flow": null,
      "grid_area": null,
      "grid_auto_columns": null,
      "grid_auto_flow": null,
      "grid_auto_rows": null,
      "grid_column": null,
      "grid_gap": null,
      "grid_row": null,
      "grid_template_areas": null,
      "grid_template_columns": null,
      "grid_template_rows": null,
      "height": null,
      "justify_content": null,
      "justify_items": null,
      "left": null,
      "margin": null,
      "max_height": null,
      "max_width": null,
      "min_height": null,
      "min_width": null,
      "object_fit": null,
      "object_position": null,
      "order": null,
      "overflow": null,
      "overflow_x": null,
      "overflow_y": null,
      "padding": null,
      "right": null,
      "top": null,
      "visibility": null,
      "width": null
     }
    },
    "b97f8b70d20a454e9427a4692ad36bc8": {
     "model_module": "@jupyter-widgets/controls",
     "model_module_version": "1.5.0",
     "model_name": "FloatProgressModel",
     "state": {
      "_dom_classes": [],
      "_model_module": "@jupyter-widgets/controls",
      "_model_module_version": "1.5.0",
      "_model_name": "FloatProgressModel",
      "_view_count": null,
      "_view_module": "@jupyter-widgets/controls",
      "_view_module_version": "1.5.0",
      "_view_name": "ProgressView",
      "bar_style": "success",
      "description": "",
      "description_tooltip": null,
      "layout": "IPY_MODEL_71ead1fad29243879713cea06e8d2e5c",
      "max": 1652,
      "min": 0,
      "orientation": "horizontal",
      "style": "IPY_MODEL_7689916cd9e14d4291e3b330347be7d8",
      "value": 1652
     }
    },
    "bef1e8566752440cb93f84cf20de7c61": {
     "model_module": "@jupyter-widgets/controls",
     "model_module_version": "1.5.0",
     "model_name": "DescriptionStyleModel",
     "state": {
      "_model_module": "@jupyter-widgets/controls",
      "_model_module_version": "1.5.0",
      "_model_name": "DescriptionStyleModel",
      "_view_count": null,
      "_view_module": "@jupyter-widgets/base",
      "_view_module_version": "1.2.0",
      "_view_name": "StyleView",
      "description_width": ""
     }
    },
    "c15f5b92ead540348d94c3a08ac4aac4": {
     "model_module": "@jupyter-widgets/base",
     "model_module_version": "1.2.0",
     "model_name": "LayoutModel",
     "state": {
      "_model_module": "@jupyter-widgets/base",
      "_model_module_version": "1.2.0",
      "_model_name": "LayoutModel",
      "_view_count": null,
      "_view_module": "@jupyter-widgets/base",
      "_view_module_version": "1.2.0",
      "_view_name": "LayoutView",
      "align_content": null,
      "align_items": null,
      "align_self": null,
      "border": null,
      "bottom": null,
      "display": null,
      "flex": null,
      "flex_flow": null,
      "grid_area": null,
      "grid_auto_columns": null,
      "grid_auto_flow": null,
      "grid_auto_rows": null,
      "grid_column": null,
      "grid_gap": null,
      "grid_row": null,
      "grid_template_areas": null,
      "grid_template_columns": null,
      "grid_template_rows": null,
      "height": null,
      "justify_content": null,
      "justify_items": null,
      "left": null,
      "margin": null,
      "max_height": null,
      "max_width": null,
      "min_height": null,
      "min_width": null,
      "object_fit": null,
      "object_position": null,
      "order": null,
      "overflow": null,
      "overflow_x": null,
      "overflow_y": null,
      "padding": null,
      "right": null,
      "top": null,
      "visibility": null,
      "width": null
     }
    },
    "c58db438524940d5b9cb86e3d3e727e8": {
     "model_module": "@jupyter-widgets/controls",
     "model_module_version": "1.5.0",
     "model_name": "FloatProgressModel",
     "state": {
      "_dom_classes": [],
      "_model_module": "@jupyter-widgets/controls",
      "_model_module_version": "1.5.0",
      "_model_name": "FloatProgressModel",
      "_view_count": null,
      "_view_module": "@jupyter-widgets/controls",
      "_view_module_version": "1.5.0",
      "_view_name": "ProgressView",
      "bar_style": "",
      "description": "",
      "description_tooltip": null,
      "layout": "IPY_MODEL_af9b997e834847b699269ef962e396da",
      "max": 1133,
      "min": 0,
      "orientation": "horizontal",
      "style": "IPY_MODEL_fb23b8e42d9c4440ab85dcb75f251395",
      "value": 1133
     }
    },
    "c7223e5d05b6428aab0a2e71de33cf03": {
     "model_module": "@jupyter-widgets/controls",
     "model_module_version": "1.5.0",
     "model_name": "HTMLModel",
     "state": {
      "_dom_classes": [],
      "_model_module": "@jupyter-widgets/controls",
      "_model_module_version": "1.5.0",
      "_model_name": "HTMLModel",
      "_view_count": null,
      "_view_module": "@jupyter-widgets/controls",
      "_view_module_version": "1.5.0",
      "_view_name": "HTMLView",
      "description": "",
      "description_tooltip": null,
      "layout": "IPY_MODEL_c15f5b92ead540348d94c3a08ac4aac4",
      "placeholder": "​",
      "style": "IPY_MODEL_b11a1974452b4d4986080469a5b7ad07",
      "value": " 1000/1133 [00:00&lt;00:00, 2063.33 examples/s]"
     }
    },
    "cd2dda0b34fe44e49863558fbf661f33": {
     "model_module": "@jupyter-widgets/controls",
     "model_module_version": "1.5.0",
     "model_name": "HTMLModel",
     "state": {
      "_dom_classes": [],
      "_model_module": "@jupyter-widgets/controls",
      "_model_module_version": "1.5.0",
      "_model_name": "HTMLModel",
      "_view_count": null,
      "_view_module": "@jupyter-widgets/controls",
      "_view_module_version": "1.5.0",
      "_view_name": "HTMLView",
      "description": "",
      "description_tooltip": null,
      "layout": "IPY_MODEL_4a253998a7c04a259c5fae63f82b84d5",
      "placeholder": "​",
      "style": "IPY_MODEL_7a2add52353141a095890cf796810f01",
      "value": " 17000/17104 [00:09&lt;00:00, 1929.23 examples/s]"
     }
    },
    "cee4833b160d42a39da0c8645897ef9e": {
     "model_module": "@jupyter-widgets/base",
     "model_module_version": "1.2.0",
     "model_name": "LayoutModel",
     "state": {
      "_model_module": "@jupyter-widgets/base",
      "_model_module_version": "1.2.0",
      "_model_name": "LayoutModel",
      "_view_count": null,
      "_view_module": "@jupyter-widgets/base",
      "_view_module_version": "1.2.0",
      "_view_name": "LayoutView",
      "align_content": null,
      "align_items": null,
      "align_self": null,
      "border": null,
      "bottom": null,
      "display": null,
      "flex": null,
      "flex_flow": null,
      "grid_area": null,
      "grid_auto_columns": null,
      "grid_auto_flow": null,
      "grid_auto_rows": null,
      "grid_column": null,
      "grid_gap": null,
      "grid_row": null,
      "grid_template_areas": null,
      "grid_template_columns": null,
      "grid_template_rows": null,
      "height": null,
      "justify_content": null,
      "justify_items": null,
      "left": null,
      "margin": null,
      "max_height": null,
      "max_width": null,
      "min_height": null,
      "min_width": null,
      "object_fit": null,
      "object_position": null,
      "order": null,
      "overflow": null,
      "overflow_x": null,
      "overflow_y": null,
      "padding": null,
      "right": null,
      "top": null,
      "visibility": "hidden",
      "width": null
     }
    },
    "cff035c1f6ff4786ac50d2988db69925": {
     "model_module": "@jupyter-widgets/base",
     "model_module_version": "1.2.0",
     "model_name": "LayoutModel",
     "state": {
      "_model_module": "@jupyter-widgets/base",
      "_model_module_version": "1.2.0",
      "_model_name": "LayoutModel",
      "_view_count": null,
      "_view_module": "@jupyter-widgets/base",
      "_view_module_version": "1.2.0",
      "_view_name": "LayoutView",
      "align_content": null,
      "align_items": null,
      "align_self": null,
      "border": null,
      "bottom": null,
      "display": null,
      "flex": null,
      "flex_flow": null,
      "grid_area": null,
      "grid_auto_columns": null,
      "grid_auto_flow": null,
      "grid_auto_rows": null,
      "grid_column": null,
      "grid_gap": null,
      "grid_row": null,
      "grid_template_areas": null,
      "grid_template_columns": null,
      "grid_template_rows": null,
      "height": null,
      "justify_content": null,
      "justify_items": null,
      "left": null,
      "margin": null,
      "max_height": null,
      "max_width": null,
      "min_height": null,
      "min_width": null,
      "object_fit": null,
      "object_position": null,
      "order": null,
      "overflow": null,
      "overflow_x": null,
      "overflow_y": null,
      "padding": null,
      "right": null,
      "top": null,
      "visibility": null,
      "width": null
     }
    },
    "de8bbfc87fc34cffb35050fd55fc302b": {
     "model_module": "@jupyter-widgets/base",
     "model_module_version": "1.2.0",
     "model_name": "LayoutModel",
     "state": {
      "_model_module": "@jupyter-widgets/base",
      "_model_module_version": "1.2.0",
      "_model_name": "LayoutModel",
      "_view_count": null,
      "_view_module": "@jupyter-widgets/base",
      "_view_module_version": "1.2.0",
      "_view_name": "LayoutView",
      "align_content": null,
      "align_items": null,
      "align_self": null,
      "border": null,
      "bottom": null,
      "display": null,
      "flex": null,
      "flex_flow": null,
      "grid_area": null,
      "grid_auto_columns": null,
      "grid_auto_flow": null,
      "grid_auto_rows": null,
      "grid_column": null,
      "grid_gap": null,
      "grid_row": null,
      "grid_template_areas": null,
      "grid_template_columns": null,
      "grid_template_rows": null,
      "height": null,
      "justify_content": null,
      "justify_items": null,
      "left": null,
      "margin": null,
      "max_height": null,
      "max_width": null,
      "min_height": null,
      "min_width": null,
      "object_fit": null,
      "object_position": null,
      "order": null,
      "overflow": null,
      "overflow_x": null,
      "overflow_y": null,
      "padding": null,
      "right": null,
      "top": null,
      "visibility": null,
      "width": null
     }
    },
    "e726f836618941b9b5b34ca2a09fe9b6": {
     "model_module": "@jupyter-widgets/controls",
     "model_module_version": "1.5.0",
     "model_name": "ProgressStyleModel",
     "state": {
      "_model_module": "@jupyter-widgets/controls",
      "_model_module_version": "1.5.0",
      "_model_name": "ProgressStyleModel",
      "_view_count": null,
      "_view_module": "@jupyter-widgets/base",
      "_view_module_version": "1.2.0",
      "_view_name": "StyleView",
      "bar_color": null,
      "description_width": ""
     }
    },
    "e769a3c8013547edabbd083c60dda0aa": {
     "model_module": "@jupyter-widgets/controls",
     "model_module_version": "1.5.0",
     "model_name": "HTMLModel",
     "state": {
      "_dom_classes": [],
      "_model_module": "@jupyter-widgets/controls",
      "_model_module_version": "1.5.0",
      "_model_name": "HTMLModel",
      "_view_count": null,
      "_view_module": "@jupyter-widgets/controls",
      "_view_module_version": "1.5.0",
      "_view_name": "HTMLView",
      "description": "",
      "description_tooltip": null,
      "layout": "IPY_MODEL_b693a61b4b9c4baeb283c65b04cd8c4b",
      "placeholder": "​",
      "style": "IPY_MODEL_bef1e8566752440cb93f84cf20de7c61",
      "value": " 445M/445M [00:02&lt;00:00, 242MB/s]"
     }
    },
    "f7d058724b8b4216979cb30db43e3492": {
     "model_module": "@jupyter-widgets/controls",
     "model_module_version": "1.5.0",
     "model_name": "DescriptionStyleModel",
     "state": {
      "_model_module": "@jupyter-widgets/controls",
      "_model_module_version": "1.5.0",
      "_model_name": "DescriptionStyleModel",
      "_view_count": null,
      "_view_module": "@jupyter-widgets/base",
      "_view_module_version": "1.2.0",
      "_view_name": "StyleView",
      "description_width": ""
     }
    },
    "fa9929b0a97d41ee9f2c46e7ed82e706": {
     "model_module": "@jupyter-widgets/controls",
     "model_module_version": "1.5.0",
     "model_name": "HBoxModel",
     "state": {
      "_dom_classes": [],
      "_model_module": "@jupyter-widgets/controls",
      "_model_module_version": "1.5.0",
      "_model_name": "HBoxModel",
      "_view_count": null,
      "_view_module": "@jupyter-widgets/controls",
      "_view_module_version": "1.5.0",
      "_view_name": "HBoxView",
      "box_style": "",
      "children": [
       "IPY_MODEL_93fcbae427c84014996942b0796915e3",
       "IPY_MODEL_b97f8b70d20a454e9427a4692ad36bc8",
       "IPY_MODEL_5e9c7c5e74854b56a498fd0536b3429c"
      ],
      "layout": "IPY_MODEL_faf05c4847dd4371abb48956a9481050"
     }
    },
    "faf05c4847dd4371abb48956a9481050": {
     "model_module": "@jupyter-widgets/base",
     "model_module_version": "1.2.0",
     "model_name": "LayoutModel",
     "state": {
      "_model_module": "@jupyter-widgets/base",
      "_model_module_version": "1.2.0",
      "_model_name": "LayoutModel",
      "_view_count": null,
      "_view_module": "@jupyter-widgets/base",
      "_view_module_version": "1.2.0",
      "_view_name": "LayoutView",
      "align_content": null,
      "align_items": null,
      "align_self": null,
      "border": null,
      "bottom": null,
      "display": null,
      "flex": null,
      "flex_flow": null,
      "grid_area": null,
      "grid_auto_columns": null,
      "grid_auto_flow": null,
      "grid_auto_rows": null,
      "grid_column": null,
      "grid_gap": null,
      "grid_row": null,
      "grid_template_areas": null,
      "grid_template_columns": null,
      "grid_template_rows": null,
      "height": null,
      "justify_content": null,
      "justify_items": null,
      "left": null,
      "margin": null,
      "max_height": null,
      "max_width": null,
      "min_height": null,
      "min_width": null,
      "object_fit": null,
      "object_position": null,
      "order": null,
      "overflow": null,
      "overflow_x": null,
      "overflow_y": null,
      "padding": null,
      "right": null,
      "top": null,
      "visibility": null,
      "width": null
     }
    },
    "fb23b8e42d9c4440ab85dcb75f251395": {
     "model_module": "@jupyter-widgets/controls",
     "model_module_version": "1.5.0",
     "model_name": "ProgressStyleModel",
     "state": {
      "_model_module": "@jupyter-widgets/controls",
      "_model_module_version": "1.5.0",
      "_model_name": "ProgressStyleModel",
      "_view_count": null,
      "_view_module": "@jupyter-widgets/base",
      "_view_module_version": "1.2.0",
      "_view_name": "StyleView",
      "bar_color": null,
      "description_width": ""
     }
    }
   }
  }
 },
 "nbformat": 4,
 "nbformat_minor": 1
}
