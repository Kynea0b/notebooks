{
  "nbformat": 4,
  "nbformat_minor": 0,
  "metadata": {
    "colab": {
      "provenance": [],
      "collapsed_sections": [],
      "toc_visible": true
    },
    "kernelspec": {
      "name": "python3",
      "display_name": "Python 3"
    },
    "language_info": {
      "name": "python"
    },
    "accelerator": "GPU",
    "gpuClass": "standard"
  },
  "cells": [
    {
      "cell_type": "markdown",
      "source": [
        "# 訓練サンプル0個で感情推定してみる\n",
        "\n",
        "感情推定の訓練サンプル0個で、感情推定をしてみる\n"
      ],
      "metadata": {
        "id": "T6R5o_n0HkEZ"
      }
    },
    {
      "cell_type": "markdown",
      "source": [
        "やること\n",
        "- BERTのFill-Maskを使用する\n",
        "    - 例）入力文：今日はいい天気で、散歩していて気持ちがいい。\n",
        "        - 入力文の後に文章を追加：私の気持ちは\\[MASK\\]です。\n",
        "        - FIll-maskにより、「嬉しい」「幸せ」と推定される\n",
        "- 感情辞書と組み合わせて、「喜」「怒」などに分類する\n",
        "    - 感情辞書には、ML-Askの辞書を使用する"
      ],
      "metadata": {
        "id": "JQTnx5e6Krt9"
      }
    },
    {
      "cell_type": "markdown",
      "source": [
        "## 環境構築\n",
        "- Transformers (日本語使用)"
      ],
      "metadata": {
        "id": "mfuOBB5OHoQ0"
      }
    },
    {
      "cell_type": "code",
      "source": [
        "! pip install transformers[ja]==4.21.3"
      ],
      "metadata": {
        "colab": {
          "base_uri": "https://localhost:8080/"
        },
        "id": "Jlnm1RCSuMuV",
        "outputId": "83ba3e49-5fba-40fc-f665-924171000102"
      },
      "execution_count": 1,
      "outputs": [
        {
          "output_type": "stream",
          "name": "stdout",
          "text": [
            "Looking in indexes: https://pypi.org/simple, https://us-python.pkg.dev/colab-wheels/public/simple/\n",
            "Requirement already satisfied: transformers[ja]==4.21.3 in /usr/local/lib/python3.7/dist-packages (4.21.3)\n",
            "Requirement already satisfied: huggingface-hub<1.0,>=0.1.0 in /usr/local/lib/python3.7/dist-packages (from transformers[ja]==4.21.3) (0.9.1)\n",
            "Requirement already satisfied: requests in /usr/local/lib/python3.7/dist-packages (from transformers[ja]==4.21.3) (2.23.0)\n",
            "Requirement already satisfied: tokenizers!=0.11.3,<0.13,>=0.11.1 in /usr/local/lib/python3.7/dist-packages (from transformers[ja]==4.21.3) (0.12.1)\n",
            "Requirement already satisfied: filelock in /usr/local/lib/python3.7/dist-packages (from transformers[ja]==4.21.3) (3.8.0)\n",
            "Requirement already satisfied: importlib-metadata in /usr/local/lib/python3.7/dist-packages (from transformers[ja]==4.21.3) (4.12.0)\n",
            "Requirement already satisfied: numpy>=1.17 in /usr/local/lib/python3.7/dist-packages (from transformers[ja]==4.21.3) (1.21.6)\n",
            "Requirement already satisfied: regex!=2019.12.17 in /usr/local/lib/python3.7/dist-packages (from transformers[ja]==4.21.3) (2022.6.2)\n",
            "Requirement already satisfied: pyyaml>=5.1 in /usr/local/lib/python3.7/dist-packages (from transformers[ja]==4.21.3) (6.0)\n",
            "Requirement already satisfied: packaging>=20.0 in /usr/local/lib/python3.7/dist-packages (from transformers[ja]==4.21.3) (21.3)\n",
            "Requirement already satisfied: tqdm>=4.27 in /usr/local/lib/python3.7/dist-packages (from transformers[ja]==4.21.3) (4.64.0)\n",
            "Requirement already satisfied: fugashi>=1.0 in /usr/local/lib/python3.7/dist-packages (from transformers[ja]==4.21.3) (1.2.0)\n",
            "Requirement already satisfied: ipadic<2.0,>=1.0.0 in /usr/local/lib/python3.7/dist-packages (from transformers[ja]==4.21.3) (1.0.0)\n",
            "Requirement already satisfied: unidic-lite>=1.0.7 in /usr/local/lib/python3.7/dist-packages (from transformers[ja]==4.21.3) (1.0.8)\n",
            "Requirement already satisfied: unidic>=1.0.2 in /usr/local/lib/python3.7/dist-packages (from transformers[ja]==4.21.3) (1.1.0)\n",
            "Requirement already satisfied: typing-extensions>=3.7.4.3 in /usr/local/lib/python3.7/dist-packages (from huggingface-hub<1.0,>=0.1.0->transformers[ja]==4.21.3) (4.1.1)\n",
            "Requirement already satisfied: pyparsing!=3.0.5,>=2.0.2 in /usr/local/lib/python3.7/dist-packages (from packaging>=20.0->transformers[ja]==4.21.3) (3.0.9)\n",
            "Requirement already satisfied: wasabi<1.0.0,>=0.6.0 in /usr/local/lib/python3.7/dist-packages (from unidic>=1.0.2->transformers[ja]==4.21.3) (0.10.1)\n",
            "Requirement already satisfied: plac<2.0.0,>=1.1.3 in /usr/local/lib/python3.7/dist-packages (from unidic>=1.0.2->transformers[ja]==4.21.3) (1.3.5)\n",
            "Requirement already satisfied: idna<3,>=2.5 in /usr/local/lib/python3.7/dist-packages (from requests->transformers[ja]==4.21.3) (2.10)\n",
            "Requirement already satisfied: certifi>=2017.4.17 in /usr/local/lib/python3.7/dist-packages (from requests->transformers[ja]==4.21.3) (2022.6.15)\n",
            "Requirement already satisfied: chardet<4,>=3.0.2 in /usr/local/lib/python3.7/dist-packages (from requests->transformers[ja]==4.21.3) (3.0.4)\n",
            "Requirement already satisfied: urllib3!=1.25.0,!=1.25.1,<1.26,>=1.21.1 in /usr/local/lib/python3.7/dist-packages (from requests->transformers[ja]==4.21.3) (1.24.3)\n",
            "Requirement already satisfied: zipp>=0.5 in /usr/local/lib/python3.7/dist-packages (from importlib-metadata->transformers[ja]==4.21.3) (3.8.1)\n"
          ]
        }
      ]
    },
    {
      "cell_type": "code",
      "source": [
        "import os\n",
        "import glob\n",
        "\n",
        "import numpy as np\n",
        "import pandas as pd\n",
        "\n",
        "from sklearn.metrics import classification_report, confusion_matrix"
      ],
      "metadata": {
        "id": "hnJciAv1Kz9a"
      },
      "execution_count": 2,
      "outputs": []
    },
    {
      "cell_type": "markdown",
      "source": [
        "## Matplotlibで日本語を使用できるようにする"
      ],
      "metadata": {
        "id": "AucdWAuZfEMQ"
      }
    },
    {
      "cell_type": "code",
      "source": [
        "# [前準備] Matplotlib で日本語フォントを使用できるようにする\n",
        "# cf. https://blog.3qe.us/entry/2018/08/16/121457\n",
        "!apt-get -y install fonts-ipafont-gothic\n",
        "!rm /root/.cache/matplotlib/fontlist-v310.json\n",
        "\n",
        "# NOTE ここで、ランタイムを再起動"
      ],
      "metadata": {
        "colab": {
          "base_uri": "https://localhost:8080/"
        },
        "id": "KfvT2oDafDbB",
        "outputId": "322b63fe-04d0-487a-c47b-af87c9994184"
      },
      "execution_count": 3,
      "outputs": [
        {
          "output_type": "stream",
          "name": "stdout",
          "text": [
            "Reading package lists... Done\n",
            "Building dependency tree       \n",
            "Reading state information... Done\n",
            "fonts-ipafont-gothic is already the newest version (00303-18ubuntu1).\n",
            "0 upgraded, 0 newly installed, 0 to remove and 20 not upgraded.\n"
          ]
        }
      ]
    },
    {
      "cell_type": "code",
      "source": [
        "import matplotlib.pyplot as plt\n",
        "import seaborn as sns\n",
        "sns.set(font='IPAGothic')\n",
        "\n",
        "# 動作確認\n",
        "plt.figure(figsize=(5,1))\n",
        "plt.title('日本語を表示できるかテスト')"
      ],
      "metadata": {
        "colab": {
          "base_uri": "https://localhost:8080/",
          "height": 137
        },
        "id": "S6NMDYiPe0eB",
        "outputId": "275a1e09-0ff4-4811-d943-13c7b848dcd1"
      },
      "execution_count": 4,
      "outputs": [
        {
          "output_type": "execute_result",
          "data": {
            "text/plain": [
              "Text(0.5, 1.0, '日本語を表示できるかテスト')"
            ]
          },
          "metadata": {},
          "execution_count": 4
        },
        {
          "output_type": "display_data",
          "data": {
            "text/plain": [
              "<Figure size 360x72 with 1 Axes>"
            ],
            "image/png": "[encoded data removed]"
          },
          "metadata": {}
        }
      ]
    },
    {
      "cell_type": "markdown",
      "source": [
        "## Fill-Maskで感情推定を試してみる"
      ],
      "metadata": {
        "id": "3MosQJ7tIIyM"
      }
    },
    {
      "cell_type": "code",
      "source": [
        "from transformers import pipeline, AutoTokenizer\n",
        "\n",
        "# 使用するモデルを指定して、トークナイザとモデルを読み込む\n",
        "checkpoint = 'cl-tohoku/bert-base-japanese-whole-word-masking'\n",
        "tokenizer = AutoTokenizer.from_pretrained(checkpoint)\n",
        "unmasker = pipeline('fill-mask', model=checkpoint, tokenizer=tokenizer, device=0)  # GPU使用は明示的にdevice指定が必要？"
      ],
      "metadata": {
        "colab": {
          "base_uri": "https://localhost:8080/"
        },
        "id": "VDtD0E6XuuCB",
        "outputId": "86b7660e-8ac3-4563-ce30-7a67bfe3ff1e"
      },
      "execution_count": 5,
      "outputs": [
        {
          "output_type": "stream",
          "name": "stderr",
          "text": [
            "Some weights of the model checkpoint at cl-tohoku/bert-base-japanese-whole-word-masking were not used when initializing BertForMaskedLM: ['cls.seq_relationship.bias', 'cls.seq_relationship.weight']\n",
            "- This IS expected if you are initializing BertForMaskedLM from the checkpoint of a model trained on another task or with another architecture (e.g. initializing a BertForSequenceClassification model from a BertForPreTraining model).\n",
            "- This IS NOT expected if you are initializing BertForMaskedLM from the checkpoint of a model that you expect to be exactly identical (initializing a BertForSequenceClassification model from a BertForSequenceClassification model).\n"
          ]
        }
      ]
    },
    {
      "cell_type": "code",
      "source": [
        "text = '今日はいい天気で、散歩していて気持ちがいい。'\n",
        "template = '私の気持ちは[MASK]です。'  # [MASK]が予測対象\n",
        "unmasker(text + template)"
      ],
      "metadata": {
        "colab": {
          "base_uri": "https://localhost:8080/"
        },
        "id": "sVWIewDyIGIK",
        "outputId": "d3543333-2114-40c4-81c5-4820c5840ce7"
      },
      "execution_count": 6,
      "outputs": [
        {
          "output_type": "execute_result",
          "data": {
            "text/plain": [
              "[{'score': 0.20724758505821228,\n",
              "  'token': 12453,\n",
              "  'token_str': '元 気',\n",
              "  'sequence': '今日 は いい 天気 で 、 散歩 し て い て 気持ち が いい 。 私 の 気持ち は 元気 です 。'},\n",
              " {'score': 0.06613747775554657,\n",
              "  'token': 13215,\n",
              "  'token_str': '幸 せ',\n",
              "  'sequence': '今日 は いい 天気 で 、 散歩 し て い て 気持ち が いい 。 私 の 気持ち は 幸せ です 。'},\n",
              " {'score': 0.038396257907152176,\n",
              "  'token': 26051,\n",
              "  'token_str': 'ま っ す ぐ',\n",
              "  'sequence': '今日 は いい 天気 で 、 散歩 し て い て 気持ち が いい 。 私 の 気持ち は まっすぐ です 。'},\n",
              " {'score': 0.03444681689143181,\n",
              "  'token': 2575,\n",
              "  'token_str': 'い い',\n",
              "  'sequence': '今日 は いい 天気 で 、 散歩 し て い て 気持ち が いい 。 私 の 気持ち は いい です 。'},\n",
              " {'score': 0.031215133145451546,\n",
              "  'token': 16665,\n",
              "  'token_str': 'ハ ッ ピ ー',\n",
              "  'sequence': '今日 は いい 天気 で 、 散歩 し て い て 気持ち が いい 。 私 の 気持ち は ハッピー です 。'}]"
            ]
          },
          "metadata": {},
          "execution_count": 6
        }
      ]
    },
    {
      "cell_type": "markdown",
      "source": [
        "## 感情単語辞書を用いた感情分類"
      ],
      "metadata": {
        "id": "E5u7GaRgJkXY"
      }
    },
    {
      "cell_type": "markdown",
      "source": [
        "- ML-Askの感情辞書をダウンロードして読み込む\n",
        "- Fill-Maskの出力を感情辞書と照合し、感情毎のスコアを算出"
      ],
      "metadata": {
        "id": "Jyfjl6UCquxq"
      }
    },
    {
      "cell_type": "markdown",
      "source": [
        "### 感情辞書の読み込み"
      ],
      "metadata": {
        "id": "GOlVJYxZLauU"
      }
    },
    {
      "cell_type": "code",
      "execution_count": 7,
      "metadata": {
        "colab": {
          "base_uri": "https://localhost:8080/"
        },
        "id": "PtP1Wt9bqlkG",
        "outputId": "53e6e71b-79dd-487b-c7ba-7ec6c203cdc1"
      },
      "outputs": [
        {
          "output_type": "stream",
          "name": "stdout",
          "text": [
            "--2022-09-10 10:18:23--  http://arakilab.media.eng.hokudai.ac.jp/~ptaszynski/ccount/click.php?id=3\n",
            "Resolving arakilab.media.eng.hokudai.ac.jp (arakilab.media.eng.hokudai.ac.jp)... 133.87.189.142\n",
            "Connecting to arakilab.media.eng.hokudai.ac.jp (arakilab.media.eng.hokudai.ac.jp)|133.87.189.142|:80... connected.\n",
            "HTTP request sent, awaiting response... 302 Found\n",
            "Location: http://arakilab.media.eng.hokudai.ac.jp/~ptaszynski/repository/files/emotions.zip [following]\n",
            "--2022-09-10 10:18:23--  http://arakilab.media.eng.hokudai.ac.jp/~ptaszynski/repository/files/emotions.zip\n",
            "Connecting to arakilab.media.eng.hokudai.ac.jp (arakilab.media.eng.hokudai.ac.jp)|133.87.189.142|:80... connected.\n",
            "HTTP request sent, awaiting response... 200 OK\n",
            "Length: 12520 (12K) [application/zip]\n",
            "Saving to: ‘emotions.zip’\n",
            "\n",
            "emotions.zip        100%[===================>]  12.23K  --.-KB/s    in 0.1s    \n",
            "\n",
            "2022-09-10 10:18:23 (124 KB/s) - ‘emotions.zip’ saved [12520/12520]\n",
            "\n",
            "Archive:  emotions.zip\n",
            "  inflating: emotions/aware_uncoded.txt  \n",
            "  inflating: emotions/haji_uncoded.txt  \n",
            "  inflating: emotions/ikari_uncoded.txt  \n",
            "  inflating: emotions/iya_uncoded.txt  \n",
            "  inflating: emotions/kowa_uncoded.txt  \n",
            "  inflating: emotions/odoroki_uncoded.txt  \n",
            "  inflating: emotions/suki_uncoded.txt  \n",
            "  inflating: emotions/takaburi_uncoded.txt  \n",
            "  inflating: emotions/yasu_uncoded.txt  \n",
            "  inflating: emotions/yorokobi_uncoded.txt  \n"
          ]
        }
      ],
      "source": [
        "# ML-Askの感情単語辞書をダウンロードする\n",
        "# http://arakilab.media.eng.hokudai.ac.jp/~ptaszynski/repository/mlask.htm\n",
        "! wget http://arakilab.media.eng.hokudai.ac.jp/~ptaszynski/ccount/click.php?id=3 -O emotions.zip\n",
        "! unzip -o emotions.zip"
      ]
    },
    {
      "cell_type": "code",
      "source": [
        "# 感情辞書を読み込む\n",
        "# emotion_dict = {'yorokobi': ['喜', '幸せ', ...], ...}\n",
        "emotion_dict_files = glob.glob(os.path.join('emotions', '*.txt'))\n",
        "emotion_dict = {}\n",
        "for filepath in emotion_dict_files:\n",
        "    em_name = os.path.basename(filepath).split('_')[0]  # aware_uncoded.txt --> aware\n",
        "    emotion_dict[em_name] = [x.replace('\\n', '') for x in open(filepath, 'r').readlines()]\n",
        "\n",
        "print(len(emotion_dict['yorokobi']))\n",
        "print(emotion_dict['yorokobi'][:10])"
      ],
      "metadata": {
        "colab": {
          "base_uri": "https://localhost:8080/"
        },
        "id": "fLmEFIdNrkQ3",
        "outputId": "9d98ebb4-5399-4b0f-ae98-c37852cf33e2"
      },
      "execution_count": 8,
      "outputs": [
        {
          "output_type": "stream",
          "name": "stdout",
          "text": [
            "224\n",
            "['さんぱいきゅうはい', '気持ちが晴れ渡る', 'ありがたなみだ', 'つかえが下がる', '悪い気がしない', '嬉しがらせる', 'かたじけない', '晴れ晴れしい', '気持ちがよい', '気持ちがいい']\n"
          ]
        }
      ]
    },
    {
      "cell_type": "markdown",
      "source": [
        "### Fill-Maskの出力を感情辞書と照合し、感情毎のスコアを算出"
      ],
      "metadata": {
        "id": "q6I2nzbYL4Cc"
      }
    },
    {
      "cell_type": "code",
      "source": [
        "def search_emotion_dict(word):\n",
        "    \"\"\"感情辞書を検索し、どの感情の単語かを返す.\"\"\"\n",
        "    for name, words in emotion_dict.items():\n",
        "        if word in words:\n",
        "            return name\n",
        "    return None\n",
        "\n",
        "# お試し\n",
        "print(search_emotion_dict('幸せ'))\n",
        "print(search_emotion_dict('残念'))\n",
        "print(search_emotion_dict('苦しい'))\n",
        "print(search_emotion_dict('悲しい'))\n",
        "print(search_emotion_dict('怖い'))\n",
        "print(search_emotion_dict('びっくり'))\n",
        "print(search_emotion_dict('恥ずかしい'))\n",
        "print(search_emotion_dict('腹立たしい'))\n",
        "print(search_emotion_dict('いらいら'))\n",
        "print(search_emotion_dict('不幸'))"
      ],
      "metadata": {
        "colab": {
          "base_uri": "https://localhost:8080/"
        },
        "id": "rePtz-a3sXNV",
        "outputId": "54cfb155-4d45-4145-9d23-7ec3d992d1b4"
      },
      "execution_count": 9,
      "outputs": [
        {
          "output_type": "stream",
          "name": "stdout",
          "text": [
            "yorokobi\n",
            "iya\n",
            "iya\n",
            "aware\n",
            "kowa\n",
            "odoroki\n",
            "haji\n",
            "ikari\n",
            "None\n",
            "None\n"
          ]
        }
      ]
    },
    {
      "cell_type": "code",
      "source": [
        "def analayze_emotion_by_fillmask(text, ret_words=False):\n",
        "    \"\"\"Fill-Maskにより感情推定をする.\n",
        "\n",
        "    Args:\n",
        "        text (str): 入力文\n",
        "        ret_words (bool): Fill-Maskの出力（感情を含む単語のみ）を返すかどうか\n",
        "    Returns:\n",
        "        list[(str, float)]: 各感情スコア\n",
        "        list[str]: Fill-Mask出力. ret_words=Trueの場合のみ\n",
        "    \"\"\"\n",
        "    emotion_names = list(emotion_dict.keys())\n",
        "\n",
        "    # 追加する文章\n",
        "    templates = [\n",
        "        # '私の気持ちは[MASK]です。',\n",
        "        '私は[MASK]です。',\n",
        "        '私は[MASK]ました。',\n",
        "        '私は[MASK]しました。',\n",
        "        '私は[MASK]気持ちです。',\n",
        "        '私は[MASK]に感じました。',\n",
        "        ]\n",
        "    \n",
        "    # Fill-Maskを実行\n",
        "    results = []\n",
        "    for template in templates:\n",
        "        results += unmasker(text + template)\n",
        "    \n",
        "    # 感情辞書と照合\n",
        "    # 各感情のスコアの総和を算出\n",
        "    emotion_scores = {em_name : 0 for em_name in emotion_names}\n",
        "    pred_words = []\n",
        "    for result in results:\n",
        "        pred_word = result['token_str'].replace(' ', '')  # 推定された単語\n",
        "        pred_score = result['score']                    # スコア\n",
        "        em_name = search_emotion_dict(pred_word)  # 感情辞書と照合\n",
        "        if em_name is not None:\n",
        "            emotion_scores[em_name] += pred_score\n",
        "        pred_words.append(pred_word)\n",
        "    \n",
        "    # 正規化する（スコアの総和を1にする）\n",
        "    score_sum = max(sum(emotion_scores.values()), 0.01)\n",
        "    emotion_scores = {n: v / score_sum for n, v in emotion_scores.items()}\n",
        "    # スコアの高い順に並び変える\n",
        "    pred_emotions = sorted(emotion_scores.items(), key=lambda x: x[1], reverse=True)\n",
        "\n",
        "    if ret_words:\n",
        "        return pred_emotions, pred_words\n",
        "    return pred_emotions\n",
        "\n",
        "# 動作確認\n",
        "analayze_emotion_by_fillmask(\"娘が美味しいディナーをご馳走してくれた。\")"
      ],
      "metadata": {
        "colab": {
          "base_uri": "https://localhost:8080/"
        },
        "id": "4RJNfho0vJEW",
        "outputId": "40a9f096-7ad3-4fdc-b42f-ff2dc26bb7a3"
      },
      "execution_count": 10,
      "outputs": [
        {
          "output_type": "execute_result",
          "data": {
            "text/plain": [
              "[('yorokobi', 0.7397981347214723),\n",
              " ('takaburi', 0.13628165899830047),\n",
              " ('odoroki', 0.09237053940582399),\n",
              " ('aware', 0.01869053703336922),\n",
              " ('suki', 0.01285912984103407),\n",
              " ('iya', 0.0),\n",
              " ('ikari', 0.0),\n",
              " ('yasu', 0.0),\n",
              " ('kowa', 0.0),\n",
              " ('haji', 0.0)]"
            ]
          },
          "metadata": {},
          "execution_count": 10
        }
      ]
    },
    {
      "cell_type": "code",
      "source": [
        "analayze_emotion_by_fillmask(\"急な豪雨のせいで靴の中までビショビショだぁ。サイアク……。\")"
      ],
      "metadata": {
        "colab": {
          "base_uri": "https://localhost:8080/"
        },
        "id": "VPphsngvynDS",
        "outputId": "972e4929-422f-4baf-d6eb-4372f68300cb"
      },
      "execution_count": 11,
      "outputs": [
        {
          "output_type": "stream",
          "name": "stderr",
          "text": [
            "/usr/local/lib/python3.7/dist-packages/transformers/pipelines/base.py:1039: UserWarning: You seem to be using the pipelines sequentially on GPU. In order to maximize efficiency please use a dataset\n",
            "  UserWarning,\n"
          ]
        },
        {
          "output_type": "execute_result",
          "data": {
            "text/plain": [
              "[('aware', 0.43748155996739013),\n",
              " ('iya', 0.35120610875559644),\n",
              " ('kowa', 0.16544351225027987),\n",
              " ('odoroki', 0.04586881902673359),\n",
              " ('yorokobi', 0.0),\n",
              " ('ikari', 0.0),\n",
              " ('takaburi', 0.0),\n",
              " ('yasu', 0.0),\n",
              " ('haji', 0.0),\n",
              " ('suki', 0.0)]"
            ]
          },
          "metadata": {},
          "execution_count": 11
        }
      ]
    },
    {
      "cell_type": "code",
      "source": [
        "analayze_emotion_by_fillmask(\"え、こんなことってある…！？\")"
      ],
      "metadata": {
        "colab": {
          "base_uri": "https://localhost:8080/"
        },
        "id": "K97rboS8yiEk",
        "outputId": "33720ec5-c54f-4295-9e9d-9806d4e3270a"
      },
      "execution_count": 12,
      "outputs": [
        {
          "output_type": "execute_result",
          "data": {
            "text/plain": [
              "[('odoroki', 0.5942357359062117),\n",
              " ('takaburi', 0.16119977149327488),\n",
              " ('kowa', 0.12915757727104055),\n",
              " ('iya', 0.11540691532947288),\n",
              " ('yorokobi', 0.0),\n",
              " ('ikari', 0.0),\n",
              " ('yasu', 0.0),\n",
              " ('aware', 0.0),\n",
              " ('haji', 0.0),\n",
              " ('suki', 0.0)]"
            ]
          },
          "metadata": {},
          "execution_count": 12
        }
      ]
    },
    {
      "cell_type": "code",
      "source": [
        "analayze_emotion_by_fillmask(\"何て野郎だ。礼儀というものを知らないのか？\")"
      ],
      "metadata": {
        "colab": {
          "base_uri": "https://localhost:8080/"
        },
        "id": "6e04xjr-RKzn",
        "outputId": "781933f7-f25c-4477-86bd-f6c8f4a8bcc1"
      },
      "execution_count": 13,
      "outputs": [
        {
          "output_type": "execute_result",
          "data": {
            "text/plain": [
              "[('iya', 0.41336075134074773),\n",
              " ('odoroki', 0.3184270489031058),\n",
              " ('yorokobi', 0.1693133082776712),\n",
              " ('ikari', 0.09889889147847526),\n",
              " ('takaburi', 0.0),\n",
              " ('yasu', 0.0),\n",
              " ('aware', 0.0),\n",
              " ('kowa', 0.0),\n",
              " ('haji', 0.0),\n",
              " ('suki', 0.0)]"
            ]
          },
          "metadata": {},
          "execution_count": 13
        }
      ]
    },
    {
      "cell_type": "code",
      "source": [
        "analayze_emotion_by_fillmask(\"え……。私が見たのって、もしかして幽霊……？？\")"
      ],
      "metadata": {
        "colab": {
          "base_uri": "https://localhost:8080/"
        },
        "id": "WwT1lYgGRTiw",
        "outputId": "310972c0-bee5-425d-b040-b2ce678a94e3"
      },
      "execution_count": 14,
      "outputs": [
        {
          "output_type": "execute_result",
          "data": {
            "text/plain": [
              "[('odoroki', 0.32226663348226553),\n",
              " ('kowa', 0.20905030671805694),\n",
              " ('iya', 0.20384158484796533),\n",
              " ('aware', 0.16927653086986397),\n",
              " ('takaburi', 0.09556494408184822),\n",
              " ('yorokobi', 0.0),\n",
              " ('ikari', 0.0),\n",
              " ('yasu', 0.0),\n",
              " ('haji', 0.0),\n",
              " ('suki', 0.0)]"
            ]
          },
          "metadata": {},
          "execution_count": 14
        }
      ]
    },
    {
      "cell_type": "markdown",
      "source": [
        "## WRIMEデータセットで評価してみる\n",
        "- 感情分類タスクでの精度感を評価してみる\n",
        "- WRIMEデータセット：日本語の感情分析の研究用データセット\n",
        "    - https://github.com/ids-cv/wrime\n",
        "    "
      ],
      "metadata": {
        "id": "u796pz12QUDr"
      }
    },
    {
      "cell_type": "markdown",
      "source": [
        "### WRIMEデータセットの準備"
      ],
      "metadata": {
        "id": "XwKwZRhqQ5_h"
      }
    },
    {
      "cell_type": "code",
      "source": [
        "! wget https://github.com/ids-cv/wrime/raw/master/wrime-ver1.tsv"
      ],
      "metadata": {
        "colab": {
          "base_uri": "https://localhost:8080/"
        },
        "id": "TG6GJlC0Q399",
        "outputId": "fdd3b0fb-362c-46fc-a754-db3c075e3dfe"
      },
      "execution_count": 15,
      "outputs": [
        {
          "output_type": "stream",
          "name": "stdout",
          "text": [
            "--2022-09-10 10:18:25--  https://github.com/ids-cv/wrime/raw/master/wrime-ver1.tsv\n",
            "Resolving github.com (github.com)... 20.205.243.166\n",
            "Connecting to github.com (github.com)|20.205.243.166|:443... connected.\n",
            "HTTP request sent, awaiting response... 302 Found\n",
            "Location: https://raw.githubusercontent.com/ids-cv/wrime/master/wrime-ver1.tsv [following]\n",
            "--2022-09-10 10:18:25--  https://raw.githubusercontent.com/ids-cv/wrime/master/wrime-ver1.tsv\n",
            "Resolving raw.githubusercontent.com (raw.githubusercontent.com)... 185.199.108.133, 185.199.109.133, 185.199.110.133, ...\n",
            "Connecting to raw.githubusercontent.com (raw.githubusercontent.com)|185.199.108.133|:443... connected.\n",
            "HTTP request sent, awaiting response... 200 OK\n",
            "Length: 9487237 (9.0M) [text/plain]\n",
            "Saving to: ‘wrime-ver1.tsv.3’\n",
            "\n",
            "wrime-ver1.tsv.3    100%[===================>]   9.05M  --.-KB/s    in 0.03s   \n",
            "\n",
            "2022-09-10 10:18:27 (270 MB/s) - ‘wrime-ver1.tsv.3’ saved [9487237/9487237]\n",
            "\n"
          ]
        }
      ]
    },
    {
      "cell_type": "code",
      "source": [
        "df_wrime = pd.read_table('wrime-ver1.tsv')\n",
        "df_wrime.head(2)"
      ],
      "metadata": {
        "colab": {
          "base_uri": "https://localhost:8080/",
          "height": 535
        },
        "id": "PIz9u63_REMf",
        "outputId": "30dc80e1-8501-491c-c554-c2ffd91d94e9"
      },
      "execution_count": 16,
      "outputs": [
        {
          "output_type": "execute_result",
          "data": {
            "text/plain": [
              "                                            Sentence  UserID  \\\n",
              "0                     ぼけっとしてたらこんな時間｡チャリあるから食べにでたいのに…       1   \n",
              "1  今日の月も白くて明るい。昨日より雲が少なくてキレイな? と立ち止まる帰り道｡チャリなし生活も...       1   \n",
              "\n",
              "           Datetime Train/Dev/Test  Writer_Joy  Writer_Sadness  \\\n",
              "0  2012/07/31 23:48          train           0               1   \n",
              "1  2012/08/02 23:09          train           3               0   \n",
              "\n",
              "   Writer_Anticipation  Writer_Surprise  Writer_Anger  Writer_Fear  ...  \\\n",
              "0                    2                1             1            0  ...   \n",
              "1                    3                0             0            0  ...   \n",
              "\n",
              "   Reader3_Disgust  Reader3_Trust  Avg. Readers_Joy  Avg. Readers_Sadness  \\\n",
              "0                1              0                 0                     2   \n",
              "1                0              1                 1                     0   \n",
              "\n",
              "   Avg. Readers_Anticipation  Avg. Readers_Surprise  Avg. Readers_Anger  \\\n",
              "0                          0                      0                   0   \n",
              "1                          0                      2                   0   \n",
              "\n",
              "   Avg. Readers_Fear  Avg. Readers_Disgust  Avg. Readers_Trust  \n",
              "0                  0                     0                   0  \n",
              "1                  0                     0                   0  \n",
              "\n",
              "[2 rows x 44 columns]"
            ],
            "text/html": [
              "\n",
              "  <div id=\"df-aadf7fe3-d93f-4f61-8a3e-f36cd54f6244\">\n",
              "    <div class=\"colab-df-container\">\n",
              "      <div>\n",
              "<style scoped>\n",
              "    .dataframe tbody tr th:only-of-type {\n",
              "        vertical-align: middle;\n",
              "    }\n",
              "\n",
              "    .dataframe tbody tr th {\n",
              "        vertical-align: top;\n",
              "    }\n",
              "\n",
              "    .dataframe thead th {\n",
              "        text-align: right;\n",
              "    }\n",
              "</style>\n",
              "<table border=\"1\" class=\"dataframe\">\n",
              "  <thead>\n",
              "    <tr style=\"text-align: right;\">\n",
              "      <th></th>\n",
              "      <th>Sentence</th>\n",
              "      <th>UserID</th>\n",
              "      <th>Datetime</th>\n",
              "      <th>Train/Dev/Test</th>\n",
              "      <th>Writer_Joy</th>\n",
              "      <th>Writer_Sadness</th>\n",
              "      <th>Writer_Anticipation</th>\n",
              "      <th>Writer_Surprise</th>\n",
              "      <th>Writer_Anger</th>\n",
              "      <th>Writer_Fear</th>\n",
              "      <th>...</th>\n",
              "      <th>Reader3_Disgust</th>\n",
              "      <th>Reader3_Trust</th>\n",
              "      <th>Avg. Readers_Joy</th>\n",
              "      <th>Avg. Readers_Sadness</th>\n",
              "      <th>Avg. Readers_Anticipation</th>\n",
              "      <th>Avg. Readers_Surprise</th>\n",
              "      <th>Avg. Readers_Anger</th>\n",
              "      <th>Avg. Readers_Fear</th>\n",
              "      <th>Avg. Readers_Disgust</th>\n",
              "      <th>Avg. Readers_Trust</th>\n",
              "    </tr>\n",
              "  </thead>\n",
              "  <tbody>\n",
              "    <tr>\n",
              "      <th>0</th>\n",
              "      <td>ぼけっとしてたらこんな時間｡チャリあるから食べにでたいのに…</td>\n",
              "      <td>1</td>\n",
              "      <td>2012/07/31 23:48</td>\n",
              "      <td>train</td>\n",
              "      <td>0</td>\n",
              "      <td>1</td>\n",
              "      <td>2</td>\n",
              "      <td>1</td>\n",
              "      <td>1</td>\n",
              "      <td>0</td>\n",
              "      <td>...</td>\n",
              "      <td>1</td>\n",
              "      <td>0</td>\n",
              "      <td>0</td>\n",
              "      <td>2</td>\n",
              "      <td>0</td>\n",
              "      <td>0</td>\n",
              "      <td>0</td>\n",
              "      <td>0</td>\n",
              "      <td>0</td>\n",
              "      <td>0</td>\n",
              "    </tr>\n",
              "    <tr>\n",
              "      <th>1</th>\n",
              "      <td>今日の月も白くて明るい。昨日より雲が少なくてキレイな? と立ち止まる帰り道｡チャリなし生活も...</td>\n",
              "      <td>1</td>\n",
              "      <td>2012/08/02 23:09</td>\n",
              "      <td>train</td>\n",
              "      <td>3</td>\n",
              "      <td>0</td>\n",
              "      <td>3</td>\n",
              "      <td>0</td>\n",
              "      <td>0</td>\n",
              "      <td>0</td>\n",
              "      <td>...</td>\n",
              "      <td>0</td>\n",
              "      <td>1</td>\n",
              "      <td>1</td>\n",
              "      <td>0</td>\n",
              "      <td>0</td>\n",
              "      <td>2</td>\n",
              "      <td>0</td>\n",
              "      <td>0</td>\n",
              "      <td>0</td>\n",
              "      <td>0</td>\n",
              "    </tr>\n",
              "  </tbody>\n",
              "</table>\n",
              "<p>2 rows × 44 columns</p>\n",
              "</div>\n",
              "      <button class=\"colab-df-convert\" onclick=\"convertToInteractive('df-aadf7fe3-d93f-4f61-8a3e-f36cd54f6244')\"\n",
              "              title=\"Convert this dataframe to an interactive table.\"\n",
              "              style=\"display:none;\">\n",
              "        \n",
              "  <svg xmlns=\"http://www.w3.org/2000/svg\" height=\"24px\"viewBox=\"0 0 24 24\"\n",
              "       width=\"24px\">\n",
              "    <path d=\"M0 0h24v24H0V0z\" fill=\"none\"/>\n",
              "    <path d=\"M18.56 5.44l.94 2.06.94-2.06 2.06-.94-2.06-.94-.94-2.06-.94 2.06-2.06.94zm-11 1L8.5 8.5l.94-2.06 2.06-.94-2.06-.94L8.5 2.5l-.94 2.06-2.06.94zm10 10l.94 2.06.94-2.06 2.06-.94-2.06-.94-.94-2.06-.94 2.06-2.06.94z\"/><path d=\"M17.41 7.96l-1.37-1.37c-.4-.4-.92-.59-1.43-.59-.52 0-1.04.2-1.43.59L10.3 9.45l-7.72 7.72c-.78.78-.78 2.05 0 2.83L4 21.41c.39.39.9.59 1.41.59.51 0 1.02-.2 1.41-.59l7.78-7.78 2.81-2.81c.8-.78.8-2.07 0-2.86zM5.41 20L4 18.59l7.72-7.72 1.47 1.35L5.41 20z\"/>\n",
              "  </svg>\n",
              "      </button>\n",
              "      \n",
              "  <style>\n",
              "    .colab-df-container {\n",
              "      display:flex;\n",
              "      flex-wrap:wrap;\n",
              "      gap: 12px;\n",
              "    }\n",
              "\n",
              "    .colab-df-convert {\n",
              "      background-color: #E8F0FE;\n",
              "      border: none;\n",
              "      border-radius: 50%;\n",
              "      cursor: pointer;\n",
              "      display: none;\n",
              "      fill: #1967D2;\n",
              "      height: 32px;\n",
              "      padding: 0 0 0 0;\n",
              "      width: 32px;\n",
              "    }\n",
              "\n",
              "    .colab-df-convert:hover {\n",
              "      background-color: #E2EBFA;\n",
              "      box-shadow: 0px 1px 2px rgba(60, 64, 67, 0.3), 0px 1px 3px 1px rgba(60, 64, 67, 0.15);\n",
              "      fill: #174EA6;\n",
              "    }\n",
              "\n",
              "    [theme=dark] .colab-df-convert {\n",
              "      background-color: #3B4455;\n",
              "      fill: #D2E3FC;\n",
              "    }\n",
              "\n",
              "    [theme=dark] .colab-df-convert:hover {\n",
              "      background-color: #434B5C;\n",
              "      box-shadow: 0px 1px 3px 1px rgba(0, 0, 0, 0.15);\n",
              "      filter: drop-shadow(0px 1px 2px rgba(0, 0, 0, 0.3));\n",
              "      fill: #FFFFFF;\n",
              "    }\n",
              "  </style>\n",
              "\n",
              "      <script>\n",
              "        const buttonEl =\n",
              "          document.querySelector('#df-aadf7fe3-d93f-4f61-8a3e-f36cd54f6244 button.colab-df-convert');\n",
              "        buttonEl.style.display =\n",
              "          google.colab.kernel.accessAllowed ? 'block' : 'none';\n",
              "\n",
              "        async function convertToInteractive(key) {\n",
              "          const element = document.querySelector('#df-aadf7fe3-d93f-4f61-8a3e-f36cd54f6244');\n",
              "          const dataTable =\n",
              "            await google.colab.kernel.invokeFunction('convertToInteractive',\n",
              "                                                     [key], {});\n",
              "          if (!dataTable) return;\n",
              "\n",
              "          const docLinkHtml = 'Like what you see? Visit the ' +\n",
              "            '<a target=\"_blank\" href=https://colab.research.google.com/notebooks/data_table.ipynb>data table notebook</a>'\n",
              "            + ' to learn more about interactive tables.';\n",
              "          element.innerHTML = '';\n",
              "          dataTable['output_type'] = 'display_data';\n",
              "          await google.colab.output.renderOutput(dataTable, element);\n",
              "          const docLink = document.createElement('div');\n",
              "          docLink.innerHTML = docLinkHtml;\n",
              "          element.appendChild(docLink);\n",
              "        }\n",
              "      </script>\n",
              "    </div>\n",
              "  </div>\n",
              "  "
            ]
          },
          "metadata": {},
          "execution_count": 16
        }
      ]
    },
    {
      "cell_type": "code",
      "source": [
        "# Plutchikの8つの基本感情\n",
        "emotion_names = ['Joy', 'Sadness', 'Anticipation', 'Surprise', 'Anger', 'Fear', 'Disgust', 'Trust']\n",
        "emotion_names_jp = ['喜び', '悲しみ', '期待', '驚き', '怒り', '恐れ', '嫌悪', '信頼']  # 日本語版\n",
        "num_labels = len(emotion_names)\n",
        "\n",
        "# readers_emotion_intensities 列を生成する\n",
        "# \"Avg. Readers_*\" の値をlist化したもの\n",
        "df_wrime['readers_emotion_intensities'] = df_wrime.apply(lambda x: [x['Avg. Readers_' + name] for name in emotion_names], axis=1)\n",
        "\n",
        "# 感情強度が高い感情が１つのサンプルを対象とする\n",
        "# (readers_emotion_intensities が２以上の要素が一点のサンプルのみを対象とする)\n",
        "is_target = df_wrime['readers_emotion_intensities'].map(lambda x: np.sum(np.array(x) >= 2) == 1)\n",
        "df_wrime_target = df_wrime[is_target].copy()\n",
        "\n",
        "# 感情ラベルに変換する\n",
        "df_wrime_target['emotion_label'] = df_wrime_target['readers_emotion_intensities'].map(lambda x: emotion_names_jp[np.argmax(x)])\n",
        "\n",
        "df_wrime_target['emotion_label'].value_counts()"
      ],
      "metadata": {
        "colab": {
          "base_uri": "https://localhost:8080/"
        },
        "id": "Xx07J6dRTuL0",
        "outputId": "ead99e41-d3f1-4aa3-8541-18458e20165d"
      },
      "execution_count": 17,
      "outputs": [
        {
          "output_type": "execute_result",
          "data": {
            "text/plain": [
              "喜び     4164\n",
              "期待     3859\n",
              "悲しみ    2790\n",
              "驚き     1865\n",
              "恐れ     1487\n",
              "嫌悪      889\n",
              "怒り      163\n",
              "信頼       40\n",
              "Name: emotion_label, dtype: int64"
            ]
          },
          "metadata": {},
          "execution_count": 17
        }
      ]
    },
    {
      "cell_type": "code",
      "source": [
        "# train / test に分割する\n",
        "df_groups = df_wrime_target.groupby('Train/Dev/Test')\n",
        "df_train = df_groups.get_group('train')\n",
        "df_test = pd.concat([df_groups.get_group('dev'), df_groups.get_group('test')])\n",
        "print('train :', len(df_train))\n",
        "print('test :', len(df_test))"
      ],
      "metadata": {
        "colab": {
          "base_uri": "https://localhost:8080/"
        },
        "id": "3XcpcGJLWN-k",
        "outputId": "d59579e4-12f5-434a-f13d-5e40e17a3e5b"
      },
      "execution_count": 18,
      "outputs": [
        {
          "output_type": "stream",
          "name": "stdout",
          "text": [
            "train : 14227\n",
            "test : 1030\n"
          ]
        }
      ]
    },
    {
      "cell_type": "markdown",
      "source": [
        "### 評価"
      ],
      "metadata": {
        "id": "GE4BscZxWS82"
      }
    },
    {
      "cell_type": "code",
      "source": [
        "# WRIMEの感情分類に合わせた形式で出力する\n",
        "convert_table = {\n",
        "    'yorokobi': '喜び',\n",
        "    'takaburi': '期待',\n",
        "    'odoroki': '驚き',\n",
        "    'aware': '悲しみ',\n",
        "    'suki': '喜び',\n",
        "    'iya': '嫌悪',\n",
        "    'yasu': '喜び',\n",
        "    'haji': '嫌悪',  # ?\n",
        "    'kowa': '恐れ',\n",
        "    'ikari': '怒り'\n",
        "}\n",
        "\n",
        "def prediction_for_wrime(text):\n",
        "    pred = analayze_emotion_by_fillmask(text)\n",
        "    em_name, score = pred[0]\n",
        "    wrime_em_name = convert_table[em_name]\n",
        "    return wrime_em_name\n",
        "\n",
        "prediction_for_wrime(\"今日は久々に良い天気だ！\")"
      ],
      "metadata": {
        "colab": {
          "base_uri": "https://localhost:8080/",
          "height": 90
        },
        "id": "CkooBP8pWbQf",
        "outputId": "f184be54-c2de-4c6d-ef1d-3595dd196edc"
      },
      "execution_count": 19,
      "outputs": [
        {
          "output_type": "stream",
          "name": "stderr",
          "text": [
            "/usr/local/lib/python3.7/dist-packages/transformers/pipelines/base.py:1039: UserWarning: You seem to be using the pipelines sequentially on GPU. In order to maximize efficiency please use a dataset\n",
            "  UserWarning,\n"
          ]
        },
        {
          "output_type": "execute_result",
          "data": {
            "text/plain": [
              "'喜び'"
            ],
            "application/vnd.google.colaboratory.intrinsic+json": {
              "type": "string"
            }
          },
          "metadata": {},
          "execution_count": 19
        }
      ]
    },
    {
      "cell_type": "code",
      "source": [
        "# 評価する\n",
        "results = []\n",
        "for index, row in df_test.iterrows():\n",
        "    text = row['Sentence']\n",
        "    label = row['emotion_label']\n",
        "    pred = prediction_for_wrime(text)\n",
        "    results.append([text, label, pred])"
      ],
      "metadata": {
        "id": "HJ05_omnX7pR"
      },
      "execution_count": 20,
      "outputs": []
    },
    {
      "cell_type": "code",
      "source": [
        "# 正解率\n",
        "res_arr = np.array(results)\n",
        "y_true = res_arr[:, 1]\n",
        "y_pred = res_arr[:, 2]\n",
        "\n",
        "acc = np.mean(y_true == y_pred)\n",
        "acc"
      ],
      "metadata": {
        "colab": {
          "base_uri": "https://localhost:8080/"
        },
        "id": "dDLk4SHkyHBY",
        "outputId": "0e92dac0-8c0a-4813-dfb6-28072b2fc979"
      },
      "execution_count": 21,
      "outputs": [
        {
          "output_type": "execute_result",
          "data": {
            "text/plain": [
              "0.31359223300970873"
            ]
          },
          "metadata": {},
          "execution_count": 21
        }
      ]
    },
    {
      "cell_type": "code",
      "source": [
        "# 各感情に関して、Precision, Recallを求める\n",
        "report = classification_report(y_true, y_pred, output_dict=True, labels=emotion_names_jp)\n",
        "df_report = pd.DataFrame(report).transpose()\n",
        "\n",
        "df_report"
      ],
      "metadata": {
        "colab": {
          "base_uri": "https://localhost:8080/",
          "height": 518
        },
        "id": "M-rOp5E0Ynsz",
        "outputId": "418636bb-cb20-4c17-c776-5c39c1fbf927"
      },
      "execution_count": 22,
      "outputs": [
        {
          "output_type": "stream",
          "name": "stderr",
          "text": [
            "/usr/local/lib/python3.7/dist-packages/sklearn/metrics/_classification.py:1318: UndefinedMetricWarning: Precision and F-score are ill-defined and being set to 0.0 in labels with no predicted samples. Use `zero_division` parameter to control this behavior.\n",
            "  _warn_prf(average, modifier, msg_start, len(result))\n",
            "/usr/local/lib/python3.7/dist-packages/sklearn/metrics/_classification.py:1318: UndefinedMetricWarning: Precision and F-score are ill-defined and being set to 0.0 in labels with no predicted samples. Use `zero_division` parameter to control this behavior.\n",
            "  _warn_prf(average, modifier, msg_start, len(result))\n",
            "/usr/local/lib/python3.7/dist-packages/sklearn/metrics/_classification.py:1318: UndefinedMetricWarning: Precision and F-score are ill-defined and being set to 0.0 in labels with no predicted samples. Use `zero_division` parameter to control this behavior.\n",
            "  _warn_prf(average, modifier, msg_start, len(result))\n"
          ]
        },
        {
          "output_type": "execute_result",
          "data": {
            "text/plain": [
              "              precision    recall  f1-score      support\n",
              "喜び             0.440389  0.567398  0.495890   319.000000\n",
              "悲しみ            0.340426  0.092486  0.145455   173.000000\n",
              "期待             0.373333  0.093645  0.149733   299.000000\n",
              "驚き             0.342593  0.462500  0.393617    80.000000\n",
              "怒り             0.000000  0.000000  0.000000     7.000000\n",
              "恐れ             0.220930  0.223529  0.222222    85.000000\n",
              "嫌悪             0.138614  0.656250  0.228883    64.000000\n",
              "信頼             0.000000  0.000000  0.000000     3.000000\n",
              "accuracy       0.313592  0.313592  0.313592     0.313592\n",
              "macro avg      0.232036  0.261976  0.204475  1030.000000\n",
              "weighted avg   0.355400  0.313592  0.284611  1030.000000"
            ],
            "text/html": [
              "\n",
              "  <div id=\"df-8745ae14-36af-4216-bf29-5160de51da03\">\n",
              "    <div class=\"colab-df-container\">\n",
              "      <div>\n",
              "<style scoped>\n",
              "    .dataframe tbody tr th:only-of-type {\n",
              "        vertical-align: middle;\n",
              "    }\n",
              "\n",
              "    .dataframe tbody tr th {\n",
              "        vertical-align: top;\n",
              "    }\n",
              "\n",
              "    .dataframe thead th {\n",
              "        text-align: right;\n",
              "    }\n",
              "</style>\n",
              "<table border=\"1\" class=\"dataframe\">\n",
              "  <thead>\n",
              "    <tr style=\"text-align: right;\">\n",
              "      <th></th>\n",
              "      <th>precision</th>\n",
              "      <th>recall</th>\n",
              "      <th>f1-score</th>\n",
              "      <th>support</th>\n",
              "    </tr>\n",
              "  </thead>\n",
              "  <tbody>\n",
              "    <tr>\n",
              "      <th>喜び</th>\n",
              "      <td>0.440389</td>\n",
              "      <td>0.567398</td>\n",
              "      <td>0.495890</td>\n",
              "      <td>319.000000</td>\n",
              "    </tr>\n",
              "    <tr>\n",
              "      <th>悲しみ</th>\n",
              "      <td>0.340426</td>\n",
              "      <td>0.092486</td>\n",
              "      <td>0.145455</td>\n",
              "      <td>173.000000</td>\n",
              "    </tr>\n",
              "    <tr>\n",
              "      <th>期待</th>\n",
              "      <td>0.373333</td>\n",
              "      <td>0.093645</td>\n",
              "      <td>0.149733</td>\n",
              "      <td>299.000000</td>\n",
              "    </tr>\n",
              "    <tr>\n",
              "      <th>驚き</th>\n",
              "      <td>0.342593</td>\n",
              "      <td>0.462500</td>\n",
              "      <td>0.393617</td>\n",
              "      <td>80.000000</td>\n",
              "    </tr>\n",
              "    <tr>\n",
              "      <th>怒り</th>\n",
              "      <td>0.000000</td>\n",
              "      <td>0.000000</td>\n",
              "      <td>0.000000</td>\n",
              "      <td>7.000000</td>\n",
              "    </tr>\n",
              "    <tr>\n",
              "      <th>恐れ</th>\n",
              "      <td>0.220930</td>\n",
              "      <td>0.223529</td>\n",
              "      <td>0.222222</td>\n",
              "      <td>85.000000</td>\n",
              "    </tr>\n",
              "    <tr>\n",
              "      <th>嫌悪</th>\n",
              "      <td>0.138614</td>\n",
              "      <td>0.656250</td>\n",
              "      <td>0.228883</td>\n",
              "      <td>64.000000</td>\n",
              "    </tr>\n",
              "    <tr>\n",
              "      <th>信頼</th>\n",
              "      <td>0.000000</td>\n",
              "      <td>0.000000</td>\n",
              "      <td>0.000000</td>\n",
              "      <td>3.000000</td>\n",
              "    </tr>\n",
              "    <tr>\n",
              "      <th>accuracy</th>\n",
              "      <td>0.313592</td>\n",
              "      <td>0.313592</td>\n",
              "      <td>0.313592</td>\n",
              "      <td>0.313592</td>\n",
              "    </tr>\n",
              "    <tr>\n",
              "      <th>macro avg</th>\n",
              "      <td>0.232036</td>\n",
              "      <td>0.261976</td>\n",
              "      <td>0.204475</td>\n",
              "      <td>1030.000000</td>\n",
              "    </tr>\n",
              "    <tr>\n",
              "      <th>weighted avg</th>\n",
              "      <td>0.355400</td>\n",
              "      <td>0.313592</td>\n",
              "      <td>0.284611</td>\n",
              "      <td>1030.000000</td>\n",
              "    </tr>\n",
              "  </tbody>\n",
              "</table>\n",
              "</div>\n",
              "      <button class=\"colab-df-convert\" onclick=\"convertToInteractive('df-8745ae14-36af-4216-bf29-5160de51da03')\"\n",
              "              title=\"Convert this dataframe to an interactive table.\"\n",
              "              style=\"display:none;\">\n",
              "        \n",
              "  <svg xmlns=\"http://www.w3.org/2000/svg\" height=\"24px\"viewBox=\"0 0 24 24\"\n",
              "       width=\"24px\">\n",
              "    <path d=\"M0 0h24v24H0V0z\" fill=\"none\"/>\n",
              "    <path d=\"M18.56 5.44l.94 2.06.94-2.06 2.06-.94-2.06-.94-.94-2.06-.94 2.06-2.06.94zm-11 1L8.5 8.5l.94-2.06 2.06-.94-2.06-.94L8.5 2.5l-.94 2.06-2.06.94zm10 10l.94 2.06.94-2.06 2.06-.94-2.06-.94-.94-2.06-.94 2.06-2.06.94z\"/><path d=\"M17.41 7.96l-1.37-1.37c-.4-.4-.92-.59-1.43-.59-.52 0-1.04.2-1.43.59L10.3 9.45l-7.72 7.72c-.78.78-.78 2.05 0 2.83L4 21.41c.39.39.9.59 1.41.59.51 0 1.02-.2 1.41-.59l7.78-7.78 2.81-2.81c.8-.78.8-2.07 0-2.86zM5.41 20L4 18.59l7.72-7.72 1.47 1.35L5.41 20z\"/>\n",
              "  </svg>\n",
              "      </button>\n",
              "      \n",
              "  <style>\n",
              "    .colab-df-container {\n",
              "      display:flex;\n",
              "      flex-wrap:wrap;\n",
              "      gap: 12px;\n",
              "    }\n",
              "\n",
              "    .colab-df-convert {\n",
              "      background-color: #E8F0FE;\n",
              "      border: none;\n",
              "      border-radius: 50%;\n",
              "      cursor: pointer;\n",
              "      display: none;\n",
              "      fill: #1967D2;\n",
              "      height: 32px;\n",
              "      padding: 0 0 0 0;\n",
              "      width: 32px;\n",
              "    }\n",
              "\n",
              "    .colab-df-convert:hover {\n",
              "      background-color: #E2EBFA;\n",
              "      box-shadow: 0px 1px 2px rgba(60, 64, 67, 0.3), 0px 1px 3px 1px rgba(60, 64, 67, 0.15);\n",
              "      fill: #174EA6;\n",
              "    }\n",
              "\n",
              "    [theme=dark] .colab-df-convert {\n",
              "      background-color: #3B4455;\n",
              "      fill: #D2E3FC;\n",
              "    }\n",
              "\n",
              "    [theme=dark] .colab-df-convert:hover {\n",
              "      background-color: #434B5C;\n",
              "      box-shadow: 0px 1px 3px 1px rgba(0, 0, 0, 0.15);\n",
              "      filter: drop-shadow(0px 1px 2px rgba(0, 0, 0, 0.3));\n",
              "      fill: #FFFFFF;\n",
              "    }\n",
              "  </style>\n",
              "\n",
              "      <script>\n",
              "        const buttonEl =\n",
              "          document.querySelector('#df-8745ae14-36af-4216-bf29-5160de51da03 button.colab-df-convert');\n",
              "        buttonEl.style.display =\n",
              "          google.colab.kernel.accessAllowed ? 'block' : 'none';\n",
              "\n",
              "        async function convertToInteractive(key) {\n",
              "          const element = document.querySelector('#df-8745ae14-36af-4216-bf29-5160de51da03');\n",
              "          const dataTable =\n",
              "            await google.colab.kernel.invokeFunction('convertToInteractive',\n",
              "                                                     [key], {});\n",
              "          if (!dataTable) return;\n",
              "\n",
              "          const docLinkHtml = 'Like what you see? Visit the ' +\n",
              "            '<a target=\"_blank\" href=https://colab.research.google.com/notebooks/data_table.ipynb>data table notebook</a>'\n",
              "            + ' to learn more about interactive tables.';\n",
              "          element.innerHTML = '';\n",
              "          dataTable['output_type'] = 'display_data';\n",
              "          await google.colab.output.renderOutput(dataTable, element);\n",
              "          const docLink = document.createElement('div');\n",
              "          docLink.innerHTML = docLinkHtml;\n",
              "          element.appendChild(docLink);\n",
              "        }\n",
              "      </script>\n",
              "    </div>\n",
              "  </div>\n",
              "  "
            ]
          },
          "metadata": {},
          "execution_count": 22
        }
      ]
    },
    {
      "cell_type": "code",
      "source": [
        "# Confusion Matrixを描画する\n",
        "cm_arr = confusion_matrix(y_true, y_pred, labels=emotion_names_jp)\n",
        "df_cm = pd.DataFrame(cm_arr, index=emotion_names_jp, columns=emotion_names_jp)\n",
        "plt.figure(figsize=(7,6))\n",
        "sns.heatmap(df_cm, annot=True, fmt='d')\n",
        "plt.xlabel('Prediction')\n",
        "plt.ylabel('GT')\n",
        "# sns.heatmap(df_cm, annot=True, fmt='d', cmap='Blues')"
      ],
      "metadata": {
        "colab": {
          "base_uri": "https://localhost:8080/",
          "height": 409
        },
        "id": "caPQtv_eeKBR",
        "outputId": "3590d351-dbe4-412a-f0ca-190d4593bc90"
      },
      "execution_count": 23,
      "outputs": [
        {
          "output_type": "execute_result",
          "data": {
            "text/plain": [
              "Text(38.9375, 0.5, 'GT')"
            ]
          },
          "metadata": {},
          "execution_count": 23
        },
        {
          "output_type": "display_data",
          "data": {
            "text/plain": [
              "<Figure size 504x432 with 2 Axes>"
            ],
            "image/png": "[encoded data removed]"
          },
          "metadata": {}
        }
      ]
    },
    {
      "cell_type": "markdown",
      "source": [
        "## 参考）推定結果を棒グラフとして出力する"
      ],
      "metadata": {
        "id": "gVsKDwRLk6qp"
      }
    },
    {
      "cell_type": "code",
      "source": [
        "def analyze_and_showfig(text):\n",
        "    # 推論\n",
        "    pred = analayze_emotion_by_fillmask(text)\n",
        "\n",
        "    # ラベル名を変更 e.g.) yorokobi --> \"喜\"\n",
        "    emotion_labels = {'ikari': '怒', 'suki': '好', 'haji': '恥', 'iya': '厭', 'kowa': '怖', 'aware': '哀', 'odoroki': '驚', 'yasu': '安', 'takaburi': '昴', 'yorokobi': '喜'}\n",
        "    out_dict = {emotion_labels[em_name]: score for em_name, score in pred}\n",
        "    out_list = [[em, out_dict[em]] for em in ['喜', '安', '好', '昴', '哀', '驚', '怒', '厭', '怖']]\n",
        "\n",
        "    # 棒グラフを描画\n",
        "    plt.figure(figsize=(8, 3))\n",
        "    df = pd.DataFrame(out_list, columns=['emotions', 'score'])\n",
        "    sns.barplot(x='emotions', y='score', data=df)\n",
        "    plt.title('入力文 : ' + text, fontsize=15)\n",
        "\n",
        "analyze_and_showfig(\"娘が美味しいディナーをご馳走してくれた。\")"
      ],
      "metadata": {
        "colab": {
          "base_uri": "https://localhost:8080/",
          "height": 303
        },
        "id": "oDrpsMyjh8t4",
        "outputId": "5c5686b5-f75a-4e15-a90e-bb704efa15ca"
      },
      "execution_count": 24,
      "outputs": [
        {
          "output_type": "stream",
          "name": "stderr",
          "text": [
            "/usr/local/lib/python3.7/dist-packages/transformers/pipelines/base.py:1039: UserWarning: You seem to be using the pipelines sequentially on GPU. In order to maximize efficiency please use a dataset\n",
            "  UserWarning,\n"
          ]
        },
        {
          "output_type": "display_data",
          "data": {
            "text/plain": [
              "<Figure size 576x216 with 1 Axes>"
            ],
            "image/png": "[encoded data removed]"
          },
          "metadata": {}
        }
      ]
    },
    {
      "cell_type": "code",
      "source": [
        "analyze_and_showfig(\"急な豪雨のせいで靴の中までビショビショだぁ。サイアク……。\")"
      ],
      "metadata": {
        "colab": {
          "base_uri": "https://localhost:8080/",
          "height": 303
        },
        "id": "5vTAbR0Nl_dy",
        "outputId": "eb949d40-0d0f-459d-df17-84821accfd04"
      },
      "execution_count": 25,
      "outputs": [
        {
          "output_type": "stream",
          "name": "stderr",
          "text": [
            "/usr/local/lib/python3.7/dist-packages/transformers/pipelines/base.py:1039: UserWarning: You seem to be using the pipelines sequentially on GPU. In order to maximize efficiency please use a dataset\n",
            "  UserWarning,\n"
          ]
        },
        {
          "output_type": "display_data",
          "data": {
            "text/plain": [
              "<Figure size 576x216 with 1 Axes>"
            ],
            "image/png": "[encoded data removed]"
          },
          "metadata": {}
        }
      ]
    },
    {
      "cell_type": "code",
      "source": [
        "analyze_and_showfig('今日はいい天気で、散歩していて気持ちがいい。')"
      ],
      "metadata": {
        "colab": {
          "base_uri": "https://localhost:8080/",
          "height": 303
        },
        "id": "gv1xcNILoQg5",
        "outputId": "4aa4cff7-b97a-44c8-d9b0-aeac6488123e"
      },
      "execution_count": 26,
      "outputs": [
        {
          "output_type": "stream",
          "name": "stderr",
          "text": [
            "/usr/local/lib/python3.7/dist-packages/transformers/pipelines/base.py:1039: UserWarning: You seem to be using the pipelines sequentially on GPU. In order to maximize efficiency please use a dataset\n",
            "  UserWarning,\n"
          ]
        },
        {
          "output_type": "display_data",
          "data": {
            "text/plain": [
              "<Figure size 576x216 with 1 Axes>"
            ],
            "image/png": "[encoded data removed]"
          },
          "metadata": {}
        }
      ]
    },
    {
      "cell_type": "markdown",
      "source": [
        "## 参考）ML-Askで分類してみる"
      ],
      "metadata": {
        "id": "22a4EkHPu7eB"
      }
    },
    {
      "cell_type": "code",
      "source": [
        "# ML-Askのインストール\n",
        "! pip install pymlask\n",
        "! apt install aptitude\n",
        "! aptitude install mecab libmecab-dev mecab-ipadic-utf8 git make curl xz-utils file -y\n",
        "! pip install mecab-python3==0.7"
      ],
      "metadata": {
        "colab": {
          "base_uri": "https://localhost:8080/"
        },
        "id": "HWhSTkDpvquY",
        "outputId": "4ef40fb8-bd31-4417-9600-a79da27d3089"
      },
      "execution_count": 27,
      "outputs": [
        {
          "output_type": "stream",
          "name": "stdout",
          "text": [
            "Looking in indexes: https://pypi.org/simple, https://us-python.pkg.dev/colab-wheels/public/simple/\n",
            "Requirement already satisfied: pymlask in /usr/local/lib/python3.7/dist-packages (0.3.2)\n",
            "Reading package lists... Done\n",
            "Building dependency tree       \n",
            "Reading state information... Done\n",
            "aptitude is already the newest version (0.8.10-6ubuntu1).\n",
            "0 upgraded, 0 newly installed, 0 to remove and 20 not upgraded.\n",
            "mecab is already installed at the requested version (0.996-5)\n",
            "libmecab-dev is already installed at the requested version (0.996-5)\n",
            "mecab-ipadic-utf8 is already installed at the requested version (2.7.0-20070801+main-1)\n",
            "git is already installed at the requested version (1:2.17.1-1ubuntu0.12)\n",
            "make is already installed at the requested version (4.1-9.1ubuntu1)\n",
            "curl is already installed at the requested version (7.58.0-2ubuntu3.19)\n",
            "xz-utils is already installed at the requested version (5.2.2-1.3ubuntu0.1)\n",
            "file is already installed at the requested version (1:5.32-2ubuntu0.4)\n",
            "mecab is already installed at the requested version (0.996-5)\n",
            "libmecab-dev is already installed at the requested version (0.996-5)\n",
            "mecab-ipadic-utf8 is already installed at the requested version (2.7.0-20070801+main-1)\n",
            "git is already installed at the requested version (1:2.17.1-1ubuntu0.12)\n",
            "make is already installed at the requested version (4.1-9.1ubuntu1)\n",
            "curl is already installed at the requested version (7.58.0-2ubuntu3.19)\n",
            "xz-utils is already installed at the requested version (5.2.2-1.3ubuntu0.1)\n",
            "file is already installed at the requested version (1:5.32-2ubuntu0.4)\n",
            "No packages will be installed, upgraded, or removed.\n",
            "0 packages upgraded, 0 newly installed, 0 to remove and 20 not upgraded.\n",
            "Need to get 0 B of archives. After unpacking 0 B will be used.\n",
            "                            \n",
            "Looking in indexes: https://pypi.org/simple, https://us-python.pkg.dev/colab-wheels/public/simple/\n",
            "Requirement already satisfied: mecab-python3==0.7 in /usr/local/lib/python3.7/dist-packages (0.7)\n"
          ]
        }
      ]
    },
    {
      "cell_type": "code",
      "source": [
        "from mlask import MLAsk\n",
        "emotion_analyzer = MLAsk()\n",
        "emotion_analyzer.analyze('今日はいい天気で、散歩していて気持ちがいい。')"
      ],
      "metadata": {
        "colab": {
          "base_uri": "https://localhost:8080/"
        },
        "id": "csEvo_oDwHJF",
        "outputId": "dc86c7dc-07e1-466a-8268-552d97e5c4ba"
      },
      "execution_count": 28,
      "outputs": [
        {
          "output_type": "execute_result",
          "data": {
            "text/plain": [
              "{'text': '今日はいい天気で、散歩していて気持ちがいい。',\n",
              " 'emotion': defaultdict(list, {'yorokobi': ['気持ちがいい']}),\n",
              " 'orientation': 'POSITIVE',\n",
              " 'activation': 'NEUTRAL',\n",
              " 'emoticon': None,\n",
              " 'intension': 0,\n",
              " 'intensifier': {},\n",
              " 'representative': ('yorokobi', ['気持ちがいい'])}"
            ]
          },
          "metadata": {},
          "execution_count": 28
        }
      ]
    },
    {
      "cell_type": "code",
      "source": [
        "def mlask_prediction_for_wrime(text):\n",
        "    res = emotion_analyzer.analyze(text)\n",
        "    if res['emotion'] is None:\n",
        "        return '感情なし'\n",
        "    else:\n",
        "        em_name = res['representative'][0]\n",
        "        wrime_em_name = convert_table[em_name]\n",
        "        return wrime_em_name\n",
        "\n",
        "results_mlask = []\n",
        "for index, row in df_test.iterrows():\n",
        "    text = row['Sentence']\n",
        "    label = row['emotion_label']\n",
        "    pred = mlask_prediction_for_wrime(text)\n",
        "    results_mlask.append([text, label, pred])"
      ],
      "metadata": {
        "id": "b2OOPBreu6mb"
      },
      "execution_count": 29,
      "outputs": []
    },
    {
      "cell_type": "code",
      "source": [
        "# 正解率\n",
        "res_arr_mlask = np.array(results_mlask)\n",
        "y_true = res_arr_mlask[:, 1]\n",
        "y_pred = res_arr_mlask[:, 2]\n",
        "\n",
        "acc = np.mean(y_true == y_pred)\n",
        "acc"
      ],
      "metadata": {
        "colab": {
          "base_uri": "https://localhost:8080/"
        },
        "id": "xyrGO2uKx5x6",
        "outputId": "8aa17468-c25b-47e4-f634-4cc41fbdb483"
      },
      "execution_count": 30,
      "outputs": [
        {
          "output_type": "execute_result",
          "data": {
            "text/plain": [
              "0.2203883495145631"
            ]
          },
          "metadata": {},
          "execution_count": 30
        }
      ]
    },
    {
      "cell_type": "code",
      "source": [
        "# 各感情に関して、Precision, Recallを求める\n",
        "report = classification_report(y_true, y_pred, output_dict=True, labels=emotion_names_jp)\n",
        "df_report = pd.DataFrame(report).transpose()\n",
        "df_report"
      ],
      "metadata": {
        "colab": {
          "base_uri": "https://localhost:8080/",
          "height": 518
        },
        "id": "ck0rJm0mxIf7",
        "outputId": "86e39a08-d5dc-49ed-f1b3-1e6e1f5c52e5"
      },
      "execution_count": 31,
      "outputs": [
        {
          "output_type": "stream",
          "name": "stderr",
          "text": [
            "/usr/local/lib/python3.7/dist-packages/sklearn/metrics/_classification.py:1318: UndefinedMetricWarning: Precision and F-score are ill-defined and being set to 0.0 in labels with no predicted samples. Use `zero_division` parameter to control this behavior.\n",
            "  _warn_prf(average, modifier, msg_start, len(result))\n",
            "/usr/local/lib/python3.7/dist-packages/sklearn/metrics/_classification.py:1318: UndefinedMetricWarning: Precision and F-score are ill-defined and being set to 0.0 in labels with no predicted samples. Use `zero_division` parameter to control this behavior.\n",
            "  _warn_prf(average, modifier, msg_start, len(result))\n",
            "/usr/local/lib/python3.7/dist-packages/sklearn/metrics/_classification.py:1318: UndefinedMetricWarning: Precision and F-score are ill-defined and being set to 0.0 in labels with no predicted samples. Use `zero_division` parameter to control this behavior.\n",
            "  _warn_prf(average, modifier, msg_start, len(result))\n"
          ]
        },
        {
          "output_type": "execute_result",
          "data": {
            "text/plain": [
              "              precision    recall  f1-score  support\n",
              "喜び             0.700000  0.504702  0.586521    319.0\n",
              "悲しみ            0.562500  0.104046  0.175610    173.0\n",
              "期待             0.111111  0.003344  0.006494    299.0\n",
              "驚き             0.681818  0.187500  0.294118     80.0\n",
              "怒り             0.100000  0.142857  0.117647      7.0\n",
              "恐れ             0.818182  0.211765  0.336449     85.0\n",
              "嫌悪             0.178082  0.203125  0.189781     64.0\n",
              "信頼             0.000000  0.000000  0.000000      3.0\n",
              "micro avg      0.570352  0.220388  0.317927   1030.0\n",
              "macro avg      0.393962  0.169667  0.213327   1030.0\n",
              "weighted avg   0.475750  0.220388  0.276232   1030.0"
            ],
            "text/html": [
              "\n",
              "  <div id=\"df-a318b0ff-5bae-469c-92d8-1ce9a2f64458\">\n",
              "    <div class=\"colab-df-container\">\n",
              "      <div>\n",
              "<style scoped>\n",
              "    .dataframe tbody tr th:only-of-type {\n",
              "        vertical-align: middle;\n",
              "    }\n",
              "\n",
              "    .dataframe tbody tr th {\n",
              "        vertical-align: top;\n",
              "    }\n",
              "\n",
              "    .dataframe thead th {\n",
              "        text-align: right;\n",
              "    }\n",
              "</style>\n",
              "<table border=\"1\" class=\"dataframe\">\n",
              "  <thead>\n",
              "    <tr style=\"text-align: right;\">\n",
              "      <th></th>\n",
              "      <th>precision</th>\n",
              "      <th>recall</th>\n",
              "      <th>f1-score</th>\n",
              "      <th>support</th>\n",
              "    </tr>\n",
              "  </thead>\n",
              "  <tbody>\n",
              "    <tr>\n",
              "      <th>喜び</th>\n",
              "      <td>0.700000</td>\n",
              "      <td>0.504702</td>\n",
              "      <td>0.586521</td>\n",
              "      <td>319.0</td>\n",
              "    </tr>\n",
              "    <tr>\n",
              "      <th>悲しみ</th>\n",
              "      <td>0.562500</td>\n",
              "      <td>0.104046</td>\n",
              "      <td>0.175610</td>\n",
              "      <td>173.0</td>\n",
              "    </tr>\n",
              "    <tr>\n",
              "      <th>期待</th>\n",
              "      <td>0.111111</td>\n",
              "      <td>0.003344</td>\n",
              "      <td>0.006494</td>\n",
              "      <td>299.0</td>\n",
              "    </tr>\n",
              "    <tr>\n",
              "      <th>驚き</th>\n",
              "      <td>0.681818</td>\n",
              "      <td>0.187500</td>\n",
              "      <td>0.294118</td>\n",
              "      <td>80.0</td>\n",
              "    </tr>\n",
              "    <tr>\n",
              "      <th>怒り</th>\n",
              "      <td>0.100000</td>\n",
              "      <td>0.142857</td>\n",
              "      <td>0.117647</td>\n",
              "      <td>7.0</td>\n",
              "    </tr>\n",
              "    <tr>\n",
              "      <th>恐れ</th>\n",
              "      <td>0.818182</td>\n",
              "      <td>0.211765</td>\n",
              "      <td>0.336449</td>\n",
              "      <td>85.0</td>\n",
              "    </tr>\n",
              "    <tr>\n",
              "      <th>嫌悪</th>\n",
              "      <td>0.178082</td>\n",
              "      <td>0.203125</td>\n",
              "      <td>0.189781</td>\n",
              "      <td>64.0</td>\n",
              "    </tr>\n",
              "    <tr>\n",
              "      <th>信頼</th>\n",
              "      <td>0.000000</td>\n",
              "      <td>0.000000</td>\n",
              "      <td>0.000000</td>\n",
              "      <td>3.0</td>\n",
              "    </tr>\n",
              "    <tr>\n",
              "      <th>micro avg</th>\n",
              "      <td>0.570352</td>\n",
              "      <td>0.220388</td>\n",
              "      <td>0.317927</td>\n",
              "      <td>1030.0</td>\n",
              "    </tr>\n",
              "    <tr>\n",
              "      <th>macro avg</th>\n",
              "      <td>0.393962</td>\n",
              "      <td>0.169667</td>\n",
              "      <td>0.213327</td>\n",
              "      <td>1030.0</td>\n",
              "    </tr>\n",
              "    <tr>\n",
              "      <th>weighted avg</th>\n",
              "      <td>0.475750</td>\n",
              "      <td>0.220388</td>\n",
              "      <td>0.276232</td>\n",
              "      <td>1030.0</td>\n",
              "    </tr>\n",
              "  </tbody>\n",
              "</table>\n",
              "</div>\n",
              "      <button class=\"colab-df-convert\" onclick=\"convertToInteractive('df-a318b0ff-5bae-469c-92d8-1ce9a2f64458')\"\n",
              "              title=\"Convert this dataframe to an interactive table.\"\n",
              "              style=\"display:none;\">\n",
              "        \n",
              "  <svg xmlns=\"http://www.w3.org/2000/svg\" height=\"24px\"viewBox=\"0 0 24 24\"\n",
              "       width=\"24px\">\n",
              "    <path d=\"M0 0h24v24H0V0z\" fill=\"none\"/>\n",
              "    <path d=\"M18.56 5.44l.94 2.06.94-2.06 2.06-.94-2.06-.94-.94-2.06-.94 2.06-2.06.94zm-11 1L8.5 8.5l.94-2.06 2.06-.94-2.06-.94L8.5 2.5l-.94 2.06-2.06.94zm10 10l.94 2.06.94-2.06 2.06-.94-2.06-.94-.94-2.06-.94 2.06-2.06.94z\"/><path d=\"M17.41 7.96l-1.37-1.37c-.4-.4-.92-.59-1.43-.59-.52 0-1.04.2-1.43.59L10.3 9.45l-7.72 7.72c-.78.78-.78 2.05 0 2.83L4 21.41c.39.39.9.59 1.41.59.51 0 1.02-.2 1.41-.59l7.78-7.78 2.81-2.81c.8-.78.8-2.07 0-2.86zM5.41 20L4 18.59l7.72-7.72 1.47 1.35L5.41 20z\"/>\n",
              "  </svg>\n",
              "      </button>\n",
              "      \n",
              "  <style>\n",
              "    .colab-df-container {\n",
              "      display:flex;\n",
              "      flex-wrap:wrap;\n",
              "      gap: 12px;\n",
              "    }\n",
              "\n",
              "    .colab-df-convert {\n",
              "      background-color: #E8F0FE;\n",
              "      border: none;\n",
              "      border-radius: 50%;\n",
              "      cursor: pointer;\n",
              "      display: none;\n",
              "      fill: #1967D2;\n",
              "      height: 32px;\n",
              "      padding: 0 0 0 0;\n",
              "      width: 32px;\n",
              "    }\n",
              "\n",
              "    .colab-df-convert:hover {\n",
              "      background-color: #E2EBFA;\n",
              "      box-shadow: 0px 1px 2px rgba(60, 64, 67, 0.3), 0px 1px 3px 1px rgba(60, 64, 67, 0.15);\n",
              "      fill: #174EA6;\n",
              "    }\n",
              "\n",
              "    [theme=dark] .colab-df-convert {\n",
              "      background-color: #3B4455;\n",
              "      fill: #D2E3FC;\n",
              "    }\n",
              "\n",
              "    [theme=dark] .colab-df-convert:hover {\n",
              "      background-color: #434B5C;\n",
              "      box-shadow: 0px 1px 3px 1px rgba(0, 0, 0, 0.15);\n",
              "      filter: drop-shadow(0px 1px 2px rgba(0, 0, 0, 0.3));\n",
              "      fill: #FFFFFF;\n",
              "    }\n",
              "  </style>\n",
              "\n",
              "      <script>\n",
              "        const buttonEl =\n",
              "          document.querySelector('#df-a318b0ff-5bae-469c-92d8-1ce9a2f64458 button.colab-df-convert');\n",
              "        buttonEl.style.display =\n",
              "          google.colab.kernel.accessAllowed ? 'block' : 'none';\n",
              "\n",
              "        async function convertToInteractive(key) {\n",
              "          const element = document.querySelector('#df-a318b0ff-5bae-469c-92d8-1ce9a2f64458');\n",
              "          const dataTable =\n",
              "            await google.colab.kernel.invokeFunction('convertToInteractive',\n",
              "                                                     [key], {});\n",
              "          if (!dataTable) return;\n",
              "\n",
              "          const docLinkHtml = 'Like what you see? Visit the ' +\n",
              "            '<a target=\"_blank\" href=https://colab.research.google.com/notebooks/data_table.ipynb>data table notebook</a>'\n",
              "            + ' to learn more about interactive tables.';\n",
              "          element.innerHTML = '';\n",
              "          dataTable['output_type'] = 'display_data';\n",
              "          await google.colab.output.renderOutput(dataTable, element);\n",
              "          const docLink = document.createElement('div');\n",
              "          docLink.innerHTML = docLinkHtml;\n",
              "          element.appendChild(docLink);\n",
              "        }\n",
              "      </script>\n",
              "    </div>\n",
              "  </div>\n",
              "  "
            ]
          },
          "metadata": {},
          "execution_count": 31
        }
      ]
    },
    {
      "cell_type": "code",
      "source": [
        "# Confusion Matrixを描画する\n",
        "cm_arr = confusion_matrix(y_true, y_pred, labels=emotion_names_jp)\n",
        "df_cm = pd.DataFrame(cm_arr, index=emotion_names_jp, columns=emotion_names_jp)\n",
        "plt.figure(figsize=(7,6))\n",
        "sns.heatmap(df_cm, annot=True, fmt='d')\n",
        "plt.xlabel('Prediction')\n",
        "plt.ylabel('GT')"
      ],
      "metadata": {
        "colab": {
          "base_uri": "https://localhost:8080/",
          "height": 411
        },
        "id": "JT4vNhRNxKb2",
        "outputId": "95b585f9-3c54-42e3-f70f-397273d29caf"
      },
      "execution_count": 32,
      "outputs": [
        {
          "output_type": "execute_result",
          "data": {
            "text/plain": [
              "Text(38.9375, 0.5, 'GT')"
            ]
          },
          "metadata": {},
          "execution_count": 32
        },
        {
          "output_type": "display_data",
          "data": {
            "text/plain": [
              "<Figure size 504x432 with 2 Axes>"
            ],
            "image/png": "[encoded data removed]"
          },
          "metadata": {}
        }
      ]
    },
    {
      "cell_type": "markdown",
      "source": [
        "## 参考）BoW+ロジスティック回帰"
      ],
      "metadata": {
        "id": "ytMAU9e6yZTY"
      }
    },
    {
      "cell_type": "code",
      "source": [
        "# 分かち書き用にGiNZAをインストール\n",
        "! pip install -U ginza ja_ginza"
      ],
      "metadata": {
        "colab": {
          "base_uri": "https://localhost:8080/"
        },
        "id": "1a7baX5py-fM",
        "outputId": "a9e37396-30af-4ca0-a891-a92e29b4590b"
      },
      "execution_count": 33,
      "outputs": [
        {
          "output_type": "stream",
          "name": "stdout",
          "text": [
            "Looking in indexes: https://pypi.org/simple, https://us-python.pkg.dev/colab-wheels/public/simple/\n",
            "Requirement already satisfied: ginza in /usr/local/lib/python3.7/dist-packages (5.1.2)\n",
            "Requirement already satisfied: ja_ginza in /usr/local/lib/python3.7/dist-packages (5.1.2)\n",
            "Requirement already satisfied: spacy<3.5.0,>=3.2.0 in /usr/local/lib/python3.7/dist-packages (from ginza) (3.4.1)\n",
            "Requirement already satisfied: plac>=1.3.3 in /usr/local/lib/python3.7/dist-packages (from ginza) (1.3.5)\n",
            "Requirement already satisfied: SudachiDict-core>=20210802 in /usr/local/lib/python3.7/dist-packages (from ginza) (20220729)\n",
            "Requirement already satisfied: SudachiPy<0.7.0,>=0.6.2 in /usr/local/lib/python3.7/dist-packages (from ginza) (0.6.6)\n",
            "Requirement already satisfied: thinc<8.2.0,>=8.1.0 in /usr/local/lib/python3.7/dist-packages (from spacy<3.5.0,>=3.2.0->ginza) (8.1.0)\n",
            "Requirement already satisfied: tqdm<5.0.0,>=4.38.0 in /usr/local/lib/python3.7/dist-packages (from spacy<3.5.0,>=3.2.0->ginza) (4.64.0)\n",
            "Requirement already satisfied: langcodes<4.0.0,>=3.2.0 in /usr/local/lib/python3.7/dist-packages (from spacy<3.5.0,>=3.2.0->ginza) (3.3.0)\n",
            "Requirement already satisfied: typing-extensions<4.2.0,>=3.7.4 in /usr/local/lib/python3.7/dist-packages (from spacy<3.5.0,>=3.2.0->ginza) (4.1.1)\n",
            "Requirement already satisfied: jinja2 in /usr/local/lib/python3.7/dist-packages (from spacy<3.5.0,>=3.2.0->ginza) (2.11.3)\n",
            "Requirement already satisfied: wasabi<1.1.0,>=0.9.1 in /usr/local/lib/python3.7/dist-packages (from spacy<3.5.0,>=3.2.0->ginza) (0.10.1)\n",
            "Requirement already satisfied: catalogue<2.1.0,>=2.0.6 in /usr/local/lib/python3.7/dist-packages (from spacy<3.5.0,>=3.2.0->ginza) (2.0.8)\n",
            "Requirement already satisfied: requests<3.0.0,>=2.13.0 in /usr/local/lib/python3.7/dist-packages (from spacy<3.5.0,>=3.2.0->ginza) (2.23.0)\n",
            "Requirement already satisfied: spacy-legacy<3.1.0,>=3.0.9 in /usr/local/lib/python3.7/dist-packages (from spacy<3.5.0,>=3.2.0->ginza) (3.0.10)\n",
            "Requirement already satisfied: srsly<3.0.0,>=2.4.3 in /usr/local/lib/python3.7/dist-packages (from spacy<3.5.0,>=3.2.0->ginza) (2.4.4)\n",
            "Requirement already satisfied: cymem<2.1.0,>=2.0.2 in /usr/local/lib/python3.7/dist-packages (from spacy<3.5.0,>=3.2.0->ginza) (2.0.6)\n",
            "Requirement already satisfied: spacy-loggers<2.0.0,>=1.0.0 in /usr/local/lib/python3.7/dist-packages (from spacy<3.5.0,>=3.2.0->ginza) (1.0.3)\n",
            "Requirement already satisfied: packaging>=20.0 in /usr/local/lib/python3.7/dist-packages (from spacy<3.5.0,>=3.2.0->ginza) (21.3)\n",
            "Requirement already satisfied: pathy>=0.3.5 in /usr/local/lib/python3.7/dist-packages (from spacy<3.5.0,>=3.2.0->ginza) (0.6.2)\n",
            "Requirement already satisfied: preshed<3.1.0,>=3.0.2 in /usr/local/lib/python3.7/dist-packages (from spacy<3.5.0,>=3.2.0->ginza) (3.0.7)\n",
            "Requirement already satisfied: murmurhash<1.1.0,>=0.28.0 in /usr/local/lib/python3.7/dist-packages (from spacy<3.5.0,>=3.2.0->ginza) (1.0.8)\n",
            "Requirement already satisfied: numpy>=1.15.0 in /usr/local/lib/python3.7/dist-packages (from spacy<3.5.0,>=3.2.0->ginza) (1.21.6)\n",
            "Requirement already satisfied: pydantic!=1.8,!=1.8.1,<1.10.0,>=1.7.4 in /usr/local/lib/python3.7/dist-packages (from spacy<3.5.0,>=3.2.0->ginza) (1.9.2)\n",
            "Requirement already satisfied: setuptools in /usr/local/lib/python3.7/dist-packages (from spacy<3.5.0,>=3.2.0->ginza) (57.4.0)\n",
            "Requirement already satisfied: typer<0.5.0,>=0.3.0 in /usr/local/lib/python3.7/dist-packages (from spacy<3.5.0,>=3.2.0->ginza) (0.4.2)\n",
            "Requirement already satisfied: zipp>=0.5 in /usr/local/lib/python3.7/dist-packages (from catalogue<2.1.0,>=2.0.6->spacy<3.5.0,>=3.2.0->ginza) (3.8.1)\n",
            "Requirement already satisfied: pyparsing!=3.0.5,>=2.0.2 in /usr/local/lib/python3.7/dist-packages (from packaging>=20.0->spacy<3.5.0,>=3.2.0->ginza) (3.0.9)\n",
            "Requirement already satisfied: smart-open<6.0.0,>=5.2.1 in /usr/local/lib/python3.7/dist-packages (from pathy>=0.3.5->spacy<3.5.0,>=3.2.0->ginza) (5.2.1)\n",
            "Requirement already satisfied: idna<3,>=2.5 in /usr/local/lib/python3.7/dist-packages (from requests<3.0.0,>=2.13.0->spacy<3.5.0,>=3.2.0->ginza) (2.10)\n",
            "Requirement already satisfied: chardet<4,>=3.0.2 in /usr/local/lib/python3.7/dist-packages (from requests<3.0.0,>=2.13.0->spacy<3.5.0,>=3.2.0->ginza) (3.0.4)\n",
            "Requirement already satisfied: urllib3!=1.25.0,!=1.25.1,<1.26,>=1.21.1 in /usr/local/lib/python3.7/dist-packages (from requests<3.0.0,>=2.13.0->spacy<3.5.0,>=3.2.0->ginza) (1.24.3)\n",
            "Requirement already satisfied: certifi>=2017.4.17 in /usr/local/lib/python3.7/dist-packages (from requests<3.0.0,>=2.13.0->spacy<3.5.0,>=3.2.0->ginza) (2022.6.15)\n",
            "Requirement already satisfied: blis<0.8.0,>=0.7.8 in /usr/local/lib/python3.7/dist-packages (from thinc<8.2.0,>=8.1.0->spacy<3.5.0,>=3.2.0->ginza) (0.7.8)\n",
            "Requirement already satisfied: click<9.0.0,>=7.1.1 in /usr/local/lib/python3.7/dist-packages (from typer<0.5.0,>=0.3.0->spacy<3.5.0,>=3.2.0->ginza) (7.1.2)\n",
            "Requirement already satisfied: MarkupSafe>=0.23 in /usr/local/lib/python3.7/dist-packages (from jinja2->spacy<3.5.0,>=3.2.0->ginza) (2.0.1)\n"
          ]
        }
      ]
    },
    {
      "cell_type": "code",
      "source": [
        "# GiNZAで分かち書き\n",
        "import spacy\n",
        "nlp = spacy.load('ja_ginza')\n",
        "\n",
        "def wakati_preprocess(text):\n",
        "    \"\"\"分かち書き. 各単語はlemma（原形）に変換しておく.\"\"\"\n",
        "    doc = nlp(text)\n",
        "    lemmas = []\n",
        "    for sent in doc.sents:\n",
        "        for token in sent:\n",
        "            lemmas.append(token.lemma_)\n",
        "    return ' '.join(lemmas)"
      ],
      "metadata": {
        "id": "u3a7y8btzHRZ"
      },
      "execution_count": 34,
      "outputs": []
    },
    {
      "cell_type": "code",
      "source": [
        "# 前処理\n",
        "docs_train = [wakati_preprocess(text) for text in df_train['Sentence'].values]\n",
        "docs_test = [wakati_preprocess(text) for text in df_test['Sentence'].values]"
      ],
      "metadata": {
        "id": "L7SXAl3VzaHW"
      },
      "execution_count": 35,
      "outputs": []
    },
    {
      "cell_type": "code",
      "source": [
        "y_train = [emotion_names_jp.index(label) for label in df_train['emotion_label'].values]\n",
        "y_test = [emotion_names_jp.index(label) for label in df_test['emotion_label'].values]"
      ],
      "metadata": {
        "id": "2ly3cu_30yTu"
      },
      "execution_count": 36,
      "outputs": []
    },
    {
      "cell_type": "code",
      "source": [
        "from sklearn.feature_extraction.text import CountVectorizer\n",
        "from sklearn.linear_model import LogisticRegression\n",
        "\n",
        "# BoW (CountVectorizer)\n",
        "bow_vectorizer = CountVectorizer(max_df=0.5, min_df=0.001, stop_words=[])\n",
        "bow_vectorizer.fit(docs_train)\n",
        "x_train = bow_vectorizer.transform(docs_train).toarray()\n",
        "\n",
        "# ロジスティック回帰\n",
        "logreg = LogisticRegression(max_iter=1000)\n",
        "\n",
        "# 訓練\n",
        "logreg.fit(x_train, y_train)\n",
        "\n",
        "# 評価サンプルに適用\n",
        "x_test = bow_vectorizer.transform(docs_test).toarray()\n",
        "_y_pred_bow = logreg.predict(x_test)"
      ],
      "metadata": {
        "id": "0dGlBNU7yvGC"
      },
      "execution_count": 37,
      "outputs": []
    },
    {
      "cell_type": "code",
      "source": [
        "# 正解率\n",
        "y_true_bow = np.array([emotion_names_jp[i] for i in y_test])\n",
        "y_pred_bow = np.array([emotion_names_jp[i] for i in _y_pred_bow])\n",
        "acc = np.mean(y_true_bow == y_pred_bow)\n",
        "print(acc)"
      ],
      "metadata": {
        "colab": {
          "base_uri": "https://localhost:8080/"
        },
        "id": "x3Ly4PRA4PV6",
        "outputId": "c657d911-9388-4dd3-fdc4-ea814c1d1553"
      },
      "execution_count": 38,
      "outputs": [
        {
          "output_type": "stream",
          "name": "stdout",
          "text": [
            "0.6223300970873786\n"
          ]
        }
      ]
    },
    {
      "cell_type": "code",
      "source": [
        "# 各感情に関して、Precision, Recallを求める\n",
        "report = classification_report(y_true_bow, y_pred_bow, output_dict=True, labels=emotion_names_jp)\n",
        "df_report = pd.DataFrame(report).transpose()\n",
        "df_report"
      ],
      "metadata": {
        "colab": {
          "base_uri": "https://localhost:8080/",
          "height": 518
        },
        "id": "9kFyjDKv1Bxu",
        "outputId": "8ad522b0-04f7-4c2b-dc78-c411b0ba705e"
      },
      "execution_count": 39,
      "outputs": [
        {
          "output_type": "stream",
          "name": "stderr",
          "text": [
            "/usr/local/lib/python3.7/dist-packages/sklearn/metrics/_classification.py:1318: UndefinedMetricWarning: Precision and F-score are ill-defined and being set to 0.0 in labels with no predicted samples. Use `zero_division` parameter to control this behavior.\n",
            "  _warn_prf(average, modifier, msg_start, len(result))\n",
            "/usr/local/lib/python3.7/dist-packages/sklearn/metrics/_classification.py:1318: UndefinedMetricWarning: Precision and F-score are ill-defined and being set to 0.0 in labels with no predicted samples. Use `zero_division` parameter to control this behavior.\n",
            "  _warn_prf(average, modifier, msg_start, len(result))\n",
            "/usr/local/lib/python3.7/dist-packages/sklearn/metrics/_classification.py:1318: UndefinedMetricWarning: Precision and F-score are ill-defined and being set to 0.0 in labels with no predicted samples. Use `zero_division` parameter to control this behavior.\n",
            "  _warn_prf(average, modifier, msg_start, len(result))\n"
          ]
        },
        {
          "output_type": "execute_result",
          "data": {
            "text/plain": [
              "              precision    recall  f1-score     support\n",
              "喜び             0.669312  0.793103  0.725968   319.00000\n",
              "悲しみ            0.502825  0.514451  0.508571   173.00000\n",
              "期待             0.708054  0.705686  0.706868   299.00000\n",
              "驚き             0.505618  0.562500  0.532544    80.00000\n",
              "怒り             0.000000  0.000000  0.000000     7.00000\n",
              "恐れ             0.516129  0.376471  0.435374    85.00000\n",
              "嫌悪             0.458333  0.171875  0.250000    64.00000\n",
              "信頼             0.000000  0.000000  0.000000     3.00000\n",
              "accuracy       0.622330  0.622330  0.622330     0.62233\n",
              "macro avg      0.420034  0.390511  0.394916  1030.00000\n",
              "weighted avg   0.607632  0.622330  0.608282  1030.00000"
            ],
            "text/html": [
              "\n",
              "  <div id=\"df-3c9c7c55-9942-41e1-bfe3-849a0ed23f39\">\n",
              "    <div class=\"colab-df-container\">\n",
              "      <div>\n",
              "<style scoped>\n",
              "    .dataframe tbody tr th:only-of-type {\n",
              "        vertical-align: middle;\n",
              "    }\n",
              "\n",
              "    .dataframe tbody tr th {\n",
              "        vertical-align: top;\n",
              "    }\n",
              "\n",
              "    .dataframe thead th {\n",
              "        text-align: right;\n",
              "    }\n",
              "</style>\n",
              "<table border=\"1\" class=\"dataframe\">\n",
              "  <thead>\n",
              "    <tr style=\"text-align: right;\">\n",
              "      <th></th>\n",
              "      <th>precision</th>\n",
              "      <th>recall</th>\n",
              "      <th>f1-score</th>\n",
              "      <th>support</th>\n",
              "    </tr>\n",
              "  </thead>\n",
              "  <tbody>\n",
              "    <tr>\n",
              "      <th>喜び</th>\n",
              "      <td>0.669312</td>\n",
              "      <td>0.793103</td>\n",
              "      <td>0.725968</td>\n",
              "      <td>319.00000</td>\n",
              "    </tr>\n",
              "    <tr>\n",
              "      <th>悲しみ</th>\n",
              "      <td>0.502825</td>\n",
              "      <td>0.514451</td>\n",
              "      <td>0.508571</td>\n",
              "      <td>173.00000</td>\n",
              "    </tr>\n",
              "    <tr>\n",
              "      <th>期待</th>\n",
              "      <td>0.708054</td>\n",
              "      <td>0.705686</td>\n",
              "      <td>0.706868</td>\n",
              "      <td>299.00000</td>\n",
              "    </tr>\n",
              "    <tr>\n",
              "      <th>驚き</th>\n",
              "      <td>0.505618</td>\n",
              "      <td>0.562500</td>\n",
              "      <td>0.532544</td>\n",
              "      <td>80.00000</td>\n",
              "    </tr>\n",
              "    <tr>\n",
              "      <th>怒り</th>\n",
              "      <td>0.000000</td>\n",
              "      <td>0.000000</td>\n",
              "      <td>0.000000</td>\n",
              "      <td>7.00000</td>\n",
              "    </tr>\n",
              "    <tr>\n",
              "      <th>恐れ</th>\n",
              "      <td>0.516129</td>\n",
              "      <td>0.376471</td>\n",
              "      <td>0.435374</td>\n",
              "      <td>85.00000</td>\n",
              "    </tr>\n",
              "    <tr>\n",
              "      <th>嫌悪</th>\n",
              "      <td>0.458333</td>\n",
              "      <td>0.171875</td>\n",
              "      <td>0.250000</td>\n",
              "      <td>64.00000</td>\n",
              "    </tr>\n",
              "    <tr>\n",
              "      <th>信頼</th>\n",
              "      <td>0.000000</td>\n",
              "      <td>0.000000</td>\n",
              "      <td>0.000000</td>\n",
              "      <td>3.00000</td>\n",
              "    </tr>\n",
              "    <tr>\n",
              "      <th>accuracy</th>\n",
              "      <td>0.622330</td>\n",
              "      <td>0.622330</td>\n",
              "      <td>0.622330</td>\n",
              "      <td>0.62233</td>\n",
              "    </tr>\n",
              "    <tr>\n",
              "      <th>macro avg</th>\n",
              "      <td>0.420034</td>\n",
              "      <td>0.390511</td>\n",
              "      <td>0.394916</td>\n",
              "      <td>1030.00000</td>\n",
              "    </tr>\n",
              "    <tr>\n",
              "      <th>weighted avg</th>\n",
              "      <td>0.607632</td>\n",
              "      <td>0.622330</td>\n",
              "      <td>0.608282</td>\n",
              "      <td>1030.00000</td>\n",
              "    </tr>\n",
              "  </tbody>\n",
              "</table>\n",
              "</div>\n",
              "      <button class=\"colab-df-convert\" onclick=\"convertToInteractive('df-3c9c7c55-9942-41e1-bfe3-849a0ed23f39')\"\n",
              "              title=\"Convert this dataframe to an interactive table.\"\n",
              "              style=\"display:none;\">\n",
              "        \n",
              "  <svg xmlns=\"http://www.w3.org/2000/svg\" height=\"24px\"viewBox=\"0 0 24 24\"\n",
              "       width=\"24px\">\n",
              "    <path d=\"M0 0h24v24H0V0z\" fill=\"none\"/>\n",
              "    <path d=\"M18.56 5.44l.94 2.06.94-2.06 2.06-.94-2.06-.94-.94-2.06-.94 2.06-2.06.94zm-11 1L8.5 8.5l.94-2.06 2.06-.94-2.06-.94L8.5 2.5l-.94 2.06-2.06.94zm10 10l.94 2.06.94-2.06 2.06-.94-2.06-.94-.94-2.06-.94 2.06-2.06.94z\"/><path d=\"M17.41 7.96l-1.37-1.37c-.4-.4-.92-.59-1.43-.59-.52 0-1.04.2-1.43.59L10.3 9.45l-7.72 7.72c-.78.78-.78 2.05 0 2.83L4 21.41c.39.39.9.59 1.41.59.51 0 1.02-.2 1.41-.59l7.78-7.78 2.81-2.81c.8-.78.8-2.07 0-2.86zM5.41 20L4 18.59l7.72-7.72 1.47 1.35L5.41 20z\"/>\n",
              "  </svg>\n",
              "      </button>\n",
              "      \n",
              "  <style>\n",
              "    .colab-df-container {\n",
              "      display:flex;\n",
              "      flex-wrap:wrap;\n",
              "      gap: 12px;\n",
              "    }\n",
              "\n",
              "    .colab-df-convert {\n",
              "      background-color: #E8F0FE;\n",
              "      border: none;\n",
              "      border-radius: 50%;\n",
              "      cursor: pointer;\n",
              "      display: none;\n",
              "      fill: #1967D2;\n",
              "      height: 32px;\n",
              "      padding: 0 0 0 0;\n",
              "      width: 32px;\n",
              "    }\n",
              "\n",
              "    .colab-df-convert:hover {\n",
              "      background-color: #E2EBFA;\n",
              "      box-shadow: 0px 1px 2px rgba(60, 64, 67, 0.3), 0px 1px 3px 1px rgba(60, 64, 67, 0.15);\n",
              "      fill: #174EA6;\n",
              "    }\n",
              "\n",
              "    [theme=dark] .colab-df-convert {\n",
              "      background-color: #3B4455;\n",
              "      fill: #D2E3FC;\n",
              "    }\n",
              "\n",
              "    [theme=dark] .colab-df-convert:hover {\n",
              "      background-color: #434B5C;\n",
              "      box-shadow: 0px 1px 3px 1px rgba(0, 0, 0, 0.15);\n",
              "      filter: drop-shadow(0px 1px 2px rgba(0, 0, 0, 0.3));\n",
              "      fill: #FFFFFF;\n",
              "    }\n",
              "  </style>\n",
              "\n",
              "      <script>\n",
              "        const buttonEl =\n",
              "          document.querySelector('#df-3c9c7c55-9942-41e1-bfe3-849a0ed23f39 button.colab-df-convert');\n",
              "        buttonEl.style.display =\n",
              "          google.colab.kernel.accessAllowed ? 'block' : 'none';\n",
              "\n",
              "        async function convertToInteractive(key) {\n",
              "          const element = document.querySelector('#df-3c9c7c55-9942-41e1-bfe3-849a0ed23f39');\n",
              "          const dataTable =\n",
              "            await google.colab.kernel.invokeFunction('convertToInteractive',\n",
              "                                                     [key], {});\n",
              "          if (!dataTable) return;\n",
              "\n",
              "          const docLinkHtml = 'Like what you see? Visit the ' +\n",
              "            '<a target=\"_blank\" href=https://colab.research.google.com/notebooks/data_table.ipynb>data table notebook</a>'\n",
              "            + ' to learn more about interactive tables.';\n",
              "          element.innerHTML = '';\n",
              "          dataTable['output_type'] = 'display_data';\n",
              "          await google.colab.output.renderOutput(dataTable, element);\n",
              "          const docLink = document.createElement('div');\n",
              "          docLink.innerHTML = docLinkHtml;\n",
              "          element.appendChild(docLink);\n",
              "        }\n",
              "      </script>\n",
              "    </div>\n",
              "  </div>\n",
              "  "
            ]
          },
          "metadata": {},
          "execution_count": 39
        }
      ]
    },
    {
      "cell_type": "code",
      "source": [
        "# Confusion Matrixを描画する\n",
        "cm_arr = confusion_matrix(y_true_bow, y_pred_bow, labels=emotion_names_jp)\n",
        "df_cm = pd.DataFrame(cm_arr, index=emotion_names_jp, columns=emotion_names_jp)\n",
        "plt.figure(figsize=(7,6))\n",
        "sns.heatmap(df_cm, annot=True, fmt='d')\n",
        "plt.xlabel('Prediction')\n",
        "plt.ylabel('GT')"
      ],
      "metadata": {
        "colab": {
          "base_uri": "https://localhost:8080/",
          "height": 409
        },
        "id": "dOQ7CMf11jC_",
        "outputId": "f5cf3d5c-7556-481c-a5e1-fce680790c27"
      },
      "execution_count": 40,
      "outputs": [
        {
          "output_type": "execute_result",
          "data": {
            "text/plain": [
              "Text(38.9375, 0.5, 'GT')"
            ]
          },
          "metadata": {},
          "execution_count": 40
        },
        {
          "output_type": "display_data",
          "data": {
            "text/plain": [
              "<Figure size 504x432 with 2 Axes>"
            ],
            "image/png": "[encoded data removed]"
          },
          "metadata": {}
        }
      ]
    },
    {
      "cell_type": "markdown",
      "source": [
        "## 参考）GPU使用状況を確認\n",
        "- 当初、GPUを使用できておらず、推論が遅かった\n",
        "- `pipeline(*, device=0)`とdeviceを明示的に指定することで解決"
      ],
      "metadata": {
        "id": "NKzPZNDQiTq5"
      }
    },
    {
      "cell_type": "code",
      "source": [
        "! pip install nvidia-ml-py3"
      ],
      "metadata": {
        "colab": {
          "base_uri": "https://localhost:8080/"
        },
        "id": "zyhXD3dzhODo",
        "outputId": "a61ca6dd-c538-46e5-8268-0b08475cf13b"
      },
      "execution_count": 41,
      "outputs": [
        {
          "output_type": "stream",
          "name": "stdout",
          "text": [
            "Looking in indexes: https://pypi.org/simple, https://us-python.pkg.dev/colab-wheels/public/simple/\n",
            "Requirement already satisfied: nvidia-ml-py3 in /usr/local/lib/python3.7/dist-packages (7.352.0)\n"
          ]
        }
      ]
    },
    {
      "cell_type": "code",
      "source": [
        "from pynvml import *\n",
        "\n",
        "def print_gpu_utilization():\n",
        "    nvmlInit()\n",
        "    handle = nvmlDeviceGetHandleByIndex(0)\n",
        "    info = nvmlDeviceGetMemoryInfo(handle)\n",
        "    print(f\"GPU memory occupied: {info.used//1024**2} MB.\")\n",
        "\n",
        "print_gpu_utilization()"
      ],
      "metadata": {
        "colab": {
          "base_uri": "https://localhost:8080/"
        },
        "id": "C3BpsdJegfoV",
        "outputId": "a1383295-a71b-4561-96c0-3650926640b3"
      },
      "execution_count": 42,
      "outputs": [
        {
          "output_type": "stream",
          "name": "stdout",
          "text": [
            "GPU memory occupied: 1502 MB.\n"
          ]
        }
      ]
    }
  ]
}