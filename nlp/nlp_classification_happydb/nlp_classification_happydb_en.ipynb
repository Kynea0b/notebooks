{
  "nbformat": 4,
  "nbformat_minor": 0,
  "metadata": {
    "colab": {
      "name": "HappyDBで文章分類してみる_EN版.ipynb",
      "provenance": [],
      "collapsed_sections": [],
      "toc_visible": true
    },
    "kernelspec": {
      "name": "python3",
      "display_name": "Python 3"
    },
    "language_info": {
      "name": "python"
    }
  },
  "cells": [
    {
      "cell_type": "markdown",
      "source": [
        "# HappyDBで文章分類してみる（英語, BoW/TF-IDF）"
      ],
      "metadata": {
        "id": "KMilaJS9bcor"
      }
    },
    {
      "cell_type": "code",
      "source": [
        "import numpy as np\n",
        "import pandas as pd\n",
        "\n",
        "import matplotlib.pyplot as plt\n",
        "import seaborn as sns\n",
        "sns.set()\n",
        "\n",
        "from sklearn.model_selection import train_test_split\n",
        "from sklearn.model_selection import cross_validate, StratifiedKFold\n",
        "from sklearn.metrics import confusion_matrix, accuracy_score, precision_score, recall_score, f1_score\n",
        "\n",
        "from sklearn.linear_model import LogisticRegression\n",
        "from sklearn.feature_extraction.text import CountVectorizer\n",
        "from sklearn.feature_extraction.text import TfidfVectorizer"
      ],
      "metadata": {
        "id": "B0S5iP9cd2Rg"
      },
      "execution_count": 1,
      "outputs": []
    },
    {
      "cell_type": "markdown",
      "source": [
        "## 1. HappyDBをダウンロード\n",
        "\n",
        "GitHubより、必要なファイル（\"cleaned_hm.csv\"）だけをダウンロードする"
      ],
      "metadata": {
        "id": "gZxtOkFVbnfF"
      }
    },
    {
      "cell_type": "markdown",
      "source": [
        "（参考）HappyDBについて\n",
        "- 論文\n",
        "  - [\"HappyDB: A Corpus of 100,000 Crowdsourced Happy Moments\" (Asai, et al., 2018)](https://arxiv.org/pdf/1801.07746.pdf)\n",
        "- データ\n",
        "  - [GitHub - megagonlabs/HappyDB](https://github.com/megagonlabs/HappyDB)\n",
        "  - [Kaggle - HappyDB](https://www.kaggle.com/datasets/ritresearch/happydb)"
      ],
      "metadata": {
        "id": "YbdRsp_3doXL"
      }
    },
    {
      "cell_type": "code",
      "execution_count": 2,
      "metadata": {
        "colab": {
          "base_uri": "https://localhost:8080/"
        },
        "id": "YW9NeDFbbPST",
        "outputId": "502918b7-f6ae-4f44-8350-e8b9be031d3b"
      },
      "outputs": [
        {
          "output_type": "stream",
          "name": "stdout",
          "text": [
            "--2022-05-29 13:10:14--  https://github.com/megagonlabs/HappyDB/raw/master/happydb/data/cleaned_hm.csv\n",
            "Resolving github.com (github.com)... 140.82.114.3\n",
            "Connecting to github.com (github.com)|140.82.114.3|:443... connected.\n",
            "HTTP request sent, awaiting response... 302 Found\n",
            "Location: https://raw.githubusercontent.com/megagonlabs/HappyDB/master/happydb/data/cleaned_hm.csv [following]\n",
            "--2022-05-29 13:10:14--  https://raw.githubusercontent.com/megagonlabs/HappyDB/master/happydb/data/cleaned_hm.csv\n",
            "Resolving raw.githubusercontent.com (raw.githubusercontent.com)... 185.199.109.133, 185.199.110.133, 185.199.111.133, ...\n",
            "Connecting to raw.githubusercontent.com (raw.githubusercontent.com)|185.199.109.133|:443... connected.\n",
            "HTTP request sent, awaiting response... 200 OK\n",
            "Length: 22501526 (21M) [text/plain]\n",
            "Saving to: ‘cleaned_hm.csv’\n",
            "\n",
            "cleaned_hm.csv      100%[===================>]  21.46M  --.-KB/s    in 0.09s   \n",
            "\n",
            "2022-05-29 13:10:14 (252 MB/s) - ‘cleaned_hm.csv’ saved [22501526/22501526]\n",
            "\n"
          ]
        }
      ],
      "source": [
        "! wget https://github.com/megagonlabs/HappyDB/raw/master/happydb/data/cleaned_hm.csv"
      ]
    },
    {
      "cell_type": "markdown",
      "source": [
        "## 2. HappyDBを読み込む"
      ],
      "metadata": {
        "id": "gd38nKkpemJ5"
      }
    },
    {
      "cell_type": "markdown",
      "source": [
        "### データ概要"
      ],
      "metadata": {
        "id": "SVeiB0XW9hry"
      }
    },
    {
      "cell_type": "markdown",
      "source": [
        "カラムの意味（主要なもの）\n",
        "- hmid : 幸せな瞬間（HappyMoment）のID\n",
        "- wid : データ収集協力者のID\n",
        "- reflection_period : 時間の範囲（24h/3m)\n",
        "- cleaned_hm : 記述文（誤字脱字修正版）\n",
        "- ground_truth_category : カテゴリラベル"
      ],
      "metadata": {
        "id": "1aLGR9s19f45"
      }
    },
    {
      "cell_type": "markdown",
      "source": [
        "カテゴリ種別\n",
        "- __Achievement__\n",
        "    - With extra effort to achieve a better than expected result\n",
        "    - Finish work. Complete marathon.\n",
        "- __Affection__\n",
        "    - Meaningful interaction with family, loved ones and pets\n",
        "    - Hug. Cuddle. Kiss.\n",
        "- __Bonding__\n",
        "    - Meaningful interaction with friends and colleagues\n",
        "    - Have meals w coworker. Meet with friends.\n",
        "- __Enjoy__\n",
        "    - the moment Being aware or reflecting on present environment\n",
        "    - Have a good time. Mesmerize.\n",
        "- __Exercise__\n",
        "    - With intent to exercise or workout\n",
        "    - Run. Bike. Do yoga. Lift weights.\n",
        "- __Leisure__\n",
        "    - An activity done regularly in one’s free time for pleasure\n",
        "    - Play games. Watch movie. Bake cookies.\n",
        "- __Nature__\n",
        "    - In the open air, in nature\n",
        "    - Garden. Beach. Sunset. Weather"
      ],
      "metadata": {
        "id": "QIfOUiR080-u"
      }
    },
    {
      "cell_type": "markdown",
      "source": [
        "### データの確認"
      ],
      "metadata": {
        "id": "KesF7Ucj9mf5"
      }
    },
    {
      "cell_type": "code",
      "source": [
        "df_hm = pd.read_csv('cleaned_hm.csv')\n",
        "df_hm.head(3)"
      ],
      "metadata": {
        "colab": {
          "base_uri": "https://localhost:8080/",
          "height": 450
        },
        "id": "qUYZtVuacQjg",
        "outputId": "9f6535df-a24c-4450-e020-8324ad34ad4d"
      },
      "execution_count": 3,
      "outputs": [
        {
          "output_type": "execute_result",
          "data": {
            "text/plain": [
              "    hmid   wid reflection_period  \\\n",
              "0  27673  2053               24h   \n",
              "1  27674     2               24h   \n",
              "2  27675  1936               24h   \n",
              "\n",
              "                                         original_hm  \\\n",
              "0  I went on a successful date with someone I fel...   \n",
              "1  I was happy when my son got 90% marks in his e...   \n",
              "2       I went to the gym this morning and did yoga.   \n",
              "\n",
              "                                          cleaned_hm  modified  num_sentence  \\\n",
              "0  I went on a successful date with someone I fel...      True             1   \n",
              "1  I was happy when my son got 90% marks in his e...      True             1   \n",
              "2       I went to the gym this morning and did yoga.      True             1   \n",
              "\n",
              "  ground_truth_category predicted_category  \n",
              "0                   NaN          affection  \n",
              "1                   NaN          affection  \n",
              "2                   NaN           exercise  "
            ],
            "text/html": [
              "\n",
              "  <div id=\"df-db53e423-7283-4060-a9af-e525d3cbe022\">\n",
              "    <div class=\"colab-df-container\">\n",
              "      <div>\n",
              "<style scoped>\n",
              "    .dataframe tbody tr th:only-of-type {\n",
              "        vertical-align: middle;\n",
              "    }\n",
              "\n",
              "    .dataframe tbody tr th {\n",
              "        vertical-align: top;\n",
              "    }\n",
              "\n",
              "    .dataframe thead th {\n",
              "        text-align: right;\n",
              "    }\n",
              "</style>\n",
              "<table border=\"1\" class=\"dataframe\">\n",
              "  <thead>\n",
              "    <tr style=\"text-align: right;\">\n",
              "      <th></th>\n",
              "      <th>hmid</th>\n",
              "      <th>wid</th>\n",
              "      <th>reflection_period</th>\n",
              "      <th>original_hm</th>\n",
              "      <th>cleaned_hm</th>\n",
              "      <th>modified</th>\n",
              "      <th>num_sentence</th>\n",
              "      <th>ground_truth_category</th>\n",
              "      <th>predicted_category</th>\n",
              "    </tr>\n",
              "  </thead>\n",
              "  <tbody>\n",
              "    <tr>\n",
              "      <th>0</th>\n",
              "      <td>27673</td>\n",
              "      <td>2053</td>\n",
              "      <td>24h</td>\n",
              "      <td>I went on a successful date with someone I fel...</td>\n",
              "      <td>I went on a successful date with someone I fel...</td>\n",
              "      <td>True</td>\n",
              "      <td>1</td>\n",
              "      <td>NaN</td>\n",
              "      <td>affection</td>\n",
              "    </tr>\n",
              "    <tr>\n",
              "      <th>1</th>\n",
              "      <td>27674</td>\n",
              "      <td>2</td>\n",
              "      <td>24h</td>\n",
              "      <td>I was happy when my son got 90% marks in his e...</td>\n",
              "      <td>I was happy when my son got 90% marks in his e...</td>\n",
              "      <td>True</td>\n",
              "      <td>1</td>\n",
              "      <td>NaN</td>\n",
              "      <td>affection</td>\n",
              "    </tr>\n",
              "    <tr>\n",
              "      <th>2</th>\n",
              "      <td>27675</td>\n",
              "      <td>1936</td>\n",
              "      <td>24h</td>\n",
              "      <td>I went to the gym this morning and did yoga.</td>\n",
              "      <td>I went to the gym this morning and did yoga.</td>\n",
              "      <td>True</td>\n",
              "      <td>1</td>\n",
              "      <td>NaN</td>\n",
              "      <td>exercise</td>\n",
              "    </tr>\n",
              "  </tbody>\n",
              "</table>\n",
              "</div>\n",
              "      <button class=\"colab-df-convert\" onclick=\"convertToInteractive('df-db53e423-7283-4060-a9af-e525d3cbe022')\"\n",
              "              title=\"Convert this dataframe to an interactive table.\"\n",
              "              style=\"display:none;\">\n",
              "        \n",
              "  <svg xmlns=\"http://www.w3.org/2000/svg\" height=\"24px\"viewBox=\"0 0 24 24\"\n",
              "       width=\"24px\">\n",
              "    <path d=\"M0 0h24v24H0V0z\" fill=\"none\"/>\n",
              "    <path d=\"M18.56 5.44l.94 2.06.94-2.06 2.06-.94-2.06-.94-.94-2.06-.94 2.06-2.06.94zm-11 1L8.5 8.5l.94-2.06 2.06-.94-2.06-.94L8.5 2.5l-.94 2.06-2.06.94zm10 10l.94 2.06.94-2.06 2.06-.94-2.06-.94-.94-2.06-.94 2.06-2.06.94z\"/><path d=\"M17.41 7.96l-1.37-1.37c-.4-.4-.92-.59-1.43-.59-.52 0-1.04.2-1.43.59L10.3 9.45l-7.72 7.72c-.78.78-.78 2.05 0 2.83L4 21.41c.39.39.9.59 1.41.59.51 0 1.02-.2 1.41-.59l7.78-7.78 2.81-2.81c.8-.78.8-2.07 0-2.86zM5.41 20L4 18.59l7.72-7.72 1.47 1.35L5.41 20z\"/>\n",
              "  </svg>\n",
              "      </button>\n",
              "      \n",
              "  <style>\n",
              "    .colab-df-container {\n",
              "      display:flex;\n",
              "      flex-wrap:wrap;\n",
              "      gap: 12px;\n",
              "    }\n",
              "\n",
              "    .colab-df-convert {\n",
              "      background-color: #E8F0FE;\n",
              "      border: none;\n",
              "      border-radius: 50%;\n",
              "      cursor: pointer;\n",
              "      display: none;\n",
              "      fill: #1967D2;\n",
              "      height: 32px;\n",
              "      padding: 0 0 0 0;\n",
              "      width: 32px;\n",
              "    }\n",
              "\n",
              "    .colab-df-convert:hover {\n",
              "      background-color: #E2EBFA;\n",
              "      box-shadow: 0px 1px 2px rgba(60, 64, 67, 0.3), 0px 1px 3px 1px rgba(60, 64, 67, 0.15);\n",
              "      fill: #174EA6;\n",
              "    }\n",
              "\n",
              "    [theme=dark] .colab-df-convert {\n",
              "      background-color: #3B4455;\n",
              "      fill: #D2E3FC;\n",
              "    }\n",
              "\n",
              "    [theme=dark] .colab-df-convert:hover {\n",
              "      background-color: #434B5C;\n",
              "      box-shadow: 0px 1px 3px 1px rgba(0, 0, 0, 0.15);\n",
              "      filter: drop-shadow(0px 1px 2px rgba(0, 0, 0, 0.3));\n",
              "      fill: #FFFFFF;\n",
              "    }\n",
              "  </style>\n",
              "\n",
              "      <script>\n",
              "        const buttonEl =\n",
              "          document.querySelector('#df-db53e423-7283-4060-a9af-e525d3cbe022 button.colab-df-convert');\n",
              "        buttonEl.style.display =\n",
              "          google.colab.kernel.accessAllowed ? 'block' : 'none';\n",
              "\n",
              "        async function convertToInteractive(key) {\n",
              "          const element = document.querySelector('#df-db53e423-7283-4060-a9af-e525d3cbe022');\n",
              "          const dataTable =\n",
              "            await google.colab.kernel.invokeFunction('convertToInteractive',\n",
              "                                                     [key], {});\n",
              "          if (!dataTable) return;\n",
              "\n",
              "          const docLinkHtml = 'Like what you see? Visit the ' +\n",
              "            '<a target=\"_blank\" href=https://colab.research.google.com/notebooks/data_table.ipynb>data table notebook</a>'\n",
              "            + ' to learn more about interactive tables.';\n",
              "          element.innerHTML = '';\n",
              "          dataTable['output_type'] = 'display_data';\n",
              "          await google.colab.output.renderOutput(dataTable, element);\n",
              "          const docLink = document.createElement('div');\n",
              "          docLink.innerHTML = docLinkHtml;\n",
              "          element.appendChild(docLink);\n",
              "        }\n",
              "      </script>\n",
              "    </div>\n",
              "  </div>\n",
              "  "
            ]
          },
          "metadata": {},
          "execution_count": 3
        }
      ]
    },
    {
      "cell_type": "code",
      "source": [
        "# ラベル無しデータは除外する\n",
        "df_hm_target = df_hm.dropna(subset=['ground_truth_category'])"
      ],
      "metadata": {
        "id": "gC7ATNRqkElH"
      },
      "execution_count": 4,
      "outputs": []
    },
    {
      "cell_type": "code",
      "source": [
        "# ラベルの分布を見てみる\n",
        "LABELS_ALL = sorted(df_hm_target.ground_truth_category.unique())\n",
        "sns.countplot(y='ground_truth_category', data=df_hm, order=LABELS_ALL)"
      ],
      "metadata": {
        "colab": {
          "base_uri": "https://localhost:8080/",
          "height": 302
        },
        "id": "8toIfYExeaQV",
        "outputId": "c188f4fd-370e-43eb-df56-75c0bacca636"
      },
      "execution_count": 5,
      "outputs": [
        {
          "output_type": "execute_result",
          "data": {
            "text/plain": [
              "<matplotlib.axes._subplots.AxesSubplot at 0x7f3d14eec7d0>"
            ]
          },
          "metadata": {},
          "execution_count": 5
        },
        {
          "output_type": "display_data",
          "data": {
            "text/plain": [
              "<Figure size 432x288 with 1 Axes>"
            ],
            "image/png": "[encoded data removed]"
          },
          "metadata": {
            "needs_background": "light"
          }
        }
      ]
    },
    {
      "cell_type": "code",
      "source": [
        "plt.figure(figsize=(8, 6))\n",
        "plt.subplot(2,1,1)\n",
        "sns.countplot(y='ground_truth_category', data=df_hm[df_hm.reflection_period=='24h'], order=LABELS_ALL)\n",
        "plt.title('reflection period - 24h', fontsize=16)\n",
        "\n",
        "plt.subplot(2,1,2)\n",
        "sns.countplot(y='ground_truth_category', data=df_hm[df_hm.reflection_period=='3m'], order=LABELS_ALL)\n",
        "plt.title('reflection period - 3months', fontsize=16)\n",
        "\n",
        "plt.tight_layout()"
      ],
      "metadata": {
        "colab": {
          "base_uri": "https://localhost:8080/",
          "height": 441
        },
        "id": "-o6UrDoge3KS",
        "outputId": "34afd0c9-a63b-4b16-e08d-3151f9363a3e"
      },
      "execution_count": 6,
      "outputs": [
        {
          "output_type": "display_data",
          "data": {
            "text/plain": [
              "<Figure size 576x432 with 2 Axes>"
            ],
            "image/png": "[encoded data removed]"
          },
          "metadata": {
            "needs_background": "light"
          }
        }
      ]
    },
    {
      "cell_type": "markdown",
      "source": [
        "## 3. BoWで文章分類してみる"
      ],
      "metadata": {
        "id": "JDn9U_znlqRC"
      }
    },
    {
      "cell_type": "code",
      "source": [
        "docs = df_hm_target['cleaned_hm'].tolist()\n",
        "\n",
        "labels = df_hm_target['ground_truth_category'].tolist()\n",
        "label_ids = np.array([LABELS_ALL.index(label) for label in labels])\n",
        "\n",
        "print('label : {} ( id = {} )\\ntext : {}'.format(labels[0], label_ids[0], docs[0]))"
      ],
      "metadata": {
        "colab": {
          "base_uri": "https://localhost:8080/"
        },
        "id": "BJHPGrIUnIYu",
        "outputId": "ef314445-d069-4a77-eea4-ef4118e1edbf"
      },
      "execution_count": 7,
      "outputs": [
        {
          "output_type": "stream",
          "name": "stdout",
          "text": [
            "label : bonding ( id = 2 )\n",
            "text : We had a serious talk with some friends of ours who have been flaky lately. They understood and we had a good evening hanging out.\n"
          ]
        }
      ]
    },
    {
      "cell_type": "code",
      "source": [
        "# BoWを用いた文章分類\n",
        "docs_train, docs_test, y_train, y_test = train_test_split(docs, label_ids)\n",
        "\n",
        "# BoW (CountVectorizer)\n",
        "bow_vectorizer = CountVectorizer(stop_words='english')\n",
        "bow_vectorizer.fit(docs)\n",
        "# BoWでベクトル化\n",
        "x_train = bow_vectorizer.transform(docs_train).toarray()\n",
        "x_test = bow_vectorizer.transform(docs_test).toarray()\n",
        "\n",
        "# ロジスティック回帰\n",
        "# max_iterを指定しない（デフォルト値100）場合、収束しないとWarningが発生\n",
        "logreg = LogisticRegression(max_iter=1000)\n",
        "logreg.fit(x_train, y_train)\n",
        "acc = logreg.score(x_test, y_test)\n",
        "print(acc)"
      ],
      "metadata": {
        "colab": {
          "base_uri": "https://localhost:8080/"
        },
        "id": "2evuPeB13msA",
        "outputId": "8cf202ac-db6c-43cd-aef2-fab5b21deb08"
      },
      "execution_count": 8,
      "outputs": [
        {
          "output_type": "stream",
          "name": "stdout",
          "text": [
            "0.8278595696489242\n"
          ]
        }
      ]
    },
    {
      "cell_type": "code",
      "source": [
        "# 出現頻度に関するパラメータ（max_df, min_df）の影響\n",
        "# なお、df は Document Frequency の略\n",
        "for min_df in (0.0, 0.0001, 0.001, 0.005, 0.01):\n",
        "    for max_df in (0.2, 0.3, 0.5, 1.0):\n",
        "        \n",
        "        bow_vectorizer = CountVectorizer(max_df=max_df, min_df=min_df, stop_words='english')\n",
        "        bow_vectorizer.fit(docs)\n",
        "        n_vocab = len(bow_vectorizer.get_feature_names_out())\n",
        "        x_train = bow_vectorizer.transform(docs_train).toarray()\n",
        "        x_test = bow_vectorizer.transform(docs_test).toarray()\n",
        "\n",
        "        logreg = LogisticRegression(max_iter=1000)\n",
        "        logreg.fit(x_train, y_train)\n",
        "        acc = logreg.score(x_test, y_test)\n",
        "\n",
        "        print('min_df: {}, max_df: {}, # vocabularies: {} --- Acc. {}'.format(min_df, max_df, n_vocab, acc))"
      ],
      "metadata": {
        "colab": {
          "base_uri": "https://localhost:8080/"
        },
        "id": "DKOclL6d0Uk9",
        "outputId": "c3a3efbb-e484-4c30-da4d-4ff74bd132ba"
      },
      "execution_count": 9,
      "outputs": [
        {
          "output_type": "stream",
          "name": "stdout",
          "text": [
            "min_df: 0.0, max_df: 0.2, # vocabularies: 9539 --- Acc. 0.8278595696489242\n",
            "min_df: 0.0, max_df: 0.3, # vocabularies: 9539 --- Acc. 0.8278595696489242\n",
            "min_df: 0.0, max_df: 0.5, # vocabularies: 9539 --- Acc. 0.8278595696489242\n",
            "min_df: 0.0, max_df: 1.0, # vocabularies: 9539 --- Acc. 0.8278595696489242\n",
            "min_df: 0.0001, max_df: 0.2, # vocabularies: 5135 --- Acc. 0.8281426953567383\n",
            "min_df: 0.0001, max_df: 0.3, # vocabularies: 5135 --- Acc. 0.8281426953567383\n",
            "min_df: 0.0001, max_df: 0.5, # vocabularies: 5135 --- Acc. 0.8281426953567383\n",
            "min_df: 0.0001, max_df: 1.0, # vocabularies: 5135 --- Acc. 0.8281426953567383\n",
            "min_df: 0.001, max_df: 0.2, # vocabularies: 1112 --- Acc. 0.8207814269535674\n",
            "min_df: 0.001, max_df: 0.3, # vocabularies: 1112 --- Acc. 0.8207814269535674\n",
            "min_df: 0.001, max_df: 0.5, # vocabularies: 1112 --- Acc. 0.8207814269535674\n",
            "min_df: 0.001, max_df: 1.0, # vocabularies: 1112 --- Acc. 0.8207814269535674\n",
            "min_df: 0.005, max_df: 0.2, # vocabularies: 261 --- Acc. 0.7607587768969423\n",
            "min_df: 0.005, max_df: 0.3, # vocabularies: 261 --- Acc. 0.7607587768969423\n",
            "min_df: 0.005, max_df: 0.5, # vocabularies: 261 --- Acc. 0.7607587768969423\n",
            "min_df: 0.005, max_df: 1.0, # vocabularies: 261 --- Acc. 0.7607587768969423\n",
            "min_df: 0.01, max_df: 0.2, # vocabularies: 121 --- Acc. 0.7284824462061155\n",
            "min_df: 0.01, max_df: 0.3, # vocabularies: 121 --- Acc. 0.7284824462061155\n",
            "min_df: 0.01, max_df: 0.5, # vocabularies: 121 --- Acc. 0.7284824462061155\n",
            "min_df: 0.01, max_df: 1.0, # vocabularies: 121 --- Acc. 0.7284824462061155\n"
          ]
        }
      ]
    },
    {
      "cell_type": "code",
      "source": [
        "# 論文(Table.10)との比較\n",
        "# 5分割の効果検証で、クラス毎のPrecision, Recall, F1-scoreを求める\n",
        "\n",
        "# BoW (CountVectorizer)\n",
        "bow_vectorizer = CountVectorizer(min_df=0.0001, stop_words='english')\n",
        "bow_vectorizer.fit(docs)\n",
        "x_data = bow_vectorizer.transform(docs).toarray()\n",
        "\n",
        "# ロジスティック回帰\n",
        "logreg = LogisticRegression(max_iter=1000)\n",
        "\n",
        "# 層化k分割交差検証\n",
        "skf = StratifiedKFold(n_splits=5, shuffle=True, random_state=0)\n",
        "\n",
        "scores_all = []\n",
        "for train_index, test_index in skf.split(x_data, label_ids):\n",
        "    x_train, x_test = x_data[train_index], x_data[test_index]\n",
        "    y_train, y_true = label_ids[train_index], label_ids[test_index]\n",
        "\n",
        "    logreg.fit(x_train, y_train)\n",
        "    y_pred = logreg.predict(x_test)\n",
        "\n",
        "    # クラス別のPrecision, Recall, F1-scoreを計算\n",
        "    scores = []\n",
        "    scores.append(precision_score(y_true=y_true, y_pred=y_pred, average=None))\n",
        "    scores.append(recall_score(y_true=y_true, y_pred=y_pred, average=None))\n",
        "    scores.append(f1_score(y_true=y_true, y_pred=y_pred, average=None))\n",
        "    scores_all.append(scores)"
      ],
      "metadata": {
        "id": "HNBYB9t4Cz5z"
      },
      "execution_count": 10,
      "outputs": []
    },
    {
      "cell_type": "code",
      "source": [
        "# 各スコアの平均値を算出\n",
        "scores_mean = np.stack(scores_all).mean(axis=0)\n",
        "df_scores_mean = pd.DataFrame(scores_mean.T, index=LABELS_ALL, columns=['precision', 'recall', 'f1'])\n",
        "df_scores_mean"
      ],
      "metadata": {
        "colab": {
          "base_uri": "https://localhost:8080/",
          "height": 269
        },
        "id": "tZ3hhthtEYzY",
        "outputId": "a4667d91-223b-4fcf-d3ce-92facdb6ecb0"
      },
      "execution_count": 11,
      "outputs": [
        {
          "output_type": "execute_result",
          "data": {
            "text/plain": [
              "                  precision    recall        f1\n",
              "achievement        0.791723  0.880492  0.833702\n",
              "affection          0.921157  0.926819  0.923941\n",
              "bonding            0.928683  0.862286  0.894145\n",
              "enjoy_the_moment   0.595908  0.540288  0.566441\n",
              "exercise           0.857772  0.562156  0.677984\n",
              "leisure            0.743091  0.694493  0.717890\n",
              "nature             0.757363  0.503608  0.600125"
            ],
            "text/html": [
              "\n",
              "  <div id=\"df-3e91e035-2dc4-4085-b690-e966506f83c8\">\n",
              "    <div class=\"colab-df-container\">\n",
              "      <div>\n",
              "<style scoped>\n",
              "    .dataframe tbody tr th:only-of-type {\n",
              "        vertical-align: middle;\n",
              "    }\n",
              "\n",
              "    .dataframe tbody tr th {\n",
              "        vertical-align: top;\n",
              "    }\n",
              "\n",
              "    .dataframe thead th {\n",
              "        text-align: right;\n",
              "    }\n",
              "</style>\n",
              "<table border=\"1\" class=\"dataframe\">\n",
              "  <thead>\n",
              "    <tr style=\"text-align: right;\">\n",
              "      <th></th>\n",
              "      <th>precision</th>\n",
              "      <th>recall</th>\n",
              "      <th>f1</th>\n",
              "    </tr>\n",
              "  </thead>\n",
              "  <tbody>\n",
              "    <tr>\n",
              "      <th>achievement</th>\n",
              "      <td>0.791723</td>\n",
              "      <td>0.880492</td>\n",
              "      <td>0.833702</td>\n",
              "    </tr>\n",
              "    <tr>\n",
              "      <th>affection</th>\n",
              "      <td>0.921157</td>\n",
              "      <td>0.926819</td>\n",
              "      <td>0.923941</td>\n",
              "    </tr>\n",
              "    <tr>\n",
              "      <th>bonding</th>\n",
              "      <td>0.928683</td>\n",
              "      <td>0.862286</td>\n",
              "      <td>0.894145</td>\n",
              "    </tr>\n",
              "    <tr>\n",
              "      <th>enjoy_the_moment</th>\n",
              "      <td>0.595908</td>\n",
              "      <td>0.540288</td>\n",
              "      <td>0.566441</td>\n",
              "    </tr>\n",
              "    <tr>\n",
              "      <th>exercise</th>\n",
              "      <td>0.857772</td>\n",
              "      <td>0.562156</td>\n",
              "      <td>0.677984</td>\n",
              "    </tr>\n",
              "    <tr>\n",
              "      <th>leisure</th>\n",
              "      <td>0.743091</td>\n",
              "      <td>0.694493</td>\n",
              "      <td>0.717890</td>\n",
              "    </tr>\n",
              "    <tr>\n",
              "      <th>nature</th>\n",
              "      <td>0.757363</td>\n",
              "      <td>0.503608</td>\n",
              "      <td>0.600125</td>\n",
              "    </tr>\n",
              "  </tbody>\n",
              "</table>\n",
              "</div>\n",
              "      <button class=\"colab-df-convert\" onclick=\"convertToInteractive('df-3e91e035-2dc4-4085-b690-e966506f83c8')\"\n",
              "              title=\"Convert this dataframe to an interactive table.\"\n",
              "              style=\"display:none;\">\n",
              "        \n",
              "  <svg xmlns=\"http://www.w3.org/2000/svg\" height=\"24px\"viewBox=\"0 0 24 24\"\n",
              "       width=\"24px\">\n",
              "    <path d=\"M0 0h24v24H0V0z\" fill=\"none\"/>\n",
              "    <path d=\"M18.56 5.44l.94 2.06.94-2.06 2.06-.94-2.06-.94-.94-2.06-.94 2.06-2.06.94zm-11 1L8.5 8.5l.94-2.06 2.06-.94-2.06-.94L8.5 2.5l-.94 2.06-2.06.94zm10 10l.94 2.06.94-2.06 2.06-.94-2.06-.94-.94-2.06-.94 2.06-2.06.94z\"/><path d=\"M17.41 7.96l-1.37-1.37c-.4-.4-.92-.59-1.43-.59-.52 0-1.04.2-1.43.59L10.3 9.45l-7.72 7.72c-.78.78-.78 2.05 0 2.83L4 21.41c.39.39.9.59 1.41.59.51 0 1.02-.2 1.41-.59l7.78-7.78 2.81-2.81c.8-.78.8-2.07 0-2.86zM5.41 20L4 18.59l7.72-7.72 1.47 1.35L5.41 20z\"/>\n",
              "  </svg>\n",
              "      </button>\n",
              "      \n",
              "  <style>\n",
              "    .colab-df-container {\n",
              "      display:flex;\n",
              "      flex-wrap:wrap;\n",
              "      gap: 12px;\n",
              "    }\n",
              "\n",
              "    .colab-df-convert {\n",
              "      background-color: #E8F0FE;\n",
              "      border: none;\n",
              "      border-radius: 50%;\n",
              "      cursor: pointer;\n",
              "      display: none;\n",
              "      fill: #1967D2;\n",
              "      height: 32px;\n",
              "      padding: 0 0 0 0;\n",
              "      width: 32px;\n",
              "    }\n",
              "\n",
              "    .colab-df-convert:hover {\n",
              "      background-color: #E2EBFA;\n",
              "      box-shadow: 0px 1px 2px rgba(60, 64, 67, 0.3), 0px 1px 3px 1px rgba(60, 64, 67, 0.15);\n",
              "      fill: #174EA6;\n",
              "    }\n",
              "\n",
              "    [theme=dark] .colab-df-convert {\n",
              "      background-color: #3B4455;\n",
              "      fill: #D2E3FC;\n",
              "    }\n",
              "\n",
              "    [theme=dark] .colab-df-convert:hover {\n",
              "      background-color: #434B5C;\n",
              "      box-shadow: 0px 1px 3px 1px rgba(0, 0, 0, 0.15);\n",
              "      filter: drop-shadow(0px 1px 2px rgba(0, 0, 0, 0.3));\n",
              "      fill: #FFFFFF;\n",
              "    }\n",
              "  </style>\n",
              "\n",
              "      <script>\n",
              "        const buttonEl =\n",
              "          document.querySelector('#df-3e91e035-2dc4-4085-b690-e966506f83c8 button.colab-df-convert');\n",
              "        buttonEl.style.display =\n",
              "          google.colab.kernel.accessAllowed ? 'block' : 'none';\n",
              "\n",
              "        async function convertToInteractive(key) {\n",
              "          const element = document.querySelector('#df-3e91e035-2dc4-4085-b690-e966506f83c8');\n",
              "          const dataTable =\n",
              "            await google.colab.kernel.invokeFunction('convertToInteractive',\n",
              "                                                     [key], {});\n",
              "          if (!dataTable) return;\n",
              "\n",
              "          const docLinkHtml = 'Like what you see? Visit the ' +\n",
              "            '<a target=\"_blank\" href=https://colab.research.google.com/notebooks/data_table.ipynb>data table notebook</a>'\n",
              "            + ' to learn more about interactive tables.';\n",
              "          element.innerHTML = '';\n",
              "          dataTable['output_type'] = 'display_data';\n",
              "          await google.colab.output.renderOutput(dataTable, element);\n",
              "          const docLink = document.createElement('div');\n",
              "          docLink.innerHTML = docLinkHtml;\n",
              "          element.appendChild(docLink);\n",
              "        }\n",
              "      </script>\n",
              "    </div>\n",
              "  </div>\n",
              "  "
            ]
          },
          "metadata": {},
          "execution_count": 11
        }
      ]
    },
    {
      "cell_type": "code",
      "source": [
        "# 参考）交差検証のシンプル版（クラス毎の値は出せなさそう）\n",
        "# cf. https://www.haya-programming.com/entry/2018/03/31/184557\n",
        "\n",
        "# BoW (CountVectorizer)\n",
        "bow_vectorizer = CountVectorizer(min_df=0.001, stop_words='english')\n",
        "bow_vectorizer.fit(docs)\n",
        "x_data = bow_vectorizer.transform(docs).toarray()\n",
        "\n",
        "# ロジスティック回帰\n",
        "logreg = LogisticRegression(max_iter=1000)\n",
        "\n",
        "# 層化k分割交差検証\n",
        "skf = StratifiedKFold(shuffle=True, random_state=0)\n",
        "scoring = {\"p\": \"precision_macro\",\n",
        "           \"r\": \"recall_macro\",\n",
        "           \"f\": \"f1_macro\"}\n",
        "scores = cross_validate(logreg, x_data, label_ids, cv=skf, scoring=scoring)\n",
        "print(scores)"
      ],
      "metadata": {
        "colab": {
          "base_uri": "https://localhost:8080/"
        },
        "id": "MV8NQSuarzvf",
        "outputId": "360feacd-6f79-46df-e127-dee7b5e0742a"
      },
      "execution_count": 12,
      "outputs": [
        {
          "output_type": "stream",
          "name": "stdout",
          "text": [
            "{'fit_time': array([11.35091925, 12.24587488, 12.21126437, 12.09359527, 11.67816162]), 'score_time': array([0.0304265 , 0.02476597, 0.02453136, 0.02429032, 0.02438259]), 'test_p': array([0.81379355, 0.76045158, 0.79134274, 0.80636035, 0.80645642]), 'test_r': array([0.68504959, 0.69905654, 0.7100413 , 0.71130122, 0.68747527]), 'test_f': array([0.72832554, 0.72503363, 0.74372893, 0.74642652, 0.73019124])}\n"
          ]
        }
      ]
    },
    {
      "cell_type": "markdown",
      "source": [
        "## 4. TF-IDFで文章分類してみる"
      ],
      "metadata": {
        "id": "wmbqsjDY7TcI"
      }
    },
    {
      "cell_type": "code",
      "source": [
        "# TF-IDFを用いた文章分類\n",
        "# CountVectorizerをTfidfVectorizerに変更するだけ\n",
        "\n",
        "# 論文(Table.10)との比較\n",
        "# 5分割の効果検証で、クラス毎のPrecision, Recall, F1-scoreを求める\n",
        "\n",
        "# TF-IDF (TfidfVectorizer)\n",
        "tfidf_vectorizer = TfidfVectorizer(min_df=0.0001, stop_words='english')\n",
        "tfidf_vectorizer.fit(docs)\n",
        "x_data = tfidf_vectorizer.transform(docs).toarray()\n",
        "\n",
        "# ロジスティック回帰\n",
        "logreg = LogisticRegression(max_iter=1000)\n",
        "\n",
        "# 層化k分割交差検証\n",
        "skf = StratifiedKFold(n_splits=5, shuffle=True, random_state=0)\n",
        "\n",
        "scores_all = []\n",
        "for train_index, test_index in skf.split(x_data, label_ids):\n",
        "    x_train, x_test = x_data[train_index], x_data[test_index]\n",
        "    y_train, y_true = label_ids[train_index], label_ids[test_index]\n",
        "\n",
        "    logreg.fit(x_train, y_train)\n",
        "    y_pred = logreg.predict(x_test)\n",
        "\n",
        "    # クラス別のPrecision, Recall, F1-scoreを計算\n",
        "    scores = []\n",
        "    scores.append(precision_score(y_true=y_true, y_pred=y_pred, average=None))\n",
        "    scores.append(recall_score(y_true=y_true, y_pred=y_pred, average=None))\n",
        "    scores.append(f1_score(y_true=y_true, y_pred=y_pred, average=None))\n",
        "    scores_all.append(scores)"
      ],
      "metadata": {
        "id": "aIGR5MBUGcb3"
      },
      "execution_count": 13,
      "outputs": []
    },
    {
      "cell_type": "code",
      "source": [
        "# 各スコアの平均値を算出\n",
        "scores_mean = np.stack(scores_all).mean(axis=0)\n",
        "df_scores_mean = pd.DataFrame(scores_mean.T, index=LABELS_ALL, columns=['precision', 'recall', 'f1'])\n",
        "df_scores_mean"
      ],
      "metadata": {
        "colab": {
          "base_uri": "https://localhost:8080/",
          "height": 269
        },
        "id": "R0YQrmprG6kN",
        "outputId": "70624f74-73cd-496a-e32f-bfb2d1a43884"
      },
      "execution_count": 14,
      "outputs": [
        {
          "output_type": "execute_result",
          "data": {
            "text/plain": [
              "                  precision    recall        f1\n",
              "achievement        0.747931  0.912298  0.821957\n",
              "affection          0.891678  0.928482  0.909664\n",
              "bonding            0.941063  0.827429  0.880336\n",
              "enjoy_the_moment   0.628171  0.476220  0.541319\n",
              "exercise           0.951818  0.409937  0.566987\n",
              "leisure            0.796006  0.624816  0.700044\n",
              "nature             0.838128  0.317255  0.455553"
            ],
            "text/html": [
              "\n",
              "  <div id=\"df-0cc6ef2c-92ce-4d31-a15d-eb66837fd627\">\n",
              "    <div class=\"colab-df-container\">\n",
              "      <div>\n",
              "<style scoped>\n",
              "    .dataframe tbody tr th:only-of-type {\n",
              "        vertical-align: middle;\n",
              "    }\n",
              "\n",
              "    .dataframe tbody tr th {\n",
              "        vertical-align: top;\n",
              "    }\n",
              "\n",
              "    .dataframe thead th {\n",
              "        text-align: right;\n",
              "    }\n",
              "</style>\n",
              "<table border=\"1\" class=\"dataframe\">\n",
              "  <thead>\n",
              "    <tr style=\"text-align: right;\">\n",
              "      <th></th>\n",
              "      <th>precision</th>\n",
              "      <th>recall</th>\n",
              "      <th>f1</th>\n",
              "    </tr>\n",
              "  </thead>\n",
              "  <tbody>\n",
              "    <tr>\n",
              "      <th>achievement</th>\n",
              "      <td>0.747931</td>\n",
              "      <td>0.912298</td>\n",
              "      <td>0.821957</td>\n",
              "    </tr>\n",
              "    <tr>\n",
              "      <th>affection</th>\n",
              "      <td>0.891678</td>\n",
              "      <td>0.928482</td>\n",
              "      <td>0.909664</td>\n",
              "    </tr>\n",
              "    <tr>\n",
              "      <th>bonding</th>\n",
              "      <td>0.941063</td>\n",
              "      <td>0.827429</td>\n",
              "      <td>0.880336</td>\n",
              "    </tr>\n",
              "    <tr>\n",
              "      <th>enjoy_the_moment</th>\n",
              "      <td>0.628171</td>\n",
              "      <td>0.476220</td>\n",
              "      <td>0.541319</td>\n",
              "    </tr>\n",
              "    <tr>\n",
              "      <th>exercise</th>\n",
              "      <td>0.951818</td>\n",
              "      <td>0.409937</td>\n",
              "      <td>0.566987</td>\n",
              "    </tr>\n",
              "    <tr>\n",
              "      <th>leisure</th>\n",
              "      <td>0.796006</td>\n",
              "      <td>0.624816</td>\n",
              "      <td>0.700044</td>\n",
              "    </tr>\n",
              "    <tr>\n",
              "      <th>nature</th>\n",
              "      <td>0.838128</td>\n",
              "      <td>0.317255</td>\n",
              "      <td>0.455553</td>\n",
              "    </tr>\n",
              "  </tbody>\n",
              "</table>\n",
              "</div>\n",
              "      <button class=\"colab-df-convert\" onclick=\"convertToInteractive('df-0cc6ef2c-92ce-4d31-a15d-eb66837fd627')\"\n",
              "              title=\"Convert this dataframe to an interactive table.\"\n",
              "              style=\"display:none;\">\n",
              "        \n",
              "  <svg xmlns=\"http://www.w3.org/2000/svg\" height=\"24px\"viewBox=\"0 0 24 24\"\n",
              "       width=\"24px\">\n",
              "    <path d=\"M0 0h24v24H0V0z\" fill=\"none\"/>\n",
              "    <path d=\"M18.56 5.44l.94 2.06.94-2.06 2.06-.94-2.06-.94-.94-2.06-.94 2.06-2.06.94zm-11 1L8.5 8.5l.94-2.06 2.06-.94-2.06-.94L8.5 2.5l-.94 2.06-2.06.94zm10 10l.94 2.06.94-2.06 2.06-.94-2.06-.94-.94-2.06-.94 2.06-2.06.94z\"/><path d=\"M17.41 7.96l-1.37-1.37c-.4-.4-.92-.59-1.43-.59-.52 0-1.04.2-1.43.59L10.3 9.45l-7.72 7.72c-.78.78-.78 2.05 0 2.83L4 21.41c.39.39.9.59 1.41.59.51 0 1.02-.2 1.41-.59l7.78-7.78 2.81-2.81c.8-.78.8-2.07 0-2.86zM5.41 20L4 18.59l7.72-7.72 1.47 1.35L5.41 20z\"/>\n",
              "  </svg>\n",
              "      </button>\n",
              "      \n",
              "  <style>\n",
              "    .colab-df-container {\n",
              "      display:flex;\n",
              "      flex-wrap:wrap;\n",
              "      gap: 12px;\n",
              "    }\n",
              "\n",
              "    .colab-df-convert {\n",
              "      background-color: #E8F0FE;\n",
              "      border: none;\n",
              "      border-radius: 50%;\n",
              "      cursor: pointer;\n",
              "      display: none;\n",
              "      fill: #1967D2;\n",
              "      height: 32px;\n",
              "      padding: 0 0 0 0;\n",
              "      width: 32px;\n",
              "    }\n",
              "\n",
              "    .colab-df-convert:hover {\n",
              "      background-color: #E2EBFA;\n",
              "      box-shadow: 0px 1px 2px rgba(60, 64, 67, 0.3), 0px 1px 3px 1px rgba(60, 64, 67, 0.15);\n",
              "      fill: #174EA6;\n",
              "    }\n",
              "\n",
              "    [theme=dark] .colab-df-convert {\n",
              "      background-color: #3B4455;\n",
              "      fill: #D2E3FC;\n",
              "    }\n",
              "\n",
              "    [theme=dark] .colab-df-convert:hover {\n",
              "      background-color: #434B5C;\n",
              "      box-shadow: 0px 1px 3px 1px rgba(0, 0, 0, 0.15);\n",
              "      filter: drop-shadow(0px 1px 2px rgba(0, 0, 0, 0.3));\n",
              "      fill: #FFFFFF;\n",
              "    }\n",
              "  </style>\n",
              "\n",
              "      <script>\n",
              "        const buttonEl =\n",
              "          document.querySelector('#df-0cc6ef2c-92ce-4d31-a15d-eb66837fd627 button.colab-df-convert');\n",
              "        buttonEl.style.display =\n",
              "          google.colab.kernel.accessAllowed ? 'block' : 'none';\n",
              "\n",
              "        async function convertToInteractive(key) {\n",
              "          const element = document.querySelector('#df-0cc6ef2c-92ce-4d31-a15d-eb66837fd627');\n",
              "          const dataTable =\n",
              "            await google.colab.kernel.invokeFunction('convertToInteractive',\n",
              "                                                     [key], {});\n",
              "          if (!dataTable) return;\n",
              "\n",
              "          const docLinkHtml = 'Like what you see? Visit the ' +\n",
              "            '<a target=\"_blank\" href=https://colab.research.google.com/notebooks/data_table.ipynb>data table notebook</a>'\n",
              "            + ' to learn more about interactive tables.';\n",
              "          element.innerHTML = '';\n",
              "          dataTable['output_type'] = 'display_data';\n",
              "          await google.colab.output.renderOutput(dataTable, element);\n",
              "          const docLink = document.createElement('div');\n",
              "          docLink.innerHTML = docLinkHtml;\n",
              "          element.appendChild(docLink);\n",
              "        }\n",
              "      </script>\n",
              "    </div>\n",
              "  </div>\n",
              "  "
            ]
          },
          "metadata": {},
          "execution_count": 14
        }
      ]
    },
    {
      "cell_type": "markdown",
      "source": [
        "## 参考文献\n",
        "- [Qiita - scikit-learn を用いた交差検証（Cross-validation）とハイパーパラメータのチューニング（grid search）](https://qiita.com/tomov3/items/039d4271ed30490edf7b)\n",
        "- [静かなる名辞 - cross_val_scoreはもうやめようね。一発で交差検証するにはcross_validateを使う](https://www.haya-programming.com/entry/2018/03/31/184557)\n",
        "- [静かなる名辞 - 【python】sklearnのCountVectorizerの使い方](https://www.haya-programming.com/entry/2018/02/25/044525)"
      ],
      "metadata": {
        "id": "cMxtnQ-a8b8r"
      }
    }
  ]
}