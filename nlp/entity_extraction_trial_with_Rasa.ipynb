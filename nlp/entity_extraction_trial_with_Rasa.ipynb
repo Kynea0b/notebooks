{
  "nbformat": 4,
  "nbformat_minor": 0,
  "metadata": {
    "colab": {
      "provenance": [],
      "collapsed_sections": [],
      "toc_visible": true
    },
    "kernelspec": {
      "name": "python3",
      "display_name": "Python 3"
    },
    "language_info": {
      "name": "python"
    }
  },
  "cells": [
    {
      "cell_type": "markdown",
      "source": [
        "# 文章から情報を抽出！Rasaでエンティティ抽出入門\n",
        "\n",
        "チャットボット開発フレームワークのRasaを用いて、エンティティ抽出をする"
      ],
      "metadata": {
        "id": "bqS1PUK0Bmef"
      }
    },
    {
      "cell_type": "markdown",
      "source": [
        "## 環境構築"
      ],
      "metadata": {
        "id": "lbsO1FrMB9Iq"
      }
    },
    {
      "cell_type": "code",
      "execution_count": 1,
      "metadata": {
        "colab": {
          "base_uri": "https://localhost:8080/"
        },
        "id": "ZzIMRKVM_wZv",
        "outputId": "1a252c1a-896d-4baf-d19a-bdc5e8ad57d2"
      },
      "outputs": [
        {
          "output_type": "stream",
          "name": "stdout",
          "text": [
            "Looking in indexes: https://pypi.org/simple, https://us-python.pkg.dev/colab-wheels/public/simple/\n",
            "Requirement already satisfied: rasa==3.2.8 in /usr/local/lib/python3.7/dist-packages (3.2.8)\n",
            "Requirement already satisfied: ja-ginza==5.1.2 in /usr/local/lib/python3.7/dist-packages (5.1.2)\n",
            "Requirement already satisfied: dask==2022.2.0 in /usr/local/lib/python3.7/dist-packages (from rasa==3.2.8) (2022.2.0)\n",
            "Requirement already satisfied: sanic<21.13,>=21.12 in /usr/local/lib/python3.7/dist-packages (from rasa==3.2.8) (21.12.2)\n",
            "Requirement already satisfied: matplotlib<3.4,>=3.1 in /usr/local/lib/python3.7/dist-packages (from rasa==3.2.8) (3.2.2)\n",
            "Requirement already satisfied: python-engineio!=5.0.0,<6,>=4 in /usr/local/lib/python3.7/dist-packages (from rasa==3.2.8) (4.3.4)\n",
            "Requirement already satisfied: requests<3.0,>=2.23 in /usr/local/lib/python3.7/dist-packages (from rasa==3.2.8) (2.28.1)\n",
            "Requirement already satisfied: sanic-jwt<2.0.0,>=1.6.0 in /usr/local/lib/python3.7/dist-packages (from rasa==3.2.8) (1.8.0)\n",
            "Requirement already satisfied: prompt-toolkit<3.0.29,>=3.0 in /usr/local/lib/python3.7/dist-packages (from rasa==3.2.8) (3.0.28)\n",
            "Requirement already satisfied: kafka-python<3.0,>=1.4 in /usr/local/lib/python3.7/dist-packages (from rasa==3.2.8) (2.0.2)\n",
            "Requirement already satisfied: redis<4.0,>=3.4 in /usr/local/lib/python3.7/dist-packages (from rasa==3.2.8) (3.5.3)\n",
            "Requirement already satisfied: sanic-routing<0.8.0,>=0.7.2 in /usr/local/lib/python3.7/dist-packages (from rasa==3.2.8) (0.7.2)\n",
            "Requirement already satisfied: rasa-sdk<3.3.0,>=3.2.0 in /usr/local/lib/python3.7/dist-packages (from rasa==3.2.8) (3.2.1)\n",
            "Requirement already satisfied: pytz<2022.0,>=2019.1 in /usr/local/lib/python3.7/dist-packages (from rasa==3.2.8) (2021.3)\n",
            "Requirement already satisfied: tensorflow-text<2.8.0,>=2.7.0 in /usr/local/lib/python3.7/dist-packages (from rasa==3.2.8) (2.7.3)\n",
            "Requirement already satisfied: tqdm<5.0,>=4.31 in /usr/local/lib/python3.7/dist-packages (from rasa==3.2.8) (4.64.1)\n",
            "Requirement already satisfied: pykwalify<1.9,>=1.7 in /usr/local/lib/python3.7/dist-packages (from rasa==3.2.8) (1.8.0)\n",
            "Requirement already satisfied: joblib<1.1.0,>=0.15.1 in /usr/local/lib/python3.7/dist-packages (from rasa==3.2.8) (1.0.1)\n",
            "Requirement already satisfied: colorhash<1.1.0,>=1.0.2 in /usr/local/lib/python3.7/dist-packages (from rasa==3.2.8) (1.0.4)\n",
            "Requirement already satisfied: ruamel.yaml<0.17.0,>=0.16.5 in /usr/local/lib/python3.7/dist-packages (from rasa==3.2.8) (0.16.13)\n",
            "Requirement already satisfied: setuptools>=41.0.0 in /usr/local/lib/python3.7/dist-packages (from rasa==3.2.8) (57.4.0)\n",
            "Requirement already satisfied: tensorflow-addons<0.16.0,>=0.15.0 in /usr/local/lib/python3.7/dist-packages (from rasa==3.2.8) (0.15.0)\n",
            "Requirement already satisfied: sanic-cors<2.1.0,>=2.0.0 in /usr/local/lib/python3.7/dist-packages (from rasa==3.2.8) (2.0.1)\n",
            "Requirement already satisfied: aiohttp!=3.7.4.post0,<3.8,>=3.6 in /usr/local/lib/python3.7/dist-packages (from rasa==3.2.8) (3.7.4)\n",
            "Requirement already satisfied: CacheControl<0.13.0,>=0.12.9 in /usr/local/lib/python3.7/dist-packages (from rasa==3.2.8) (0.12.11)\n",
            "Requirement already satisfied: terminaltables<3.2.0,>=3.1.0 in /usr/local/lib/python3.7/dist-packages (from rasa==3.2.8) (3.1.10)\n",
            "Requirement already satisfied: PyJWT[crypto]<3.0.0,>=2.0.0 in /usr/local/lib/python3.7/dist-packages (from rasa==3.2.8) (2.4.0)\n",
            "Requirement already satisfied: ujson<6.0,>=1.35 in /usr/local/lib/python3.7/dist-packages (from rasa==3.2.8) (5.4.0)\n",
            "Requirement already satisfied: slackclient<3.0.0,>=2.0.0 in /usr/local/lib/python3.7/dist-packages (from rasa==3.2.8) (2.9.4)\n",
            "Requirement already satisfied: sentry-sdk<1.4.0,>=0.17.0 in /usr/local/lib/python3.7/dist-packages (from rasa==3.2.8) (1.3.1)\n",
            "Requirement already satisfied: aio-pika<9.0.0,>=6.7.1 in /usr/local/lib/python3.7/dist-packages (from rasa==3.2.8) (8.2.1)\n",
            "Requirement already satisfied: pyTelegramBotAPI<5.0.0,>=3.7.3 in /usr/local/lib/python3.7/dist-packages (from rasa==3.2.8) (4.7.0)\n",
            "Requirement already satisfied: regex<2022.5,>=2020.6 in /usr/local/lib/python3.7/dist-packages (from rasa==3.2.8) (2022.4.24)\n",
            "Requirement already satisfied: tarsafe<0.0.4,>=0.0.3 in /usr/local/lib/python3.7/dist-packages (from rasa==3.2.8) (0.0.3)\n",
            "Requirement already satisfied: jsonschema<4.5,>=3.2 in /usr/local/lib/python3.7/dist-packages (from rasa==3.2.8) (4.3.3)\n",
            "Requirement already satisfied: scipy<1.8.0,>=1.4.1 in /usr/local/lib/python3.7/dist-packages (from rasa==3.2.8) (1.7.3)\n",
            "Requirement already satisfied: tensorflow<2.8.0,>=2.7.0 in /usr/local/lib/python3.7/dist-packages (from rasa==3.2.8) (2.7.4)\n",
            "Requirement already satisfied: coloredlogs<16,>=10 in /usr/local/lib/python3.7/dist-packages (from rasa==3.2.8) (15.0.1)\n",
            "Requirement already satisfied: questionary<1.11.0,>=1.5.1 in /usr/local/lib/python3.7/dist-packages (from rasa==3.2.8) (1.10.0)\n",
            "Requirement already satisfied: scikit-learn<0.25,>=0.22 in /usr/local/lib/python3.7/dist-packages (from rasa==3.2.8) (0.24.2)\n",
            "Requirement already satisfied: apscheduler<3.8,>=3.6 in /usr/local/lib/python3.7/dist-packages (from rasa==3.2.8) (3.7.0)\n",
            "Requirement already satisfied: typing-utils<0.2.0,>=0.1.0 in /usr/local/lib/python3.7/dist-packages (from rasa==3.2.8) (0.1.0)\n",
            "Requirement already satisfied: randomname<0.2.0,>=0.1.5 in /usr/local/lib/python3.7/dist-packages (from rasa==3.2.8) (0.1.5)\n",
            "Requirement already satisfied: numpy<1.20.0,>=1.19.2 in /usr/local/lib/python3.7/dist-packages (from rasa==3.2.8) (1.19.5)\n",
            "Requirement already satisfied: mattermostwrapper<2.3,>=2.2 in /usr/local/lib/python3.7/dist-packages (from rasa==3.2.8) (2.2)\n",
            "Requirement already satisfied: psycopg2-binary<2.10.0,>=2.8.2 in /usr/local/lib/python3.7/dist-packages (from rasa==3.2.8) (2.9.3)\n",
            "Requirement already satisfied: SQLAlchemy<1.5.0,>=1.4.0 in /usr/local/lib/python3.7/dist-packages (from rasa==3.2.8) (1.4.41)\n",
            "Requirement already satisfied: attrs<21.3,>=19.3 in /usr/local/lib/python3.7/dist-packages (from rasa==3.2.8) (21.2.0)\n",
            "Requirement already satisfied: networkx<2.7,>=2.4 in /usr/local/lib/python3.7/dist-packages (from rasa==3.2.8) (2.6.3)\n",
            "Requirement already satisfied: python-socketio<6,>=4.4 in /usr/local/lib/python3.7/dist-packages (from rasa==3.2.8) (5.7.1)\n",
            "Requirement already satisfied: rocketchat_API<1.26.0,>=0.6.31 in /usr/local/lib/python3.7/dist-packages (from rasa==3.2.8) (1.25.0)\n",
            "Requirement already satisfied: google-auth<2 in /usr/local/lib/python3.7/dist-packages (from rasa==3.2.8) (1.35.0)\n",
            "Requirement already satisfied: python-dateutil<2.9,>=2.8 in /usr/local/lib/python3.7/dist-packages (from rasa==3.2.8) (2.8.2)\n",
            "Requirement already satisfied: typing-extensions<4.0.0,>=3.7.4 in /usr/local/lib/python3.7/dist-packages (from rasa==3.2.8) (3.10.0.2)\n",
            "Requirement already satisfied: colorclass<2.3,>=2.2 in /usr/local/lib/python3.7/dist-packages (from rasa==3.2.8) (2.2.2)\n",
            "Requirement already satisfied: packaging<21.0,>=20.0 in /usr/local/lib/python3.7/dist-packages (from rasa==3.2.8) (20.9)\n",
            "Requirement already satisfied: jsonpickle<2.1,>=1.3 in /usr/local/lib/python3.7/dist-packages (from rasa==3.2.8) (2.0.0)\n",
            "Requirement already satisfied: sklearn-crfsuite<0.4,>=0.3 in /usr/local/lib/python3.7/dist-packages (from rasa==3.2.8) (0.3.6)\n",
            "Requirement already satisfied: twilio<6.51,>=6.26 in /usr/local/lib/python3.7/dist-packages (from rasa==3.2.8) (6.50.1)\n",
            "Requirement already satisfied: pydot<1.5,>=1.4 in /usr/local/lib/python3.7/dist-packages (from rasa==3.2.8) (1.4.2)\n",
            "Requirement already satisfied: webexteamssdk<1.7.0,>=1.1.1 in /usr/local/lib/python3.7/dist-packages (from rasa==3.2.8) (1.6.1)\n",
            "Requirement already satisfied: tensorflow_hub<0.13.0,>=0.12.0 in /usr/local/lib/python3.7/dist-packages (from rasa==3.2.8) (0.12.0)\n",
            "Requirement already satisfied: pymongo[srv,tls]<3.11,>=3.8 in /usr/local/lib/python3.7/dist-packages (from rasa==3.2.8) (3.10.1)\n",
            "Requirement already satisfied: boto3<2.0,>=1.12 in /usr/local/lib/python3.7/dist-packages (from rasa==3.2.8) (1.24.73)\n",
            "Requirement already satisfied: cloudpickle<1.7,>=1.2 in /usr/local/lib/python3.7/dist-packages (from rasa==3.2.8) (1.5.0)\n",
            "Requirement already satisfied: absl-py<0.14,>=0.9 in /usr/local/lib/python3.7/dist-packages (from rasa==3.2.8) (0.13.0)\n",
            "Requirement already satisfied: fbmessenger<6.1.0,>=6.0.0 in /usr/local/lib/python3.7/dist-packages (from rasa==3.2.8) (6.0.0)\n",
            "Requirement already satisfied: sudachidict-core>=20210802 in /usr/local/lib/python3.7/dist-packages (from ja-ginza==5.1.2) (20220729)\n",
            "Requirement already satisfied: sudachipy<0.7.0,>=0.6.2 in /usr/local/lib/python3.7/dist-packages (from ja-ginza==5.1.2) (0.6.6)\n",
            "Requirement already satisfied: ginza<5.2.0,>=5.1.0 in /usr/local/lib/python3.7/dist-packages (from ja-ginza==5.1.2) (5.1.2)\n",
            "Requirement already satisfied: spacy<3.5.0,>=3.2.0 in /usr/local/lib/python3.7/dist-packages (from ja-ginza==5.1.2) (3.4.1)\n",
            "Requirement already satisfied: fsspec>=0.6.0 in /usr/local/lib/python3.7/dist-packages (from dask==2022.2.0->rasa==3.2.8) (2022.8.2)\n",
            "Requirement already satisfied: toolz>=0.8.2 in /usr/local/lib/python3.7/dist-packages (from dask==2022.2.0->rasa==3.2.8) (0.12.0)\n",
            "Requirement already satisfied: partd>=0.3.10 in /usr/local/lib/python3.7/dist-packages (from dask==2022.2.0->rasa==3.2.8) (1.3.0)\n",
            "Requirement already satisfied: pyyaml>=5.3.1 in /usr/local/lib/python3.7/dist-packages (from dask==2022.2.0->rasa==3.2.8) (6.0)\n",
            "Requirement already satisfied: six in /usr/local/lib/python3.7/dist-packages (from absl-py<0.14,>=0.9->rasa==3.2.8) (1.15.0)\n",
            "Requirement already satisfied: yarl in /usr/local/lib/python3.7/dist-packages (from aio-pika<9.0.0,>=6.7.1->rasa==3.2.8) (1.8.1)\n",
            "Requirement already satisfied: aiormq~=6.4.0 in /usr/local/lib/python3.7/dist-packages (from aio-pika<9.0.0,>=6.7.1->rasa==3.2.8) (6.4.2)\n",
            "Requirement already satisfied: chardet<4.0,>=2.0 in /usr/local/lib/python3.7/dist-packages (from aiohttp!=3.7.4.post0,<3.8,>=3.6->rasa==3.2.8) (3.0.4)\n",
            "Requirement already satisfied: async-timeout<4.0,>=3.0 in /usr/local/lib/python3.7/dist-packages (from aiohttp!=3.7.4.post0,<3.8,>=3.6->rasa==3.2.8) (3.0.1)\n",
            "Requirement already satisfied: multidict<7.0,>=4.5 in /usr/local/lib/python3.7/dist-packages (from aiohttp!=3.7.4.post0,<3.8,>=3.6->rasa==3.2.8) (5.2.0)\n",
            "Requirement already satisfied: pamqp==3.2.1 in /usr/local/lib/python3.7/dist-packages (from aiormq~=6.4.0->aio-pika<9.0.0,>=6.7.1->rasa==3.2.8) (3.2.1)\n",
            "Requirement already satisfied: tzlocal~=2.0 in /usr/local/lib/python3.7/dist-packages (from apscheduler<3.8,>=3.6->rasa==3.2.8) (2.1)\n",
            "Requirement already satisfied: botocore<1.28.0,>=1.27.73 in /usr/local/lib/python3.7/dist-packages (from boto3<2.0,>=1.12->rasa==3.2.8) (1.27.73)\n",
            "Requirement already satisfied: jmespath<2.0.0,>=0.7.1 in /usr/local/lib/python3.7/dist-packages (from boto3<2.0,>=1.12->rasa==3.2.8) (1.0.1)\n",
            "Requirement already satisfied: s3transfer<0.7.0,>=0.6.0 in /usr/local/lib/python3.7/dist-packages (from boto3<2.0,>=1.12->rasa==3.2.8) (0.6.0)\n",
            "Requirement already satisfied: urllib3<1.27,>=1.25.4 in /usr/local/lib/python3.7/dist-packages (from botocore<1.28.0,>=1.27.73->boto3<2.0,>=1.12->rasa==3.2.8) (1.26.12)\n",
            "Requirement already satisfied: msgpack>=0.5.2 in /usr/local/lib/python3.7/dist-packages (from CacheControl<0.13.0,>=0.12.9->rasa==3.2.8) (1.0.4)\n",
            "Requirement already satisfied: humanfriendly>=9.1 in /usr/local/lib/python3.7/dist-packages (from coloredlogs<16,>=10->rasa==3.2.8) (10.0)\n",
            "Requirement already satisfied: plac>=1.3.3 in /usr/local/lib/python3.7/dist-packages (from ginza<5.2.0,>=5.1.0->ja-ginza==5.1.2) (1.3.5)\n",
            "Requirement already satisfied: rsa<5,>=3.1.4 in /usr/local/lib/python3.7/dist-packages (from google-auth<2->rasa==3.2.8) (4.9)\n",
            "Requirement already satisfied: cachetools<5.0,>=2.0.0 in /usr/local/lib/python3.7/dist-packages (from google-auth<2->rasa==3.2.8) (4.2.4)\n",
            "Requirement already satisfied: pyasn1-modules>=0.2.1 in /usr/local/lib/python3.7/dist-packages (from google-auth<2->rasa==3.2.8) (0.2.8)\n",
            "Requirement already satisfied: importlib-metadata in /usr/local/lib/python3.7/dist-packages (from jsonpickle<2.1,>=1.3->rasa==3.2.8) (4.12.0)\n",
            "Requirement already satisfied: pyrsistent!=0.17.0,!=0.17.1,!=0.17.2,>=0.14.0 in /usr/local/lib/python3.7/dist-packages (from jsonschema<4.5,>=3.2->rasa==3.2.8) (0.18.1)\n",
            "Requirement already satisfied: importlib-resources>=1.4.0 in /usr/local/lib/python3.7/dist-packages (from jsonschema<4.5,>=3.2->rasa==3.2.8) (5.9.0)\n",
            "Requirement already satisfied: zipp>=3.1.0 in /usr/local/lib/python3.7/dist-packages (from importlib-resources>=1.4.0->jsonschema<4.5,>=3.2->rasa==3.2.8) (3.8.1)\n",
            "Requirement already satisfied: pyparsing!=2.0.4,!=2.1.2,!=2.1.6,>=2.0.1 in /usr/local/lib/python3.7/dist-packages (from matplotlib<3.4,>=3.1->rasa==3.2.8) (3.0.9)\n",
            "Requirement already satisfied: kiwisolver>=1.0.1 in /usr/local/lib/python3.7/dist-packages (from matplotlib<3.4,>=3.1->rasa==3.2.8) (1.4.4)\n",
            "Requirement already satisfied: cycler>=0.10 in /usr/local/lib/python3.7/dist-packages (from matplotlib<3.4,>=3.1->rasa==3.2.8) (0.11.0)\n",
            "Requirement already satisfied: locket in /usr/local/lib/python3.7/dist-packages (from partd>=0.3.10->dask==2022.2.0->rasa==3.2.8) (1.0.0)\n",
            "Requirement already satisfied: wcwidth in /usr/local/lib/python3.7/dist-packages (from prompt-toolkit<3.0.29,>=3.0->rasa==3.2.8) (0.2.5)\n",
            "Requirement already satisfied: pyasn1<0.5.0,>=0.4.6 in /usr/local/lib/python3.7/dist-packages (from pyasn1-modules>=0.2.1->google-auth<2->rasa==3.2.8) (0.4.8)\n",
            "Requirement already satisfied: cryptography>=3.3.1 in /usr/local/lib/python3.7/dist-packages (from PyJWT[crypto]<3.0.0,>=2.0.0->rasa==3.2.8) (38.0.1)\n",
            "Requirement already satisfied: cffi>=1.12 in /usr/local/lib/python3.7/dist-packages (from cryptography>=3.3.1->PyJWT[crypto]<3.0.0,>=2.0.0->rasa==3.2.8) (1.15.1)\n",
            "Requirement already satisfied: pycparser in /usr/local/lib/python3.7/dist-packages (from cffi>=1.12->cryptography>=3.3.1->PyJWT[crypto]<3.0.0,>=2.0.0->rasa==3.2.8) (2.21)\n",
            "Requirement already satisfied: docopt>=0.6.2 in /usr/local/lib/python3.7/dist-packages (from pykwalify<1.9,>=1.7->rasa==3.2.8) (0.6.2)\n",
            "Requirement already satisfied: dnspython<2.0.0,>=1.16.0 in /usr/local/lib/python3.7/dist-packages (from pymongo[srv,tls]<3.11,>=3.8->rasa==3.2.8) (1.16.0)\n",
            "Requirement already satisfied: bidict>=0.21.0 in /usr/local/lib/python3.7/dist-packages (from python-socketio<6,>=4.4->rasa==3.2.8) (0.22.0)\n",
            "Requirement already satisfied: fire in /usr/local/lib/python3.7/dist-packages (from randomname<0.2.0,>=0.1.5->rasa==3.2.8) (0.4.0)\n",
            "Requirement already satisfied: charset-normalizer<3,>=2 in /usr/local/lib/python3.7/dist-packages (from requests<3.0,>=2.23->rasa==3.2.8) (2.1.1)\n",
            "Requirement already satisfied: idna<4,>=2.5 in /usr/local/lib/python3.7/dist-packages (from requests<3.0,>=2.23->rasa==3.2.8) (2.10)\n",
            "Requirement already satisfied: certifi>=2017.4.17 in /usr/local/lib/python3.7/dist-packages (from requests<3.0,>=2.23->rasa==3.2.8) (2022.6.15)\n",
            "Requirement already satisfied: ruamel.yaml.clib>=0.1.2 in /usr/local/lib/python3.7/dist-packages (from ruamel.yaml<0.17.0,>=0.16.5->rasa==3.2.8) (0.2.6)\n",
            "Requirement already satisfied: aiofiles>=0.6.0 in /usr/local/lib/python3.7/dist-packages (from sanic<21.13,>=21.12->rasa==3.2.8) (22.1.0)\n",
            "Requirement already satisfied: httptools>=0.0.10 in /usr/local/lib/python3.7/dist-packages (from sanic<21.13,>=21.12->rasa==3.2.8) (0.5.0)\n",
            "Requirement already satisfied: uvloop>=0.5.3 in /usr/local/lib/python3.7/dist-packages (from sanic<21.13,>=21.12->rasa==3.2.8) (0.17.0)\n",
            "Requirement already satisfied: websockets>=10.0 in /usr/local/lib/python3.7/dist-packages (from sanic<21.13,>=21.12->rasa==3.2.8) (10.3)\n",
            "Requirement already satisfied: threadpoolctl>=2.0.0 in /usr/local/lib/python3.7/dist-packages (from scikit-learn<0.25,>=0.22->rasa==3.2.8) (3.1.0)\n",
            "Requirement already satisfied: tabulate in /usr/local/lib/python3.7/dist-packages (from sklearn-crfsuite<0.4,>=0.3->rasa==3.2.8) (0.8.10)\n",
            "Requirement already satisfied: python-crfsuite>=0.8.3 in /usr/local/lib/python3.7/dist-packages (from sklearn-crfsuite<0.4,>=0.3->rasa==3.2.8) (0.9.8)\n",
            "Requirement already satisfied: preshed<3.1.0,>=3.0.2 in /usr/local/lib/python3.7/dist-packages (from spacy<3.5.0,>=3.2.0->ja-ginza==5.1.2) (3.0.7)\n",
            "Requirement already satisfied: catalogue<2.1.0,>=2.0.6 in /usr/local/lib/python3.7/dist-packages (from spacy<3.5.0,>=3.2.0->ja-ginza==5.1.2) (2.0.8)\n",
            "Requirement already satisfied: pathy>=0.3.5 in /usr/local/lib/python3.7/dist-packages (from spacy<3.5.0,>=3.2.0->ja-ginza==5.1.2) (0.6.2)\n",
            "Requirement already satisfied: thinc<8.2.0,>=8.1.0 in /usr/local/lib/python3.7/dist-packages (from spacy<3.5.0,>=3.2.0->ja-ginza==5.1.2) (8.1.0)\n",
            "Requirement already satisfied: wasabi<1.1.0,>=0.9.1 in /usr/local/lib/python3.7/dist-packages (from spacy<3.5.0,>=3.2.0->ja-ginza==5.1.2) (0.10.1)\n",
            "Requirement already satisfied: spacy-loggers<2.0.0,>=1.0.0 in /usr/local/lib/python3.7/dist-packages (from spacy<3.5.0,>=3.2.0->ja-ginza==5.1.2) (1.0.3)\n",
            "Requirement already satisfied: srsly<3.0.0,>=2.4.3 in /usr/local/lib/python3.7/dist-packages (from spacy<3.5.0,>=3.2.0->ja-ginza==5.1.2) (2.4.4)\n",
            "Requirement already satisfied: typer<0.5.0,>=0.3.0 in /usr/local/lib/python3.7/dist-packages (from spacy<3.5.0,>=3.2.0->ja-ginza==5.1.2) (0.4.2)\n",
            "Requirement already satisfied: cymem<2.1.0,>=2.0.2 in /usr/local/lib/python3.7/dist-packages (from spacy<3.5.0,>=3.2.0->ja-ginza==5.1.2) (2.0.6)\n",
            "Requirement already satisfied: spacy-legacy<3.1.0,>=3.0.9 in /usr/local/lib/python3.7/dist-packages (from spacy<3.5.0,>=3.2.0->ja-ginza==5.1.2) (3.0.10)\n",
            "Requirement already satisfied: langcodes<4.0.0,>=3.2.0 in /usr/local/lib/python3.7/dist-packages (from spacy<3.5.0,>=3.2.0->ja-ginza==5.1.2) (3.3.0)\n",
            "Requirement already satisfied: pydantic!=1.8,!=1.8.1,<1.10.0,>=1.7.4 in /usr/local/lib/python3.7/dist-packages (from spacy<3.5.0,>=3.2.0->ja-ginza==5.1.2) (1.9.2)\n",
            "Requirement already satisfied: jinja2 in /usr/local/lib/python3.7/dist-packages (from spacy<3.5.0,>=3.2.0->ja-ginza==5.1.2) (2.11.3)\n",
            "Requirement already satisfied: murmurhash<1.1.0,>=0.28.0 in /usr/local/lib/python3.7/dist-packages (from spacy<3.5.0,>=3.2.0->ja-ginza==5.1.2) (1.0.8)\n",
            "Requirement already satisfied: smart-open<6.0.0,>=5.2.1 in /usr/local/lib/python3.7/dist-packages (from pathy>=0.3.5->spacy<3.5.0,>=3.2.0->ja-ginza==5.1.2) (5.2.1)\n",
            "Requirement already satisfied: greenlet!=0.4.17 in /usr/local/lib/python3.7/dist-packages (from SQLAlchemy<1.5.0,>=1.4.0->rasa==3.2.8) (1.1.3)\n",
            "Requirement already satisfied: grpcio<2.0,>=1.24.3 in /usr/local/lib/python3.7/dist-packages (from tensorflow<2.8.0,>=2.7.0->rasa==3.2.8) (1.48.1)\n",
            "Requirement already satisfied: keras-preprocessing>=1.1.1 in /usr/local/lib/python3.7/dist-packages (from tensorflow<2.8.0,>=2.7.0->rasa==3.2.8) (1.1.2)\n",
            "Requirement already satisfied: astunparse>=1.6.0 in /usr/local/lib/python3.7/dist-packages (from tensorflow<2.8.0,>=2.7.0->rasa==3.2.8) (1.6.3)\n",
            "Requirement already satisfied: tensorflow-io-gcs-filesystem>=0.21.0 in /usr/local/lib/python3.7/dist-packages (from tensorflow<2.8.0,>=2.7.0->rasa==3.2.8) (0.26.0)\n",
            "Requirement already satisfied: gast<0.5.0,>=0.2.1 in /usr/local/lib/python3.7/dist-packages (from tensorflow<2.8.0,>=2.7.0->rasa==3.2.8) (0.4.0)\n",
            "Requirement already satisfied: wrapt>=1.11.0 in /usr/local/lib/python3.7/dist-packages (from tensorflow<2.8.0,>=2.7.0->rasa==3.2.8) (1.14.1)\n",
            "Requirement already satisfied: h5py>=2.9.0 in /usr/local/lib/python3.7/dist-packages (from tensorflow<2.8.0,>=2.7.0->rasa==3.2.8) (3.1.0)\n",
            "Requirement already satisfied: google-pasta>=0.1.1 in /usr/local/lib/python3.7/dist-packages (from tensorflow<2.8.0,>=2.7.0->rasa==3.2.8) (0.2.0)\n",
            "Requirement already satisfied: opt-einsum>=2.3.2 in /usr/local/lib/python3.7/dist-packages (from tensorflow<2.8.0,>=2.7.0->rasa==3.2.8) (3.3.0)\n",
            "Requirement already satisfied: libclang>=9.0.1 in /usr/local/lib/python3.7/dist-packages (from tensorflow<2.8.0,>=2.7.0->rasa==3.2.8) (14.0.6)\n",
            "Requirement already satisfied: wheel<1.0,>=0.32.0 in /usr/local/lib/python3.7/dist-packages (from tensorflow<2.8.0,>=2.7.0->rasa==3.2.8) (0.37.1)\n",
            "Requirement already satisfied: keras<2.8,>=2.7.0rc0 in /usr/local/lib/python3.7/dist-packages (from tensorflow<2.8.0,>=2.7.0->rasa==3.2.8) (2.7.0)\n",
            "Requirement already satisfied: tensorboard~=2.6 in /usr/local/lib/python3.7/dist-packages (from tensorflow<2.8.0,>=2.7.0->rasa==3.2.8) (2.8.0)\n",
            "Requirement already satisfied: flatbuffers<3.0,>=1.12 in /usr/local/lib/python3.7/dist-packages (from tensorflow<2.8.0,>=2.7.0->rasa==3.2.8) (2.0.7)\n",
            "Requirement already satisfied: termcolor>=1.1.0 in /usr/local/lib/python3.7/dist-packages (from tensorflow<2.8.0,>=2.7.0->rasa==3.2.8) (1.1.0)\n",
            "Requirement already satisfied: protobuf<3.20,>=3.9.2 in /usr/local/lib/python3.7/dist-packages (from tensorflow<2.8.0,>=2.7.0->rasa==3.2.8) (3.17.3)\n",
            "Requirement already satisfied: tensorflow-estimator<2.8,~=2.7.0rc0 in /usr/local/lib/python3.7/dist-packages (from tensorflow<2.8.0,>=2.7.0->rasa==3.2.8) (2.7.0)\n",
            "Requirement already satisfied: cached-property in /usr/local/lib/python3.7/dist-packages (from h5py>=2.9.0->tensorflow<2.8.0,>=2.7.0->rasa==3.2.8) (1.5.2)\n",
            "Requirement already satisfied: markdown>=2.6.8 in /usr/local/lib/python3.7/dist-packages (from tensorboard~=2.6->tensorflow<2.8.0,>=2.7.0->rasa==3.2.8) (3.4.1)\n",
            "Requirement already satisfied: tensorboard-data-server<0.7.0,>=0.6.0 in /usr/local/lib/python3.7/dist-packages (from tensorboard~=2.6->tensorflow<2.8.0,>=2.7.0->rasa==3.2.8) (0.6.1)\n",
            "Requirement already satisfied: werkzeug>=0.11.15 in /usr/local/lib/python3.7/dist-packages (from tensorboard~=2.6->tensorflow<2.8.0,>=2.7.0->rasa==3.2.8) (1.0.1)\n",
            "Requirement already satisfied: tensorboard-plugin-wit>=1.6.0 in /usr/local/lib/python3.7/dist-packages (from tensorboard~=2.6->tensorflow<2.8.0,>=2.7.0->rasa==3.2.8) (1.8.1)\n",
            "Requirement already satisfied: google-auth-oauthlib<0.5,>=0.4.1 in /usr/local/lib/python3.7/dist-packages (from tensorboard~=2.6->tensorflow<2.8.0,>=2.7.0->rasa==3.2.8) (0.4.6)\n",
            "Requirement already satisfied: requests-oauthlib>=0.7.0 in /usr/local/lib/python3.7/dist-packages (from google-auth-oauthlib<0.5,>=0.4.1->tensorboard~=2.6->tensorflow<2.8.0,>=2.7.0->rasa==3.2.8) (1.3.1)\n",
            "Requirement already satisfied: oauthlib>=3.0.0 in /usr/local/lib/python3.7/dist-packages (from requests-oauthlib>=0.7.0->google-auth-oauthlib<0.5,>=0.4.1->tensorboard~=2.6->tensorflow<2.8.0,>=2.7.0->rasa==3.2.8) (3.2.0)\n",
            "Requirement already satisfied: typeguard>=2.7 in /usr/local/lib/python3.7/dist-packages (from tensorflow-addons<0.16.0,>=0.15.0->rasa==3.2.8) (2.7.1)\n",
            "Requirement already satisfied: blis<0.8.0,>=0.7.8 in /usr/local/lib/python3.7/dist-packages (from thinc<8.2.0,>=8.1.0->spacy<3.5.0,>=3.2.0->ja-ginza==5.1.2) (0.7.8)\n",
            "Requirement already satisfied: click<9.0.0,>=7.1.1 in /usr/local/lib/python3.7/dist-packages (from typer<0.5.0,>=0.3.0->spacy<3.5.0,>=3.2.0->ja-ginza==5.1.2) (7.1.2)\n",
            "Requirement already satisfied: future in /usr/local/lib/python3.7/dist-packages (from webexteamssdk<1.7.0,>=1.1.1->rasa==3.2.8) (0.16.0)\n",
            "Requirement already satisfied: requests-toolbelt in /usr/local/lib/python3.7/dist-packages (from webexteamssdk<1.7.0,>=1.1.1->rasa==3.2.8) (0.9.1)\n",
            "Requirement already satisfied: MarkupSafe>=0.23 in /usr/local/lib/python3.7/dist-packages (from jinja2->spacy<3.5.0,>=3.2.0->ja-ginza==5.1.2) (2.0.1)\n"
          ]
        }
      ],
      "source": [
        "# Rasa と GiNZA をインストール\n",
        "# Rasaの内部でspacyを使用する際の言語モデルも一緒にインストール （ ja-ginza : GiNZAの日本語モデル )\n",
        "! pip install rasa==3.2.8 ja-ginza==5.1.2\n",
        "\n",
        "# NOTE 終了後、ランタイムの再起動が必要"
      ]
    },
    {
      "cell_type": "code",
      "source": [
        "# 共通的なモジュールのインポート\n",
        "import numpy as np\n",
        "import pandas as pd"
      ],
      "metadata": {
        "id": "DHVwAD41Vucl"
      },
      "execution_count": 2,
      "outputs": []
    },
    {
      "cell_type": "markdown",
      "source": [
        "## エンティティ抽出の方法\n",
        "- 2種類のファイルが必要\n",
        "    - 設定ファイル（pipelineのconfig）\n",
        "    - 訓練サンプルファイル（エンティティ抽出のアノテーション付与）\n",
        "- 手順\n",
        "    1. `rasa.model_training.train_nlu()`でモデルを訓練\n",
        "    2. `rasa.core.agent.Agent`クラスを生成\n",
        "    3. `Agent.load_model()`により訓練済みモデルを読込\n",
        "    4. `Agent.parse_message()`で文章を解析\n",
        "\n",
        "    "
      ],
      "metadata": {
        "id": "h9OyYftMCPt1"
      }
    },
    {
      "cell_type": "code",
      "source": [
        "# 設定ファイルと、訓練サンプルファイルを生成する\n",
        "\n",
        "# 設定ファイル\n",
        "# NOTE SpacyNLPのmodelを指定する必要あり\n",
        "#       （指定しない場合、エラー\"InvalidModelError: Missing model configuration for `SpacyNLP` in `config.yml`.\"が発生する）\n",
        "model_config = \\\n",
        "\"\"\"recipe: default.v1\n",
        "language: ja\n",
        "\n",
        "pipeline:\n",
        "  - name: SpacyNLP\n",
        "    model: ja_ginza\n",
        "  - name: SpacyTokenizer\n",
        "  - name: SpacyFeaturizer\n",
        "  - name: RegexFeaturizer\n",
        "  - name: CRFEntityExtractor\n",
        "\"\"\"\n",
        "\n",
        "# 訓練サンプルファイル\n",
        "# cf. \n",
        "# - https://rasa.com/docs/rasa/training-data-format/#entities\n",
        "# - https://rasa.com/docs/rasa/nlu-training-data/#entities-roles-and-groups\n",
        "train_data = \\\n",
        "\"\"\"nlu:\n",
        "- intent: eat_out\n",
        "  examples: |\n",
        "    - [昨日]{\"entity\": \"date\"}は[両親]{\"entity\": \"companion\"}と一緒に[銀座]{\"entity\": \"place\"}の[寿司]{\"entity\": \"food_genre\"}を食べにいきました。\n",
        "    - [おととい]{\"entity\": \"date\"}、[友人]{\"entity\": \"companion\"}と一緒に[中華料理]{\"entity\": \"food_genre\"}を食べに、[横浜]{\"entity\": \"place\"}に行った。\n",
        "    - [一週間前]{\"entity\": \"date\"}に、[祖父母]{\"entity\": \"companion\"}と[日本食]{\"entity\": \"food_genre\"}を食べました。\n",
        "    - [今日]{\"entity\": \"date\"}は[弟]{\"entity\": \"companion\"}に[台湾料理]{\"entity\": \"food_genre\"}に連れて行ってもらう。\n",
        "    - [明日]{\"entity\": \"date\"}、[恋人]{\"entity\": \"companion\"}と[恵比寿]{\"entity\": \"place\"}に[イタリアン]{\"entity\": \"food_genre\"}を食べに行く予定。\n",
        "\"\"\"\n",
        "\n",
        "open('./config_ja.yml', 'w').write(model_config)\n",
        "open('./train_data_ja.yml', 'w').write(train_data)"
      ],
      "metadata": {
        "colab": {
          "base_uri": "https://localhost:8080/"
        },
        "id": "PqoSHhOCD3Rj",
        "outputId": "beda08c5-392a-4ff9-e3bb-0531b25ebf4e"
      },
      "execution_count": 3,
      "outputs": [
        {
          "output_type": "execute_result",
          "data": {
            "text/plain": [
              "605"
            ]
          },
          "metadata": {},
          "execution_count": 3
        }
      ]
    },
    {
      "cell_type": "code",
      "source": [
        "# モデルを訓練\n",
        "# https://rasa.com/docs/rasa/reference/rasa/model_training\n",
        "from rasa.model_training import train_nlu\n",
        "\n",
        "train_nlu(\n",
        "    config='config_ja.yml',\n",
        "    nlu_data='train_data_ja.yml',\n",
        "    output='sample_model_ja')"
      ],
      "metadata": {
        "colab": {
          "base_uri": "https://localhost:8080/",
          "height": 177
        },
        "id": "3Kb1i1heDy-8",
        "outputId": "afa32641-f856-4f2c-bf1a-0311a57bf0e6"
      },
      "execution_count": 4,
      "outputs": [
        {
          "output_type": "stream",
          "name": "stderr",
          "text": [
            "/usr/local/lib/python3.7/dist-packages/tornado/httputil.py:107: DeprecationWarning: Using or importing the ABCs from 'collections' instead of from 'collections.abc' is deprecated since Python 3.3,and in 3.9 it will stop working\n",
            "  class HTTPHeaders(collections.MutableMapping):\n",
            "/usr/local/lib/python3.7/dist-packages/past/types/oldstr.py:5: DeprecationWarning: Using or importing the ABCs from 'collections' instead of from 'collections.abc' is deprecated since Python 3.3,and in 3.9 it will stop working\n",
            "  from collections import Iterable\n",
            "/usr/local/lib/python3.7/dist-packages/past/builtins/misc.py:4: DeprecationWarning: Using or importing the ABCs from 'collections' instead of from 'collections.abc' is deprecated since Python 3.3,and in 3.9 it will stop working\n",
            "  from collections import Mapping\n"
          ]
        },
        {
          "output_type": "stream",
          "name": "stdout",
          "text": [
            "\u001b[92mYour Rasa model is trained and saved at 'sample_model_ja/nlu-20220915-141527-inclusive-sofa.tar.gz'.\u001b[0m\n"
          ]
        },
        {
          "output_type": "execute_result",
          "data": {
            "text/plain": [
              "'sample_model_ja/nlu-20220915-141527-inclusive-sofa.tar.gz'"
            ],
            "application/vnd.google.colaboratory.intrinsic+json": {
              "type": "string"
            }
          },
          "metadata": {},
          "execution_count": 4
        }
      ]
    },
    {
      "cell_type": "code",
      "source": [
        "# モデルを読み込んで、文章を解析\n",
        "from rasa.core.agent import Agent\n",
        "from rasa.model import get_local_model\n",
        "\n",
        "# Agentを生成\n",
        "agent = Agent()\n",
        "\n",
        "# 訓練モデルを読み込み\n",
        "model_path = get_local_model('sample_model_ja')\n",
        "agent.load_model(model_path)\n",
        "\n",
        "# 文章を解析（エンティティ抽出）\n",
        "await agent.parse_message('昨日、友達と、恵比寿のイタリアンに行った。')"
      ],
      "metadata": {
        "colab": {
          "base_uri": "https://localhost:8080/"
        },
        "id": "Fj-WT8pXJ55e",
        "outputId": "14dcc40e-1668-439d-841b-796223dcb7a4"
      },
      "execution_count": 5,
      "outputs": [
        {
          "output_type": "execute_result",
          "data": {
            "text/plain": [
              "{'text': '昨日、友達と、恵比寿のイタリアンに行った。',\n",
              " 'intent': {'name': None, 'confidence': 0.0},\n",
              " 'entities': [{'entity': 'date',\n",
              "   'start': 0,\n",
              "   'end': 2,\n",
              "   'confidence_entity': 0.8748535803053381,\n",
              "   'value': '昨日',\n",
              "   'extractor': 'CRFEntityExtractor'},\n",
              "  {'entity': 'companion',\n",
              "   'start': 3,\n",
              "   'end': 5,\n",
              "   'confidence_entity': 0.7098377521624063,\n",
              "   'value': '友達',\n",
              "   'extractor': 'CRFEntityExtractor'},\n",
              "  {'entity': 'place',\n",
              "   'start': 7,\n",
              "   'end': 10,\n",
              "   'confidence_entity': 0.739316057201231,\n",
              "   'value': '恵比寿',\n",
              "   'extractor': 'CRFEntityExtractor'},\n",
              "  {'entity': 'food_genre',\n",
              "   'start': 11,\n",
              "   'end': 16,\n",
              "   'confidence_entity': 0.5424315319442129,\n",
              "   'value': 'イタリアン',\n",
              "   'extractor': 'CRFEntityExtractor'}],\n",
              " 'text_tokens': [(0, 2),\n",
              "  (2, 3),\n",
              "  (3, 5),\n",
              "  (5, 6),\n",
              "  (6, 7),\n",
              "  (7, 10),\n",
              "  (10, 11),\n",
              "  (11, 16),\n",
              "  (16, 17),\n",
              "  (17, 19),\n",
              "  (19, 20),\n",
              "  (20, 21)]}"
            ]
          },
          "metadata": {},
          "execution_count": 5
        }
      ]
    },
    {
      "cell_type": "code",
      "source": [
        "# 訓練サンプルが少ないので、訓練サンプルに含まれない場所やジャンルは認識が難しい様子\n",
        "await agent.parse_message('明後日、家族と、東京のフレンチに行く予定です。')"
      ],
      "metadata": {
        "colab": {
          "base_uri": "https://localhost:8080/"
        },
        "id": "10iA6_ORK07O",
        "outputId": "748f55f4-3b60-427e-c6f1-957e2b951a34"
      },
      "execution_count": 6,
      "outputs": [
        {
          "output_type": "execute_result",
          "data": {
            "text/plain": [
              "{'text': '明後日、家族と、東京のフレンチに行く予定です。',\n",
              " 'intent': {'name': None, 'confidence': 0.0},\n",
              " 'entities': [{'entity': 'date',\n",
              "   'start': 0,\n",
              "   'end': 3,\n",
              "   'confidence_entity': 0.6910108163613534,\n",
              "   'value': '明後日',\n",
              "   'extractor': 'CRFEntityExtractor'},\n",
              "  {'entity': 'companion',\n",
              "   'start': 4,\n",
              "   'end': 6,\n",
              "   'confidence_entity': 0.7092017421917339,\n",
              "   'value': '家族',\n",
              "   'extractor': 'CRFEntityExtractor'}],\n",
              " 'text_tokens': [(0, 3),\n",
              "  (3, 4),\n",
              "  (4, 6),\n",
              "  (6, 7),\n",
              "  (7, 8),\n",
              "  (8, 10),\n",
              "  (10, 11),\n",
              "  (11, 15),\n",
              "  (15, 16),\n",
              "  (16, 18),\n",
              "  (18, 20),\n",
              "  (20, 22),\n",
              "  (22, 23)]}"
            ]
          },
          "metadata": {},
          "execution_count": 6
        }
      ]
    },
    {
      "cell_type": "markdown",
      "source": [
        "## 訓練サンプルと精度の関係性"
      ],
      "metadata": {
        "id": "sdVMDPXFXu8P"
      }
    },
    {
      "cell_type": "markdown",
      "source": [
        "- 知りたいこと：どのくらい訓練データが必要なのか？  \n",
        "- パラメータ  \n",
        "    1. 訓練サンプル数\n",
        "    2. 文章の型の種類\n",
        "    3. 各エンティティの種類"
      ],
      "metadata": {
        "id": "to7FV4_FX9qu"
      }
    },
    {
      "cell_type": "markdown",
      "source": [
        "### 訓練・評価サンプルの準備"
      ],
      "metadata": {
        "id": "HwTVteAj-PiU"
      }
    },
    {
      "cell_type": "code",
      "source": [
        "# 飲食店ジャンル： https://www.synchro-food.co.jp/news/press/1017\n",
        "\n",
        "# 文章の型 \n",
        "train_templates = [\n",
        "    \"(date)は、(companion)と一緒に(place)の(food_genre)を食べにいきます。\",\n",
        "    \"(date)行った(food_genre)で食べた(dish_name)は本当に美味しかった。\",\n",
        "    \"(date)は(companion)に(food_genre)に連れて行ってもらう。\",\n",
        "    \"(date)、(companion)と(place)に(food_genre)を食べに行く予定です。\",\n",
        "    \"(food_genre)で、(dish_name)を食べました。\",\n",
        "    \"(place)の(food_genre)はおいしい。\",\n",
        "    \"(dish_name)を食べに、(food_genre)に行きました。\",\n",
        "    \"(place)にある(food_genre)で、(dish_name)を食べた。\",\n",
        "    \"(date)、(companion)と(food_genre)を食べました。\",\n",
        "    \"(date)、(companion)と一緒に(food_genre)を食べに、(place)に行った。\",\n",
        "]\n",
        "val_templates = [\n",
        "    \"(date)は(food_genre)を食べに行った。\",\n",
        "    \"(companion)と(food_genre)で(dish_name)をたらふく食べた。\",\n",
        "    \"(date)は、(place)の駅前にある(food_genre)に行った。\",\n",
        "    \"(dish_name)の有名な(food_genre)に、(companion)と(date)行きました。\",\n",
        "    \"(place)の(food_genre)は(dish_name)がオススメらしいので、(date)(companion)と行きます。\",\n",
        "    \"(place)で、(dish_name)を食べました。\",             # 訓練サンプルと類似。food_genre と place が違うだけ。難しい？\n",
        "    \"(date)、(companion)と(dish_name)を食べました。\",  # 訓練サンプルと類似。food_genre と dish_name が違うだけ。難しい？\n",
        "]\n",
        "\n",
        "# エンティティの要素\n",
        "train_entity_values = {\n",
        "    'date' : ['今日', '昨日', '一昨日', '3日前', '一週間前', '先週', '明日', '明後日', '来週'],\n",
        "    'companion' : ['友人', '家族', '両親', '父親', '母親', '父', '母', '祖父母', '祖父', '祖母', '恋人', '彼氏', '彼女', '上司', '部下', '同僚'],\n",
        "    'food_genre' : ['イタリアン', 'フレンチ', '中華', '中華料理', '和食', '日本食', '寿司', '懐石料理', '焼肉', '居酒屋', 'スペインバル', '韓国料理', 'エスニック料理'],\n",
        "    'dish_name' : ['パスタ', 'ピザ', '酢豚', '小籠包', '麻婆豆腐', '天ぷら', 'そば', 'うどん', 'とんかつ', '刺身', '生姜焼き', '野菜炒め', '焼き魚', 'ビビンバ', '冷麺', 'カルパッチョ', '純豆腐', 'チゲ鍋'],\n",
        "    'place' : ['池袋', '大塚', '巣鴨', '駒込', '田端', '西日暮里', '日暮里', '鶯谷', '上野', '御徒町', '秋葉原', '神田', '東京', '有楽町', '新橋', '浜松町', '田町', '高輪ゲートウェイ', '品川', '大崎', '五反田', '目黒', '恵比寿', '渋谷', '原宿', '代々木', '新宿', '新大久保', '高田馬場', '目白'],\n",
        "}\n",
        "val_entity_values = {\n",
        "    'date' : ['本日', 'きのう', '2日前', '先日', '最近', '一ヶ月前', '今度', 'あさって', 'いつか', '将来'],\n",
        "    'companion' : ['友だち', '知人', '父さん', '母さん', '兄', '姉', '弟', '妹', '先輩', '後輩', 'お客さん'],\n",
        "    'food_genre' : ['カフェ', '喫茶店', '焼き鳥', 'インド料理', 'タイ料理', '鉄板焼き', '洋食', '立ち飲み屋', '創作料理', 'ラーメン屋'],\n",
        "    'dish_name' : ['ミルクレープ', 'フレンチトースト', 'つくね', 'タンドリーチキン', 'ビーフン', 'フォー', 'お好み焼き', 'とんこつラーメン'],\n",
        "    'place' : ['札幌', '仙台', 'さいたま', '横浜', '名古屋', '京都', '大阪', '神戸', '広島', '博多'],\n",
        "}\n",
        "\n",
        "def generate_train_samples(templates, entity_values, num_samples, seed=123):\n",
        "    np.random.seed(seed)\n",
        "    samples = []\n",
        "    while len(samples) < num_samples:\n",
        "        template = templates[len(samples) % len(templates)]\n",
        "        for name, values in entity_values.items():\n",
        "            if f'({name})' in template:\n",
        "                value = np.random.choice(values)\n",
        "                template = template.replace(f'({name})', f'[{value}]{{\"entity\": \"{name}\"}}')\n",
        "        samples.append(template)\n",
        "    return samples\n",
        "\n",
        "def generate_val_samples(templates, entity_values, num_samples, seed=123):\n",
        "    np.random.seed(seed)\n",
        "    samples = []\n",
        "    while len(samples) < num_samples:\n",
        "        template = templates[len(samples) % len(templates)]\n",
        "        ann = {}  # 正解エンティティを格納\n",
        "        for name, values in entity_values.items():\n",
        "            if f'({name})' in template:\n",
        "                value = np.random.choice(values)\n",
        "                template = template.replace(f'({name})', value)  # 単純に単語で置き換え\n",
        "                ann[name] = value\n",
        "        samples.append([template, ann])  # 文章と正解エンティティのセット\n",
        "    return samples\n",
        "\n",
        "train_samples_demo = generate_train_samples(train_templates, train_entity_values, num_samples=5, seed=1)\n",
        "val_samples_demo = generate_val_samples(val_templates, val_entity_values, num_samples=5)\n",
        "\n",
        "print(train_samples_demo)\n",
        "print(val_samples_demo)"
      ],
      "metadata": {
        "colab": {
          "base_uri": "https://localhost:8080/"
        },
        "id": "qO8fVNPSYFYp",
        "outputId": "f918c681-18a8-4630-81d1-bdf350fcb181"
      },
      "execution_count": 7,
      "outputs": [
        {
          "output_type": "stream",
          "name": "stdout",
          "text": [
            "['[先週]{\"entity\": \"date\"}は、[彼氏]{\"entity\": \"companion\"}と一緒に[上野]{\"entity\": \"place\"}の[エスニック料理]{\"entity\": \"food_genre\"}を食べにいきます。', '[先週]{\"entity\": \"date\"}行った[イタリアン]{\"entity\": \"food_genre\"}で食べた[純豆腐]{\"entity\": \"dish_name\"}は本当に美味しかった。', '[昨日]{\"entity\": \"date\"}は[彼女]{\"entity\": \"companion\"}に[懐石料理]{\"entity\": \"food_genre\"}に連れて行ってもらう。', '[明日]{\"entity\": \"date\"}、[祖母]{\"entity\": \"companion\"}と[五反田]{\"entity\": \"place\"}に[中華]{\"entity\": \"food_genre\"}を食べに行く予定です。', '[日本食]{\"entity\": \"food_genre\"}で、[野菜炒め]{\"entity\": \"dish_name\"}を食べました。']\n",
            "[['2日前は焼き鳥を食べに行った。', {'date': '2日前', 'food_genre': '焼き鳥'}], ['弟と喫茶店でタンドリーチキンをたらふく食べた。', {'companion': '弟', 'food_genre': '喫茶店', 'dish_name': 'タンドリーチキン'}], ['将来は、仙台の駅前にある洋食に行った。', {'date': '将来', 'food_genre': '洋食', 'place': '仙台'}], ['ミルクレープの有名なラーメン屋に、知人と本日行きました。', {'date': '本日', 'companion': '知人', 'food_genre': 'ラーメン屋', 'dish_name': 'ミルクレープ'}], ['名古屋のインド料理はお好み焼きがオススメらしいので、本日後輩と行きます。', {'date': '本日', 'companion': '後輩', 'food_genre': 'インド料理', 'dish_name': 'お好み焼き', 'place': '名古屋'}]]\n"
          ]
        }
      ]
    },
    {
      "cell_type": "code",
      "source": [
        "# 訓練サンプルをファイルに書き出す\n",
        "TEXT_BASE = \\\n",
        "\"\"\"nlu:\n",
        "- intent: eat_out\n",
        "  examples: |\n",
        "\"\"\"\n",
        "def output_train_samples(yml_filepath, train_samples):\n",
        "    assert yml_filepath.endswith('.yml')\n",
        "    text_base = TEXT_BASE\n",
        "    text_base += '\\n'.join([f'    - {text}' for text in train_samples])\n",
        "    open(yml_filepath, 'w').write(text_base)\n",
        "    print('Saved ...', yml_filepath)\n",
        "\n",
        "output_train_samples('train_data_ja_demo.yml', train_samples_demo)"
      ],
      "metadata": {
        "colab": {
          "base_uri": "https://localhost:8080/"
        },
        "id": "iqgyjonrpcKY",
        "outputId": "d94f8d0b-6adb-42e4-e18f-a1dccdb83f68"
      },
      "execution_count": 8,
      "outputs": [
        {
          "output_type": "stream",
          "name": "stdout",
          "text": [
            "Saved ... train_data_ja_demo.yml\n"
          ]
        }
      ]
    },
    {
      "cell_type": "markdown",
      "source": [
        "### 評価用スクリプト"
      ],
      "metadata": {
        "id": "YAnr2UKF-UD5"
      }
    },
    {
      "cell_type": "code",
      "source": [
        "async def extract_entities(agent, message):\n",
        "    \"\"\"エンティティ抽出.\"\"\"\n",
        "    # 推論\n",
        "    pred_all = await agent.parse_message(message)\n",
        "    # エンティティの推定結果のみを抽出\n",
        "    pred_entities = {}\n",
        "    for pred in pred_all['entities']:\n",
        "        entity = pred['entity']\n",
        "        value = pred['value']\n",
        "        score = pred['confidence_entity']\n",
        "        # 同一のエンティティが複数抽出された場合は、スコアが高いものを採用.\n",
        "        if entity in pred_entities.keys():\n",
        "            _, s = pred_entities[entity]\n",
        "            if s >= score:\n",
        "                continue\n",
        "        pred_entities[entity] = (value, score)\n",
        "    return pred_entities\n",
        "\n",
        "# 動作テスト\n",
        "await extract_entities(agent, '昨日、友達と、恵比寿のイタリアンに行った。')"
      ],
      "metadata": {
        "colab": {
          "base_uri": "https://localhost:8080/"
        },
        "id": "KAG7qRrQrKu5",
        "outputId": "505e2a1c-00d2-45ad-ffcc-047a9d4dfcca"
      },
      "execution_count": 9,
      "outputs": [
        {
          "output_type": "execute_result",
          "data": {
            "text/plain": [
              "{'date': ('昨日', 0.8748535803053381),\n",
              " 'companion': ('友達', 0.7098377521624063),\n",
              " 'place': ('恵比寿', 0.739316057201231),\n",
              " 'food_genre': ('イタリアン', 0.5424315319442129)}"
            ]
          },
          "metadata": {},
          "execution_count": 9
        }
      ]
    },
    {
      "cell_type": "code",
      "source": [
        "async def eval(agent, val_samples):\n",
        "    \"\"\"エンティティ抽出の正解率を評価する.\"\"\"\n",
        "    entity_names = ['date', 'companion', 'food_genre', 'dish_name', 'place']\n",
        "    eval_summary = {e : [0, 0] for e in entity_names}  # (gt_num, correct_num)\n",
        "    for message, gt_entities in val_samples:\n",
        "        pred_entities = await extract_entities(agent, message)\n",
        "        for entity, gt_value in gt_entities.items():\n",
        "            # gt_num を加算\n",
        "            eval_summary[entity][0] += 1\n",
        "            # 推定結果と照合\n",
        "            if (entity in pred_entities.keys()):\n",
        "                pred_value, score = pred_entities[entity]\n",
        "                if pred_value == gt_value:\n",
        "                    # correct_num を加算\n",
        "                    eval_summary[entity][1] += 1\n",
        "    # エンティティ毎に正解率を算出\n",
        "    acc_each = {entity : correct_num / gt_num for (entity, (gt_num, correct_num)) in eval_summary.items()}\n",
        "    # 全体の正解率\n",
        "    acc_total = np.sum([n2 for _, n2 in eval_summary.values()]) / np.sum([n1 for n1, _ in eval_summary.values()])\n",
        "    return acc_total, acc_each\n",
        "\n",
        "# 動作テスト\n",
        "val_samples_200 = generate_val_samples(val_templates, val_entity_values, num_samples=200)\n",
        "await eval(agent, val_samples_200)"
      ],
      "metadata": {
        "colab": {
          "base_uri": "https://localhost:8080/"
        },
        "id": "oTbUeG-nAQPH",
        "outputId": "450b4707-d1c2-4c98-a821-5937303af30b"
      },
      "execution_count": 10,
      "outputs": [
        {
          "output_type": "execute_result",
          "data": {
            "text/plain": [
              "(0.25,\n",
              " {'date': 0.46153846153846156,\n",
              "  'companion': 0.5263157894736842,\n",
              "  'food_genre': 0.13194444444444445,\n",
              "  'dish_name': 0.0,\n",
              "  'place': 0.1411764705882353})"
            ]
          },
          "metadata": {},
          "execution_count": 10
        }
      ]
    },
    {
      "cell_type": "markdown",
      "source": [
        "### 定性評価"
      ],
      "metadata": {
        "id": "UtRXMrZtZgd3"
      }
    },
    {
      "cell_type": "code",
      "source": [
        "# 訓練サンプルの作成\n",
        "train_samples_exp = generate_train_samples(train_templates, train_entity_values, num_samples=300, seed=1)\n",
        "output_train_samples('train_data_ja_exp.yml', train_samples_exp)\n",
        "# 訓練\n",
        "train_nlu(\n",
        "    config='config_ja.yml',\n",
        "    nlu_data='train_data_ja_exp.yml',\n",
        "    output='sample_model_ja_exp')\n",
        "# モデル読み込み\n",
        "agent = Agent()\n",
        "model_path = get_local_model('sample_model_ja_exp')\n",
        "agent.load_model(model_path)"
      ],
      "metadata": {
        "colab": {
          "base_uri": "https://localhost:8080/"
        },
        "id": "s7GU2uWWZruM",
        "outputId": "d2b6452e-47a6-4d0a-e8d7-9c5765713595"
      },
      "execution_count": 11,
      "outputs": [
        {
          "output_type": "stream",
          "name": "stdout",
          "text": [
            "Saved ... train_data_ja_exp.yml\n",
            "\u001b[92mYour Rasa model is trained and saved at 'sample_model_ja_exp/nlu-20220915-141540-optimal-ricotta.tar.gz'.\u001b[0m\n"
          ]
        }
      ]
    },
    {
      "cell_type": "code",
      "source": [
        "# 訓練サンプルにない、文章の型、と、エンティティ値\n",
        "message = \"横浜のラーメン屋はとんこつラーメンがオススメらしいので、あさって先輩と行きます。\"\n",
        "await extract_entities(agent, message)"
      ],
      "metadata": {
        "colab": {
          "base_uri": "https://localhost:8080/"
        },
        "id": "CSz1Ff2QbZE_",
        "outputId": "32f35023-2006-4c91-9dee-e9d6b431a20e"
      },
      "execution_count": 12,
      "outputs": [
        {
          "output_type": "execute_result",
          "data": {
            "text/plain": [
              "{'place': ('横浜', 0.9606404673208094), 'companion': ('先輩', 0.8571427007748562)}"
            ]
          },
          "metadata": {},
          "execution_count": 12
        }
      ]
    },
    {
      "cell_type": "code",
      "source": [
        "# 訓練サンプルにない、文章の型、と、エンティティ値\n",
        "message = \"知人とラーメン屋でとんこつラーメンをたらふく食べた。\"\n",
        "await extract_entities(agent, message)"
      ],
      "metadata": {
        "colab": {
          "base_uri": "https://localhost:8080/"
        },
        "id": "yO5ySPKYb7uO",
        "outputId": "9d4e1d8f-0e8c-49db-d259-05cac70b8451"
      },
      "execution_count": 13,
      "outputs": [
        {
          "output_type": "execute_result",
          "data": {
            "text/plain": [
              "{'companion': ('知人', 0.7614032783964635),\n",
              " 'dish_name': ('ラーメン', 0.6512579042011245)}"
            ]
          },
          "metadata": {},
          "execution_count": 13
        }
      ]
    },
    {
      "cell_type": "code",
      "source": [
        "# 訓練サンプルにない、文章の型、と、エンティティ値\n",
        "message = \"先日、仙台の駅前にあるインド料理に行った。\"\n",
        "await extract_entities(agent, message)"
      ],
      "metadata": {
        "colab": {
          "base_uri": "https://localhost:8080/"
        },
        "id": "wIbJXUOEcL37",
        "outputId": "f48db8c6-d184-43fe-ecde-23ea59b66868"
      },
      "execution_count": 14,
      "outputs": [
        {
          "output_type": "execute_result",
          "data": {
            "text/plain": [
              "{'date': ('先日', 0.6532071851633521),\n",
              " 'place': ('仙台', 0.933608850518393),\n",
              " 'food_genre': ('インド料理', 0.9879440559052248)}"
            ]
          },
          "metadata": {},
          "execution_count": 14
        }
      ]
    },
    {
      "cell_type": "code",
      "source": [
        "# 訓練サンプルにない、文章の型、と、エンティティ値\n",
        "message = \"フレンチトーストの有名な喫茶店に、姉と2日前に行きました。\"\n",
        "await extract_entities(agent, message)"
      ],
      "metadata": {
        "colab": {
          "base_uri": "https://localhost:8080/"
        },
        "id": "2P4OW8lycfOc",
        "outputId": "447e790c-7874-4101-960a-fedaf55016e7"
      },
      "execution_count": 15,
      "outputs": [
        {
          "output_type": "execute_result",
          "data": {
            "text/plain": [
              "{'place': ('フレンチトースト', 0.9586308410736651),\n",
              " 'companion': ('姉', 0.9568551934457641),\n",
              " 'date': ('2日前', 0.6744999438127921)}"
            ]
          },
          "metadata": {},
          "execution_count": 15
        }
      ]
    },
    {
      "cell_type": "code",
      "source": [
        "# 訓練サンプルにエンティティタイプが異なる文章①\n",
        "# - 訓練 : (food_genre)で、(dish_name)を食べました。\n",
        "# - 評価 : (place)で、(dish_name)を食べました。\n",
        "message = \"広島で、お好み焼きを食べました。\"\n",
        "await extract_entities(agent, message)"
      ],
      "metadata": {
        "colab": {
          "base_uri": "https://localhost:8080/"
        },
        "id": "6wMbsRivZ62A",
        "outputId": "70120fd2-24e3-4044-e5c6-4af87a0c4af8"
      },
      "execution_count": 16,
      "outputs": [
        {
          "output_type": "execute_result",
          "data": {
            "text/plain": [
              "{'date': ('広島', 0.29006321747298736),\n",
              " 'dish_name': ('お好み焼き', 0.760606985896815)}"
            ]
          },
          "metadata": {},
          "execution_count": 16
        }
      ]
    },
    {
      "cell_type": "code",
      "source": [
        "# 訓練サンプルにエンティティタイプが異なる文章②\n",
        "# - 訓練 : (date)、(companion)と(food_genre)を食べました。\n",
        "# - 評価 : (date)、(companion)と(dish_name)を食べました。\n",
        "message = \"きのう、友だちとフレンチトーストを食べました。\"\n",
        "await extract_entities(agent, message)"
      ],
      "metadata": {
        "colab": {
          "base_uri": "https://localhost:8080/"
        },
        "id": "JwIJAkwIaxDG",
        "outputId": "a9ad6f1e-696a-40ba-d261-7dd0ebbc9a18"
      },
      "execution_count": 17,
      "outputs": [
        {
          "output_type": "execute_result",
          "data": {
            "text/plain": [
              "{'date': ('きのう', 0.6534438061631824),\n",
              " 'companion': ('友だち', 0.9569673718474322),\n",
              " 'food_genre': ('フレンチトースト', 0.36414176521743385)}"
            ]
          },
          "metadata": {},
          "execution_count": 17
        }
      ]
    },
    {
      "cell_type": "markdown",
      "source": [
        "### 評価１. 訓練サンプル数と精度\n"
      ],
      "metadata": {
        "id": "YBtm25_e-c-d"
      }
    },
    {
      "cell_type": "code",
      "source": [
        "eval_all1 = []\n",
        "for train_num in (10, 50, 100, 300, 500, 1000):\n",
        "    # 訓練データ生成\n",
        "    train_samples_exp = generate_train_samples(train_templates, train_entity_values, num_samples=train_num, seed=1)\n",
        "    output_train_samples('train_data_ja_exp.yml', train_samples_exp)\n",
        "    # 訓練\n",
        "    train_nlu(\n",
        "        config='config_ja.yml',\n",
        "        nlu_data='train_data_ja_exp.yml',\n",
        "        output='sample_model_ja_exp')\n",
        "    # 評価\n",
        "    agent = Agent()\n",
        "    model_path = get_local_model('sample_model_ja_exp')\n",
        "    agent.load_model(model_path)\n",
        "    acc_total, acc_each = await eval(agent, val_samples_200)\n",
        "    # 格納\n",
        "    eval_res = acc_each.copy()\n",
        "    eval_res['sample_num'] = train_num\n",
        "    eval_res['total'] = acc_total\n",
        "    eval_all1.append(eval_res)\n",
        "\n",
        "df_eval1 = pd.DataFrame(eval_all1)\n",
        "df_eval1[['sample_num', 'total', 'date', 'companion', 'food_genre', 'dish_name', 'place']]"
      ],
      "metadata": {
        "colab": {
          "base_uri": "https://localhost:8080/",
          "height": 639
        },
        "id": "n8Leo8N5BuP0",
        "outputId": "fb5d858b-e45b-4daa-b3af-04ceb7d1ac18"
      },
      "execution_count": 18,
      "outputs": [
        {
          "output_type": "stream",
          "name": "stdout",
          "text": [
            "Saved ... train_data_ja_exp.yml\n"
          ]
        },
        {
          "output_type": "stream",
          "name": "stderr",
          "text": [
            "/usr/local/lib/python3.7/dist-packages/rasa/shared/nlu/training_data/features.py:152: DeprecationWarning: tostring() is deprecated. Use tobytes() instead.\n",
            "  f_as_text = self.features.tostring()\n"
          ]
        },
        {
          "output_type": "stream",
          "name": "stdout",
          "text": [
            "\u001b[92mYour Rasa model is trained and saved at 'sample_model_ja_exp/nlu-20220915-141547-nippy-sled.tar.gz'.\u001b[0m\n",
            "Saved ... train_data_ja_exp.yml\n"
          ]
        },
        {
          "output_type": "stream",
          "name": "stderr",
          "text": [
            "/usr/local/lib/python3.7/dist-packages/rasa/shared/nlu/training_data/features.py:152: DeprecationWarning: tostring() is deprecated. Use tobytes() instead.\n",
            "  f_as_text = self.features.tostring()\n"
          ]
        },
        {
          "output_type": "stream",
          "name": "stdout",
          "text": [
            "\u001b[92mYour Rasa model is trained and saved at 'sample_model_ja_exp/nlu-20220915-141600-many-jug.tar.gz'.\u001b[0m\n",
            "Saved ... train_data_ja_exp.yml\n"
          ]
        },
        {
          "output_type": "stream",
          "name": "stderr",
          "text": [
            "/usr/local/lib/python3.7/dist-packages/rasa/shared/nlu/training_data/features.py:152: DeprecationWarning: tostring() is deprecated. Use tobytes() instead.\n",
            "  f_as_text = self.features.tostring()\n"
          ]
        },
        {
          "output_type": "stream",
          "name": "stdout",
          "text": [
            "\u001b[92mYour Rasa model is trained and saved at 'sample_model_ja_exp/nlu-20220915-141618-optimal-pit.tar.gz'.\u001b[0m\n",
            "Saved ... train_data_ja_exp.yml\n",
            "\u001b[92mYour Rasa model is trained and saved at 'sample_model_ja_exp/nlu-20220915-141636-perpendicular-antagonist.tar.gz'.\u001b[0m\n",
            "Saved ... train_data_ja_exp.yml\n"
          ]
        },
        {
          "output_type": "stream",
          "name": "stderr",
          "text": [
            "/usr/local/lib/python3.7/dist-packages/rasa/shared/nlu/training_data/features.py:152: DeprecationWarning: tostring() is deprecated. Use tobytes() instead.\n",
            "  f_as_text = self.features.tostring()\n"
          ]
        },
        {
          "output_type": "stream",
          "name": "stdout",
          "text": [
            "\u001b[92mYour Rasa model is trained and saved at 'sample_model_ja_exp/nlu-20220915-141652-deterministic-motion.tar.gz'.\u001b[0m\n",
            "Saved ... train_data_ja_exp.yml\n"
          ]
        },
        {
          "output_type": "stream",
          "name": "stderr",
          "text": [
            "/usr/local/lib/python3.7/dist-packages/rasa/shared/nlu/training_data/features.py:152: DeprecationWarning: tostring() is deprecated. Use tobytes() instead.\n",
            "  f_as_text = self.features.tostring()\n"
          ]
        },
        {
          "output_type": "stream",
          "name": "stdout",
          "text": [
            "\u001b[92mYour Rasa model is trained and saved at 'sample_model_ja_exp/nlu-20220915-141725-espressivo-influencer.tar.gz'.\u001b[0m\n"
          ]
        },
        {
          "output_type": "execute_result",
          "data": {
            "text/plain": [
              "   sample_num     total      date  companion  food_genre  dish_name     place\n",
              "0          10  0.302548  0.461538   0.464912    0.298611   0.000000  0.329412\n",
              "1          50  0.535032  0.615385   0.964912    0.416667   0.147887  0.670588\n",
              "2         100  0.597134  0.615385   0.964912    0.416667   0.422535  0.670588\n",
              "3         300  0.587580  0.615385   0.964912    0.375000   0.422535  0.670588\n",
              "4         500  0.570064  0.615385   0.964912    0.298611   0.422535  0.670588\n",
              "5        1000  0.597134  0.615385   0.964912    0.298611   0.542254  0.670588"
            ],
            "text/html": [
              "\n",
              "  <div id=\"df-931237b2-d3c5-461b-9cf5-dcc0b7dee040\">\n",
              "    <div class=\"colab-df-container\">\n",
              "      <div>\n",
              "<style scoped>\n",
              "    .dataframe tbody tr th:only-of-type {\n",
              "        vertical-align: middle;\n",
              "    }\n",
              "\n",
              "    .dataframe tbody tr th {\n",
              "        vertical-align: top;\n",
              "    }\n",
              "\n",
              "    .dataframe thead th {\n",
              "        text-align: right;\n",
              "    }\n",
              "</style>\n",
              "<table border=\"1\" class=\"dataframe\">\n",
              "  <thead>\n",
              "    <tr style=\"text-align: right;\">\n",
              "      <th></th>\n",
              "      <th>sample_num</th>\n",
              "      <th>total</th>\n",
              "      <th>date</th>\n",
              "      <th>companion</th>\n",
              "      <th>food_genre</th>\n",
              "      <th>dish_name</th>\n",
              "      <th>place</th>\n",
              "    </tr>\n",
              "  </thead>\n",
              "  <tbody>\n",
              "    <tr>\n",
              "      <th>0</th>\n",
              "      <td>10</td>\n",
              "      <td>0.302548</td>\n",
              "      <td>0.461538</td>\n",
              "      <td>0.464912</td>\n",
              "      <td>0.298611</td>\n",
              "      <td>0.000000</td>\n",
              "      <td>0.329412</td>\n",
              "    </tr>\n",
              "    <tr>\n",
              "      <th>1</th>\n",
              "      <td>50</td>\n",
              "      <td>0.535032</td>\n",
              "      <td>0.615385</td>\n",
              "      <td>0.964912</td>\n",
              "      <td>0.416667</td>\n",
              "      <td>0.147887</td>\n",
              "      <td>0.670588</td>\n",
              "    </tr>\n",
              "    <tr>\n",
              "      <th>2</th>\n",
              "      <td>100</td>\n",
              "      <td>0.597134</td>\n",
              "      <td>0.615385</td>\n",
              "      <td>0.964912</td>\n",
              "      <td>0.416667</td>\n",
              "      <td>0.422535</td>\n",
              "      <td>0.670588</td>\n",
              "    </tr>\n",
              "    <tr>\n",
              "      <th>3</th>\n",
              "      <td>300</td>\n",
              "      <td>0.587580</td>\n",
              "      <td>0.615385</td>\n",
              "      <td>0.964912</td>\n",
              "      <td>0.375000</td>\n",
              "      <td>0.422535</td>\n",
              "      <td>0.670588</td>\n",
              "    </tr>\n",
              "    <tr>\n",
              "      <th>4</th>\n",
              "      <td>500</td>\n",
              "      <td>0.570064</td>\n",
              "      <td>0.615385</td>\n",
              "      <td>0.964912</td>\n",
              "      <td>0.298611</td>\n",
              "      <td>0.422535</td>\n",
              "      <td>0.670588</td>\n",
              "    </tr>\n",
              "    <tr>\n",
              "      <th>5</th>\n",
              "      <td>1000</td>\n",
              "      <td>0.597134</td>\n",
              "      <td>0.615385</td>\n",
              "      <td>0.964912</td>\n",
              "      <td>0.298611</td>\n",
              "      <td>0.542254</td>\n",
              "      <td>0.670588</td>\n",
              "    </tr>\n",
              "  </tbody>\n",
              "</table>\n",
              "</div>\n",
              "      <button class=\"colab-df-convert\" onclick=\"convertToInteractive('df-931237b2-d3c5-461b-9cf5-dcc0b7dee040')\"\n",
              "              title=\"Convert this dataframe to an interactive table.\"\n",
              "              style=\"display:none;\">\n",
              "        \n",
              "  <svg xmlns=\"http://www.w3.org/2000/svg\" height=\"24px\"viewBox=\"0 0 24 24\"\n",
              "       width=\"24px\">\n",
              "    <path d=\"M0 0h24v24H0V0z\" fill=\"none\"/>\n",
              "    <path d=\"M18.56 5.44l.94 2.06.94-2.06 2.06-.94-2.06-.94-.94-2.06-.94 2.06-2.06.94zm-11 1L8.5 8.5l.94-2.06 2.06-.94-2.06-.94L8.5 2.5l-.94 2.06-2.06.94zm10 10l.94 2.06.94-2.06 2.06-.94-2.06-.94-.94-2.06-.94 2.06-2.06.94z\"/><path d=\"M17.41 7.96l-1.37-1.37c-.4-.4-.92-.59-1.43-.59-.52 0-1.04.2-1.43.59L10.3 9.45l-7.72 7.72c-.78.78-.78 2.05 0 2.83L4 21.41c.39.39.9.59 1.41.59.51 0 1.02-.2 1.41-.59l7.78-7.78 2.81-2.81c.8-.78.8-2.07 0-2.86zM5.41 20L4 18.59l7.72-7.72 1.47 1.35L5.41 20z\"/>\n",
              "  </svg>\n",
              "      </button>\n",
              "      \n",
              "  <style>\n",
              "    .colab-df-container {\n",
              "      display:flex;\n",
              "      flex-wrap:wrap;\n",
              "      gap: 12px;\n",
              "    }\n",
              "\n",
              "    .colab-df-convert {\n",
              "      background-color: #E8F0FE;\n",
              "      border: none;\n",
              "      border-radius: 50%;\n",
              "      cursor: pointer;\n",
              "      display: none;\n",
              "      fill: #1967D2;\n",
              "      height: 32px;\n",
              "      padding: 0 0 0 0;\n",
              "      width: 32px;\n",
              "    }\n",
              "\n",
              "    .colab-df-convert:hover {\n",
              "      background-color: #E2EBFA;\n",
              "      box-shadow: 0px 1px 2px rgba(60, 64, 67, 0.3), 0px 1px 3px 1px rgba(60, 64, 67, 0.15);\n",
              "      fill: #174EA6;\n",
              "    }\n",
              "\n",
              "    [theme=dark] .colab-df-convert {\n",
              "      background-color: #3B4455;\n",
              "      fill: #D2E3FC;\n",
              "    }\n",
              "\n",
              "    [theme=dark] .colab-df-convert:hover {\n",
              "      background-color: #434B5C;\n",
              "      box-shadow: 0px 1px 3px 1px rgba(0, 0, 0, 0.15);\n",
              "      filter: drop-shadow(0px 1px 2px rgba(0, 0, 0, 0.3));\n",
              "      fill: #FFFFFF;\n",
              "    }\n",
              "  </style>\n",
              "\n",
              "      <script>\n",
              "        const buttonEl =\n",
              "          document.querySelector('#df-931237b2-d3c5-461b-9cf5-dcc0b7dee040 button.colab-df-convert');\n",
              "        buttonEl.style.display =\n",
              "          google.colab.kernel.accessAllowed ? 'block' : 'none';\n",
              "\n",
              "        async function convertToInteractive(key) {\n",
              "          const element = document.querySelector('#df-931237b2-d3c5-461b-9cf5-dcc0b7dee040');\n",
              "          const dataTable =\n",
              "            await google.colab.kernel.invokeFunction('convertToInteractive',\n",
              "                                                     [key], {});\n",
              "          if (!dataTable) return;\n",
              "\n",
              "          const docLinkHtml = 'Like what you see? Visit the ' +\n",
              "            '<a target=\"_blank\" href=https://colab.research.google.com/notebooks/data_table.ipynb>data table notebook</a>'\n",
              "            + ' to learn more about interactive tables.';\n",
              "          element.innerHTML = '';\n",
              "          dataTable['output_type'] = 'display_data';\n",
              "          await google.colab.output.renderOutput(dataTable, element);\n",
              "          const docLink = document.createElement('div');\n",
              "          docLink.innerHTML = docLinkHtml;\n",
              "          element.appendChild(docLink);\n",
              "        }\n",
              "      </script>\n",
              "    </div>\n",
              "  </div>\n",
              "  "
            ]
          },
          "metadata": {},
          "execution_count": 18
        }
      ]
    },
    {
      "cell_type": "markdown",
      "source": [
        "### 評価２. 文章の型の種類数と精度\n",
        "\n"
      ],
      "metadata": {
        "id": "eCycn8Sm-oNb"
      }
    },
    {
      "cell_type": "code",
      "source": [
        "eval_all2 = []\n",
        "for template_num in (3, 5, 7, 10):\n",
        "    exp_templates = train_templates[:template_num]\n",
        "    # 訓練データ生成\n",
        "    train_num = 300\n",
        "    train_samples_exp = generate_train_samples(exp_templates, train_entity_values, num_samples=train_num, seed=1)\n",
        "    output_train_samples('train_data_ja_exp.yml', train_samples_exp)\n",
        "    # 訓練\n",
        "    train_nlu(\n",
        "        config='config_ja.yml',\n",
        "        nlu_data='train_data_ja_exp.yml',\n",
        "        output='sample_model_ja_exp')\n",
        "    # 評価\n",
        "    agent = Agent()\n",
        "    model_path = get_local_model('sample_model_ja_exp')\n",
        "    agent.load_model(model_path)\n",
        "    acc_total, acc_each = await eval(agent, val_samples_200)\n",
        "    # 格納\n",
        "    eval_res = acc_each.copy()\n",
        "    eval_res['template_num'] = template_num\n",
        "    eval_res['total'] = acc_total\n",
        "    eval_all2.append(eval_res)\n",
        "\n",
        "df_eval2 = pd.DataFrame(eval_all2)\n",
        "df_eval2[['template_num', 'total', 'date', 'companion', 'food_genre', 'dish_name', 'place']]"
      ],
      "metadata": {
        "colab": {
          "base_uri": "https://localhost:8080/",
          "height": 314
        },
        "id": "isGNEGB2Vw-v",
        "outputId": "6b86f7d9-28ba-47df-8552-e5a3c277e48e"
      },
      "execution_count": 19,
      "outputs": [
        {
          "output_type": "stream",
          "name": "stdout",
          "text": [
            "Saved ... train_data_ja_exp.yml\n",
            "\u001b[92mYour Rasa model is trained and saved at 'sample_model_ja_exp/nlu-20220915-141804-sophisticated-fleet.tar.gz'.\u001b[0m\n",
            "Saved ... train_data_ja_exp.yml\n",
            "\u001b[92mYour Rasa model is trained and saved at 'sample_model_ja_exp/nlu-20220915-141820-oriented-surfer.tar.gz'.\u001b[0m\n",
            "Saved ... train_data_ja_exp.yml\n",
            "\u001b[92mYour Rasa model is trained and saved at 'sample_model_ja_exp/nlu-20220915-141834-inclusive-buffer.tar.gz'.\u001b[0m\n",
            "Saved ... train_data_ja_exp.yml\n",
            "\u001b[92mYour Rasa model is trained and saved at 'sample_model_ja_exp/nlu-20220915-141849-merciless-remote.tar.gz'.\u001b[0m\n"
          ]
        },
        {
          "output_type": "execute_result",
          "data": {
            "text/plain": [
              "   template_num     total      date  companion  food_genre  dish_name  \\\n",
              "0             3  0.343949  0.608392   0.500000    0.298611   0.000000   \n",
              "1             5  0.482484  0.601399   0.964912    0.298611   0.246479   \n",
              "2             7  0.554140  0.615385   0.964912    0.298611   0.352113   \n",
              "3            10  0.587580  0.615385   0.964912    0.375000   0.422535   \n",
              "\n",
              "      place  \n",
              "0  0.341176  \n",
              "1  0.341176  \n",
              "2  0.670588  \n",
              "3  0.670588  "
            ],
            "text/html": [
              "\n",
              "  <div id=\"df-4e95461a-5251-471f-a8f1-97254057d98d\">\n",
              "    <div class=\"colab-df-container\">\n",
              "      <div>\n",
              "<style scoped>\n",
              "    .dataframe tbody tr th:only-of-type {\n",
              "        vertical-align: middle;\n",
              "    }\n",
              "\n",
              "    .dataframe tbody tr th {\n",
              "        vertical-align: top;\n",
              "    }\n",
              "\n",
              "    .dataframe thead th {\n",
              "        text-align: right;\n",
              "    }\n",
              "</style>\n",
              "<table border=\"1\" class=\"dataframe\">\n",
              "  <thead>\n",
              "    <tr style=\"text-align: right;\">\n",
              "      <th></th>\n",
              "      <th>template_num</th>\n",
              "      <th>total</th>\n",
              "      <th>date</th>\n",
              "      <th>companion</th>\n",
              "      <th>food_genre</th>\n",
              "      <th>dish_name</th>\n",
              "      <th>place</th>\n",
              "    </tr>\n",
              "  </thead>\n",
              "  <tbody>\n",
              "    <tr>\n",
              "      <th>0</th>\n",
              "      <td>3</td>\n",
              "      <td>0.343949</td>\n",
              "      <td>0.608392</td>\n",
              "      <td>0.500000</td>\n",
              "      <td>0.298611</td>\n",
              "      <td>0.000000</td>\n",
              "      <td>0.341176</td>\n",
              "    </tr>\n",
              "    <tr>\n",
              "      <th>1</th>\n",
              "      <td>5</td>\n",
              "      <td>0.482484</td>\n",
              "      <td>0.601399</td>\n",
              "      <td>0.964912</td>\n",
              "      <td>0.298611</td>\n",
              "      <td>0.246479</td>\n",
              "      <td>0.341176</td>\n",
              "    </tr>\n",
              "    <tr>\n",
              "      <th>2</th>\n",
              "      <td>7</td>\n",
              "      <td>0.554140</td>\n",
              "      <td>0.615385</td>\n",
              "      <td>0.964912</td>\n",
              "      <td>0.298611</td>\n",
              "      <td>0.352113</td>\n",
              "      <td>0.670588</td>\n",
              "    </tr>\n",
              "    <tr>\n",
              "      <th>3</th>\n",
              "      <td>10</td>\n",
              "      <td>0.587580</td>\n",
              "      <td>0.615385</td>\n",
              "      <td>0.964912</td>\n",
              "      <td>0.375000</td>\n",
              "      <td>0.422535</td>\n",
              "      <td>0.670588</td>\n",
              "    </tr>\n",
              "  </tbody>\n",
              "</table>\n",
              "</div>\n",
              "      <button class=\"colab-df-convert\" onclick=\"convertToInteractive('df-4e95461a-5251-471f-a8f1-97254057d98d')\"\n",
              "              title=\"Convert this dataframe to an interactive table.\"\n",
              "              style=\"display:none;\">\n",
              "        \n",
              "  <svg xmlns=\"http://www.w3.org/2000/svg\" height=\"24px\"viewBox=\"0 0 24 24\"\n",
              "       width=\"24px\">\n",
              "    <path d=\"M0 0h24v24H0V0z\" fill=\"none\"/>\n",
              "    <path d=\"M18.56 5.44l.94 2.06.94-2.06 2.06-.94-2.06-.94-.94-2.06-.94 2.06-2.06.94zm-11 1L8.5 8.5l.94-2.06 2.06-.94-2.06-.94L8.5 2.5l-.94 2.06-2.06.94zm10 10l.94 2.06.94-2.06 2.06-.94-2.06-.94-.94-2.06-.94 2.06-2.06.94z\"/><path d=\"M17.41 7.96l-1.37-1.37c-.4-.4-.92-.59-1.43-.59-.52 0-1.04.2-1.43.59L10.3 9.45l-7.72 7.72c-.78.78-.78 2.05 0 2.83L4 21.41c.39.39.9.59 1.41.59.51 0 1.02-.2 1.41-.59l7.78-7.78 2.81-2.81c.8-.78.8-2.07 0-2.86zM5.41 20L4 18.59l7.72-7.72 1.47 1.35L5.41 20z\"/>\n",
              "  </svg>\n",
              "      </button>\n",
              "      \n",
              "  <style>\n",
              "    .colab-df-container {\n",
              "      display:flex;\n",
              "      flex-wrap:wrap;\n",
              "      gap: 12px;\n",
              "    }\n",
              "\n",
              "    .colab-df-convert {\n",
              "      background-color: #E8F0FE;\n",
              "      border: none;\n",
              "      border-radius: 50%;\n",
              "      cursor: pointer;\n",
              "      display: none;\n",
              "      fill: #1967D2;\n",
              "      height: 32px;\n",
              "      padding: 0 0 0 0;\n",
              "      width: 32px;\n",
              "    }\n",
              "\n",
              "    .colab-df-convert:hover {\n",
              "      background-color: #E2EBFA;\n",
              "      box-shadow: 0px 1px 2px rgba(60, 64, 67, 0.3), 0px 1px 3px 1px rgba(60, 64, 67, 0.15);\n",
              "      fill: #174EA6;\n",
              "    }\n",
              "\n",
              "    [theme=dark] .colab-df-convert {\n",
              "      background-color: #3B4455;\n",
              "      fill: #D2E3FC;\n",
              "    }\n",
              "\n",
              "    [theme=dark] .colab-df-convert:hover {\n",
              "      background-color: #434B5C;\n",
              "      box-shadow: 0px 1px 3px 1px rgba(0, 0, 0, 0.15);\n",
              "      filter: drop-shadow(0px 1px 2px rgba(0, 0, 0, 0.3));\n",
              "      fill: #FFFFFF;\n",
              "    }\n",
              "  </style>\n",
              "\n",
              "      <script>\n",
              "        const buttonEl =\n",
              "          document.querySelector('#df-4e95461a-5251-471f-a8f1-97254057d98d button.colab-df-convert');\n",
              "        buttonEl.style.display =\n",
              "          google.colab.kernel.accessAllowed ? 'block' : 'none';\n",
              "\n",
              "        async function convertToInteractive(key) {\n",
              "          const element = document.querySelector('#df-4e95461a-5251-471f-a8f1-97254057d98d');\n",
              "          const dataTable =\n",
              "            await google.colab.kernel.invokeFunction('convertToInteractive',\n",
              "                                                     [key], {});\n",
              "          if (!dataTable) return;\n",
              "\n",
              "          const docLinkHtml = 'Like what you see? Visit the ' +\n",
              "            '<a target=\"_blank\" href=https://colab.research.google.com/notebooks/data_table.ipynb>data table notebook</a>'\n",
              "            + ' to learn more about interactive tables.';\n",
              "          element.innerHTML = '';\n",
              "          dataTable['output_type'] = 'display_data';\n",
              "          await google.colab.output.renderOutput(dataTable, element);\n",
              "          const docLink = document.createElement('div');\n",
              "          docLink.innerHTML = docLinkHtml;\n",
              "          element.appendChild(docLink);\n",
              "        }\n",
              "      </script>\n",
              "    </div>\n",
              "  </div>\n",
              "  "
            ]
          },
          "metadata": {},
          "execution_count": 19
        }
      ]
    },
    {
      "cell_type": "markdown",
      "source": [
        "### 評価３. エンティティの種類数と精度"
      ],
      "metadata": {
        "id": "BCkSZDXL-wRh"
      }
    },
    {
      "cell_type": "code",
      "source": [
        "eval_all3 = []\n",
        "for entity_num in (3, 5, 7, 9, -1):\n",
        "    # エンティティの種類を制限\n",
        "    if entity_num < 0:\n",
        "        exp_entity_values = train_entity_values.copy()\n",
        "    else:\n",
        "        exp_entity_values = {name: values[:entity_num] for name, values in train_entity_values.items()}\n",
        "    # 訓練データ生成\n",
        "    train_num = 300\n",
        "    train_samples_exp = generate_train_samples(train_templates, exp_entity_values, num_samples=train_num, seed=1)\n",
        "    output_train_samples('train_data_ja_exp.yml', train_samples_exp)\n",
        "    # 訓練\n",
        "    train_nlu(\n",
        "        config='config_ja.yml',\n",
        "        nlu_data='train_data_ja_exp.yml',\n",
        "        output='sample_model_ja_exp')\n",
        "    # 評価\n",
        "    agent = Agent()\n",
        "    model_path = get_local_model('sample_model_ja_exp')\n",
        "    agent.load_model(model_path)\n",
        "    acc_total, acc_each = await eval(agent, val_samples_200)\n",
        "    # 格納\n",
        "    eval_res = acc_each.copy()\n",
        "    eval_res['entity_num'] = entity_num if entity_num > 0 else 'all'\n",
        "    eval_res['total'] = acc_total\n",
        "    eval_all3.append(eval_res)\n",
        "\n",
        "df_eval3 = pd.DataFrame(eval_all3)\n",
        "df_eval3[['entity_num', 'total', 'date', 'companion', 'food_genre', 'dish_name', 'place']]"
      ],
      "metadata": {
        "colab": {
          "base_uri": "https://localhost:8080/",
          "height": 380
        },
        "id": "9HbGeKIdW7eZ",
        "outputId": "78983f6d-a5fb-447c-c54c-61ef9d166c2f"
      },
      "execution_count": 20,
      "outputs": [
        {
          "output_type": "stream",
          "name": "stdout",
          "text": [
            "Saved ... train_data_ja_exp.yml\n",
            "\u001b[92mYour Rasa model is trained and saved at 'sample_model_ja_exp/nlu-20220915-141904-warped-resultant.tar.gz'.\u001b[0m\n",
            "Saved ... train_data_ja_exp.yml\n",
            "\u001b[92mYour Rasa model is trained and saved at 'sample_model_ja_exp/nlu-20220915-141919-scalding-vertex.tar.gz'.\u001b[0m\n",
            "Saved ... train_data_ja_exp.yml\n",
            "\u001b[92mYour Rasa model is trained and saved at 'sample_model_ja_exp/nlu-20220915-141934-celeste-ball.tar.gz'.\u001b[0m\n",
            "Saved ... train_data_ja_exp.yml\n",
            "\u001b[92mYour Rasa model is trained and saved at 'sample_model_ja_exp/nlu-20220915-141949-tan-rehab.tar.gz'.\u001b[0m\n",
            "Saved ... train_data_ja_exp.yml\n",
            "\u001b[92mYour Rasa model is trained and saved at 'sample_model_ja_exp/nlu-20220915-142005-cross-filler.tar.gz'.\u001b[0m\n"
          ]
        },
        {
          "output_type": "execute_result",
          "data": {
            "text/plain": [
              "  entity_num     total      date  companion  food_genre  dish_name     place\n",
              "0          3  0.000000  0.000000   0.000000    0.000000   0.000000  0.000000\n",
              "1          5  0.232484  0.153846   0.464912    0.298611   0.000000  0.329412\n",
              "2          7  0.490446  0.615385   0.912281    0.298611   0.112676  0.670588\n",
              "3          9  0.507962  0.615385   0.964912    0.298611   0.147887  0.670588\n",
              "4        all  0.587580  0.615385   0.964912    0.375000   0.422535  0.670588"
            ],
            "text/html": [
              "\n",
              "  <div id=\"df-0f7696d4-bbcc-4c23-938f-be86d3ad2bd2\">\n",
              "    <div class=\"colab-df-container\">\n",
              "      <div>\n",
              "<style scoped>\n",
              "    .dataframe tbody tr th:only-of-type {\n",
              "        vertical-align: middle;\n",
              "    }\n",
              "\n",
              "    .dataframe tbody tr th {\n",
              "        vertical-align: top;\n",
              "    }\n",
              "\n",
              "    .dataframe thead th {\n",
              "        text-align: right;\n",
              "    }\n",
              "</style>\n",
              "<table border=\"1\" class=\"dataframe\">\n",
              "  <thead>\n",
              "    <tr style=\"text-align: right;\">\n",
              "      <th></th>\n",
              "      <th>entity_num</th>\n",
              "      <th>total</th>\n",
              "      <th>date</th>\n",
              "      <th>companion</th>\n",
              "      <th>food_genre</th>\n",
              "      <th>dish_name</th>\n",
              "      <th>place</th>\n",
              "    </tr>\n",
              "  </thead>\n",
              "  <tbody>\n",
              "    <tr>\n",
              "      <th>0</th>\n",
              "      <td>3</td>\n",
              "      <td>0.000000</td>\n",
              "      <td>0.000000</td>\n",
              "      <td>0.000000</td>\n",
              "      <td>0.000000</td>\n",
              "      <td>0.000000</td>\n",
              "      <td>0.000000</td>\n",
              "    </tr>\n",
              "    <tr>\n",
              "      <th>1</th>\n",
              "      <td>5</td>\n",
              "      <td>0.232484</td>\n",
              "      <td>0.153846</td>\n",
              "      <td>0.464912</td>\n",
              "      <td>0.298611</td>\n",
              "      <td>0.000000</td>\n",
              "      <td>0.329412</td>\n",
              "    </tr>\n",
              "    <tr>\n",
              "      <th>2</th>\n",
              "      <td>7</td>\n",
              "      <td>0.490446</td>\n",
              "      <td>0.615385</td>\n",
              "      <td>0.912281</td>\n",
              "      <td>0.298611</td>\n",
              "      <td>0.112676</td>\n",
              "      <td>0.670588</td>\n",
              "    </tr>\n",
              "    <tr>\n",
              "      <th>3</th>\n",
              "      <td>9</td>\n",
              "      <td>0.507962</td>\n",
              "      <td>0.615385</td>\n",
              "      <td>0.964912</td>\n",
              "      <td>0.298611</td>\n",
              "      <td>0.147887</td>\n",
              "      <td>0.670588</td>\n",
              "    </tr>\n",
              "    <tr>\n",
              "      <th>4</th>\n",
              "      <td>all</td>\n",
              "      <td>0.587580</td>\n",
              "      <td>0.615385</td>\n",
              "      <td>0.964912</td>\n",
              "      <td>0.375000</td>\n",
              "      <td>0.422535</td>\n",
              "      <td>0.670588</td>\n",
              "    </tr>\n",
              "  </tbody>\n",
              "</table>\n",
              "</div>\n",
              "      <button class=\"colab-df-convert\" onclick=\"convertToInteractive('df-0f7696d4-bbcc-4c23-938f-be86d3ad2bd2')\"\n",
              "              title=\"Convert this dataframe to an interactive table.\"\n",
              "              style=\"display:none;\">\n",
              "        \n",
              "  <svg xmlns=\"http://www.w3.org/2000/svg\" height=\"24px\"viewBox=\"0 0 24 24\"\n",
              "       width=\"24px\">\n",
              "    <path d=\"M0 0h24v24H0V0z\" fill=\"none\"/>\n",
              "    <path d=\"M18.56 5.44l.94 2.06.94-2.06 2.06-.94-2.06-.94-.94-2.06-.94 2.06-2.06.94zm-11 1L8.5 8.5l.94-2.06 2.06-.94-2.06-.94L8.5 2.5l-.94 2.06-2.06.94zm10 10l.94 2.06.94-2.06 2.06-.94-2.06-.94-.94-2.06-.94 2.06-2.06.94z\"/><path d=\"M17.41 7.96l-1.37-1.37c-.4-.4-.92-.59-1.43-.59-.52 0-1.04.2-1.43.59L10.3 9.45l-7.72 7.72c-.78.78-.78 2.05 0 2.83L4 21.41c.39.39.9.59 1.41.59.51 0 1.02-.2 1.41-.59l7.78-7.78 2.81-2.81c.8-.78.8-2.07 0-2.86zM5.41 20L4 18.59l7.72-7.72 1.47 1.35L5.41 20z\"/>\n",
              "  </svg>\n",
              "      </button>\n",
              "      \n",
              "  <style>\n",
              "    .colab-df-container {\n",
              "      display:flex;\n",
              "      flex-wrap:wrap;\n",
              "      gap: 12px;\n",
              "    }\n",
              "\n",
              "    .colab-df-convert {\n",
              "      background-color: #E8F0FE;\n",
              "      border: none;\n",
              "      border-radius: 50%;\n",
              "      cursor: pointer;\n",
              "      display: none;\n",
              "      fill: #1967D2;\n",
              "      height: 32px;\n",
              "      padding: 0 0 0 0;\n",
              "      width: 32px;\n",
              "    }\n",
              "\n",
              "    .colab-df-convert:hover {\n",
              "      background-color: #E2EBFA;\n",
              "      box-shadow: 0px 1px 2px rgba(60, 64, 67, 0.3), 0px 1px 3px 1px rgba(60, 64, 67, 0.15);\n",
              "      fill: #174EA6;\n",
              "    }\n",
              "\n",
              "    [theme=dark] .colab-df-convert {\n",
              "      background-color: #3B4455;\n",
              "      fill: #D2E3FC;\n",
              "    }\n",
              "\n",
              "    [theme=dark] .colab-df-convert:hover {\n",
              "      background-color: #434B5C;\n",
              "      box-shadow: 0px 1px 3px 1px rgba(0, 0, 0, 0.15);\n",
              "      filter: drop-shadow(0px 1px 2px rgba(0, 0, 0, 0.3));\n",
              "      fill: #FFFFFF;\n",
              "    }\n",
              "  </style>\n",
              "\n",
              "      <script>\n",
              "        const buttonEl =\n",
              "          document.querySelector('#df-0f7696d4-bbcc-4c23-938f-be86d3ad2bd2 button.colab-df-convert');\n",
              "        buttonEl.style.display =\n",
              "          google.colab.kernel.accessAllowed ? 'block' : 'none';\n",
              "\n",
              "        async function convertToInteractive(key) {\n",
              "          const element = document.querySelector('#df-0f7696d4-bbcc-4c23-938f-be86d3ad2bd2');\n",
              "          const dataTable =\n",
              "            await google.colab.kernel.invokeFunction('convertToInteractive',\n",
              "                                                     [key], {});\n",
              "          if (!dataTable) return;\n",
              "\n",
              "          const docLinkHtml = 'Like what you see? Visit the ' +\n",
              "            '<a target=\"_blank\" href=https://colab.research.google.com/notebooks/data_table.ipynb>data table notebook</a>'\n",
              "            + ' to learn more about interactive tables.';\n",
              "          element.innerHTML = '';\n",
              "          dataTable['output_type'] = 'display_data';\n",
              "          await google.colab.output.renderOutput(dataTable, element);\n",
              "          const docLink = document.createElement('div');\n",
              "          docLink.innerHTML = docLinkHtml;\n",
              "          element.appendChild(docLink);\n",
              "        }\n",
              "      </script>\n",
              "    </div>\n",
              "  </div>\n",
              "  "
            ]
          },
          "metadata": {},
          "execution_count": 20
        }
      ]
    },
    {
      "cell_type": "markdown",
      "source": [
        "### 参考）訓練サンプルに含めたらちゃんと推定できる？"
      ],
      "metadata": {
        "id": "Zm2M3ygAdJS1"
      }
    },
    {
      "cell_type": "code",
      "source": [
        "# 訓練データ生成\n",
        "train_samples_exp = generate_train_samples(\n",
        "    train_templates + val_templates,\n",
        "    {entity: train_entity_values[entity] + val_entity_values[entity] for entity in train_entity_values.keys()},\n",
        "    num_samples=500, seed=1)\n",
        "output_train_samples('train_data_ja_exp.yml', train_samples_exp)\n",
        "# 訓練\n",
        "train_nlu(\n",
        "    config='config_ja.yml',\n",
        "    nlu_data='train_data_ja_exp.yml',\n",
        "    output='sample_model_ja_exp')\n",
        "# 評価\n",
        "agent = Agent()\n",
        "model_path = get_local_model('sample_model_ja_exp')\n",
        "agent.load_model(model_path)\n",
        "acc_total, acc_each = await eval(agent, val_samples_200)\n",
        "print(acc_total)\n",
        "print(acc_each)"
      ],
      "metadata": {
        "colab": {
          "base_uri": "https://localhost:8080/"
        },
        "id": "eZpDMdmMdPMZ",
        "outputId": "f1efcc6a-0387-451d-c29d-c44c091768d9"
      },
      "execution_count": 21,
      "outputs": [
        {
          "output_type": "stream",
          "name": "stdout",
          "text": [
            "Saved ... train_data_ja_exp.yml\n",
            "\u001b[92mYour Rasa model is trained and saved at 'sample_model_ja_exp/nlu-20220915-142022-quiet-click.tar.gz'.\u001b[0m\n",
            "0.9888535031847133\n",
            "{'date': 0.972027972027972, 'companion': 0.9736842105263158, 'food_genre': 1.0, 'dish_name': 1.0, 'place': 1.0}\n"
          ]
        }
      ]
    },
    {
      "cell_type": "code",
      "source": [
        "# 訓練サンプルにない例\n",
        "message = \"昨日ね、モンブランが有名な表参道のケーキ屋にお姉ちゃんと行ったんだけど、本当においしくてびっくりした。\"\n",
        "await extract_entities(agent, message)"
      ],
      "metadata": {
        "colab": {
          "base_uri": "https://localhost:8080/"
        },
        "id": "S4oOUwngdtLU",
        "outputId": "302e6d1d-bc3e-4d54-96a9-1397aa3a41ab"
      },
      "execution_count": 22,
      "outputs": [
        {
          "output_type": "execute_result",
          "data": {
            "text/plain": [
              "{'date': ('昨日', 0.9518796825800208),\n",
              " 'dish_name': ('モンブラン', 0.4914582120213147),\n",
              " 'place': ('表参道', 0.4691676646007581),\n",
              " 'food_genre': ('ケーキ屋', 0.9592409658184005),\n",
              " 'companion': ('お姉ちゃん', 0.9347256843599344)}"
            ]
          },
          "metadata": {},
          "execution_count": 22
        }
      ]
    },
    {
      "cell_type": "code",
      "source": [
        "# 訓練サンプルにない例\n",
        "message = \"お得意さんに連れられて両国の居酒屋で、串カツをいただいた。\"\n",
        "await extract_entities(agent, message)"
      ],
      "metadata": {
        "colab": {
          "base_uri": "https://localhost:8080/"
        },
        "id": "EM0EJLalfoo6",
        "outputId": "ccd6c8ec-fa8f-49ab-de3f-6c0f770a7bfc"
      },
      "execution_count": 25,
      "outputs": [
        {
          "output_type": "execute_result",
          "data": {
            "text/plain": [
              "{'date': ('お得意', 0.46694943534305905),\n",
              " 'companion': ('さん', 0.41406724921855526),\n",
              " 'place': ('両国', 0.416296922625642),\n",
              " 'food_genre': ('居酒屋', 0.9965381398730863),\n",
              " 'dish_name': ('串カツ', 0.5878260743967351)}"
            ]
          },
          "metadata": {},
          "execution_count": 25
        }
      ]
    },
    {
      "cell_type": "code",
      "source": [],
      "metadata": {
        "id": "4dFeBSFIhyzT"
      },
      "execution_count": null,
      "outputs": []
    }
  ]
}