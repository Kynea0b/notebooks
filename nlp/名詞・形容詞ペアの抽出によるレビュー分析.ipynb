{
  "nbformat": 4,
  "nbformat_minor": 0,
  "metadata": {
    "colab": {
      "provenance": [],
      "toc_visible": true
    },
    "kernelspec": {
      "name": "python3",
      "display_name": "Python 3"
    },
    "language_info": {
      "name": "python"
    }
  },
  "cells": [
    {
      "cell_type": "markdown",
      "source": [
        "# 名詞・形容詞ペアの抽出によるレビュー分析"
      ],
      "metadata": {
        "id": "nVWzoQnnySxt"
      }
    },
    {
      "cell_type": "markdown",
      "source": [
        "## 1. 環境構築\n",
        "GiNZAのインストール"
      ],
      "metadata": {
        "id": "XcOhimbWEfvY"
      }
    },
    {
      "cell_type": "code",
      "execution_count": 1,
      "metadata": {
        "colab": {
          "base_uri": "https://localhost:8080/"
        },
        "id": "40fEHhWR2SV1",
        "outputId": "861d0534-2767-4bdf-f9e8-ec5200f0757c"
      },
      "outputs": [
        {
          "output_type": "stream",
          "name": "stdout",
          "text": [
            "Looking in indexes: https://pypi.org/simple, https://us-python.pkg.dev/colab-wheels/public/simple/\n",
            "Collecting ginza\n",
            "  Downloading ginza-5.1.2-py3-none-any.whl (20 kB)\n",
            "Collecting ja_ginza\n",
            "  Downloading ja_ginza-5.1.2-py3-none-any.whl (59.1 MB)\n",
            "\u001b[K     |████████████████████████████████| 59.1 MB 1.1 MB/s \n",
            "\u001b[?25hCollecting SudachiPy<0.7.0,>=0.6.2\n",
            "  Downloading SudachiPy-0.6.6-cp38-cp38-manylinux_2_5_x86_64.manylinux1_x86_64.manylinux_2_12_x86_64.manylinux2010_x86_64.whl (2.2 MB)\n",
            "\u001b[K     |████████████████████████████████| 2.2 MB 60.5 MB/s \n",
            "\u001b[?25hRequirement already satisfied: spacy<3.5.0,>=3.2.0 in /usr/local/lib/python3.8/dist-packages (from ginza) (3.4.4)\n",
            "Collecting plac>=1.3.3\n",
            "  Downloading plac-1.3.5-py2.py3-none-any.whl (22 kB)\n",
            "Collecting SudachiDict-core>=20210802\n",
            "  Downloading SudachiDict-core-20221021.tar.gz (9.0 kB)\n",
            "Requirement already satisfied: pydantic!=1.8,!=1.8.1,<1.11.0,>=1.7.4 in /usr/local/lib/python3.8/dist-packages (from spacy<3.5.0,>=3.2.0->ginza) (1.10.2)\n",
            "Requirement already satisfied: srsly<3.0.0,>=2.4.3 in /usr/local/lib/python3.8/dist-packages (from spacy<3.5.0,>=3.2.0->ginza) (2.4.5)\n",
            "Requirement already satisfied: spacy-legacy<3.1.0,>=3.0.10 in /usr/local/lib/python3.8/dist-packages (from spacy<3.5.0,>=3.2.0->ginza) (3.0.10)\n",
            "Requirement already satisfied: smart-open<7.0.0,>=5.2.1 in /usr/local/lib/python3.8/dist-packages (from spacy<3.5.0,>=3.2.0->ginza) (6.3.0)\n",
            "Requirement already satisfied: tqdm<5.0.0,>=4.38.0 in /usr/local/lib/python3.8/dist-packages (from spacy<3.5.0,>=3.2.0->ginza) (4.64.1)\n",
            "Requirement already satisfied: packaging>=20.0 in /usr/local/lib/python3.8/dist-packages (from spacy<3.5.0,>=3.2.0->ginza) (21.3)\n",
            "Requirement already satisfied: setuptools in /usr/local/lib/python3.8/dist-packages (from spacy<3.5.0,>=3.2.0->ginza) (57.4.0)\n",
            "Requirement already satisfied: typer<0.8.0,>=0.3.0 in /usr/local/lib/python3.8/dist-packages (from spacy<3.5.0,>=3.2.0->ginza) (0.7.0)\n",
            "Requirement already satisfied: requests<3.0.0,>=2.13.0 in /usr/local/lib/python3.8/dist-packages (from spacy<3.5.0,>=3.2.0->ginza) (2.23.0)\n",
            "Requirement already satisfied: cymem<2.1.0,>=2.0.2 in /usr/local/lib/python3.8/dist-packages (from spacy<3.5.0,>=3.2.0->ginza) (2.0.7)\n",
            "Requirement already satisfied: thinc<8.2.0,>=8.1.0 in /usr/local/lib/python3.8/dist-packages (from spacy<3.5.0,>=3.2.0->ginza) (8.1.5)\n",
            "Requirement already satisfied: pathy>=0.3.5 in /usr/local/lib/python3.8/dist-packages (from spacy<3.5.0,>=3.2.0->ginza) (0.10.1)\n",
            "Requirement already satisfied: preshed<3.1.0,>=3.0.2 in /usr/local/lib/python3.8/dist-packages (from spacy<3.5.0,>=3.2.0->ginza) (3.0.8)\n",
            "Requirement already satisfied: wasabi<1.1.0,>=0.9.1 in /usr/local/lib/python3.8/dist-packages (from spacy<3.5.0,>=3.2.0->ginza) (0.10.1)\n",
            "Requirement already satisfied: jinja2 in /usr/local/lib/python3.8/dist-packages (from spacy<3.5.0,>=3.2.0->ginza) (2.11.3)\n",
            "Requirement already satisfied: langcodes<4.0.0,>=3.2.0 in /usr/local/lib/python3.8/dist-packages (from spacy<3.5.0,>=3.2.0->ginza) (3.3.0)\n",
            "Requirement already satisfied: spacy-loggers<2.0.0,>=1.0.0 in /usr/local/lib/python3.8/dist-packages (from spacy<3.5.0,>=3.2.0->ginza) (1.0.4)\n",
            "Requirement already satisfied: murmurhash<1.1.0,>=0.28.0 in /usr/local/lib/python3.8/dist-packages (from spacy<3.5.0,>=3.2.0->ginza) (1.0.9)\n",
            "Requirement already satisfied: catalogue<2.1.0,>=2.0.6 in /usr/local/lib/python3.8/dist-packages (from spacy<3.5.0,>=3.2.0->ginza) (2.0.8)\n",
            "Requirement already satisfied: numpy>=1.15.0 in /usr/local/lib/python3.8/dist-packages (from spacy<3.5.0,>=3.2.0->ginza) (1.21.6)\n",
            "Requirement already satisfied: pyparsing!=3.0.5,>=2.0.2 in /usr/local/lib/python3.8/dist-packages (from packaging>=20.0->spacy<3.5.0,>=3.2.0->ginza) (3.0.9)\n",
            "Requirement already satisfied: typing-extensions>=4.1.0 in /usr/local/lib/python3.8/dist-packages (from pydantic!=1.8,!=1.8.1,<1.11.0,>=1.7.4->spacy<3.5.0,>=3.2.0->ginza) (4.4.0)\n",
            "Requirement already satisfied: urllib3!=1.25.0,!=1.25.1,<1.26,>=1.21.1 in /usr/local/lib/python3.8/dist-packages (from requests<3.0.0,>=2.13.0->spacy<3.5.0,>=3.2.0->ginza) (1.24.3)\n",
            "Requirement already satisfied: idna<3,>=2.5 in /usr/local/lib/python3.8/dist-packages (from requests<3.0.0,>=2.13.0->spacy<3.5.0,>=3.2.0->ginza) (2.10)\n",
            "Requirement already satisfied: certifi>=2017.4.17 in /usr/local/lib/python3.8/dist-packages (from requests<3.0.0,>=2.13.0->spacy<3.5.0,>=3.2.0->ginza) (2022.12.7)\n",
            "Requirement already satisfied: chardet<4,>=3.0.2 in /usr/local/lib/python3.8/dist-packages (from requests<3.0.0,>=2.13.0->spacy<3.5.0,>=3.2.0->ginza) (3.0.4)\n",
            "Requirement already satisfied: confection<1.0.0,>=0.0.1 in /usr/local/lib/python3.8/dist-packages (from thinc<8.2.0,>=8.1.0->spacy<3.5.0,>=3.2.0->ginza) (0.0.3)\n",
            "Requirement already satisfied: blis<0.8.0,>=0.7.8 in /usr/local/lib/python3.8/dist-packages (from thinc<8.2.0,>=8.1.0->spacy<3.5.0,>=3.2.0->ginza) (0.7.9)\n",
            "Requirement already satisfied: click<9.0.0,>=7.1.1 in /usr/local/lib/python3.8/dist-packages (from typer<0.8.0,>=0.3.0->spacy<3.5.0,>=3.2.0->ginza) (7.1.2)\n",
            "Requirement already satisfied: MarkupSafe>=0.23 in /usr/local/lib/python3.8/dist-packages (from jinja2->spacy<3.5.0,>=3.2.0->ginza) (2.0.1)\n",
            "Building wheels for collected packages: SudachiDict-core\n",
            "  Building wheel for SudachiDict-core (setup.py) ... \u001b[?25l\u001b[?25hdone\n",
            "  Created wheel for SudachiDict-core: filename=SudachiDict_core-20221021-py3-none-any.whl size=71574782 sha256=2a49b7df4926953c4f40c83a8645bf9e4c17c22f552fbd3102d40dd5dfe783fd\n",
            "  Stored in directory: /root/.cache/pip/wheels/ca/e3/ed/e78fecf6fd34349114d292242a16fc08d513fb32c2d9c5d786\n",
            "Successfully built SudachiDict-core\n",
            "Installing collected packages: SudachiPy, SudachiDict-core, plac, ginza, ja-ginza\n",
            "Successfully installed SudachiDict-core-20221021 SudachiPy-0.6.6 ginza-5.1.2 ja-ginza-5.1.2 plac-1.3.5\n"
          ]
        }
      ],
      "source": [
        "! pip install -U ginza ja_ginza"
      ]
    },
    {
      "cell_type": "markdown",
      "source": [
        "## 2. GiNZAで形態素解析+係り受け分析"
      ],
      "metadata": {
        "id": "1fKilXENybqn"
      }
    },
    {
      "cell_type": "code",
      "source": [
        "# GiNZAの日本語モデルと読み込む\n",
        "import spacy\n",
        "nlp = spacy.load('ja_ginza')\n",
        "\n",
        "doc = nlp(\"温かい雰囲気が素敵。\")\n",
        "for token in doc:\n",
        "    print(token.text, token.lemma_, token.pos_)  # 表層形, 原形, 品詞"
      ],
      "metadata": {
        "colab": {
          "base_uri": "https://localhost:8080/"
        },
        "id": "Q62xCZYxyhnl",
        "outputId": "5c981f60-5862-40e6-fc4e-1dbcab6e06a7"
      },
      "execution_count": 2,
      "outputs": [
        {
          "output_type": "stream",
          "name": "stderr",
          "text": [
            "/usr/local/lib/python3.8/dist-packages/torch/cuda/__init__.py:497: UserWarning: Can't initialize NVML\n",
            "  warnings.warn(\"Can't initialize NVML\")\n"
          ]
        },
        {
          "output_type": "stream",
          "name": "stdout",
          "text": [
            "温かい 温かい ADJ\n",
            "雰囲気 雰囲気 NOUN\n",
            "が が ADP\n",
            "素敵 素敵 ADJ\n",
            "。 。 PUNCT\n"
          ]
        }
      ]
    },
    {
      "cell_type": "markdown",
      "source": [
        "### 日本語品詞情報を取得するために、spaCy.tokens.Tokenを拡張する"
      ],
      "metadata": {
        "id": "BXtlEMDsyn1W"
      }
    },
    {
      "cell_type": "code",
      "source": [
        "# 品詞情報を取得するためTokenを拡張する\n",
        "from spacy.tokens import Token\n",
        "\n",
        "def get_jp_pos(token, idx):\n",
        "    # UniDicの品詞体系\n",
        "    # https://hayashibe.jp/tr/mecab/dictionary/unidic/pos\n",
        "    pos_list = token.tag_.split('-')\n",
        "    if idx < len(pos_list):\n",
        "        return pos_list[idx]\n",
        "    return None\n",
        "\n",
        "# Token.set_extension\n",
        "# cf. https://spacy.io/api/token\n",
        "Token.set_extension(\"jp_pos_main\", getter=lambda x: get_jp_pos(x, 0))\n",
        "Token.set_extension(\"jp_pos_sub\", getter=lambda x: get_jp_pos(x, 1))\n",
        "\n",
        "doc = nlp(\"温かい雰囲気が素敵。\")\n",
        "for token in doc:\n",
        "    print(token.text, token._.jp_pos_main, token._.jp_pos_sub)"
      ],
      "metadata": {
        "colab": {
          "base_uri": "https://localhost:8080/"
        },
        "id": "qP4xj867ymnA",
        "outputId": "420a4b79-6032-4e4c-b09d-32196da3cfb7"
      },
      "execution_count": 3,
      "outputs": [
        {
          "output_type": "stream",
          "name": "stdout",
          "text": [
            "温かい 形容詞 一般\n",
            "雰囲気 名詞 普通名詞\n",
            "が 助詞 格助詞\n",
            "素敵 形状詞 一般\n",
            "。 補助記号 句点\n"
          ]
        }
      ]
    },
    {
      "cell_type": "markdown",
      "source": [
        "### 係り受け解析の結果例"
      ],
      "metadata": {
        "id": "LPXsFKVUy9BY"
      }
    },
    {
      "cell_type": "code",
      "source": [
        "from spacy import displacy\n",
        "\n",
        "doc = nlp(\"温かい雰囲気が素敵。\")\n",
        "displacy.render(doc, style='dep', jupyter=True, options={'distance': 90})\n",
        "\n",
        "for token in doc:\n",
        "    for child_token in token.children:\n",
        "        print('{} --> {} : {}'.format(token.text, child_token.text, child_token.dep_))"
      ],
      "metadata": {
        "colab": {
          "base_uri": "https://localhost:8080/",
          "height": 317
        },
        "id": "zf23yqKsy_8s",
        "outputId": "77a647cd-1fc5-4eb3-8029-1c10c53223a0"
      },
      "execution_count": 4,
      "outputs": [
        {
          "output_type": "display_data",
          "data": {
            "text/plain": [
              "<IPython.core.display.HTML object>"
            ],
            "text/html": [
              "<span class=\"tex2jax_ignore\"><svg xmlns=\"http://www.w3.org/2000/svg\" xmlns:xlink=\"http://www.w3.org/1999/xlink\" xml:lang=\"ja\" id=\"d807b74a24d64fcb8f64427b89fb2363-0\" class=\"displacy\" width=\"410\" height=\"227.0\" direction=\"ltr\" style=\"max-width: none; height: 227.0px; color: #000000; background: #ffffff; font-family: Arial; direction: ltr\">\n",
              "<text class=\"displacy-token\" fill=\"currentColor\" text-anchor=\"middle\" y=\"137.0\">\n",
              "    <tspan class=\"displacy-word\" fill=\"currentColor\" x=\"50\">温かい</tspan>\n",
              "    <tspan class=\"displacy-tag\" dy=\"2em\" fill=\"currentColor\" x=\"50\">ADJ</tspan>\n",
              "</text>\n",
              "\n",
              "<text class=\"displacy-token\" fill=\"currentColor\" text-anchor=\"middle\" y=\"137.0\">\n",
              "    <tspan class=\"displacy-word\" fill=\"currentColor\" x=\"140\">雰囲気</tspan>\n",
              "    <tspan class=\"displacy-tag\" dy=\"2em\" fill=\"currentColor\" x=\"140\">NOUN</tspan>\n",
              "</text>\n",
              "\n",
              "<text class=\"displacy-token\" fill=\"currentColor\" text-anchor=\"middle\" y=\"137.0\">\n",
              "    <tspan class=\"displacy-word\" fill=\"currentColor\" x=\"230\">が</tspan>\n",
              "    <tspan class=\"displacy-tag\" dy=\"2em\" fill=\"currentColor\" x=\"230\">ADP</tspan>\n",
              "</text>\n",
              "\n",
              "<text class=\"displacy-token\" fill=\"currentColor\" text-anchor=\"middle\" y=\"137.0\">\n",
              "    <tspan class=\"displacy-word\" fill=\"currentColor\" x=\"320\">素敵。</tspan>\n",
              "    <tspan class=\"displacy-tag\" dy=\"2em\" fill=\"currentColor\" x=\"320\">ADJ</tspan>\n",
              "</text>\n",
              "\n",
              "<g class=\"displacy-arrow\">\n",
              "    <path class=\"displacy-arc\" id=\"arrow-d807b74a24d64fcb8f64427b89fb2363-0-0\" stroke-width=\"2px\" d=\"M70,92.0 C70,47.0 135.0,47.0 135.0,92.0\" fill=\"none\" stroke=\"currentColor\"/>\n",
              "    <text dy=\"1.25em\" style=\"font-size: 0.8em; letter-spacing: 1px\">\n",
              "        <textPath xlink:href=\"#arrow-d807b74a24d64fcb8f64427b89fb2363-0-0\" class=\"displacy-label\" startOffset=\"50%\" side=\"left\" fill=\"currentColor\" text-anchor=\"middle\">acl</textPath>\n",
              "    </text>\n",
              "    <path class=\"displacy-arrowhead\" d=\"M70,94.0 L62,82.0 78,82.0\" fill=\"currentColor\"/>\n",
              "</g>\n",
              "\n",
              "<g class=\"displacy-arrow\">\n",
              "    <path class=\"displacy-arc\" id=\"arrow-d807b74a24d64fcb8f64427b89fb2363-0-1\" stroke-width=\"2px\" d=\"M160,92.0 C160,2.0 320.0,2.0 320.0,92.0\" fill=\"none\" stroke=\"currentColor\"/>\n",
              "    <text dy=\"1.25em\" style=\"font-size: 0.8em; letter-spacing: 1px\">\n",
              "        <textPath xlink:href=\"#arrow-d807b74a24d64fcb8f64427b89fb2363-0-1\" class=\"displacy-label\" startOffset=\"50%\" side=\"left\" fill=\"currentColor\" text-anchor=\"middle\">nsubj</textPath>\n",
              "    </text>\n",
              "    <path class=\"displacy-arrowhead\" d=\"M160,94.0 L152,82.0 168,82.0\" fill=\"currentColor\"/>\n",
              "</g>\n",
              "\n",
              "<g class=\"displacy-arrow\">\n",
              "    <path class=\"displacy-arc\" id=\"arrow-d807b74a24d64fcb8f64427b89fb2363-0-2\" stroke-width=\"2px\" d=\"M160,92.0 C160,47.0 225.0,47.0 225.0,92.0\" fill=\"none\" stroke=\"currentColor\"/>\n",
              "    <text dy=\"1.25em\" style=\"font-size: 0.8em; letter-spacing: 1px\">\n",
              "        <textPath xlink:href=\"#arrow-d807b74a24d64fcb8f64427b89fb2363-0-2\" class=\"displacy-label\" startOffset=\"50%\" side=\"left\" fill=\"currentColor\" text-anchor=\"middle\">case</textPath>\n",
              "    </text>\n",
              "    <path class=\"displacy-arrowhead\" d=\"M225.0,94.0 L233.0,82.0 217.0,82.0\" fill=\"currentColor\"/>\n",
              "</g>\n",
              "</svg></span>"
            ]
          },
          "metadata": {}
        },
        {
          "output_type": "stream",
          "name": "stdout",
          "text": [
            "雰囲気 --> 温かい : acl\n",
            "雰囲気 --> が : case\n",
            "素敵 --> 雰囲気 : nsubj\n",
            "素敵 --> 。 : punct\n"
          ]
        }
      ]
    },
    {
      "cell_type": "markdown",
      "source": [
        "## 3. 複数の形態素からなる形容詞を抜き出す"
      ],
      "metadata": {
        "id": "bfxhT7xOz-Wn"
      }
    },
    {
      "cell_type": "code",
      "source": [
        "def compound_adjective(token):\n",
        "    \"\"\"複合語の形容詞を返す. 該当しない場合はNone.\"\"\"\n",
        "    # 次のtokenを取得\n",
        "    next_token = token.doc[token.i+1] if not token.is_sent_end else None\n",
        "    prev_token = token.doc[token.i-1] if not token.is_sent_start else None\n",
        "\n",
        "    if next_token is not None:\n",
        "        # 形容動詞 （形状詞 + な） ... 静かな\n",
        "        if (token._.jp_pos_main == '形状詞') and (next_token.text == 'な'):\n",
        "            return token.text + 'な'\n",
        "        # 名詞 + な  ... 元気な\n",
        "        if (token._.jp_pos_main == '名詞') and (next_token.text == 'な'):\n",
        "            return token.text + 'な'\n",
        "        # 動詞 + 形容詞的 ... わかりやすい, 怒りっぽい\n",
        "        if (token._.jp_pos_main == '動詞') and (next_token._.jp_pos_sub == '形容詞的'):\n",
        "            return token.text + next_token.text\n",
        "\n",
        "    if prev_token is not None:\n",
        "        # 名詞 + ない ... 問題ない, 仕方ない\n",
        "        if (prev_token._.jp_pos_main == '名詞') and (token._.jp_pos_main == '形容詞') and (token._.jp_pos_sub == '非自立可能'):\n",
        "            return prev_token.text + token.text\n",
        "\n",
        "    # 該当しない場合は None\n",
        "    return None\n",
        "\n",
        "texts = [\n",
        "    'この本はわかりやすい。',\n",
        "    '機能としては問題ない',\n",
        "    '高価な腕時計をした男性。',\n",
        "    '穏やかな人。',\n",
        "    '先生は怒りっぽい。',\n",
        "]\n",
        "\n",
        "for text in texts:\n",
        "    print('=' * 30)\n",
        "    print(text)\n",
        "    doc = nlp(text)\n",
        "    for token in doc:\n",
        "        ret = compound_adjective(token)\n",
        "        if ret:\n",
        "            print('- {} --> {}'.format(token.text, ret))"
      ],
      "metadata": {
        "colab": {
          "base_uri": "https://localhost:8080/"
        },
        "id": "J2401QTE0H_7",
        "outputId": "8f670e7b-8558-4ee2-cc65-be66a61fc837"
      },
      "execution_count": 5,
      "outputs": [
        {
          "output_type": "stream",
          "name": "stdout",
          "text": [
            "==============================\n",
            "この本はわかりやすい。\n",
            "- わかり --> わかりやすい\n",
            "==============================\n",
            "機能としては問題ない\n",
            "- ない --> 問題ない\n",
            "==============================\n",
            "高価な腕時計をした男性。\n",
            "- 高価 --> 高価な\n",
            "==============================\n",
            "穏やかな人。\n",
            "- 穏やか --> 穏やかな\n",
            "==============================\n",
            "先生は怒りっぽい。\n",
            "- 怒り --> 怒りっぽい\n"
          ]
        }
      ]
    },
    {
      "cell_type": "markdown",
      "source": [
        "### 形容詞として抽出できないケース"
      ],
      "metadata": {
        "id": "9wJ_AuQ7VQpT"
      }
    },
    {
      "cell_type": "code",
      "source": [
        "doc = nlp(\"緊迫した雰囲気。\")\n",
        "for token in doc:\n",
        "    print(token.text, token._.jp_pos_main, token._.jp_pos_sub)\n",
        "    ret = compound_adjective(token)\n",
        "    if ret:\n",
        "        print('( {} --> {} )'.format(token.text, ret))"
      ],
      "metadata": {
        "colab": {
          "base_uri": "https://localhost:8080/"
        },
        "id": "XMMN02MXTvLm",
        "outputId": "aef22615-b01f-49ee-d811-62cb035ab8ee"
      },
      "execution_count": 6,
      "outputs": [
        {
          "output_type": "stream",
          "name": "stdout",
          "text": [
            "緊迫 名詞 普通名詞\n",
            "し 動詞 非自立可能\n",
            "た 助動詞 None\n",
            "雰囲気 名詞 普通名詞\n",
            "。 補助記号 句点\n"
          ]
        }
      ]
    },
    {
      "cell_type": "code",
      "source": [
        "doc = nlp(\"落ち着いた雰囲気。\")\n",
        "for token in doc:\n",
        "    print(token.text, token._.jp_pos_main, token._.jp_pos_sub)\n",
        "    ret = compound_adjective(token)\n",
        "    if ret:\n",
        "        print('( {} --> {} )'.format(token.text, ret))"
      ],
      "metadata": {
        "colab": {
          "base_uri": "https://localhost:8080/"
        },
        "id": "24VNm9bpVnLB",
        "outputId": "4995fa47-cede-40d5-93ec-da8a38aa2785"
      },
      "execution_count": 7,
      "outputs": [
        {
          "output_type": "stream",
          "name": "stdout",
          "text": [
            "落ち着い 動詞 一般\n",
            "た 助動詞 None\n",
            "雰囲気 名詞 普通名詞\n",
            "。 補助記号 句点\n"
          ]
        }
      ]
    },
    {
      "cell_type": "markdown",
      "source": [
        "## 4. 名詞・形容詞のペアを抽出する\n",
        "係り受け解析の結果（UD）が以下のケースを抽出対象とする\n",
        "- 名詞 --> 形容詞：acl\n",
        "- 形容詞 --> 名詞：nsubj"
      ],
      "metadata": {
        "id": "un2lJEiHVLj-"
      }
    },
    {
      "cell_type": "code",
      "source": [
        "def is_adjective(token):\n",
        "    \"\"\"形容詞か否かと、形容詞の場合はその文字列を返す.\"\"\"\n",
        "    comp_adj = compound_adjective(token)\n",
        "    if comp_adj:\n",
        "        return True, comp_adj\n",
        "    elif token._.jp_pos_main == '形容詞':\n",
        "        return True, token.lemma_\n",
        "    return False, None\n",
        "\n",
        "\n",
        "def get_noun_adj_pairs(text):\n",
        "    \"\"\"名詞と形容詞のペアを返す.\"\"\"\n",
        "    noun_types = ('名詞')  #('名詞', '代名詞')\n",
        "    pairs = []\n",
        "    doc = nlp(text)\n",
        "    for token in doc:\n",
        "        par_is_adj, par_adj_text = is_adjective(token)\n",
        "        for child_token in token.children:\n",
        "            if par_is_adj and (child_token._.jp_pos_main in noun_types) and (child_token.dep_ == 'nsubj'):\n",
        "                pairs.append([child_token.text, par_adj_text])\n",
        "            elif (token._.jp_pos_main in noun_types):\n",
        "                chi_is_adj, chi_adj_text = is_adjective(child_token)\n",
        "                if chi_is_adj and (child_token.dep_ == 'acl'):\n",
        "                    pairs.append([token.text, chi_adj_text])\n",
        "    return pairs\n",
        "\n",
        "text = 'スープが美味しい。麺は縮れ麺で、スープと相性がよい。値段はやや高いものの、総じて満足感は高い。'\n",
        "get_noun_adj_pairs(text)"
      ],
      "metadata": {
        "colab": {
          "base_uri": "https://localhost:8080/"
        },
        "id": "Bfgwwg8aVvSR",
        "outputId": "29302590-67de-4ae3-c914-d2b09f6d35f6"
      },
      "execution_count": 8,
      "outputs": [
        {
          "output_type": "execute_result",
          "data": {
            "text/plain": [
              "[['スープ', '美味しい'], ['相性', 'よい'], ['値段', '高い'], ['満足感', '高い']]"
            ]
          },
          "metadata": {},
          "execution_count": 8
        }
      ]
    },
    {
      "cell_type": "code",
      "source": [
        "# 他の例文にも適用してみる\n",
        "texts = [\n",
        "    'この本はわかりやすい。',\n",
        "    '夕ご飯に作った味噌汁の味が少し濃かった。',\n",
        "    '先生は優しい。',\n",
        "    'このホテルの朝食は美味しい。',\n",
        "    '美味しいご飯に、温かい布団。',\n",
        "    '美しい景色が素晴らしい。',\n",
        "    '高価な腕時計をした男性。',\n",
        "    '穏やかな人。',\n",
        "    'その間違いは仕方ない。',\n",
        "    '問題ない難易度。',\n",
        "    # 誤り？の例\n",
        "    '彼は怒りっぽい。',              # 名詞ではなく代名詞\n",
        "    '彼女はいつも明るい。',          # 「いつも」が名詞？\n",
        "    '先輩の説明に問題はなかった。',  # 「ない」は形容詞？\n",
        "    '議員の発言はとんでもない。',    # 「とんでもない」を形容詞として取れない\n",
        "]\n",
        "\n",
        "for text in texts:\n",
        "    print('=' * 30)\n",
        "    print(text)\n",
        "    print('-' * 30)\n",
        "    for noun, adj in get_noun_adj_pairs(text):\n",
        "        print('  ({}, {})'.format(noun, adj))"
      ],
      "metadata": {
        "colab": {
          "base_uri": "https://localhost:8080/"
        },
        "id": "vzbIf31LYXjd",
        "outputId": "ab5cfd21-d0f7-4581-9e61-55eadc58eda6"
      },
      "execution_count": 9,
      "outputs": [
        {
          "output_type": "stream",
          "name": "stdout",
          "text": [
            "==============================\n",
            "この本はわかりやすい。\n",
            "------------------------------\n",
            "  (本, わかりやすい)\n",
            "==============================\n",
            "夕ご飯に作った味噌汁の味が少し濃かった。\n",
            "------------------------------\n",
            "  (味, 濃い)\n",
            "==============================\n",
            "先生は優しい。\n",
            "------------------------------\n",
            "  (先生, 優しい)\n",
            "==============================\n",
            "このホテルの朝食は美味しい。\n",
            "------------------------------\n",
            "  (朝食, 美味しい)\n",
            "==============================\n",
            "美味しいご飯に、温かい布団。\n",
            "------------------------------\n",
            "  (ご飯, 美味しい)\n",
            "  (布団, 温かい)\n",
            "==============================\n",
            "美しい景色が素晴らしい。\n",
            "------------------------------\n",
            "  (景色, 美しい)\n",
            "  (景色, 素晴らしい)\n",
            "==============================\n",
            "高価な腕時計をした男性。\n",
            "------------------------------\n",
            "  (腕時計, 高価な)\n",
            "==============================\n",
            "穏やかな人。\n",
            "------------------------------\n",
            "  (人, 穏やかな)\n",
            "==============================\n",
            "その間違いは仕方ない。\n",
            "------------------------------\n",
            "  (間違い, 仕方ない)\n",
            "==============================\n",
            "問題ない難易度。\n",
            "------------------------------\n",
            "  (難易度, 問題ない)\n",
            "==============================\n",
            "彼は怒りっぽい。\n",
            "------------------------------\n",
            "==============================\n",
            "彼女はいつも明るい。\n",
            "------------------------------\n",
            "  (いつも, 明るい)\n",
            "==============================\n",
            "先輩の説明に問題はなかった。\n",
            "------------------------------\n",
            "  (問題, ない)\n",
            "==============================\n",
            "議員の発言はとんでもない。\n",
            "------------------------------\n",
            "  (発言, ない)\n"
          ]
        }
      ]
    },
    {
      "cell_type": "markdown",
      "source": [
        "## 5. 食べログレビューに適用してみる\n",
        "横浜のフレンチレストラン「霧笛楼」のレビューに適用してみる\n",
        "- タイトル10件\n",
        "- レビュー本文1件"
      ],
      "metadata": {
        "id": "J-k_K7UZW9ik"
      }
    },
    {
      "cell_type": "code",
      "source": [
        "review_titles = [\n",
        "    '優雅でエレガンスな西洋の雰囲気♡格調高い気品のあるクラシックな空間で「横濱フレンチ」♡',\n",
        "    '元町のグランメゾン！素敵な洋館で優雅なランチ！',\n",
        "    '横濱仏蘭西料理の伝統と革新',\n",
        "    '『開港当時の古き良き横浜に思いを馳せて』',\n",
        "    '想い出の霧笛楼',\n",
        "    'お値段以上に凝ったお料理でしたが、過度な火入れは苦痛かも？',\n",
        "    '霧笛（むてき）歓待',\n",
        "    '開港地区には異国情緒の風が吹く',\n",
        "    '霧笛楼40周年記念　冬の特別メニューをいただきました',\n",
        "    '個室がオススメ 接客料理ともに◎'\n",
        "]\n",
        "\n",
        "noun_adj_pairs = []\n",
        "for text in review_titles:\n",
        "    noun_adj_pairs += get_noun_adj_pairs(text)\n",
        "\n",
        "noun_adj_pairs"
      ],
      "metadata": {
        "colab": {
          "base_uri": "https://localhost:8080/"
        },
        "id": "ulYLYI7DXU45",
        "outputId": "20b6b919-3994-4832-cd1a-b73cef01216a"
      },
      "execution_count": 10,
      "outputs": [
        {
          "output_type": "execute_result",
          "data": {
            "text/plain": [
              "[['雰囲気', 'エレガンスな'],\n",
              " ['気品', '高い'],\n",
              " ['空間', 'クラシックな'],\n",
              " ['洋館', '素敵な'],\n",
              " ['ランチ', '優雅な'],\n",
              " ['横浜', '良し'],\n",
              " ['火入れ', '過度な']]"
            ]
          },
          "metadata": {},
          "execution_count": 10
        }
      ]
    },
    {
      "cell_type": "code",
      "source": [
        "# https://tabelog.com/kanagawa/A1401/A140105/14001146/dtlrvwlst/B439819004/?use_type=0&smp=1\n",
        "text = \\\n",
        "\"\"\"開港当時に人気だった港崎町遊郭の料亭『岩亀楼』をイメージした佇まいの〈仏蘭西料亭 横濱元町 霧笛楼〉は、横濱フレンチ”を愉しめる老舗レストラン。\n",
        "チョコレートのお菓子も有名なので、よくお土産で頂いたり、贈ったりしています。\n",
        "この日は、私がHSK6級最難関合格したお祝いです。(*'▽'*)\n",
        "(中国語検定です)\n",
        "レストラン霧笛楼は、外観からもう私の好みにドンピシャ♡\n",
        "内装や調度品・器に至るまで、異国情緒溢れる古き良き横浜の世界観を再現すべくこだわりの空間は本当に素敵です。\n",
        "異国情緒あふれるハイカラでオリエンタルな雰囲気に思わず引きこまれてしまうような…\n",
        "お皿もどれも私の好みで…♡\n",
        "実は、レトロ西洋建築がすごく好きなんです。\n",
        "それこそ、明治、大正時代の建物がたまらなくて好き。\n",
        "ジブリだと、風立ちぬが1番好きです。\n",
        "あまりに美しくて切なくてな感じ。\n",
        "建物も風景も人も。。\n",
        "風真摯に仕事に向き合う姿勢と、純粋に人を愛することが両方同じくらい大切なことと描かれてるのがたまらなく好き。\n",
        "ジブリで1番好きですね。\n",
        "さて、開港後を感じさせるきれいな絵皿が異国情緒を感じさせてくれる演出。\n",
        "食事はシェフの横浜らしい美味しさを味わっていただきたいとのことで、横濱フレンチ。\n",
        "3つのコンセプトを守り続けています。\n",
        "1つ、「和魂洋才」。優雅でエレガンスな西洋の雰囲気を感じていただきながら、気取らずに日本の心でフランス料理や空間を提供する。\n",
        "2つ、「温故知新」。本場フレンチの技法に学び、素晴らしい和の出汁文化や先人の教えに真摯に向き合い、日本ならではの季節感を大切に口の中で渾然一体となる一皿を目指す。\n",
        "3つ、「地産地消」。食材を活かすポイントである“新鮮さ”、とりわけ野菜は収穫から調理までのタイムラグを出来るだけなくし、地元の畑で採れる新鮮な食材を多く使用する。\n",
        "見た目にも美しく、同じ食材でも味わったことない美味しさで、サービスも当然申し分なく、全てが素晴らしい体験。\n",
        "所謂日本の伝統的なフレンチで美味しい。\n",
        "フレンチに和の味わいを感じます。\n",
        "クラシカルな雰囲気の中で、正統派でありながら進化し続けるフレンチを味わえる贅沢を感じられました。\n",
        "接客は申し分なく対応も完璧でした。(*'▽'*)\"\"\"\n",
        "\n",
        "noun_adj_pairs = get_noun_adj_pairs(text)\n",
        "noun_adj_pairs"
      ],
      "metadata": {
        "colab": {
          "base_uri": "https://localhost:8080/"
        },
        "id": "_KaX_wvUXcy6",
        "outputId": "7f303703-dc80-45da-82a0-cc10cb169c7a"
      },
      "execution_count": 11,
      "outputs": [
        {
          "output_type": "execute_result",
          "data": {
            "text/plain": [
              "[['お菓子', '有名な'],\n",
              " ['世界観', '良し'],\n",
              " ['雰囲気', 'オリエンタルな'],\n",
              " ['建築', '好きな'],\n",
              " ['感じ', '切ない'],\n",
              " ['こと', '大切な'],\n",
              " ['こと', '大切な'],\n",
              " ['絵皿', 'きれいな'],\n",
              " ['雰囲気', 'エレガンスな'],\n",
              " ['和', '素晴らしい'],\n",
              " ['食材', '新鮮な'],\n",
              " ['美味しさ', 'ことない'],\n",
              " ['サービス', '申し分なく'],\n",
              " ['全て', '素晴らしい'],\n",
              " ['体験', '素晴らしい'],\n",
              " ['フレンチ', '伝統的な'],\n",
              " ['雰囲気', 'クラシカルな'],\n",
              " ['接客', '申し分なく']]"
            ]
          },
          "metadata": {},
          "execution_count": 11
        }
      ]
    },
    {
      "cell_type": "markdown",
      "source": [
        "## 参考文献\n",
        "1. [河野ら, \"不特定分野の商品レビューを対象とした評価情報の自動認識\" (2017)](https://cir.nii.ac.jp/crid/1050574047123697408)\n",
        "2. [M3 Tech Blog - GiNZAと患者表現辞書を使って患者テキストの表記ゆれを吸収した意味構造検索を試した](https://www.m3tech.blog/entry/meaning-structure-search)\n",
        "3. [金山ら, \"日本語 Universal Dependencies の試案\" (2015)](https://www.anlp.jp/proceedings/annual_meeting/2015/pdf_dir/E3-4.pdf)\n",
        "4. [Universal Dependencies の日本語の情報ページ](https://udjapanese.github.io/docs/)"
      ],
      "metadata": {
        "id": "0Cqo7EeQajmE"
      }
    }
  ]
}