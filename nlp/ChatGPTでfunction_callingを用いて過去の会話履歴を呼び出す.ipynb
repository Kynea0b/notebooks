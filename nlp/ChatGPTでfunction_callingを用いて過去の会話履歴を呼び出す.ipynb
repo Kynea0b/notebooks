{
  "cells": [
    {
      "cell_type": "markdown",
      "metadata": {
        "id": "XWZw1OHBUyB-"
      },
      "source": [
        "# ChatGPTでfunction callingを用いて過去の会話履歴を呼び出す\n",
        "\n",
        "もしマイ・チャットボットがいたら、当然、数日前の会話内容を覚えていて欲しいですよね？  \n",
        "以下では、過去の会話内容に基づいた会話をするチャットボットを、OpenAI APIのfunction callingを用いて作っていきます。\n",
        "\n",
        "1. 環境構築\n",
        "2. 会話内容の保存・読込\n",
        "3. function callingを用いて過去の会話情報を呼び出す"
      ]
    },
    {
      "cell_type": "markdown",
      "metadata": {
        "id": "W6Ur8GXDYyqU"
      },
      "source": [
        "## 1. 環境構築"
      ]
    },
    {
      "cell_type": "code",
      "execution_count": 1,
      "metadata": {
        "colab": {
          "base_uri": "https://localhost:8080/"
        },
        "id": "ny_SaAYsUgD9",
        "outputId": "7ee97d86-e3f7-4e1a-ab97-c3366c25941a"
      },
      "outputs": [
        {
          "output_type": "stream",
          "name": "stdout",
          "text": [
            "Collecting openai\n",
            "  Downloading openai-0.28.0-py3-none-any.whl (76 kB)\n",
            "\u001b[?25l     \u001b[90m━━━━━━━━━━━━━━━━━━━━━━━━━━━━━━━━━━━━━━━━\u001b[0m \u001b[32m0.0/76.5 kB\u001b[0m \u001b[31m?\u001b[0m eta \u001b[36m-:--:--\u001b[0m\r\u001b[2K     \u001b[90m━━━━━━━━━━━━━━━━━━━━━━━━━━━━━━━━━━━━━━━━\u001b[0m \u001b[32m76.5/76.5 kB\u001b[0m \u001b[31m2.2 MB/s\u001b[0m eta \u001b[36m0:00:00\u001b[0m\n",
            "\u001b[?25hRequirement already satisfied: requests>=2.20 in /usr/local/lib/python3.10/dist-packages (from openai) (2.31.0)\n",
            "Requirement already satisfied: tqdm in /usr/local/lib/python3.10/dist-packages (from openai) (4.66.1)\n",
            "Requirement already satisfied: aiohttp in /usr/local/lib/python3.10/dist-packages (from openai) (3.8.5)\n",
            "Requirement already satisfied: charset-normalizer<4,>=2 in /usr/local/lib/python3.10/dist-packages (from requests>=2.20->openai) (3.2.0)\n",
            "Requirement already satisfied: idna<4,>=2.5 in /usr/local/lib/python3.10/dist-packages (from requests>=2.20->openai) (3.4)\n",
            "Requirement already satisfied: urllib3<3,>=1.21.1 in /usr/local/lib/python3.10/dist-packages (from requests>=2.20->openai) (2.0.4)\n",
            "Requirement already satisfied: certifi>=2017.4.17 in /usr/local/lib/python3.10/dist-packages (from requests>=2.20->openai) (2023.7.22)\n",
            "Requirement already satisfied: attrs>=17.3.0 in /usr/local/lib/python3.10/dist-packages (from aiohttp->openai) (23.1.0)\n",
            "Requirement already satisfied: multidict<7.0,>=4.5 in /usr/local/lib/python3.10/dist-packages (from aiohttp->openai) (6.0.4)\n",
            "Requirement already satisfied: async-timeout<5.0,>=4.0.0a3 in /usr/local/lib/python3.10/dist-packages (from aiohttp->openai) (4.0.3)\n",
            "Requirement already satisfied: yarl<2.0,>=1.0 in /usr/local/lib/python3.10/dist-packages (from aiohttp->openai) (1.9.2)\n",
            "Requirement already satisfied: frozenlist>=1.1.1 in /usr/local/lib/python3.10/dist-packages (from aiohttp->openai) (1.4.0)\n",
            "Requirement already satisfied: aiosignal>=1.1.2 in /usr/local/lib/python3.10/dist-packages (from aiohttp->openai) (1.3.1)\n",
            "Installing collected packages: openai\n",
            "Successfully installed openai-0.28.0\n"
          ]
        }
      ],
      "source": [
        "! pip install openai"
      ]
    },
    {
      "cell_type": "code",
      "execution_count": 8,
      "metadata": {
        "id": "e6b-N7qUZLPq"
      },
      "outputs": [],
      "source": [
        "import os\n",
        "os.environ['OPENAI_API_KEY'] = 'PLEASE CHANGE HERE'\n",
        "\n",
        "import openai\n",
        "openai.api_key = os.getenv(\"OPENAI_API_KEY\")"
      ]
    },
    {
      "cell_type": "markdown",
      "metadata": {
        "id": "-lZyfb4JY1l9"
      },
      "source": [
        "## 2. 会話内容の保存・読込"
      ]
    },
    {
      "cell_type": "markdown",
      "metadata": {
        "id": "9JJEqHB_Zfd0"
      },
      "source": [
        "### 会話内容の保存・読込"
      ]
    },
    {
      "cell_type": "code",
      "execution_count": 3,
      "metadata": {
        "id": "fkYyzcDGY4HJ"
      },
      "outputs": [],
      "source": [
        "import json\n",
        "from datetime import datetime\n",
        "\n",
        "def save_conversation_from_messages(outdir, datetime_str, messages, **kwargs):\n",
        "    chat_datetime = datetime.strptime(datetime_str, '%Y-%m-%d %H:%M:%S')\n",
        "    json_filepath = os.path.join(outdir, 'chat_history_{}.json'.format(chat_datetime.strftime('%Y%m%d')))\n",
        "    dat = dict({'datetime': datetime_str, 'messages': messages}, **kwargs)  # 任意の情報を保存可能\n",
        "    with open(json_filepath, 'w') as fout:\n",
        "        json.dump(dat, fout)\n",
        "    print('Saved ...', json_filepath)\n",
        "\n",
        "def load_conversation_from_json(json_filepath):\n",
        "    with open(json_filepath, 'r') as fin:\n",
        "        dict_all = json.load(fin)\n",
        "    return dict_all"
      ]
    },
    {
      "cell_type": "markdown",
      "metadata": {
        "id": "PcAc1wkkcAeT"
      },
      "source": [
        "### 実験用に、会話内容を保存する"
      ]
    },
    {
      "cell_type": "code",
      "execution_count": 4,
      "metadata": {
        "colab": {
          "base_uri": "https://localhost:8080/"
        },
        "id": "om0fw_mFco62",
        "outputId": "a115baf3-c4a7-441d-f7de-c568c2c98f76"
      },
      "outputs": [
        {
          "output_type": "stream",
          "name": "stdout",
          "text": [
            "Saved ... ./chat_history_20230628.json\n",
            "Saved ... ./chat_history_20230703.json\n",
            "Saved ... ./chat_history_20230704.json\n"
          ]
        }
      ],
      "source": [
        "# json_file, datetime, chat_history\n",
        "past_conversations = [\n",
        "    [\n",
        "        '2023-06-28 19:03:42',\n",
        "        [\n",
        "            {\n",
        "                \"role\": \"user\",\n",
        "                \"content\": \"最近暑くなってきたからさっぱりしたモノが食べたくて、冷麺を食べたよ。\",\n",
        "            },\n",
        "            {\n",
        "                \"role\": \"assistant\",\n",
        "                \"content\": \"いいね！ちなみに、盛岡冷麺、韓国冷麺、どっち…？\",\n",
        "            },\n",
        "        ]\n",
        "    ],\n",
        "    [\n",
        "        '2023-07-03 21:53:02',\n",
        "        [\n",
        "            {\n",
        "                \"role\": \"user\",\n",
        "                \"content\": \"今日は友達とイタリアンに行ったよ。イカスミパスタと真鯛のカルパッチョを食べたんだけど、どっちも美味しかったぁ。\",\n",
        "            },\n",
        "            {\n",
        "                \"role\": \"assistant\",\n",
        "                \"content\": \"いいなぁ。僕もイタリアン食べたい！！\",\n",
        "            },\n",
        "        ]\n",
        "    ],\n",
        "    [\n",
        "        '2023-07-04 20:11:56',\n",
        "        [\n",
        "            {\n",
        "                \"role\": \"user\",\n",
        "                \"content\": \"今日の昼は中華レストランでよだれ鶏を食べんたんだ。最近暑いからか、あの酸味と辛味を欲してしまうんだよね\",\n",
        "            },\n",
        "            {\n",
        "                \"role\": \"assistant\",\n",
        "                \"content\": \"暑いと酸味と辛味を欲するの？なんで？\",\n",
        "            },\n",
        "        ]\n",
        "    ],\n",
        "]\n",
        "\n",
        "# 日別で会話内容を保存\n",
        "for datetime_str, messages in past_conversations:\n",
        "    save_conversation_from_messages('./', datetime_str, messages)"
      ]
    },
    {
      "cell_type": "code",
      "source": [
        "# 試しに読み込む\n",
        "load_conversation_from_json('chat_history_20230628.json')"
      ],
      "metadata": {
        "colab": {
          "base_uri": "https://localhost:8080/"
        },
        "id": "TB8T8yvNjoFx",
        "outputId": "a606bfc8-2d45-45c6-ed91-3a39017f871e"
      },
      "execution_count": 5,
      "outputs": [
        {
          "output_type": "execute_result",
          "data": {
            "text/plain": [
              "{'datetime': '2023-06-28 19:03:42',\n",
              " 'messages': [{'role': 'user',\n",
              "   'content': '最近暑くなってきたからさっぱりしたモノが食べたくて、冷麺を食べたよ。'},\n",
              "  {'role': 'assistant', 'content': 'いいね！ちなみに、盛岡冷麺、韓国冷麺、どっち…？'}]}"
            ]
          },
          "metadata": {},
          "execution_count": 5
        }
      ]
    },
    {
      "cell_type": "markdown",
      "metadata": {
        "id": "sgusHdNZY5AB"
      },
      "source": [
        "## 3. function callingを用いた方式\n",
        "1. function callingを使用してみる\n",
        "2. 返値を`\"role\": \"function\"`として渡してみる"
      ]
    },
    {
      "cell_type": "code",
      "source": [
        "class MyChatBot():\n",
        "\n",
        "    SYSTEM_PROMPT = \"\"\"You are a helpfule assistant.\n",
        "You need to follow the following rules:\n",
        "- lang:ja\n",
        "- please be polite (e.g. use です, ます)\n",
        "- short reply (less than 100 japanese charactors)\n",
        "\"\"\"\n",
        "\n",
        "    # NOTE デフォルトでGPT-4を使用する\n",
        "    def __init__(self, model='gpt-4', temparature=0.0):\n",
        "        self._model = model\n",
        "        self._temparature = temparature\n",
        "        self.reset_messages()\n",
        "\n",
        "        # For function calling\n",
        "        self._available_functions = {}\n",
        "        self._function_properties = {}\n",
        "\n",
        "    def reset_messages(self):\n",
        "        self._messages = [{\"role\": \"system\", \"content\": MyChatBot.SYSTEM_PROMPT}]\n",
        "\n",
        "    def get_messages(self):\n",
        "        return self._messages.copy()\n",
        "\n",
        "    def add_function(self, function, func_props):\n",
        "        if not callable(function):\n",
        "            raise TypeError('function must be callable.')\n",
        "        func_name = func_props['name']\n",
        "        self._available_functions[func_name] = function\n",
        "        self._function_properties[func_name] = func_props\n",
        "\n",
        "    @property\n",
        "    def function_properties(self):\n",
        "        if len(self._function_properties) == 0:\n",
        "            return None\n",
        "        return list(self._function_properties.values())\n",
        "\n",
        "    def chat(self, input, verbose=False):\n",
        "        user_message = {'role': 'user', 'content': input}\n",
        "        response = self._chat_completion(user_message)\n",
        "\n",
        "        # add assistant message\n",
        "        response_message = response['choices'][0]['message']\n",
        "        self._messages.append(response_message)\n",
        "\n",
        "        # Function Calling\n",
        "        if response_message.get('function_call'):\n",
        "            function_name = response_message['function_call']['name']\n",
        "\n",
        "            fuction_to_call = self._available_functions[function_name]\n",
        "            function_args = json.loads(response_message['function_call']['arguments'])\n",
        "            function_response = fuction_to_call(**function_args)\n",
        "\n",
        "            if verbose:\n",
        "                print(f'request function: {function_name}')\n",
        "                print('  args - ', function_args)\n",
        "\n",
        "            function_message = {\n",
        "                'role': 'function',\n",
        "                \"name\": function_name,\n",
        "                \"content\": function_response,\n",
        "            }\n",
        "            response = self._chat_completion(function_message)\n",
        "\n",
        "        return response\n",
        "\n",
        "    def _chat_completion(self, message, enable_functions=True):\n",
        "        # update messages\n",
        "        self._messages.append(message)\n",
        "\n",
        "        # for function calling\n",
        "        additional_args = {}\n",
        "        if enable_functions and (len(self._function_properties) > 0):\n",
        "            additional_args['functions'] = list(self._function_properties.values())\n",
        "\n",
        "        # run chat-completion\n",
        "        response = openai.ChatCompletion.create(\n",
        "            model=self._model,\n",
        "            temperature=self._temparature,\n",
        "            messages=self._messages,\n",
        "            **additional_args\n",
        "        )\n",
        "        return response"
      ],
      "metadata": {
        "id": "UrWv4kZaZu-Y"
      },
      "execution_count": 10,
      "outputs": []
    },
    {
      "cell_type": "code",
      "source": [
        "my_chatbot = MyChatBot()\n",
        "response = my_chatbot.chat('こんにちは')\n",
        "\n",
        "print(response)\n",
        "print(response['choices'][0]['message']['content'])"
      ],
      "metadata": {
        "colab": {
          "base_uri": "https://localhost:8080/"
        },
        "id": "yzQb_nXSbfEX",
        "outputId": "55a7cb37-8f02-4a8f-e52a-0651c4bd1704"
      },
      "execution_count": 12,
      "outputs": [
        {
          "output_type": "stream",
          "name": "stdout",
          "text": [
            "{\n",
            "  \"id\": \"chatcmpl-7zyMj76OToOV6rd1oiHftwNCdOk2Q\",\n",
            "  \"object\": \"chat.completion\",\n",
            "  \"created\": 1695004409,\n",
            "  \"model\": \"gpt-4-0613\",\n",
            "  \"choices\": [\n",
            "    {\n",
            "      \"index\": 0,\n",
            "      \"message\": {\n",
            "        \"role\": \"assistant\",\n",
            "        \"content\": \"\\u3053\\u3093\\u306b\\u3061\\u306f\\uff01\\u4f55\\u304b\\u304a\\u624b\\u4f1d\\u3044\\u3067\\u304d\\u308b\\u3053\\u3068\\u304c\\u3042\\u308a\\u307e\\u3059\\u304b\\uff1f\"\n",
            "      },\n",
            "      \"finish_reason\": \"stop\"\n",
            "    }\n",
            "  ],\n",
            "  \"usage\": {\n",
            "    \"prompt_tokens\": 60,\n",
            "    \"completion_tokens\": 19,\n",
            "    \"total_tokens\": 79\n",
            "  }\n",
            "}\n",
            "こんにちは！何かお手伝いできることがありますか？\n"
          ]
        }
      ]
    },
    {
      "cell_type": "code",
      "source": [
        "import re\n",
        "\n",
        "def recall_past_chats(the_date):\n",
        "    if re.match(r'\\d{4}-\\d{2}-\\d{2}', the_date) is None:  # is not date format\n",
        "        return None\n",
        "    json_file = 'chat_history_{}.json'.format(the_date.replace('-', ''))\n",
        "    chats_history = load_conversation_from_json(json_file)\n",
        "    messages = chats_history['messages']\n",
        "    # make output\n",
        "    output = f\"The following is chats on {the_date}　between the user and YOU (i.e. assistant);\"\n",
        "    for msg in messages:\n",
        "        role = msg['role']\n",
        "        content = msg['content']\n",
        "        output += f\"\\n{role}: {content}\"\n",
        "    return output\n",
        "\n",
        "func_props = {\n",
        "    'name': 'recall_past_chats',\n",
        "    'description': 'Access the past chats between you and the user. Today is 2023-07-05.',\n",
        "    \"parameters\": {\n",
        "        \"type\": \"object\",\n",
        "        \"properties\": {\n",
        "            \"the_date\": {\n",
        "                \"type\": \"string\",\n",
        "                \"description\": \"Specify the date of the chats you need to access in the format 'YYYY-MM-DD'\",\n",
        "            },\n",
        "        },\n",
        "        \"required\": [\"the_date\"],\n",
        "    }\n",
        "}\n",
        "\n",
        "# function callingを有効にして会話する\n",
        "my_chatbot = MyChatBot()\n",
        "my_chatbot.add_function(recall_past_chats, func_props)\n",
        "\n",
        "response = my_chatbot.chat('一昨日僕が食べた料理を答えてみて。')\n",
        "\n",
        "print(response)\n",
        "print(response['choices'][0]['message']['content'])"
      ],
      "metadata": {
        "colab": {
          "base_uri": "https://localhost:8080/"
        },
        "id": "_aXn-991icu7",
        "outputId": "762dcf65-cd92-4e3b-9e3e-ef8d00d56ea9"
      },
      "execution_count": 13,
      "outputs": [
        {
          "output_type": "stream",
          "name": "stdout",
          "text": [
            "{\n",
            "  \"id\": \"chatcmpl-7zyMujwsbS1Z1A8IPokcyb6ASNzqU\",\n",
            "  \"object\": \"chat.completion\",\n",
            "  \"created\": 1695004420,\n",
            "  \"model\": \"gpt-4-0613\",\n",
            "  \"choices\": [\n",
            "    {\n",
            "      \"index\": 0,\n",
            "      \"message\": {\n",
            "        \"role\": \"assistant\",\n",
            "        \"content\": \"\\u4e00\\u6628\\u65e5\\u3001\\u3042\\u306a\\u305f\\u306f\\u53cb\\u9054\\u3068\\u30a4\\u30bf\\u30ea\\u30a2\\u30f3\\u306b\\u884c\\u304d\\u3001\\u30a4\\u30ab\\u30b9\\u30df\\u30d1\\u30b9\\u30bf\\u3068\\u771f\\u9bdb\\u306e\\u30ab\\u30eb\\u30d1\\u30c3\\u30c1\\u30e7\\u3092\\u98df\\u3079\\u307e\\u3057\\u305f\\u306d\\u3002\\u3069\\u3061\\u3089\\u3082\\u7f8e\\u5473\\u3057\\u304b\\u3063\\u305f\\u3068\\u306e\\u3053\\u3068\\u3067\\u3059\\u3002\"\n",
            "      },\n",
            "      \"finish_reason\": \"stop\"\n",
            "    }\n",
            "  ],\n",
            "  \"usage\": {\n",
            "    \"prompt_tokens\": 298,\n",
            "    \"completion_tokens\": 68,\n",
            "    \"total_tokens\": 366\n",
            "  }\n",
            "}\n",
            "一昨日、あなたは友達とイタリアンに行き、イカスミパスタと真鯛のカルパッチョを食べましたね。どちらも美味しかったとのことです。\n"
          ]
        }
      ]
    },
    {
      "cell_type": "markdown",
      "source": [
        "### 実験"
      ],
      "metadata": {
        "id": "-RpKroSqI8Y0"
      }
    },
    {
      "cell_type": "code",
      "source": [
        "def chat_experiment(input):\n",
        "    my_chatbot = MyChatBot()\n",
        "    my_chatbot.add_function(recall_past_chats, func_props)\n",
        "    response = my_chatbot.chat(input, verbose=True)\n",
        "    response_content = response['choices'][0]['message']['content']\n",
        "    return response_content"
      ],
      "metadata": {
        "id": "0CsH5zIKI8ZJ"
      },
      "execution_count": 14,
      "outputs": []
    },
    {
      "cell_type": "code",
      "source": [
        "# GPT-3.5 : 一昨日、あなたはイカスミパスタと真鯛のカルパッチョを食べました。\n",
        "# GPT-4   : 一昨日、あなたは友達とイタリアンに行き、イカスミパスタと真鯛のカルパッチョを食べましたね。どちらも美味しかったとのことです。\n",
        "chat_experiment(input='一昨日僕が食べた料理を答えてみて。')"
      ],
      "metadata": {
        "colab": {
          "base_uri": "https://localhost:8080/",
          "height": 69
        },
        "outputId": "88478552-f5e8-4501-a18f-cfed4617f2ac",
        "id": "-7TsNykSI8ZK"
      },
      "execution_count": 15,
      "outputs": [
        {
          "output_type": "stream",
          "name": "stdout",
          "text": [
            "request function: recall_past_chats\n",
            "  args -  {'the_date': '2023-07-03'}\n"
          ]
        },
        {
          "output_type": "execute_result",
          "data": {
            "text/plain": [
              "'一昨日、あなたは友達とイタリアンに行き、イカスミパスタと真鯛のカルパッチョを食べましたね。どちらも美味しかったとのことです。'"
            ],
            "application/vnd.google.colaboratory.intrinsic+json": {
              "type": "string"
            }
          },
          "metadata": {},
          "execution_count": 15
        }
      ]
    },
    {
      "cell_type": "code",
      "execution_count": 16,
      "metadata": {
        "colab": {
          "base_uri": "https://localhost:8080/",
          "height": 69
        },
        "outputId": "bef63d29-44f5-4372-d9e4-2a9546b4f815",
        "id": "nRgmPqq6I8ZK"
      },
      "outputs": [
        {
          "output_type": "stream",
          "name": "stdout",
          "text": [
            "request function: recall_past_chats\n",
            "  args -  {'the_date': '2023-07-03'}\n"
          ]
        },
        {
          "output_type": "execute_result",
          "data": {
            "text/plain": [
              "'7月3日には、イカスミパスタと真鯛のカルパッチョを食べたとのことですね。どちらも美味しかったとのこと、良かったですね。'"
            ],
            "application/vnd.google.colaboratory.intrinsic+json": {
              "type": "string"
            }
          },
          "metadata": {},
          "execution_count": 16
        }
      ],
      "source": [
        "# GPT-3.5 : 7/3には、イカスミパスタと真鯛のカルパッチョを食べたそうです。どちらも美味しかったとのことですね！\n",
        "# GPT-4   : 7月3日には、イカスミパスタと真鯛のカルパッチョを食べたとのことですね。どちらも美味しかったとのこと、良かったですね。\n",
        "chat_experiment(input=\"7/3に僕が食べた料理を答えてみて。\")"
      ]
    },
    {
      "cell_type": "code",
      "execution_count": 17,
      "metadata": {
        "colab": {
          "base_uri": "https://localhost:8080/",
          "height": 69
        },
        "outputId": "2843a94f-cd2d-4e3c-b119-d41ad75fdbb6",
        "id": "aADgfe4BI8ZL"
      },
      "outputs": [
        {
          "output_type": "stream",
          "name": "stdout",
          "text": [
            "request function: recall_past_chats\n",
            "  args -  {'the_date': '2023-07-04'}\n"
          ]
        },
        {
          "output_type": "execute_result",
          "data": {
            "text/plain": [
              "'よだれ鶏を作ったのですね。お疲れ様でした。美味しくできましたか？'"
            ],
            "application/vnd.google.colaboratory.intrinsic+json": {
              "type": "string"
            }
          },
          "metadata": {},
          "execution_count": 17
        }
      ],
      "source": [
        "# GPT-3.5 : それは素晴らしいですね！昨日食べた料理を自分でも作ってみたのですね。では、昨日食べた料理は何でしたか？\n",
        "# GPT-4   : よだれ鶏を作ったのですね。お疲れ様でした。美味しくできましたか？\n",
        "chat_experiment(input=\"昨日食べた料理が美味しかったから、自分でも作ってみたよ。何を作ったでしょうか?\")"
      ]
    },
    {
      "cell_type": "code",
      "execution_count": 18,
      "metadata": {
        "colab": {
          "base_uri": "https://localhost:8080/",
          "height": 69
        },
        "outputId": "bd8a0c24-54d2-4e33-9963-c350ffb47526",
        "id": "uviS-IEhI8ZL"
      },
      "outputs": [
        {
          "output_type": "stream",
          "name": "stdout",
          "text": [
            "request function: recall_past_chats\n",
            "  args -  {'the_date': '2023-07-04'}\n"
          ]
        },
        {
          "output_type": "execute_result",
          "data": {
            "text/plain": [
              "'昨日の昼食は中華レストランでよだれ鶏を召し上がったようですね。'"
            ],
            "application/vnd.google.colaboratory.intrinsic+json": {
              "type": "string"
            }
          },
          "metadata": {},
          "execution_count": 18
        }
      ],
      "source": [
        "# GPT-3.5 : 昨日の料理は「よだれ鶏」でしたね。\n",
        "# GPT-4   : 昨日の昼食は中華レストランでよだれ鶏を召し上がったようですね。\n",
        "chat_experiment(input=\"昨日食べた料理は何でしょうか?\")"
      ]
    },
    {
      "cell_type": "code",
      "execution_count": 19,
      "metadata": {
        "colab": {
          "base_uri": "https://localhost:8080/",
          "height": 69
        },
        "outputId": "63612899-bf9c-4ab2-d310-e5cf5f0ec368",
        "id": "8YifaDG9I8ZL"
      },
      "outputs": [
        {
          "output_type": "stream",
          "name": "stdout",
          "text": [
            "request function: recall_past_chats\n",
            "  args -  {'the_date': '2023-07-04'}\n"
          ]
        },
        {
          "output_type": "execute_result",
          "data": {
            "text/plain": [
              "'7月4日には中華レストランでよだれ鶏を召し上がったようですね。'"
            ],
            "application/vnd.google.colaboratory.intrinsic+json": {
              "type": "string"
            }
          },
          "metadata": {},
          "execution_count": 19
        }
      ],
      "source": [
        "# GPT-3.5 : 7月4日に食べた料理は「よだれ鶏」でした。暑い日には、酸味と辛味を欲することがあるんですよね。\n",
        "# GPT-4   : 7月4日には中華レストランでよだれ鶏を召し上がったようですね。\n",
        "chat_experiment(input=\"7/4に食べた料理は何でしょうか？\")"
      ]
    },
    {
      "cell_type": "code",
      "execution_count": 20,
      "metadata": {
        "colab": {
          "base_uri": "https://localhost:8080/",
          "height": 69
        },
        "outputId": "02764fc9-7ab1-4033-b5b0-5616568ff59a",
        "id": "SI8FD0LtI8ZM"
      },
      "outputs": [
        {
          "output_type": "stream",
          "name": "stdout",
          "text": [
            "request function: recall_past_chats\n",
            "  args -  {'the_date': '2023-06-28'}\n"
          ]
        },
        {
          "output_type": "execute_result",
          "data": {
            "text/plain": [
              "'一週間前の2023年6月28日に、冷麺を召し上がったようですね。'"
            ],
            "application/vnd.google.colaboratory.intrinsic+json": {
              "type": "string"
            }
          },
          "metadata": {},
          "execution_count": 20
        }
      ],
      "source": [
        "# GPT-3.5 : 一週間前の2023年6月28日には、冷麺を食べたようですね。具体的には、盛岡冷麺か韓国冷麺のどちらかを食べたのか、その情報はありませんでした。\n",
        "# GPT-4   : 一週間前の2023年6月28日に、冷麺を召し上がったようですね。\n",
        "chat_experiment(input=\"僕、一週間前って何食べたっけ？\")"
      ]
    },
    {
      "cell_type": "markdown",
      "source": [
        "### 実験（リベンジ）\n",
        "- GPT-3.5で回答に失敗した質問を、少し表現を変えてリベンジ\n",
        "- 結果\n",
        "    - GPT-3.5 : 変わらず失敗\n",
        "    - GPT-4 : 元々成功。表現を変更しても問題なく成功"
      ],
      "metadata": {
        "id": "9nWElNTiqHlg"
      }
    },
    {
      "cell_type": "code",
      "source": [
        "# GPT-3.5 : それは素晴らしいですね！では、昨日作った料理は何でしょうか？楽しみにしています！\n",
        "# GPT-4   : よだれ鶏を作ったのではないでしょうか。\n",
        "chat_experiment(input=\"昨日食べた料理が美味しかったから、自分でも作ってみたよ。何を作ったか当ててみて！\")"
      ],
      "metadata": {
        "colab": {
          "base_uri": "https://localhost:8080/",
          "height": 69
        },
        "id": "B87FWnZ9p5-5",
        "outputId": "8997d790-ec8f-45b6-e563-cbc247e86be8"
      },
      "execution_count": 23,
      "outputs": [
        {
          "output_type": "stream",
          "name": "stdout",
          "text": [
            "request function: recall_past_chats\n",
            "  args -  {'the_date': '2023-07-04'}\n"
          ]
        },
        {
          "output_type": "execute_result",
          "data": {
            "text/plain": [
              "'よだれ鶏を作ったのではないでしょうか。'"
            ],
            "application/vnd.google.colaboratory.intrinsic+json": {
              "type": "string"
            }
          },
          "metadata": {},
          "execution_count": 23
        }
      ]
    },
    {
      "cell_type": "code",
      "source": [
        "# GPT-3.5 : 一昨日食べた料理が美味しかったのですね。それでは、一昨日作った料理を再現してみたのですか？どの料理を作ったのか教えていただけますか？\n",
        "# GPT-4   : イカスミパスタと真鯛のカルパッチョを作ったのですね。どちらも美味しそうですね！\n",
        "chat_experiment(input=\"一昨日食べた料理が美味しかったから、自分でも作ってみたよ。何を作ったでしょうか?\")"
      ],
      "metadata": {
        "colab": {
          "base_uri": "https://localhost:8080/",
          "height": 69
        },
        "id": "lhuct2JDqMOP",
        "outputId": "ca389a1c-0292-4296-d7b9-80bc7af7fd93"
      },
      "execution_count": 24,
      "outputs": [
        {
          "output_type": "stream",
          "name": "stdout",
          "text": [
            "request function: recall_past_chats\n",
            "  args -  {'the_date': '2023-07-03'}\n"
          ]
        },
        {
          "output_type": "execute_result",
          "data": {
            "text/plain": [
              "'イカスミパスタと真鯛のカルパッチョを作ったのですね。どちらも美味しそうですね！'"
            ],
            "application/vnd.google.colaboratory.intrinsic+json": {
              "type": "string"
            }
          },
          "metadata": {},
          "execution_count": 24
        }
      ]
    },
    {
      "cell_type": "markdown",
      "source": [
        "## おまけ"
      ],
      "metadata": {
        "id": "JVlijB-Eqfvd"
      }
    },
    {
      "cell_type": "code",
      "source": [
        "# function calling の description に今日の日付の情報が入っているので、日付を回答できている？\n",
        "# GPT-3.5 : 一昨日は2023年7月3日です。\n",
        "# GPT-4   : 一昨日は2023年7月3日でした。\n",
        "chat_experiment(input=\"一昨日は何月何日？\")"
      ],
      "metadata": {
        "id": "9Y3v2dxi1CMH",
        "colab": {
          "base_uri": "https://localhost:8080/",
          "height": 35
        },
        "outputId": "ab4d8a9e-9a7e-4995-ce06-e056626a72db"
      },
      "execution_count": 21,
      "outputs": [
        {
          "output_type": "execute_result",
          "data": {
            "text/plain": [
              "'一昨日は2023年7月3日でした。'"
            ],
            "application/vnd.google.colaboratory.intrinsic+json": {
              "type": "string"
            }
          },
          "metadata": {},
          "execution_count": 21
        }
      ]
    },
    {
      "cell_type": "code",
      "source": [
        "# GPT-3.5 : 今日は2023年7月です。\n",
        "# GPT-4   : 今日は7月です。\n",
        "chat_experiment(input=\"今日は何月ですか？\")"
      ],
      "metadata": {
        "colab": {
          "base_uri": "https://localhost:8080/",
          "height": 35
        },
        "id": "7LsMyL9QqlI0",
        "outputId": "8b606797-33b8-4489-fc47-11bfd939ca29"
      },
      "execution_count": 22,
      "outputs": [
        {
          "output_type": "execute_result",
          "data": {
            "text/plain": [
              "'今日は7月です。'"
            ],
            "application/vnd.google.colaboratory.intrinsic+json": {
              "type": "string"
            }
          },
          "metadata": {},
          "execution_count": 22
        }
      ]
    },
    {
      "cell_type": "code",
      "source": [],
      "metadata": {
        "id": "7G6TfHA2qufJ"
      },
      "execution_count": null,
      "outputs": []
    }
  ],
  "metadata": {
    "colab": {
      "toc_visible": true,
      "provenance": []
    },
    "kernelspec": {
      "display_name": "Python 3",
      "name": "python3"
    },
    "language_info": {
      "name": "python"
    }
  },
  "nbformat": 4,
  "nbformat_minor": 0
}